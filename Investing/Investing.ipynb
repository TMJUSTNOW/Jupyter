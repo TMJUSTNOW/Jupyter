{
 "cells": [
  {
   "cell_type": "markdown",
   "metadata": {},
   "source": [
    "# Investing with SentDex\n",
    "https://pythonprogramming.net/data-acquisition-machine-learning/\n",
    "\n",
    "\n",
    "   "
   ]
  },
  {
   "cell_type": "code",
   "execution_count": 1,
   "metadata": {},
   "outputs": [],
   "source": [
    "import pandas as pd\n",
    "import os\n",
    "import time\n",
    "from datetime import datetime\n",
    "from tqdm import tqdm\n",
    "\n",
    "path=r\"D:/My Computer/DATA/intraQuarter\""
   ]
  },
  {
   "cell_type": "code",
   "execution_count": 2,
   "metadata": {},
   "outputs": [
    {
     "name": "stderr",
     "output_type": "stream",
     "text": [
      "100%|████████████████████████████████████████████████████████████████████████████████| 560/560 [02:57<00:00,  1.88it/s]\n"
     ]
    },
    {
     "name": "stdout",
     "output_type": "stream",
     "text": [
      "TotalDebtEquitymrq.csv\n"
     ]
    }
   ],
   "source": [
    "# Selecting the appropriate files\n",
    "def Key_Stats(gather=\"Total Debt/Equity (mrq)\"):\n",
    "    statspath = path+'/_KeyStats' # deeper folder\n",
    "    stock_list = [x[0] for x in os.walk(statspath)] \n",
    "    # 0th elements are the file path with name\n",
    "    # print(stock_list)\n",
    "    df = pd.DataFrame(columns = ['Data','Unix','Ticker','DE Ratio'])\n",
    "\n",
    "    for each_dir in tqdm(stock_list[1:]): \n",
    "        #this ignores the 0th element, which is folder path\n",
    "        each_file = os.listdir(each_dir)\n",
    "        #each folder's individualized path to proceed with parsing\n",
    "        ticker = each_dir.split(\"\\\\\")[1]\n",
    "        if len(each_file) > 0:\n",
    "            # doesn't attempt empty files\n",
    "            for file in each_file:\n",
    "                date_stamp = datetime.strptime(file, '%Y%m%d%H%M%S.html')\n",
    "                #parses the name into date\n",
    "                unix_time = time.mktime(date_stamp.timetuple())\n",
    "                # transforms into unix time\n",
    "                #print(date_stamp, unix_time)\n",
    "                full_file_path = each_dir+'/'+file\n",
    "                #print(full_file_path)\n",
    "                #print(each_dir)\n",
    "                source = open(full_file_path,'r').read()\n",
    "                #print(source)\n",
    "                try:\n",
    "                    # Try because not all companies will have the DE ratio, so this ignores those\n",
    "                    value = float(source.split(gather+':</td><td class=\"yfnc_tabledata1\">')[1].split('</td>')[0])\n",
    "                    # Float\n",
    "                    # Dives into the source of crawled htlm, and selects data between both splits\n",
    "                    df = df.append({'Date':date_stamp,'Unix':unix_time,'Ticker':ticker,'DE Ratio':value,}, ignore_index = True)\n",
    "                    # Append a Dictionary of VALUE: Must ignore index\n",
    "                except Exception as e:\n",
    "                    pass\n",
    "                \n",
    "                #print(ticker+\":\",value) # dont need this once results are saved to DF\n",
    "                \n",
    "    save = gather.replace(' ','').replace(')','').replace('(','').replace('/','')+('.csv')\n",
    "    # removes punctuation and spaced from \"Total Debt/Equity (mrq)\n",
    "    print(save)\n",
    "    df.to_csv(save)\n",
    "    \n",
    "Key_Stats()"
   ]
  },
  {
   "cell_type": "code",
   "execution_count": 3,
   "metadata": {},
   "outputs": [
    {
     "name": "stdout",
     "output_type": "stream",
     "text": [
      "hi\n"
     ]
    }
   ],
   "source": [
    "print(\"hi\")"
   ]
  },
  {
   "cell_type": "code",
   "execution_count": null,
   "metadata": {
    "collapsed": true
   },
   "outputs": [],
   "source": []
  }
 ],
 "metadata": {
  "kernelspec": {
   "display_name": "Python [conda env:tensorflow]",
   "language": "python",
   "name": "conda-env-tensorflow-py"
  },
  "language_info": {
   "codemirror_mode": {
    "name": "ipython",
    "version": 3
   },
   "file_extension": ".py",
   "mimetype": "text/x-python",
   "name": "python",
   "nbconvert_exporter": "python",
   "pygments_lexer": "ipython3",
   "version": "3.5.3"
  }
 },
 "nbformat": 4,
 "nbformat_minor": 2
}
