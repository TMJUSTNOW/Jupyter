{
 "cells": [
  {
   "cell_type": "markdown",
   "metadata": {},
   "source": [
    "# Natural Language Processing\n",
    "O'reilly textbook + Sentdex videos"
   ]
  },
  {
   "cell_type": "code",
   "execution_count": 1,
   "metadata": {
    "collapsed": true
   },
   "outputs": [],
   "source": [
    "import nltk\n",
    "import pandas as pd\n",
    "import numpy as np\n",
    "import random as rnd\n",
    "import matplotlib.pyplot as plt\n",
    "%matplotlib inline"
   ]
  },
  {
   "cell_type": "code",
   "execution_count": 2,
   "metadata": {},
   "outputs": [],
   "source": [
    "#nltk.download()"
   ]
  },
  {
   "cell_type": "code",
   "execution_count": 3,
   "metadata": {},
   "outputs": [
    {
     "name": "stdout",
     "output_type": "stream",
     "text": [
      "*** Introductory Examples for the NLTK Book ***\n",
      "Loading text1, ..., text9 and sent1, ..., sent9\n",
      "Type the name of the text or sentence to view it.\n",
      "Type: 'texts()' or 'sents()' to list the materials.\n",
      "text1: Moby Dick by Herman Melville 1851\n",
      "text2: Sense and Sensibility by Jane Austen 1811\n",
      "text3: The Book of Genesis\n",
      "text4: Inaugural Address Corpus\n",
      "text5: Chat Corpus\n",
      "text6: Monty Python and the Holy Grail\n",
      "text7: Wall Street Journal\n",
      "text8: Personals Corpus\n",
      "text9: The Man Who Was Thursday by G . K . Chesterton 1908\n"
     ]
    }
   ],
   "source": [
    "from nltk.book import *"
   ]
  },
  {
   "cell_type": "code",
   "execution_count": 4,
   "metadata": {},
   "outputs": [
    {
     "data": {
      "text/plain": [
       "['[',\n",
       " 'Moby',\n",
       " 'Dick',\n",
       " 'by',\n",
       " 'Herman',\n",
       " 'Melville',\n",
       " '1851',\n",
       " ']',\n",
       " 'ETYMOLOGY',\n",
       " '.',\n",
       " '(',\n",
       " 'Supplied',\n",
       " 'by',\n",
       " 'a',\n",
       " 'Late',\n",
       " 'Consumptive',\n",
       " 'Usher',\n",
       " 'to',\n",
       " 'a',\n",
       " 'Grammar']"
      ]
     },
     "execution_count": 4,
     "metadata": {},
     "output_type": "execute_result"
    }
   ],
   "source": [
    "text1[:20]"
   ]
  },
  {
   "cell_type": "code",
   "execution_count": 5,
   "metadata": {},
   "outputs": [
    {
     "name": "stdout",
     "output_type": "stream",
     "text": [
      "['Hello Mr. Smith, how are you doing today?', 'The weather is great, and Python is awesome.', 'The sky is pinkish-blue.', \"You shouldn't eat cardboard.\"]\n",
      "['Hello', 'Mr.', 'Smith', ',', 'how', 'are', 'you', 'doing', 'today', '?', 'The', 'weather', 'is', 'great', ',', 'and', 'Python', 'is', 'awesome', '.', 'The', 'sky', 'is', 'pinkish-blue', '.', 'You', 'should', \"n't\", 'eat', 'cardboard', '.']\n"
     ]
    }
   ],
   "source": [
    "from nltk.tokenize import sent_tokenize, word_tokenize\n",
    "\n",
    "EXAMPLE_TEXT = \"Hello Mr. Smith, how are you doing today? The weather is great, and Python is awesome. The sky is pinkish-blue. You shouldn't eat cardboard.\"\n",
    "\n",
    "print(sent_tokenize(EXAMPLE_TEXT))\n",
    "\n",
    "print(word_tokenize(EXAMPLE_TEXT))"
   ]
  },
  {
   "cell_type": "code",
   "execution_count": 6,
   "metadata": {},
   "outputs": [
    {
     "name": "stdout",
     "output_type": "stream",
     "text": [
      "true contemptible christian abundant few part mean careful puzzled\n",
      "mystifying passing curious loving wise doleful gamesome singular\n",
      "delightfully perilous fearless\n"
     ]
    }
   ],
   "source": [
    "text1.similar(\"monstrous\")"
   ]
  },
  {
   "cell_type": "code",
   "execution_count": 7,
   "metadata": {},
   "outputs": [
    {
     "name": "stdout",
     "output_type": "stream",
     "text": [
      "a_pretty am_glad a_lucky is_pretty be_glad\n"
     ]
    }
   ],
   "source": [
    "text2.common_contexts([\"monstrous\", \"very\"])"
   ]
  },
  {
   "cell_type": "code",
   "execution_count": 8,
   "metadata": {},
   "outputs": [
    {
     "data": {
      "image/png": "[encoded data removed]",
      "text/plain": [
       "<matplotlib.figure.Figure at 0x114eb779518>"
      ]
     },
     "metadata": {},
     "output_type": "display_data"
    }
   ],
   "source": [
    "text4.dispersion_plot([\"citizens\", \"democracy\", \"freedom\", \"duties\", \"America\"])"
   ]
  },
  {
   "cell_type": "code",
   "execution_count": 9,
   "metadata": {},
   "outputs": [
    {
     "data": {
      "image/png": "[encoded data removed]",
      "text/plain": [
       "<matplotlib.figure.Figure at 0x114fb5ebac8>"
      ]
     },
     "metadata": {},
     "output_type": "display_data"
    }
   ],
   "source": [
    "text6.dispersion_plot([\"holy\", \"rabbit\", \"knight\"])"
   ]
  },
  {
   "cell_type": "code",
   "execution_count": 10,
   "metadata": {
    "collapsed": true
   },
   "outputs": [],
   "source": [
    "# text1.generate()"
   ]
  },
  {
   "cell_type": "code",
   "execution_count": 11,
   "metadata": {},
   "outputs": [
    {
     "data": {
      "text/plain": [
       "44764"
      ]
     },
     "execution_count": 11,
     "metadata": {},
     "output_type": "execute_result"
    }
   ],
   "source": [
    "len(text3)\n",
    "# Total word lenght of Genesis"
   ]
  },
  {
   "cell_type": "code",
   "execution_count": 12,
   "metadata": {},
   "outputs": [
    {
     "data": {
      "text/plain": [
       "['!', \"'\", '(', ')', ',', ',)', '.', '.)']"
      ]
     },
     "execution_count": 12,
     "metadata": {},
     "output_type": "execute_result"
    }
   ],
   "source": [
    "sorted(set(text3)) [:8]\n",
    "# Order all the unique words"
   ]
  },
  {
   "cell_type": "code",
   "execution_count": 13,
   "metadata": {},
   "outputs": [
    {
     "data": {
      "text/plain": [
       "2789"
      ]
     },
     "execution_count": 13,
     "metadata": {},
     "output_type": "execute_result"
    }
   ],
   "source": [
    "len(set(text3))\n",
    "# Number of Unique words"
   ]
  },
  {
   "cell_type": "code",
   "execution_count": 14,
   "metadata": {
    "collapsed": true
   },
   "outputs": [],
   "source": [
    "from __future__ import division"
   ]
  },
  {
   "cell_type": "code",
   "execution_count": 15,
   "metadata": {},
   "outputs": [
    {
     "data": {
      "text/plain": [
       "16.050197203298673"
      ]
     },
     "execution_count": 15,
     "metadata": {},
     "output_type": "execute_result"
    }
   ],
   "source": [
    "len(text3)/len(set(text3))\n",
    "# Average occurance of unique words in Genesis"
   ]
  },
  {
   "cell_type": "code",
   "execution_count": 16,
   "metadata": {},
   "outputs": [
    {
     "data": {
      "text/plain": [
       "704"
      ]
     },
     "execution_count": 16,
     "metadata": {},
     "output_type": "execute_result"
    }
   ],
   "source": [
    "text5.count(\"lol\")"
   ]
  },
  {
   "cell_type": "code",
   "execution_count": 17,
   "metadata": {
    "collapsed": true
   },
   "outputs": [],
   "source": [
    "def lexical_diversity(text):\n",
    "    return len(text)/len(set(text))\n",
    "# Function to determine average number of unique words"
   ]
  },
  {
   "cell_type": "code",
   "execution_count": 18,
   "metadata": {
    "collapsed": true
   },
   "outputs": [],
   "source": [
    "def percentage(count,total):\n",
    "    return 100 * count/total"
   ]
  },
  {
   "cell_type": "code",
   "execution_count": 19,
   "metadata": {},
   "outputs": [
    {
     "data": {
      "text/plain": [
       "16.050197203298673"
      ]
     },
     "execution_count": 19,
     "metadata": {},
     "output_type": "execute_result"
    }
   ],
   "source": [
    "lexical_diversity(text3)"
   ]
  },
  {
   "cell_type": "code",
   "execution_count": 20,
   "metadata": {},
   "outputs": [
    {
     "data": {
      "text/plain": [
       "1.4643016433938312"
      ]
     },
     "execution_count": 20,
     "metadata": {},
     "output_type": "execute_result"
    }
   ],
   "source": [
    "percentage(text4.count('a'),len(text4))"
   ]
  },
  {
   "cell_type": "code",
   "execution_count": 21,
   "metadata": {},
   "outputs": [
    {
     "data": {
      "text/plain": [
       "FreqDist({'[': 3,\n",
       "          'Moby': 84,\n",
       "          'Dick': 84,\n",
       "          'by': 1137,\n",
       "          'Herman': 1,\n",
       "          'Melville': 1,\n",
       "          '1851': 3,\n",
       "          ']': 1,\n",
       "          'ETYMOLOGY': 1,\n",
       "          '.': 6862,\n",
       "          '(': 210,\n",
       "          'Supplied': 2,\n",
       "          'a': 4569,\n",
       "          'Late': 1,\n",
       "          'Consumptive': 1,\n",
       "          'Usher': 2,\n",
       "          'to': 4542,\n",
       "          'Grammar': 2,\n",
       "          'School': 1,\n",
       "          ')': 78,\n",
       "          'The': 612,\n",
       "          'pale': 18,\n",
       "          '--': 1070,\n",
       "          'threadbare': 1,\n",
       "          'in': 3916,\n",
       "          'coat': 28,\n",
       "          ',': 18713,\n",
       "          'heart': 90,\n",
       "          'body': 110,\n",
       "          'and': 6024,\n",
       "          'brain': 37,\n",
       "          ';': 4072,\n",
       "          'I': 2124,\n",
       "          'see': 253,\n",
       "          'him': 1058,\n",
       "          'now': 646,\n",
       "          'He': 230,\n",
       "          'was': 1632,\n",
       "          'ever': 203,\n",
       "          'dusting': 2,\n",
       "          'his': 2459,\n",
       "          'old': 436,\n",
       "          'lexicons': 1,\n",
       "          'grammars': 2,\n",
       "          'with': 1659,\n",
       "          'queer': 44,\n",
       "          'handkerchief': 5,\n",
       "          'mockingly': 1,\n",
       "          'embellished': 3,\n",
       "          'all': 1462,\n",
       "          'the': 13721,\n",
       "          'gay': 13,\n",
       "          'flags': 1,\n",
       "          'of': 6536,\n",
       "          'known': 80,\n",
       "          'nations': 12,\n",
       "          'world': 173,\n",
       "          'loved': 3,\n",
       "          'dust': 10,\n",
       "          'it': 2209,\n",
       "          'somehow': 43,\n",
       "          'mildly': 10,\n",
       "          'reminded': 4,\n",
       "          'mortality': 1,\n",
       "          '\"': 1478,\n",
       "          'While': 30,\n",
       "          'you': 841,\n",
       "          'take': 118,\n",
       "          'hand': 205,\n",
       "          'school': 9,\n",
       "          'others': 37,\n",
       "          'teach': 5,\n",
       "          'them': 471,\n",
       "          'what': 442,\n",
       "          'name': 69,\n",
       "          'whale': 906,\n",
       "          '-': 2552,\n",
       "          'fish': 133,\n",
       "          'is': 1695,\n",
       "          'be': 1030,\n",
       "          'called': 116,\n",
       "          'our': 199,\n",
       "          'tongue': 11,\n",
       "          'leaving': 38,\n",
       "          'out': 529,\n",
       "          'through': 227,\n",
       "          'ignorance': 10,\n",
       "          'letter': 12,\n",
       "          'H': 2,\n",
       "          'which': 640,\n",
       "          'almost': 186,\n",
       "          'alone': 37,\n",
       "          'maketh': 5,\n",
       "          'signification': 1,\n",
       "          'word': 76,\n",
       "          'deliver': 3,\n",
       "          'that': 2982,\n",
       "          'not': 1103,\n",
       "          'true': 73,\n",
       "          '.\"': 489,\n",
       "          'HACKLUYT': 1,\n",
       "          'WHALE': 38,\n",
       "          '...': 11,\n",
       "          'Sw': 1,\n",
       "          'Dan': 4,\n",
       "          'HVAL': 1,\n",
       "          'This': 107,\n",
       "          'animal': 16,\n",
       "          'named': 11,\n",
       "          'from': 1052,\n",
       "          'roundness': 1,\n",
       "          'or': 697,\n",
       "          'rolling': 35,\n",
       "          'for': 1414,\n",
       "          'HVALT': 2,\n",
       "          'arched': 10,\n",
       "          'vaulted': 2,\n",
       "          'WEBSTER': 2,\n",
       "          \"'\": 2684,\n",
       "          'S': 63,\n",
       "          'DICTIONARY': 3,\n",
       "          'It': 310,\n",
       "          'more': 501,\n",
       "          'immediately': 14,\n",
       "          'Dut': 1,\n",
       "          'Ger': 1,\n",
       "          'WALLEN': 1,\n",
       "          'A': 167,\n",
       "          'WALW': 1,\n",
       "          'IAN': 1,\n",
       "          'roll': 16,\n",
       "          'wallow': 3,\n",
       "          'RICHARDSON': 1,\n",
       "          'KETOS': 1,\n",
       "          'GREEK': 1,\n",
       "          'CETUS': 1,\n",
       "          'LATIN': 1,\n",
       "          'WHOEL': 1,\n",
       "          'ANGLO': 1,\n",
       "          'SAXON': 1,\n",
       "          'DANISH': 2,\n",
       "          'WAL': 1,\n",
       "          'DUTCH': 2,\n",
       "          'HWAL': 1,\n",
       "          'SWEDISH': 1,\n",
       "          'ICELANDIC': 1,\n",
       "          'ENGLISH': 3,\n",
       "          'BALEINE': 1,\n",
       "          'FRENCH': 5,\n",
       "          'BALLENA': 1,\n",
       "          'SPANISH': 4,\n",
       "          'PEKEE': 2,\n",
       "          'NUEE': 4,\n",
       "          'FEGEE': 1,\n",
       "          'ERROMANGOAN': 1,\n",
       "          'EXTRACTS': 2,\n",
       "          'Sub': 7,\n",
       "          'Librarian': 1,\n",
       "          ').': 15,\n",
       "          'will': 379,\n",
       "          'seen': 161,\n",
       "          'this': 1280,\n",
       "          'mere': 42,\n",
       "          'painstaking': 1,\n",
       "          'burrower': 1,\n",
       "          'grub': 1,\n",
       "          'worm': 5,\n",
       "          'poor': 106,\n",
       "          'devil': 51,\n",
       "          'appears': 7,\n",
       "          'have': 760,\n",
       "          'gone': 58,\n",
       "          'long': 318,\n",
       "          'Vaticans': 1,\n",
       "          'street': 10,\n",
       "          'stalls': 1,\n",
       "          'earth': 46,\n",
       "          'picking': 4,\n",
       "          'up': 505,\n",
       "          'whatever': 44,\n",
       "          'random': 5,\n",
       "          'allusions': 7,\n",
       "          'whales': 237,\n",
       "          'he': 1661,\n",
       "          'could': 215,\n",
       "          'anyways': 2,\n",
       "          'find': 55,\n",
       "          'any': 320,\n",
       "          'book': 38,\n",
       "          'whatsoever': 5,\n",
       "          'sacred': 7,\n",
       "          'profane': 4,\n",
       "          'Therefore': 11,\n",
       "          'must': 282,\n",
       "          'every': 222,\n",
       "          'case': 69,\n",
       "          'at': 1231,\n",
       "          'least': 75,\n",
       "          'higgledy': 1,\n",
       "          'piggledy': 1,\n",
       "          'statements': 4,\n",
       "          'however': 80,\n",
       "          'authentic': 3,\n",
       "          'these': 381,\n",
       "          'extracts': 4,\n",
       "          'veritable': 4,\n",
       "          'gospel': 1,\n",
       "          'cetology': 4,\n",
       "          'Far': 4,\n",
       "          'As': 120,\n",
       "          'touching': 45,\n",
       "          'ancient': 28,\n",
       "          'authors': 3,\n",
       "          'generally': 30,\n",
       "          'as': 1620,\n",
       "          'well': 174,\n",
       "          'poets': 3,\n",
       "          'here': 272,\n",
       "          'appearing': 3,\n",
       "          'are': 586,\n",
       "          'solely': 6,\n",
       "          'valuable': 11,\n",
       "          'entertaining': 2,\n",
       "          'affording': 2,\n",
       "          'glancing': 12,\n",
       "          'bird': 17,\n",
       "          's': 1739,\n",
       "          'eye': 88,\n",
       "          'view': 46,\n",
       "          'has': 287,\n",
       "          'been': 415,\n",
       "          'promiscuously': 1,\n",
       "          'said': 302,\n",
       "          'thought': 149,\n",
       "          'fancied': 9,\n",
       "          'sung': 2,\n",
       "          'Leviathan': 64,\n",
       "          'many': 161,\n",
       "          'generations': 6,\n",
       "          'including': 8,\n",
       "          'own': 205,\n",
       "          'So': 147,\n",
       "          'fare': 10,\n",
       "          'thee': 129,\n",
       "          'whose': 86,\n",
       "          'commentator': 1,\n",
       "          'am': 86,\n",
       "          'Thou': 39,\n",
       "          'belongest': 1,\n",
       "          'hopeless': 8,\n",
       "          'sallow': 1,\n",
       "          'tribe': 9,\n",
       "          'no': 484,\n",
       "          'wine': 12,\n",
       "          'warm': 24,\n",
       "          'whom': 43,\n",
       "          'even': 181,\n",
       "          'Pale': 1,\n",
       "          'Sherry': 1,\n",
       "          'would': 421,\n",
       "          'too': 184,\n",
       "          'rosy': 2,\n",
       "          'strong': 34,\n",
       "          'but': 1113,\n",
       "          'one': 889,\n",
       "          'sometimes': 81,\n",
       "          'loves': 1,\n",
       "          'sit': 16,\n",
       "          'feel': 56,\n",
       "          'devilish': 9,\n",
       "          'grow': 24,\n",
       "          'convivial': 4,\n",
       "          'upon': 538,\n",
       "          'tears': 6,\n",
       "          'say': 237,\n",
       "          'bluntly': 1,\n",
       "          'full': 121,\n",
       "          'eyes': 155,\n",
       "          'empty': 22,\n",
       "          'glasses': 10,\n",
       "          'altogether': 29,\n",
       "          'unpleasant': 3,\n",
       "          'sadness': 2,\n",
       "          'Give': 15,\n",
       "          'Subs': 1,\n",
       "          '!': 1269,\n",
       "          'For': 197,\n",
       "          'how': 187,\n",
       "          'much': 218,\n",
       "          'pains': 15,\n",
       "          'ye': 460,\n",
       "          'please': 12,\n",
       "          'so': 918,\n",
       "          'shall': 84,\n",
       "          'go': 182,\n",
       "          'thankless': 1,\n",
       "          'Would': 11,\n",
       "          'clear': 39,\n",
       "          'Hampton': 1,\n",
       "          'Court': 1,\n",
       "          'Tuileries': 3,\n",
       "          'But': 705,\n",
       "          'gulp': 2,\n",
       "          'down': 364,\n",
       "          'your': 240,\n",
       "          'hie': 1,\n",
       "          'aloft': 53,\n",
       "          'royal': 29,\n",
       "          'mast': 124,\n",
       "          'hearts': 29,\n",
       "          'friends': 16,\n",
       "          'who': 319,\n",
       "          'before': 293,\n",
       "          'clearing': 4,\n",
       "          'seven': 15,\n",
       "          'storied': 4,\n",
       "          'heavens': 17,\n",
       "          'making': 45,\n",
       "          'refugees': 1,\n",
       "          'pampered': 1,\n",
       "          'Gabriel': 20,\n",
       "          'Michael': 1,\n",
       "          'Raphael': 1,\n",
       "          'against': 132,\n",
       "          'coming': 50,\n",
       "          'Here': 49,\n",
       "          'strike': 28,\n",
       "          'splintered': 7,\n",
       "          'together': 64,\n",
       "          'there': 715,\n",
       "          'unsplinterable': 1,\n",
       "          'And': 369,\n",
       "          'God': 132,\n",
       "          'created': 6,\n",
       "          'great': 293,\n",
       "          'GENESIS': 1,\n",
       "          'path': 10,\n",
       "          'shine': 3,\n",
       "          'after': 252,\n",
       "          'One': 28,\n",
       "          'think': 111,\n",
       "          'deep': 69,\n",
       "          'hoary': 2,\n",
       "          'JOB': 1,\n",
       "          'Now': 139,\n",
       "          'Lord': 44,\n",
       "          'had': 767,\n",
       "          'prepared': 12,\n",
       "          'swallow': 10,\n",
       "          'Jonah': 84,\n",
       "          'JONAH': 1,\n",
       "          'There': 147,\n",
       "          'ships': 87,\n",
       "          'thou': 232,\n",
       "          'hast': 19,\n",
       "          'made': 178,\n",
       "          'play': 29,\n",
       "          'therein': 5,\n",
       "          'PSALMS': 2,\n",
       "          'In': 237,\n",
       "          'day': 172,\n",
       "          'sore': 3,\n",
       "          'sword': 23,\n",
       "          'punish': 1,\n",
       "          'piercing': 4,\n",
       "          'serpent': 4,\n",
       "          'crooked': 8,\n",
       "          'slay': 4,\n",
       "          'dragon': 5,\n",
       "          'sea': 433,\n",
       "          'ISAIAH': 1,\n",
       "          'thing': 188,\n",
       "          'soever': 1,\n",
       "          'besides': 20,\n",
       "          'cometh': 1,\n",
       "          'within': 78,\n",
       "          'chaos': 4,\n",
       "          'monster': 49,\n",
       "          'mouth': 60,\n",
       "          'beast': 4,\n",
       "          'boat': 330,\n",
       "          'stone': 18,\n",
       "          'goes': 54,\n",
       "          'incontinently': 1,\n",
       "          'foul': 11,\n",
       "          'perisheth': 1,\n",
       "          'bottomless': 7,\n",
       "          'gulf': 4,\n",
       "          'paunch': 2,\n",
       "          'HOLLAND': 2,\n",
       "          'PLUTARCH': 1,\n",
       "          'MORALS': 1,\n",
       "          'Indian': 57,\n",
       "          'Sea': 22,\n",
       "          'breedeth': 1,\n",
       "          'most': 277,\n",
       "          'biggest': 2,\n",
       "          'fishes': 3,\n",
       "          ':': 162,\n",
       "          'among': 158,\n",
       "          'Whales': 29,\n",
       "          'Whirlpooles': 1,\n",
       "          'Balaene': 1,\n",
       "          'length': 78,\n",
       "          'four': 74,\n",
       "          'acres': 3,\n",
       "          'arpens': 1,\n",
       "          'land': 78,\n",
       "          'PLINY': 1,\n",
       "          'Scarcely': 1,\n",
       "          'we': 413,\n",
       "          'proceeded': 6,\n",
       "          'two': 285,\n",
       "          'days': 80,\n",
       "          'on': 1005,\n",
       "          'when': 553,\n",
       "          'about': 304,\n",
       "          'sunrise': 11,\n",
       "          'other': 412,\n",
       "          'monsters': 9,\n",
       "          'appeared': 10,\n",
       "          'Among': 8,\n",
       "          'former': 20,\n",
       "          'monstrous': 10,\n",
       "          'size': 12,\n",
       "          'came': 130,\n",
       "          'towards': 107,\n",
       "          'us': 228,\n",
       "          'open': 75,\n",
       "          'mouthed': 4,\n",
       "          'raising': 4,\n",
       "          'waves': 48,\n",
       "          'sides': 28,\n",
       "          'beating': 11,\n",
       "          'into': 520,\n",
       "          'foam': 19,\n",
       "          'TOOKE': 1,\n",
       "          'LUCIAN': 1,\n",
       "          'THE': 98,\n",
       "          'TRUE': 1,\n",
       "          'HISTORY': 4,\n",
       "          'visited': 7,\n",
       "          'country': 25,\n",
       "          'also': 88,\n",
       "          'catching': 7,\n",
       "          'horse': 26,\n",
       "          'bones': 48,\n",
       "          'very': 311,\n",
       "          'value': 6,\n",
       "          'their': 612,\n",
       "          'teeth': 47,\n",
       "          'brought': 38,\n",
       "          'some': 578,\n",
       "          'king': 25,\n",
       "          'best': 62,\n",
       "          'were': 680,\n",
       "          'catched': 1,\n",
       "          'forty': 28,\n",
       "          'eight': 24,\n",
       "          'fifty': 33,\n",
       "          'yards': 27,\n",
       "          'six': 31,\n",
       "          'killed': 33,\n",
       "          'sixty': 17,\n",
       "          'OTHER': 2,\n",
       "          'OR': 5,\n",
       "          'OCTHER': 1,\n",
       "          'VERBAL': 1,\n",
       "          'NARRATIVE': 4,\n",
       "          'TAKEN': 1,\n",
       "          'DOWN': 2,\n",
       "          'FROM': 10,\n",
       "          'HIS': 17,\n",
       "          'MOUTH': 1,\n",
       "          'BY': 15,\n",
       "          'KING': 2,\n",
       "          'ALFRED': 1,\n",
       "          'D': 23,\n",
       "          '890': 1,\n",
       "          'whereas': 14,\n",
       "          'things': 132,\n",
       "          'whether': 76,\n",
       "          'vessel': 54,\n",
       "          'enter': 9,\n",
       "          'dreadful': 6,\n",
       "          'lost': 45,\n",
       "          'swallowed': 13,\n",
       "          'gudgeon': 1,\n",
       "          'retires': 1,\n",
       "          'security': 3,\n",
       "          'sleeps': 7,\n",
       "          'MONTAIGNE': 1,\n",
       "          'APOLOGY': 1,\n",
       "          'FOR': 6,\n",
       "          'RAIMOND': 1,\n",
       "          'SEBOND': 1,\n",
       "          'Let': 38,\n",
       "          'fly': 14,\n",
       "          'let': 120,\n",
       "          'Old': 11,\n",
       "          'Nick': 1,\n",
       "          'me': 627,\n",
       "          'if': 421,\n",
       "          'described': 8,\n",
       "          'noble': 44,\n",
       "          'prophet': 13,\n",
       "          'Moses': 2,\n",
       "          'life': 162,\n",
       "          'patient': 6,\n",
       "          'Job': 5,\n",
       "          'RABELAIS': 1,\n",
       "          'liver': 4,\n",
       "          'cartloads': 1,\n",
       "          'STOWE': 1,\n",
       "          'ANNALS': 1,\n",
       "          'seas': 80,\n",
       "          'seethe': 3,\n",
       "          'like': 624,\n",
       "          'boiling': 15,\n",
       "          'pan': 3,\n",
       "          'LORD': 1,\n",
       "          'BACON': 1,\n",
       "          'VERSION': 2,\n",
       "          'OF': 49,\n",
       "          'Touching': 1,\n",
       "          'bulk': 32,\n",
       "          'ork': 1,\n",
       "          'received': 26,\n",
       "          'nothing': 102,\n",
       "          'certain': 87,\n",
       "          'They': 78,\n",
       "          'exceeding': 12,\n",
       "          'fat': 12,\n",
       "          'insomuch': 2,\n",
       "          'an': 582,\n",
       "          'incredible': 9,\n",
       "          'quantity': 13,\n",
       "          'oil': 90,\n",
       "          'extracted': 5,\n",
       "          'IBID': 3,\n",
       "          'LIFE': 2,\n",
       "          'AND': 37,\n",
       "          'DEATH': 1,\n",
       "          'sovereignest': 1,\n",
       "          'parmacetti': 3,\n",
       "          'inward': 4,\n",
       "          'bruise': 1,\n",
       "          'HENRY': 2,\n",
       "          'Very': 11,\n",
       "          'HAMLET': 1,\n",
       "          'Which': 6,\n",
       "          'secure': 12,\n",
       "          'skill': 10,\n",
       "          'leach': 1,\n",
       "          'art': 39,\n",
       "          'Mote': 1,\n",
       "          'availle': 1,\n",
       "          'returne': 1,\n",
       "          'againe': 1,\n",
       "          'To': 62,\n",
       "          'wound': 17,\n",
       "          'worker': 1,\n",
       "          'lowly': 8,\n",
       "          'dart': 24,\n",
       "          'Dinting': 1,\n",
       "          'breast': 7,\n",
       "          'bred': 9,\n",
       "          'restless': 4,\n",
       "          'paine': 1,\n",
       "          'Like': 23,\n",
       "          'wounded': 9,\n",
       "          'shore': 23,\n",
       "          'flies': 7,\n",
       "          'thro': 1,\n",
       "          'maine': 1,\n",
       "          'FAERIE': 1,\n",
       "          'QUEEN': 2,\n",
       "          'Immense': 1,\n",
       "          'motion': 17,\n",
       "          'vast': 73,\n",
       "          'bodies': 9,\n",
       "          'can': 220,\n",
       "          'peaceful': 6,\n",
       "          'calm': 41,\n",
       "          'trouble': 11,\n",
       "          'ocean': 71,\n",
       "          'til': 1,\n",
       "          'boil': 2,\n",
       "          'SIR': 4,\n",
       "          'WILLIAM': 2,\n",
       "          'DAVENANT': 1,\n",
       "          'PREFACE': 1,\n",
       "          'TO': 21,\n",
       "          'GONDIBERT': 1,\n",
       "          'What': 174,\n",
       "          'spermacetti': 1,\n",
       "          'men': 236,\n",
       "          'might': 183,\n",
       "          'justly': 3,\n",
       "          'doubt': 32,\n",
       "          'since': 63,\n",
       "          'learned': 25,\n",
       "          'Hosmannus': 1,\n",
       "          'work': 62,\n",
       "          'thirty': 26,\n",
       "          'years': 94,\n",
       "          'saith': 5,\n",
       "          'plainly': 39,\n",
       "          'Nescio': 1,\n",
       "          'quid': 2,\n",
       "          'T': 8,\n",
       "          'BROWNE': 3,\n",
       "          'SPERMA': 2,\n",
       "          'CETI': 2,\n",
       "          'VIDE': 1,\n",
       "          'V': 6,\n",
       "          'E': 5,\n",
       "          'Spencer': 1,\n",
       "          'Talus': 1,\n",
       "          'modern': 18,\n",
       "          'flail': 1,\n",
       "          'threatens': 1,\n",
       "          'ruin': 5,\n",
       "          'ponderous': 13,\n",
       "          'tail': 78,\n",
       "          'Their': 6,\n",
       "          'fixed': 37,\n",
       "          'jav': 1,\n",
       "          'lins': 1,\n",
       "          'side': 208,\n",
       "          'wears': 7,\n",
       "          'back': 151,\n",
       "          'grove': 3,\n",
       "          'pikes': 2,\n",
       "          'WALLER': 1,\n",
       "          'BATTLE': 2,\n",
       "          'SUMMER': 1,\n",
       "          'ISLANDS': 1,\n",
       "          'By': 52,\n",
       "          'Commonwealth': 1,\n",
       "          'State': 4,\n",
       "          '--(': 4,\n",
       "          'Latin': 4,\n",
       "          'Civitas': 1,\n",
       "          'artificial': 5,\n",
       "          'man': 508,\n",
       "          'OPENING': 1,\n",
       "          'SENTENCE': 1,\n",
       "          'HOBBES': 1,\n",
       "          'LEVIATHAN': 1,\n",
       "          'Silly': 1,\n",
       "          'Mansoul': 1,\n",
       "          'without': 154,\n",
       "          'chewing': 1,\n",
       "          'sprat': 1,\n",
       "          'PILGRIM': 1,\n",
       "          'PROGRESS': 1,\n",
       "          'That': 85,\n",
       "          'works': 30,\n",
       "          'Created': 1,\n",
       "          'hugest': 3,\n",
       "          'swim': 20,\n",
       "          'stream': 11,\n",
       "          'PARADISE': 1,\n",
       "          'LOST': 1,\n",
       "          '---\"': 1,\n",
       "          'Hugest': 1,\n",
       "          'living': 73,\n",
       "          'creatures': 34,\n",
       "          'Stretched': 1,\n",
       "          'promontory': 5,\n",
       "          'swims': 8,\n",
       "          'seems': 84,\n",
       "          'moving': 13,\n",
       "          'gills': 4,\n",
       "          'Draws': 1,\n",
       "          'breath': 18,\n",
       "          'spouts': 16,\n",
       "          'mighty': 47,\n",
       "          'water': 185,\n",
       "          'swimming': 29,\n",
       "          'FULLLER': 1,\n",
       "          'PROFANE': 1,\n",
       "          'HOLY': 1,\n",
       "          'STATE': 1,\n",
       "          'close': 54,\n",
       "          'behind': 50,\n",
       "          'lie': 26,\n",
       "          'huge': 29,\n",
       "          'attend': 9,\n",
       "          'prey': 14,\n",
       "          'give': 71,\n",
       "          'chance': 46,\n",
       "          'fry': 3,\n",
       "          'gaping': 3,\n",
       "          'jaws': 30,\n",
       "          'mistake': 9,\n",
       "          'way': 269,\n",
       "          'DRYDEN': 1,\n",
       "          'ANNUS': 1,\n",
       "          'MIRABILIS': 1,\n",
       "          'floating': 24,\n",
       "          'stern': 48,\n",
       "          'ship': 507,\n",
       "          'they': 586,\n",
       "          'cut': 50,\n",
       "          'off': 217,\n",
       "          'head': 335,\n",
       "          'tow': 16,\n",
       "          'near': 69,\n",
       "          'come': 150,\n",
       "          'aground': 1,\n",
       "          'twelve': 16,\n",
       "          'thirteen': 2,\n",
       "          'feet': 125,\n",
       "          'THOMAS': 3,\n",
       "          'EDGE': 1,\n",
       "          'TEN': 1,\n",
       "          'VOYAGES': 3,\n",
       "          'SPITZBERGEN': 1,\n",
       "          'IN': 19,\n",
       "          'PURCHAS': 1,\n",
       "          'saw': 115,\n",
       "          'sporting': 4,\n",
       "          'wantonness': 1,\n",
       "          'fuzzing': 1,\n",
       "          'pipes': 8,\n",
       "          'vents': 1,\n",
       "          'nature': 34,\n",
       "          'placed': 36,\n",
       "          'shoulders': 13,\n",
       "          'HERBERT': 1,\n",
       "          'INTO': 1,\n",
       "          'ASIA': 1,\n",
       "          'AFRICA': 1,\n",
       "          'HARRIS': 2,\n",
       "          'COLL': 2,\n",
       "          'such': 336,\n",
       "          'troops': 2,\n",
       "          'forced': 18,\n",
       "          'proceed': 14,\n",
       "          'deal': 12,\n",
       "          'caution': 2,\n",
       "          'fear': 32,\n",
       "          'should': 181,\n",
       "          'run': 51,\n",
       "          'SCHOUTEN': 1,\n",
       "          'SIXTH': 1,\n",
       "          'CIRCUMNAVIGATION': 1,\n",
       "          'We': 47,\n",
       "          'set': 74,\n",
       "          'sail': 96,\n",
       "          'Elbe': 1,\n",
       "          'wind': 67,\n",
       "          'N': 2,\n",
       "          'Jonas': 3,\n",
       "          'Whale': 282,\n",
       "          'Some': 38,\n",
       "          't': 283,\n",
       "          'fable': 5,\n",
       "          'frequently': 14,\n",
       "          'climb': 4,\n",
       "          'masts': 26,\n",
       "          'first': 210,\n",
       "          'discoverer': 2,\n",
       "          'ducat': 1,\n",
       "          'told': 45,\n",
       "          'taken': 50,\n",
       "          'Shetland': 2,\n",
       "          'above': 56,\n",
       "          'barrel': 5,\n",
       "          'herrings': 1,\n",
       "          'belly': 9,\n",
       "          'harpooneers': 55,\n",
       "          'caught': 44,\n",
       "          'once': 144,\n",
       "          'Spitzbergen': 4,\n",
       "          'white': 191,\n",
       "          'over': 403,\n",
       "          'VOYAGE': 7,\n",
       "          'GREENLAND': 1,\n",
       "          '1671': 2,\n",
       "          'Several': 1,\n",
       "          'coast': 40,\n",
       "          'Fife': 1,\n",
       "          'Anno': 1,\n",
       "          '1652': 1,\n",
       "          'eighty': 4,\n",
       "          'bone': 50,\n",
       "          'kind': 27,\n",
       "          'informed': 4,\n",
       "          '),': 62,\n",
       "          'did': 246,\n",
       "          'afford': 9,\n",
       "          '500': 2,\n",
       "          'weight': 17,\n",
       "          'baleen': 11,\n",
       "          'stand': 83,\n",
       "          'gate': 4,\n",
       "          'garden': 6,\n",
       "          'Pitferren': 1,\n",
       "          'SIBBALD': 1,\n",
       "          'FIFE': 1,\n",
       "          'KINROSS': 1,\n",
       "          'Myself': 1,\n",
       "          'agreed': 3,\n",
       "          'try': 49,\n",
       "          'master': 23,\n",
       "          'kill': 30,\n",
       "          'Sperma': 1,\n",
       "          'ceti': 1,\n",
       "          'never': 195,\n",
       "          'hear': 60,\n",
       "          'sort': 152,\n",
       "          'fierceness': 1,\n",
       "          'swiftness': 6,\n",
       "          'RICHARD': 1,\n",
       "          'STRAFFORD': 1,\n",
       "          'LETTER': 1,\n",
       "          'BERMUDAS': 1,\n",
       "          'PHIL': 1,\n",
       "          'TRANS': 1,\n",
       "          '1668': 1,\n",
       "          'voice': 46,\n",
       "          'obey': 8,\n",
       "          'PRIMER': 1,\n",
       "          'abundance': 4,\n",
       "          'large': 77,\n",
       "          'being': 219,\n",
       "          'those': 297,\n",
       "          'southern': 5,\n",
       "          'may': 230,\n",
       "          'hundred': 50,\n",
       "          'than': 309,\n",
       "          'northward': 4,\n",
       "          'CAPTAIN': 2,\n",
       "          'COWLEY': 1,\n",
       "          'ROUND': 2,\n",
       "          'GLOBE': 4,\n",
       "          '1729': 1,\n",
       "          '\"...': 1,\n",
       "          'frequendy': 1,\n",
       "          'attended': 6,\n",
       "          'insupportable': 1,\n",
       "          'smell': 11,\n",
       "          'bring': 18,\n",
       "          'disorder': 1,\n",
       "          'ULLOA': 1,\n",
       "          'SOUTH': 1,\n",
       "          'AMERICA': 1,\n",
       "          'chosen': 3,\n",
       "          'sylphs': 1,\n",
       "          'special': 15,\n",
       "          'note': 6,\n",
       "          'trust': 4,\n",
       "          'important': 19,\n",
       "          'charge': 10,\n",
       "          'petticoat': 1,\n",
       "          'Oft': 1,\n",
       "          'fold': 6,\n",
       "          'fence': 2,\n",
       "          'fail': 17,\n",
       "          'Tho': 1,\n",
       "          'stuffed': 5,\n",
       "          'hoops': 11,\n",
       "          'armed': 15,\n",
       "          'ribs': 20,\n",
       "          'RAPE': 1,\n",
       "          'LOCK': 1,\n",
       "          'If': 60,\n",
       "          'compare': 7,\n",
       "          'animals': 5,\n",
       "          'respect': 16,\n",
       "          'magnitude': 21,\n",
       "          'abode': 2,\n",
       "          'appear': 6,\n",
       "          'contemptible': 4,\n",
       "          'comparison': 6,\n",
       "          'doubtless': 12,\n",
       "          'largest': 19,\n",
       "          'creation': 7,\n",
       "          'GOLDSMITH': 2,\n",
       "          'NAT': 1,\n",
       "          'HIST': 2,\n",
       "          'write': 5,\n",
       "          'little': 247,\n",
       "          'make': 109,\n",
       "          'speak': 47,\n",
       "          'wales': 1,\n",
       "          'JOHNSON': 1,\n",
       "          'afternoon': 10,\n",
       "          'supposed': 15,\n",
       "          'rock': 14,\n",
       "          'found': 115,\n",
       "          'dead': 90,\n",
       "          'Asiatics': 2,\n",
       "          'then': 571,\n",
       "          'towing': 14,\n",
       "          'ashore': 33,\n",
       "          'seemed': 283,\n",
       "          'endeavor': 4,\n",
       "          'conceal': 2,\n",
       "          'themselves': 59,\n",
       "          'order': 64,\n",
       "          'avoid': 6,\n",
       "          'COOK': 1,\n",
       "          'larger': 9,\n",
       "          'seldom': 24,\n",
       "          'venture': 5,\n",
       "          'attack': 8,\n",
       "          'dread': 12,\n",
       "          'afraid': 15,\n",
       "          'mention': 15,\n",
       "          'names': 12,\n",
       "          'carry': 25,\n",
       "          'dung': 1,\n",
       "          'lime': 1,\n",
       "          'juniper': 1,\n",
       "          'wood': 34,\n",
       "          'articles': 10,\n",
       "          'same': 213,\n",
       "          'boats': 145,\n",
       "          'terrify': 3,\n",
       "          'prevent': 6,\n",
       "          'approach': 5,\n",
       "          'UNO': 1,\n",
       "          'VON': 1,\n",
       "          'TROIL': 1,\n",
       "          'LETTERS': 1,\n",
       "          'ON': 11,\n",
       "          'BANKS': 1,\n",
       "          'SOLANDER': 1,\n",
       "          'ICELAND': 2,\n",
       "          '1772': 1,\n",
       "          'Spermacetti': 2,\n",
       "          'Nantuckois': 1,\n",
       "          'active': 8,\n",
       "          'fierce': 11,\n",
       "          'requires': 7,\n",
       "          'address': 4,\n",
       "          'boldness': 2,\n",
       "          'fishermen': 28,\n",
       "          'JEFFERSON': 1,\n",
       "          'MEMORIAL': 1,\n",
       "          'MINISTER': 1,\n",
       "          '1778': 2,\n",
       "          'pray': 6,\n",
       "          'sir': 143,\n",
       "          'equal': 14,\n",
       "          '?\"': 252,\n",
       "          'EDMUND': 2,\n",
       "          'BURKE': 2,\n",
       "          'REFERENCE': 1,\n",
       "          'PARLIAMENT': 1,\n",
       "          'NANTUCKET': 11,\n",
       "          'FISHERY': 2,\n",
       "          'Spain': 5,\n",
       "          'stranded': 12,\n",
       "          'shores': 7,\n",
       "          'Europe': 5,\n",
       "          'SOMEWHERE': 1,\n",
       "          '.)': 22,\n",
       "          'tenth': 4,\n",
       "          'branch': 4,\n",
       "          'ordinary': 19,\n",
       "          'revenue': 2,\n",
       "          'grounded': 3,\n",
       "          'consideration': 8,\n",
       "          'guarding': 1,\n",
       "          'protecting': 1,\n",
       "          'pirates': 9,\n",
       "          'robbers': 1,\n",
       "          'right': 97,\n",
       "          'sturgeon': 3,\n",
       "          'either': 39,\n",
       "          'thrown': 25,\n",
       "          'property': 7,\n",
       "          'BLACKSTONE': 1,\n",
       "          'Soon': 17,\n",
       "          'sport': 3,\n",
       "          'death': 71,\n",
       "          'crews': 16,\n",
       "          'repair': 3,\n",
       "          'Rodmond': 1,\n",
       "          'unerring': 3,\n",
       "          'o': 16,\n",
       "          'er': 7,\n",
       "          'suspends': 1,\n",
       "          'barbed': 6,\n",
       "          'steel': 32,\n",
       "          'turn': 54,\n",
       "          'attends': 1,\n",
       "          'FALCONER': 1,\n",
       "          'SHIPWRECK': 2,\n",
       "          'Bright': 1,\n",
       "          'shone': 3,\n",
       "          'roofs': 1,\n",
       "          'domes': 1,\n",
       "          'spires': 6,\n",
       "          'rockets': 1,\n",
       "          ...})"
      ]
     },
     "execution_count": 21,
     "metadata": {},
     "output_type": "execute_result"
    }
   ],
   "source": [
    "fdist1 = FreqDist(text1)\n",
    "fdist1\n",
    "# Word Frequency"
   ]
  },
  {
   "cell_type": "code",
   "execution_count": 22,
   "metadata": {},
   "outputs": [
    {
     "data": {
      "text/plain": [
       "['Herman',\n",
       " 'Melville',\n",
       " ']',\n",
       " 'ETYMOLOGY',\n",
       " 'Late',\n",
       " 'Consumptive',\n",
       " 'School',\n",
       " 'threadbare',\n",
       " 'lexicons',\n",
       " 'mockingly']"
      ]
     },
     "execution_count": 22,
     "metadata": {},
     "output_type": "execute_result"
    }
   ],
   "source": [
    "fdist1.hapaxes() [:10]"
   ]
  },
  {
   "cell_type": "code",
   "execution_count": 23,
   "metadata": {},
   "outputs": [
    {
     "data": {
      "text/plain": [
       "['CIRCUMNAVIGATION',\n",
       " 'Physiognomically',\n",
       " 'apprehensiveness',\n",
       " 'cannibalistically',\n",
       " 'characteristically',\n",
       " 'circumnavigating',\n",
       " 'circumnavigation',\n",
       " 'circumnavigations',\n",
       " 'comprehensiveness',\n",
       " 'hermaphroditical',\n",
       " 'indiscriminately',\n",
       " 'indispensableness',\n",
       " 'irresistibleness',\n",
       " 'physiognomically',\n",
       " 'preternaturalness',\n",
       " 'responsibilities',\n",
       " 'simultaneousness',\n",
       " 'subterraneousness',\n",
       " 'supernaturalness',\n",
       " 'superstitiousness',\n",
       " 'uncomfortableness',\n",
       " 'uncompromisedness',\n",
       " 'undiscriminating',\n",
       " 'uninterpenetratingly']"
      ]
     },
     "execution_count": 23,
     "metadata": {},
     "output_type": "execute_result"
    }
   ],
   "source": [
    "V = set(text1)\n",
    "long_words = [w for w in V if len(w) > 15]\n",
    "sorted(long_words)"
   ]
  },
  {
   "cell_type": "code",
   "execution_count": 24,
   "metadata": {},
   "outputs": [
    {
     "name": "stdout",
     "output_type": "stream",
     "text": [
      "United States; fellow citizens; four years; years ago; Federal\n",
      "Government; General Government; American people; Vice President; Old\n",
      "World; Almighty God; Fellow citizens; Chief Magistrate; Chief Justice;\n",
      "God bless; every citizen; Indian tribes; public debt; one another;\n",
      "foreign nations; political parties\n"
     ]
    }
   ],
   "source": [
    "# Collocations: Usually Common sequence of words\n",
    "text4.collocations()"
   ]
  },
  {
   "cell_type": "code",
   "execution_count": 25,
   "metadata": {},
   "outputs": [
    {
     "name": "stdout",
     "output_type": "stream",
     "text": [
      "would like; medium build; social drinker; quiet nights; non smoker;\n",
      "long term; age open; Would like; easy going; financially secure; fun\n",
      "times; similar interests; Age open; weekends away; poss rship; well\n",
      "presented; never married; single mum; permanent relationship; slim\n",
      "build\n"
     ]
    }
   ],
   "source": [
    "text8.collocations()"
   ]
  },
  {
   "cell_type": "code",
   "execution_count": 26,
   "metadata": {},
   "outputs": [
    {
     "data": {
      "text/plain": [
       "dict_keys([1, 4, 2, 6, 8, 9, 11, 5, 7, 3, 10, 12, 13, 14, 16, 15, 17, 18, 20])"
      ]
     },
     "execution_count": 26,
     "metadata": {},
     "output_type": "execute_result"
    }
   ],
   "source": [
    "# Distribution of Word Lenght\n",
    "[len(w) for w in text1] # lenght of each word in the text1\n",
    "fdist=FreqDist([len(w) for w in text1]) #lenght of words for words of text1\n",
    "fdist.keys() # different lenghts available"
   ]
  },
  {
   "cell_type": "code",
   "execution_count": 27,
   "metadata": {},
   "outputs": [
    {
     "data": {
      "text/plain": [
       "dict_items([(1, 47933), (4, 42345), (2, 38513), (6, 17111), (8, 9966), (9, 6428), (11, 1873), (5, 26597), (7, 14399), (3, 50223), (10, 3528), (12, 1053), (13, 567), (14, 177), (16, 22), (15, 70), (17, 12), (18, 1), (20, 1)])"
      ]
     },
     "execution_count": 27,
     "metadata": {},
     "output_type": "execute_result"
    }
   ],
   "source": [
    "fdist.items()"
   ]
  },
  {
   "cell_type": "code",
   "execution_count": 28,
   "metadata": {},
   "outputs": [
    {
     "name": "stdout",
     "output_type": "stream",
     "text": [
      "    3     1     4     2     5     6     7     8     9    10    11    12    13    14    15    16    17    18    20 \n",
      "50223 47933 42345 38513 26597 17111 14399  9966  6428  3528  1873  1053   567   177    70    22    12     1     1 \n"
     ]
    }
   ],
   "source": [
    "fdist.tabulate()"
   ]
  },
  {
   "cell_type": "code",
   "execution_count": 29,
   "metadata": {},
   "outputs": [
    {
     "data": {
      "image/png": "[encoded data removed]",
      "text/plain": [
       "<matplotlib.figure.Figure at 0x114fb70bcf8>"
      ]
     },
     "metadata": {},
     "output_type": "display_data"
    }
   ],
   "source": [
    "fdist.plot()"
   ]
  },
  {
   "cell_type": "code",
   "execution_count": 30,
   "metadata": {},
   "outputs": [
    {
     "data": {
      "text/plain": [
       "[',', '61', 'old', ',', 'the', 'as', 'a', '29', '.']"
      ]
     },
     "execution_count": 30,
     "metadata": {},
     "output_type": "execute_result"
    }
   ],
   "source": [
    "# Relational operators\n",
    "[w for w in sent7 if len(w) < 4] # words in sent that are larger than 4"
   ]
  },
  {
   "cell_type": "code",
   "execution_count": 31,
   "metadata": {
    "collapsed": true
   },
   "outputs": [],
   "source": [
    "# babelize_shell()\n",
    "# Back and forth translate and translate back"
   ]
  },
  {
   "cell_type": "markdown",
   "metadata": {},
   "source": [
    "## STOP WORDS\n",
    "Pre-Processing: Removing unecessary words from the corpus. Thins the text for future analysis."
   ]
  },
  {
   "cell_type": "code",
   "execution_count": 32,
   "metadata": {
    "scrolled": true
   },
   "outputs": [
    {
     "name": "stdout",
     "output_type": "stream",
     "text": [
      "['This', 'is', 'a', 'sample', 'sentence', ',', 'showing', 'off', 'the', 'stop', 'words', 'filtration', '.']\n",
      "['This', 'sample', 'sentence', ',', 'showing', 'stop', 'words', 'filtration', '.']\n"
     ]
    }
   ],
   "source": [
    "from nltk.corpus import stopwords\n",
    "from nltk.tokenize import word_tokenize\n",
    "\n",
    "example_sent = \"This is a sample sentence, showing off the stop words filtration.\"\n",
    "\n",
    "stop_words = set(stopwords.words('english'))\n",
    "\n",
    "word_tokens = word_tokenize(example_sent)\n",
    "\n",
    "filtered_sentence = [w for w in word_tokens if not w in stop_words]\n",
    "\n",
    "filtered_sentence = []\n",
    "\n",
    "for w in word_tokens:\n",
    "    if w not in stop_words:\n",
    "        filtered_sentence.append(w)\n",
    "\n",
    "print(word_tokens)\n",
    "print(filtered_sentence)"
   ]
  },
  {
   "cell_type": "markdown",
   "metadata": {},
   "source": [
    "## Stemming\n",
    "Pre-Processing: Isolates the word stem in order to simplify the meaning."
   ]
  },
  {
   "cell_type": "code",
   "execution_count": 33,
   "metadata": {
    "collapsed": true
   },
   "outputs": [],
   "source": [
    "from nltk.stem import PorterStemmer\n",
    "from nltk.tokenize import sent_tokenize, word_tokenize\n",
    "\n",
    "ps = PorterStemmer()"
   ]
  },
  {
   "cell_type": "code",
   "execution_count": 34,
   "metadata": {
    "collapsed": true
   },
   "outputs": [],
   "source": [
    "example_words = [\"python\",\"pythoner\",\"pythoning\",\"pythoned\",\"pythonly\"]"
   ]
  },
  {
   "cell_type": "code",
   "execution_count": 35,
   "metadata": {
    "scrolled": true
   },
   "outputs": [
    {
     "name": "stdout",
     "output_type": "stream",
     "text": [
      "python\n",
      "python\n",
      "python\n",
      "python\n",
      "pythonli\n"
     ]
    }
   ],
   "source": [
    "for w in example_words:\n",
    "    print(ps.stem(w))"
   ]
  },
  {
   "cell_type": "markdown",
   "metadata": {},
   "source": [
    "# Tagging\n",
    "## Part of Speech Tagging\n",
    "Categorizes word types, noun... adj..\n",
    "\n",
    "POS tag list:\n",
    "\n",
    "- CC\tcoordinating conjunction\n",
    "- CD\tcardinal digit\n",
    "- DT\tdeterminer\n",
    "- EX\texistential there (like: \"there is\" ... think of it like \"there exists\")\n",
    "- FW\tforeign word\n",
    "- IN\tpreposition/subordinating conjunction\n",
    "- JJ\tadjective\t'big'\n",
    "- JJR\tadjective, comparative\t'bigger'\n",
    "- JJS\tadjective, superlative\t'biggest'\n",
    "- LS\tlist marker\t1)\n",
    "- MD\tmodal\tcould, will\n",
    "- NN\tnoun, singular 'desk'\n",
    "- NNS\tnoun plural\t'desks'\n",
    "- NNP\tproper noun, singular\t'Harrison'\n",
    "- NNPS\tproper noun, plural\t'Americans'\n",
    "- PDT\tpredeterminer\t'all the kids'\n",
    "- POS\tpossessive ending\tparent's\n",
    "- PRP\tpersonal pronoun\tI, he, she\n",
    "- PRPdollar\tpossessive pronoun\tmy, his, hers\n",
    "- RB\tadverb\tvery, silently,\n",
    "- RBR\tadverb, comparative\tbetter\n",
    "- RBS\tadverb, superlative\tbest\n",
    "- RP\tparticle\tgive up\n",
    "- TO\tto\tgo 'to' the store.\n",
    "- UH\tinterjection\terrrrrrrrm\n",
    "- VB\tverb, base form\ttake\n",
    "- VBD\tverb, past tense\ttook\n",
    "- VBG\tverb, gerund/present participle\ttaking\n",
    "- VBN\tverb, past participle\ttaken\n",
    "- VBP\tverb, sing. present, non-3d\ttake\n",
    "- VBZ\tverb, 3rd person sing. present\ttakes\n",
    "- WDT\twh-determiner\twhich\n",
    "- WP\twh-pronoun\twho, what\n",
    "- WP$\tpossessive wh-pronoun\twhose\n",
    "- WRB\twh-abverb\twhere, when"
   ]
  },
  {
   "cell_type": "code",
   "execution_count": 36,
   "metadata": {
    "collapsed": true
   },
   "outputs": [],
   "source": [
    "import nltk\n",
    "from nltk.corpus import state_union\n",
    "from nltk.tokenize import PunktSentenceTokenizer\n",
    "# Unsupervised learning"
   ]
  },
  {
   "cell_type": "code",
   "execution_count": 37,
   "metadata": {
    "collapsed": true
   },
   "outputs": [],
   "source": [
    "train_text = state_union.raw(\"2005-GWBush.txt\")\n",
    "sample_text = state_union.raw(\"2006-GWBush.txt\")"
   ]
  },
  {
   "cell_type": "code",
   "execution_count": 38,
   "metadata": {
    "collapsed": true
   },
   "outputs": [],
   "source": [
    "custom_sent_tokenizer = PunktSentenceTokenizer(train_text)\n",
    "tokenized = custom_sent_tokenizer.tokenize(sample_text)"
   ]
  },
  {
   "cell_type": "code",
   "execution_count": 39,
   "metadata": {
    "scrolled": true
   },
   "outputs": [
    {
     "name": "stdout",
     "output_type": "stream",
     "text": [
      "[('PRESIDENT', 'NNP'), ('GEORGE', 'NNP'), ('W.', 'NNP'), ('BUSH', 'NNP'), (\"'S\", 'POS'), ('ADDRESS', 'NNP'), ('BEFORE', 'IN'), ('A', 'NNP'), ('JOINT', 'NNP'), ('SESSION', 'NNP'), ('OF', 'IN'), ('THE', 'NNP'), ('CONGRESS', 'NNP'), ('ON', 'NNP'), ('THE', 'NNP'), ('STATE', 'NNP'), ('OF', 'IN'), ('THE', 'NNP'), ('UNION', 'NNP'), ('January', 'NNP'), ('31', 'CD'), (',', ','), ('2006', 'CD'), ('THE', 'NNP'), ('PRESIDENT', 'NNP'), (':', ':'), ('Thank', 'NNP'), ('you', 'PRP'), ('all', 'DT'), ('.', '.')]\n",
      "[('Mr.', 'NNP'), ('Speaker', 'NNP'), (',', ','), ('Vice', 'NNP'), ('President', 'NNP'), ('Cheney', 'NNP'), (',', ','), ('members', 'NNS'), ('of', 'IN'), ('Congress', 'NNP'), (',', ','), ('members', 'NNS'), ('of', 'IN'), ('the', 'DT'), ('Supreme', 'NNP'), ('Court', 'NNP'), ('and', 'CC'), ('diplomatic', 'JJ'), ('corps', 'NN'), (',', ','), ('distinguished', 'JJ'), ('guests', 'NNS'), (',', ','), ('and', 'CC'), ('fellow', 'JJ'), ('citizens', 'NNS'), (':', ':'), ('Today', 'VB'), ('our', 'PRP$'), ('nation', 'NN'), ('lost', 'VBD'), ('a', 'DT'), ('beloved', 'VBN'), (',', ','), ('graceful', 'JJ'), (',', ','), ('courageous', 'JJ'), ('woman', 'NN'), ('who', 'WP'), ('called', 'VBD'), ('America', 'NNP'), ('to', 'TO'), ('its', 'PRP$'), ('founding', 'NN'), ('ideals', 'NNS'), ('and', 'CC'), ('carried', 'VBD'), ('on', 'IN'), ('a', 'DT'), ('noble', 'JJ'), ('dream', 'NN'), ('.', '.')]\n"
     ]
    }
   ],
   "source": [
    "def process_content():\n",
    "    try:\n",
    "        for i in tokenized[:2]:\n",
    "            words = nltk.word_tokenize(i)\n",
    "            tagged = nltk.pos_tag(words)\n",
    "            print(tagged)\n",
    "\n",
    "    except Exception as e:\n",
    "        print(str(e))\n",
    "\n",
    "\n",
    "process_content()"
   ]
  },
  {
   "cell_type": "markdown",
   "metadata": {},
   "source": [
    "## N-Grams"
   ]
  },
  {
   "cell_type": "markdown",
   "metadata": {},
   "source": [
    "### Unigram"
   ]
  },
  {
   "cell_type": "code",
   "execution_count": 40,
   "metadata": {},
   "outputs": [
    {
     "data": {
      "text/plain": [
       "[('Various', 'JJ'),\n",
       " ('of', 'IN'),\n",
       " ('the', 'AT'),\n",
       " ('apartments', 'NNS'),\n",
       " ('are', 'BER'),\n",
       " ('of', 'IN'),\n",
       " ('the', 'AT'),\n",
       " ('terrace', 'NN'),\n",
       " ('type', 'NN'),\n",
       " (',', ','),\n",
       " ('being', 'BEG'),\n",
       " ('on', 'IN'),\n",
       " ('the', 'AT'),\n",
       " ('ground', 'NN'),\n",
       " ('floor', 'NN'),\n",
       " ('so', 'QL'),\n",
       " ('that', 'CS'),\n",
       " ('entrance', 'NN'),\n",
       " ('is', 'BEZ'),\n",
       " ('direct', 'JJ'),\n",
       " ('.', '.')]"
      ]
     },
     "execution_count": 40,
     "metadata": {},
     "output_type": "execute_result"
    }
   ],
   "source": [
    "from nltk.corpus import brown\n",
    "brown_tagged_sents = brown.tagged_sents(categories='news')\n",
    "brown_sents = brown.sents(categories='news')\n",
    "unigram_tagger = nltk.UnigramTagger(brown_tagged_sents) # Train model\n",
    "unigram_tagger.tag(brown_sents[2007]) "
   ]
  },
  {
   "cell_type": "code",
   "execution_count": 41,
   "metadata": {},
   "outputs": [
    {
     "data": {
      "text/plain": [
       "0.9349006503968017"
      ]
     },
     "execution_count": 41,
     "metadata": {},
     "output_type": "execute_result"
    }
   ],
   "source": [
    "unigram_tagger.evaluate(brown_tagged_sents) # Apply"
   ]
  },
  {
   "cell_type": "markdown",
   "metadata": {},
   "source": [
    "Number of grams may be increased "
   ]
  },
  {
   "cell_type": "code",
   "execution_count": null,
   "metadata": {
    "collapsed": true
   },
   "outputs": [],
   "source": []
  },
  {
   "cell_type": "code",
   "execution_count": null,
   "metadata": {
    "collapsed": true
   },
   "outputs": [],
   "source": []
  },
  {
   "cell_type": "code",
   "execution_count": null,
   "metadata": {
    "collapsed": true
   },
   "outputs": [],
   "source": []
  },
  {
   "cell_type": "markdown",
   "metadata": {},
   "source": [
    "## Chunking\n",
    "Acquire certain predetermined format of word types\n",
    "Heavy use of REGEX"
   ]
  },
  {
   "cell_type": "code",
   "execution_count": 42,
   "metadata": {
    "collapsed": true
   },
   "outputs": [],
   "source": [
    "import nltk\n",
    "from nltk.corpus import state_union\n",
    "from nltk.tokenize import PunktSentenceTokenizer\n",
    "\n",
    "train_text = state_union.raw(\"2005-GWBush.txt\")\n",
    "sample_text = state_union.raw(\"2006-GWBush.txt\")\n",
    "\n",
    "custom_sent_tokenizer = PunktSentenceTokenizer(train_text)\n",
    "\n",
    "tokenized = custom_sent_tokenizer.tokenize(sample_text)"
   ]
  },
  {
   "cell_type": "code",
   "execution_count": 43,
   "metadata": {},
   "outputs": [
    {
     "data": {
      "text/plain": [
       "\"PRESIDENT GEORGE W. BUSH'S ADDRESS BEFORE A JOINT SESSION OF THE CONGRESS ON THE STATE OF THE UNION\\n\""
      ]
     },
     "execution_count": 43,
     "metadata": {},
     "output_type": "execute_result"
    }
   ],
   "source": [
    "sample_text[:100]"
   ]
  },
  {
   "cell_type": "code",
   "execution_count": null,
   "metadata": {
    "collapsed": true
   },
   "outputs": [],
   "source": [
    "def process_content():\n",
    "    try:\n",
    "        for i in tokenized[:2]:\n",
    "            words = nltk.word_tokenize(i)\n",
    "            tagged = nltk.pos_tag(words)\n",
    "            chunkGram = r\"\"\"Chunk: {<RB.?>*<VB.?>*<NNP>+<NN>?}\"\"\"\n",
    "            chunkParser = nltk.RegexpParser(chunkGram)\n",
    "            chunked = chunkParser.parse(tagged)\n",
    "            chunked.draw()     \n",
    "\n",
    "    except Exception as e:\n",
    "        print(str(e))\n",
    "        \n",
    "process_content()"
   ]
  },
  {
   "cell_type": "code",
   "execution_count": 42,
   "metadata": {},
   "outputs": [
    {
     "name": "stdout",
     "output_type": "stream",
     "text": [
      "(S\n",
      "  (Chunk PRESIDENT/NNP GEORGE/NNP W./NNP BUSH/NNP)\n",
      "  'S/POS\n",
      "  (Chunk ADDRESS/NNP)\n",
      "  BEFORE/IN\n",
      "  (Chunk A/NNP JOINT/NNP SESSION/NNP)\n",
      "  OF/IN\n",
      "  (Chunk THE/NNP CONGRESS/NNP ON/NNP THE/NNP STATE/NNP)\n",
      "  OF/IN\n",
      "  (Chunk THE/NNP UNION/NNP January/NNP)\n",
      "  31/CD\n",
      "  ,/,\n",
      "  2006/CD\n",
      "  (Chunk THE/NNP PRESIDENT/NNP)\n",
      "  :/:\n",
      "  (Chunk Thank/NNP)\n",
      "  you/PRP\n",
      "  all/DT\n",
      "  ./.)\n",
      "(Chunk PRESIDENT/NNP GEORGE/NNP W./NNP BUSH/NNP)\n",
      "(Chunk ADDRESS/NNP)\n",
      "(Chunk A/NNP JOINT/NNP SESSION/NNP)\n",
      "(Chunk THE/NNP CONGRESS/NNP ON/NNP THE/NNP STATE/NNP)\n",
      "(Chunk THE/NNP UNION/NNP January/NNP)\n",
      "(Chunk THE/NNP PRESIDENT/NNP)\n",
      "(Chunk Thank/NNP)\n",
      "(S\n",
      "  (Chunk Mr./NNP Speaker/NNP)\n",
      "  ,/,\n",
      "  (Chunk Vice/NNP President/NNP Cheney/NNP)\n",
      "  ,/,\n",
      "  members/NNS\n",
      "  of/IN\n",
      "  (Chunk Congress/NNP)\n",
      "  ,/,\n",
      "  members/NNS\n",
      "  of/IN\n",
      "  the/DT\n",
      "  (Chunk Supreme/NNP Court/NNP)\n",
      "  and/CC\n",
      "  diplomatic/JJ\n",
      "  corps/NN\n",
      "  ,/,\n",
      "  distinguished/JJ\n",
      "  guests/NNS\n",
      "  ,/,\n",
      "  and/CC\n",
      "  fellow/JJ\n",
      "  citizens/NNS\n",
      "  :/:\n",
      "  Today/VB\n",
      "  our/PRP$\n",
      "  nation/NN\n",
      "  lost/VBD\n",
      "  a/DT\n",
      "  beloved/VBN\n",
      "  ,/,\n",
      "  graceful/JJ\n",
      "  ,/,\n",
      "  courageous/JJ\n",
      "  woman/NN\n",
      "  who/WP\n",
      "  (Chunk called/VBD America/NNP)\n",
      "  to/TO\n",
      "  its/PRP$\n",
      "  founding/NN\n",
      "  ideals/NNS\n",
      "  and/CC\n",
      "  carried/VBD\n",
      "  on/IN\n",
      "  a/DT\n",
      "  noble/JJ\n",
      "  dream/NN\n",
      "  ./.)\n",
      "(Chunk Mr./NNP Speaker/NNP)\n",
      "(Chunk Vice/NNP President/NNP Cheney/NNP)\n",
      "(Chunk Congress/NNP)\n",
      "(Chunk Supreme/NNP Court/NNP)\n",
      "(Chunk called/VBD America/NNP)\n"
     ]
    }
   ],
   "source": [
    "import nltk\n",
    "from nltk.corpus import state_union\n",
    "from nltk.tokenize import PunktSentenceTokenizer\n",
    "\n",
    "train_text = state_union.raw(\"2005-GWBush.txt\")\n",
    "sample_text = state_union.raw(\"2006-GWBush.txt\")\n",
    "\n",
    "custom_sent_tokenizer = PunktSentenceTokenizer(train_text)\n",
    "\n",
    "tokenized = custom_sent_tokenizer.tokenize(sample_text)\n",
    "\n",
    "def process_content():\n",
    "    try:\n",
    "        for i in tokenized[:2]:\n",
    "            words = nltk.word_tokenize(i)\n",
    "            tagged = nltk.pos_tag(words)\n",
    "            chunkGram = r\"\"\"Chunk: {<RB.?>*<VB.?>*<NNP>+<NN>?}\"\"\"\n",
    "            chunkParser = nltk.RegexpParser(chunkGram)\n",
    "            chunked = chunkParser.parse(tagged)\n",
    "            \n",
    "            print(chunked)\n",
    "            for subtree in chunked.subtrees(filter=lambda t: t.label() == 'Chunk'):\n",
    "                print(subtree)\n",
    "\n",
    "            chunked.draw()\n",
    "\n",
    "    except Exception as e:\n",
    "        print(str(e))\n",
    "\n",
    "process_content()"
   ]
  },
  {
   "cell_type": "markdown",
   "metadata": {},
   "source": [
    "## Named Entity Recognition\n",
    "Search for Context of words\n",
    "\n",
    "- NE Type and Examples\n",
    "- ORGANIZATION - Georgia-Pacific Corp., WHO\n",
    "- PERSON - Eddy Bonte, President Obama\n",
    "- LOCATION - Murray River, Mount Everest\n",
    "- DATE - June, 2008-06-29\n",
    "- TIME - two fifty a m, 1:30 p.m.\n",
    "- MONEY - 175 million Canadian Dollars, GBP 10.40\n",
    "- PERCENT - twenty pct, 18.75 %\n",
    "- FACILITY - Washington Monument, Stonehenge\n",
    "- GPE - South East Asia, Midlothian"
   ]
  },
  {
   "cell_type": "code",
   "execution_count": 44,
   "metadata": {},
   "outputs": [
    {
     "ename": "KeyboardInterrupt",
     "evalue": "",
     "output_type": "error",
     "traceback": [
      "\u001b[1;31m---------------------------------------------------------------------------\u001b[0m",
      "\u001b[1;31mKeyboardInterrupt\u001b[0m                         Traceback (most recent call last)",
      "\u001b[1;32m<ipython-input-44-c9ad3170b2ae>\u001b[0m in \u001b[0;36m<module>\u001b[1;34m()\u001b[0m\n\u001b[0;32m     21\u001b[0m \u001b[1;33m\u001b[0m\u001b[0m\n\u001b[0;32m     22\u001b[0m \u001b[1;33m\u001b[0m\u001b[0m\n\u001b[1;32m---> 23\u001b[1;33m \u001b[0mprocess_content\u001b[0m\u001b[1;33m(\u001b[0m\u001b[1;33m)\u001b[0m\u001b[1;33m\u001b[0m\u001b[0m\n\u001b[0m",
      "\u001b[1;32m<ipython-input-44-c9ad3170b2ae>\u001b[0m in \u001b[0;36mprocess_content\u001b[1;34m()\u001b[0m\n\u001b[0;32m     16\u001b[0m             \u001b[0mtagged\u001b[0m \u001b[1;33m=\u001b[0m \u001b[0mnltk\u001b[0m\u001b[1;33m.\u001b[0m\u001b[0mpos_tag\u001b[0m\u001b[1;33m(\u001b[0m\u001b[0mwords\u001b[0m\u001b[1;33m)\u001b[0m\u001b[1;33m\u001b[0m\u001b[0m\n\u001b[0;32m     17\u001b[0m             \u001b[0mnamedEnt\u001b[0m \u001b[1;33m=\u001b[0m \u001b[0mnltk\u001b[0m\u001b[1;33m.\u001b[0m\u001b[0mne_chunk\u001b[0m\u001b[1;33m(\u001b[0m\u001b[0mtagged\u001b[0m\u001b[1;33m,\u001b[0m \u001b[0mbinary\u001b[0m\u001b[1;33m=\u001b[0m\u001b[0mTrue\u001b[0m\u001b[1;33m)\u001b[0m\u001b[1;33m\u001b[0m\u001b[0m\n\u001b[1;32m---> 18\u001b[1;33m             \u001b[0mnamedEnt\u001b[0m\u001b[1;33m.\u001b[0m\u001b[0mdraw\u001b[0m\u001b[1;33m(\u001b[0m\u001b[1;33m)\u001b[0m\u001b[1;33m\u001b[0m\u001b[0m\n\u001b[0m\u001b[0;32m     19\u001b[0m     \u001b[1;32mexcept\u001b[0m \u001b[0mException\u001b[0m \u001b[1;32mas\u001b[0m \u001b[0me\u001b[0m\u001b[1;33m:\u001b[0m\u001b[1;33m\u001b[0m\u001b[0m\n\u001b[0;32m     20\u001b[0m         \u001b[1;32mprint\u001b[0m\u001b[1;33m(\u001b[0m\u001b[0mstr\u001b[0m\u001b[1;33m(\u001b[0m\u001b[0me\u001b[0m\u001b[1;33m)\u001b[0m\u001b[1;33m)\u001b[0m\u001b[1;33m\u001b[0m\u001b[0m\n",
      "\u001b[1;32mD:\\WindowsApps\\Anaconda\\lib\\site-packages\\nltk\\tree.pyc\u001b[0m in \u001b[0;36mdraw\u001b[1;34m(self)\u001b[0m\n\u001b[0;32m    688\u001b[0m         \"\"\"\n\u001b[0;32m    689\u001b[0m         \u001b[1;32mfrom\u001b[0m \u001b[0mnltk\u001b[0m\u001b[1;33m.\u001b[0m\u001b[0mdraw\u001b[0m\u001b[1;33m.\u001b[0m\u001b[0mtree\u001b[0m \u001b[1;32mimport\u001b[0m \u001b[0mdraw_trees\u001b[0m\u001b[1;33m\u001b[0m\u001b[0m\n\u001b[1;32m--> 690\u001b[1;33m         \u001b[0mdraw_trees\u001b[0m\u001b[1;33m(\u001b[0m\u001b[0mself\u001b[0m\u001b[1;33m)\u001b[0m\u001b[1;33m\u001b[0m\u001b[0m\n\u001b[0m\u001b[0;32m    691\u001b[0m \u001b[1;33m\u001b[0m\u001b[0m\n\u001b[0;32m    692\u001b[0m     \u001b[1;32mdef\u001b[0m \u001b[0mpretty_print\u001b[0m\u001b[1;33m(\u001b[0m\u001b[0mself\u001b[0m\u001b[1;33m,\u001b[0m \u001b[0msentence\u001b[0m\u001b[1;33m=\u001b[0m\u001b[0mNone\u001b[0m\u001b[1;33m,\u001b[0m \u001b[0mhighlight\u001b[0m\u001b[1;33m=\u001b[0m\u001b[1;33m(\u001b[0m\u001b[1;33m)\u001b[0m\u001b[1;33m,\u001b[0m \u001b[0mstream\u001b[0m\u001b[1;33m=\u001b[0m\u001b[0mNone\u001b[0m\u001b[1;33m,\u001b[0m \u001b[1;33m**\u001b[0m\u001b[0mkwargs\u001b[0m\u001b[1;33m)\u001b[0m\u001b[1;33m:\u001b[0m\u001b[1;33m\u001b[0m\u001b[0m\n",
      "\u001b[1;32mD:\\WindowsApps\\Anaconda\\lib\\site-packages\\nltk\\draw\\tree.pyc\u001b[0m in \u001b[0;36mdraw_trees\u001b[1;34m(*trees)\u001b[0m\n\u001b[0;32m    861\u001b[0m     \u001b[1;33m:\u001b[0m\u001b[0mrtype\u001b[0m\u001b[1;33m:\u001b[0m \u001b[0mNone\u001b[0m\u001b[1;33m\u001b[0m\u001b[0m\n\u001b[0;32m    862\u001b[0m     \"\"\"\n\u001b[1;32m--> 863\u001b[1;33m     \u001b[0mTreeView\u001b[0m\u001b[1;33m(\u001b[0m\u001b[1;33m*\u001b[0m\u001b[0mtrees\u001b[0m\u001b[1;33m)\u001b[0m\u001b[1;33m.\u001b[0m\u001b[0mmainloop\u001b[0m\u001b[1;33m(\u001b[0m\u001b[1;33m)\u001b[0m\u001b[1;33m\u001b[0m\u001b[0m\n\u001b[0m\u001b[0;32m    864\u001b[0m     \u001b[1;32mreturn\u001b[0m\u001b[1;33m\u001b[0m\u001b[0m\n\u001b[0;32m    865\u001b[0m \u001b[1;33m\u001b[0m\u001b[0m\n",
      "\u001b[1;32mD:\\WindowsApps\\Anaconda\\lib\\site-packages\\nltk\\draw\\tree.pyc\u001b[0m in \u001b[0;36mmainloop\u001b[1;34m(self, *args, **kwargs)\u001b[0m\n\u001b[0;32m    852\u001b[0m         \"\"\"\n\u001b[0;32m    853\u001b[0m         \u001b[1;32mif\u001b[0m \u001b[0min_idle\u001b[0m\u001b[1;33m(\u001b[0m\u001b[1;33m)\u001b[0m\u001b[1;33m:\u001b[0m \u001b[1;32mreturn\u001b[0m\u001b[1;33m\u001b[0m\u001b[0m\n\u001b[1;32m--> 854\u001b[1;33m         \u001b[0mself\u001b[0m\u001b[1;33m.\u001b[0m\u001b[0m_top\u001b[0m\u001b[1;33m.\u001b[0m\u001b[0mmainloop\u001b[0m\u001b[1;33m(\u001b[0m\u001b[1;33m*\u001b[0m\u001b[0margs\u001b[0m\u001b[1;33m,\u001b[0m \u001b[1;33m**\u001b[0m\u001b[0mkwargs\u001b[0m\u001b[1;33m)\u001b[0m\u001b[1;33m\u001b[0m\u001b[0m\n\u001b[0m\u001b[0;32m    855\u001b[0m \u001b[1;33m\u001b[0m\u001b[0m\n\u001b[0;32m    856\u001b[0m \u001b[1;32mdef\u001b[0m \u001b[0mdraw_trees\u001b[0m\u001b[1;33m(\u001b[0m\u001b[1;33m*\u001b[0m\u001b[0mtrees\u001b[0m\u001b[1;33m)\u001b[0m\u001b[1;33m:\u001b[0m\u001b[1;33m\u001b[0m\u001b[0m\n",
      "\u001b[1;32mD:\\WindowsApps\\Anaconda\\lib\\lib-tk\\Tkinter.pyc\u001b[0m in \u001b[0;36mmainloop\u001b[1;34m(self, n)\u001b[0m\n\u001b[0;32m   1128\u001b[0m     \u001b[1;32mdef\u001b[0m \u001b[0mmainloop\u001b[0m\u001b[1;33m(\u001b[0m\u001b[0mself\u001b[0m\u001b[1;33m,\u001b[0m \u001b[0mn\u001b[0m\u001b[1;33m=\u001b[0m\u001b[1;36m0\u001b[0m\u001b[1;33m)\u001b[0m\u001b[1;33m:\u001b[0m\u001b[1;33m\u001b[0m\u001b[0m\n\u001b[0;32m   1129\u001b[0m         \u001b[1;34m\"\"\"Call the mainloop of Tk.\"\"\"\u001b[0m\u001b[1;33m\u001b[0m\u001b[0m\n\u001b[1;32m-> 1130\u001b[1;33m         \u001b[0mself\u001b[0m\u001b[1;33m.\u001b[0m\u001b[0mtk\u001b[0m\u001b[1;33m.\u001b[0m\u001b[0mmainloop\u001b[0m\u001b[1;33m(\u001b[0m\u001b[0mn\u001b[0m\u001b[1;33m)\u001b[0m\u001b[1;33m\u001b[0m\u001b[0m\n\u001b[0m\u001b[0;32m   1131\u001b[0m     \u001b[1;32mdef\u001b[0m \u001b[0mquit\u001b[0m\u001b[1;33m(\u001b[0m\u001b[0mself\u001b[0m\u001b[1;33m)\u001b[0m\u001b[1;33m:\u001b[0m\u001b[1;33m\u001b[0m\u001b[0m\n\u001b[0;32m   1132\u001b[0m         \u001b[1;34m\"\"\"Quit the Tcl interpreter. All widgets will be destroyed.\"\"\"\u001b[0m\u001b[1;33m\u001b[0m\u001b[0m\n",
      "\u001b[1;31mKeyboardInterrupt\u001b[0m: "
     ]
    }
   ],
   "source": [
    "import nltk\n",
    "from nltk.corpus import state_union\n",
    "from nltk.tokenize import PunktSentenceTokenizer\n",
    "\n",
    "train_text = state_union.raw(\"2005-GWBush.txt\")\n",
    "sample_text = state_union.raw(\"2006-GWBush.txt\")\n",
    "\n",
    "custom_sent_tokenizer = PunktSentenceTokenizer(train_text)\n",
    "\n",
    "tokenized = custom_sent_tokenizer.tokenize(sample_text)\n",
    "\n",
    "def process_content():\n",
    "    try:\n",
    "        for i in tokenized[2:]:\n",
    "            words = nltk.word_tokenize(i)\n",
    "            tagged = nltk.pos_tag(words)\n",
    "            namedEnt = nltk.ne_chunk(tagged, binary=True)\n",
    "            namedEnt.draw()\n",
    "    except Exception as e:\n",
    "        print(str(e))\n",
    "\n",
    "\n",
    "# process_content()"
   ]
  },
  {
   "cell_type": "markdown",
   "metadata": {},
   "source": [
    "## Lemmatizing\n",
    "Similar to Stemming, but the end result is a WORD, a synnonym to the original word. Somekind of generalization."
   ]
  },
  {
   "cell_type": "code",
   "execution_count": 40,
   "metadata": {},
   "outputs": [
    {
     "name": "stdout",
     "output_type": "stream",
     "text": [
      "cat\n",
      "cactus\n",
      "goose\n",
      "rock\n",
      "python\n",
      "good\n",
      "best\n",
      "run\n",
      "run\n"
     ]
    }
   ],
   "source": [
    "from nltk.stem import WordNetLemmatizer\n",
    "\n",
    "lemmatizer = WordNetLemmatizer()\n",
    "\n",
    "print(lemmatizer.lemmatize(\"cats\"))\n",
    "print(lemmatizer.lemmatize(\"cacti\"))\n",
    "print(lemmatizer.lemmatize(\"geese\"))\n",
    "print(lemmatizer.lemmatize(\"rocks\"))\n",
    "print(lemmatizer.lemmatize(\"python\"))\n",
    "print(lemmatizer.lemmatize(\"better\", pos=\"a\"))\n",
    "print(lemmatizer.lemmatize(\"best\", pos=\"a\"))\n",
    "print(lemmatizer.lemmatize(\"run\"))\n",
    "print(lemmatizer.lemmatize(\"run\",'v'))"
   ]
  },
  {
   "cell_type": "markdown",
   "metadata": {},
   "source": [
    "# Corpus"
   ]
  },
  {
   "cell_type": "code",
   "execution_count": 41,
   "metadata": {},
   "outputs": [
    {
     "name": "stdout",
     "output_type": "stream",
     "text": [
      "D:\\WindowsApps\\Anaconda\\lib\\site-packages\\nltk\\__init__.pyc\n"
     ]
    }
   ],
   "source": [
    "import nltk\n",
    "print(nltk.__file__)"
   ]
  },
  {
   "cell_type": "markdown",
   "metadata": {
    "collapsed": true
   },
   "source": [
    "## Word Net\n",
    "Find synonyms, antonyms.."
   ]
  },
  {
   "cell_type": "code",
   "execution_count": 42,
   "metadata": {
    "collapsed": true
   },
   "outputs": [],
   "source": [
    "from nltk.corpus import wordnet"
   ]
  },
  {
   "cell_type": "code",
   "execution_count": 48,
   "metadata": {},
   "outputs": [
    {
     "name": "stdout",
     "output_type": "stream",
     "text": [
      "plan.n.01\n"
     ]
    }
   ],
   "source": [
    "syns = wordnet.synsets(\"program\")\n",
    "print(syns[0].name())"
   ]
  },
  {
   "cell_type": "code",
   "execution_count": 49,
   "metadata": {},
   "outputs": [
    {
     "name": "stdout",
     "output_type": "stream",
     "text": [
      "[Synset('plan.n.01'), Synset('program.n.02'), Synset('broadcast.n.02'), Synset('platform.n.02'), Synset('program.n.05'), Synset('course_of_study.n.01'), Synset('program.n.07'), Synset('program.n.08'), Synset('program.v.01'), Synset('program.v.02')]\n"
     ]
    }
   ],
   "source": [
    "print(syns)"
   ]
  },
  {
   "cell_type": "code",
   "execution_count": 52,
   "metadata": {},
   "outputs": [
    {
     "name": "stdout",
     "output_type": "stream",
     "text": [
      "plan\n"
     ]
    },
    {
     "ename": "AttributeError",
     "evalue": "'list' object has no attribute 'name'",
     "output_type": "error",
     "traceback": [
      "\u001b[1;31m---------------------------------------------------------------------------\u001b[0m",
      "\u001b[1;31mAttributeError\u001b[0m                            Traceback (most recent call last)",
      "\u001b[1;32m<ipython-input-52-c661e4f00365>\u001b[0m in \u001b[0;36m<module>\u001b[1;34m()\u001b[0m\n\u001b[0;32m      1\u001b[0m \u001b[1;32mprint\u001b[0m\u001b[1;33m(\u001b[0m\u001b[0msyns\u001b[0m\u001b[1;33m[\u001b[0m\u001b[1;36m0\u001b[0m\u001b[1;33m]\u001b[0m\u001b[1;33m.\u001b[0m\u001b[0mlemmas\u001b[0m\u001b[1;33m(\u001b[0m\u001b[1;33m)\u001b[0m\u001b[1;33m[\u001b[0m\u001b[1;36m0\u001b[0m\u001b[1;33m]\u001b[0m\u001b[1;33m.\u001b[0m\u001b[0mname\u001b[0m\u001b[1;33m(\u001b[0m\u001b[1;33m)\u001b[0m\u001b[1;33m)\u001b[0m\u001b[1;33m\u001b[0m\u001b[0m\n\u001b[1;32m----> 2\u001b[1;33m \u001b[1;32mprint\u001b[0m\u001b[1;33m(\u001b[0m\u001b[0msyns\u001b[0m\u001b[1;33m[\u001b[0m\u001b[1;36m0\u001b[0m\u001b[1;33m]\u001b[0m\u001b[1;33m.\u001b[0m\u001b[0mlemmas\u001b[0m\u001b[1;33m(\u001b[0m\u001b[1;33m)\u001b[0m\u001b[1;33m.\u001b[0m\u001b[0mname\u001b[0m\u001b[1;33m(\u001b[0m\u001b[1;33m)\u001b[0m\u001b[1;33m)\u001b[0m\u001b[1;33m\u001b[0m\u001b[0m\n\u001b[0m",
      "\u001b[1;31mAttributeError\u001b[0m: 'list' object has no attribute 'name'"
     ]
    }
   ],
   "source": [
    "print(syns[0].lemmas()[0].name())\n",
    "print(syns[0].lemmas().name())"
   ]
  },
  {
   "cell_type": "code",
   "execution_count": 51,
   "metadata": {},
   "outputs": [
    {
     "name": "stdout",
     "output_type": "stream",
     "text": [
      "a series of steps to be carried out or goals to be accomplished\n"
     ]
    }
   ],
   "source": [
    "print(syns[0].definition())"
   ]
  },
  {
   "cell_type": "code",
   "execution_count": 46,
   "metadata": {},
   "outputs": [
    {
     "name": "stdout",
     "output_type": "stream",
     "text": [
      "[u'they drew up a six-step plan', u'they discussed plans for a new bond issue']\n"
     ]
    }
   ],
   "source": [
    "print(syns[0].examples())"
   ]
  },
  {
   "cell_type": "code",
   "execution_count": 53,
   "metadata": {},
   "outputs": [
    {
     "name": "stdout",
     "output_type": "stream",
     "text": [
      "('l:', Lemma('good.n.01.good'))\n",
      "('l:', Lemma('good.n.02.good'))\n",
      "('l:', Lemma('good.n.02.goodness'))\n",
      "('l:', Lemma('good.n.03.good'))\n",
      "('l:', Lemma('good.n.03.goodness'))\n",
      "('l:', Lemma('commodity.n.01.commodity'))\n",
      "('l:', Lemma('commodity.n.01.trade_good'))\n",
      "('l:', Lemma('commodity.n.01.good'))\n",
      "('l:', Lemma('good.a.01.good'))\n",
      "('l:', Lemma('full.s.06.full'))\n",
      "('l:', Lemma('full.s.06.good'))\n",
      "('l:', Lemma('good.a.03.good'))\n",
      "('l:', Lemma('estimable.s.02.estimable'))\n",
      "('l:', Lemma('estimable.s.02.good'))\n",
      "('l:', Lemma('estimable.s.02.honorable'))\n",
      "('l:', Lemma('estimable.s.02.respectable'))\n",
      "('l:', Lemma('beneficial.s.01.beneficial'))\n",
      "('l:', Lemma('beneficial.s.01.good'))\n",
      "('l:', Lemma('good.s.06.good'))\n",
      "('l:', Lemma('good.s.07.good'))\n",
      "('l:', Lemma('good.s.07.just'))\n",
      "('l:', Lemma('good.s.07.upright'))\n",
      "('l:', Lemma('adept.s.01.adept'))\n",
      "('l:', Lemma('adept.s.01.expert'))\n",
      "('l:', Lemma('adept.s.01.good'))\n",
      "('l:', Lemma('adept.s.01.practiced'))\n",
      "('l:', Lemma('adept.s.01.proficient'))\n",
      "('l:', Lemma('adept.s.01.skillful'))\n",
      "('l:', Lemma('adept.s.01.skilful'))\n",
      "('l:', Lemma('good.s.09.good'))\n",
      "('l:', Lemma('dear.s.02.dear'))\n",
      "('l:', Lemma('dear.s.02.good'))\n",
      "('l:', Lemma('dear.s.02.near'))\n",
      "('l:', Lemma('dependable.s.04.dependable'))\n",
      "('l:', Lemma('dependable.s.04.good'))\n",
      "('l:', Lemma('dependable.s.04.safe'))\n",
      "('l:', Lemma('dependable.s.04.secure'))\n",
      "('l:', Lemma('good.s.12.good'))\n",
      "('l:', Lemma('good.s.12.right'))\n",
      "('l:', Lemma('good.s.12.ripe'))\n",
      "('l:', Lemma('good.s.13.good'))\n",
      "('l:', Lemma('good.s.13.well'))\n",
      "('l:', Lemma('effective.s.04.effective'))\n",
      "('l:', Lemma('effective.s.04.good'))\n",
      "('l:', Lemma('effective.s.04.in_effect'))\n",
      "('l:', Lemma('effective.s.04.in_force'))\n",
      "('l:', Lemma('good.s.15.good'))\n",
      "('l:', Lemma('good.s.16.good'))\n",
      "('l:', Lemma('good.s.16.serious'))\n",
      "('l:', Lemma('good.s.17.good'))\n",
      "('l:', Lemma('good.s.17.sound'))\n",
      "('l:', Lemma('good.s.18.good'))\n",
      "('l:', Lemma('good.s.18.salutary'))\n",
      "('l:', Lemma('good.s.19.good'))\n",
      "('l:', Lemma('good.s.19.honest'))\n",
      "('l:', Lemma('good.s.20.good'))\n",
      "('l:', Lemma('good.s.20.undecomposed'))\n",
      "('l:', Lemma('good.s.20.unspoiled'))\n",
      "('l:', Lemma('good.s.20.unspoilt'))\n",
      "('l:', Lemma('good.s.21.good'))\n",
      "('l:', Lemma('well.r.01.well'))\n",
      "('l:', Lemma('well.r.01.good'))\n",
      "('l:', Lemma('thoroughly.r.02.thoroughly'))\n",
      "('l:', Lemma('thoroughly.r.02.soundly'))\n",
      "('l:', Lemma('thoroughly.r.02.good'))\n",
      "set([u'beneficial', u'right', u'secure', u'just', u'unspoilt', u'respectable', u'good', u'goodness', u'dear', u'salutary', u'ripe', u'expert', u'skillful', u'in_force', u'proficient', u'unspoiled', u'dependable', u'soundly', u'honorable', u'full', u'undecomposed', u'safe', u'adept', u'upright', u'trade_good', u'sound', u'in_effect', u'practiced', u'effective', u'commodity', u'estimable', u'well', u'honest', u'near', u'skilful', u'thoroughly', u'serious'])\n",
      "set([u'bad', u'badness', u'ill', u'evil', u'evilness'])\n"
     ]
    }
   ],
   "source": [
    "synonyms = []\n",
    "antonyms = []\n",
    "\n",
    "for syn in wordnet.synsets(\"good\"):\n",
    "    for l in syn.lemmas():\n",
    "        print(\"l:\", l) # Possible Lemmas\n",
    "        synonyms.append(l.name())\n",
    "        if l.antonyms():\n",
    "            antonyms.append(l.antonyms()[0].name())"
   ]
  },
  {
   "cell_type": "code",
   "execution_count": 101,
   "metadata": {},
   "outputs": [
    {
     "name": "stdout",
     "output_type": "stream",
     "text": [
      "set([u'beneficial', u'right', u'secure', u'just', u'unspoilt', u'respectable', u'good', u'goodness', u'dear', u'salutary', u'ripe', u'expert', u'skillful', u'in_force', u'proficient', u'unspoiled', u'dependable', u'soundly', u'honorable', u'full', u'undecomposed', u'safe', u'adept', u'upright', u'trade_good', u'sound', u'in_effect', u'practiced', u'effective', u'commodity', u'estimable', u'well', u'honest', u'near', u'skilful', u'thoroughly', u'serious'])\n",
      "set([u'bad', u'badness', u'ill', u'evil', u'evilness'])\n"
     ]
    }
   ],
   "source": [
    "print(set(synonyms))\n",
    "print(set(antonyms))"
   ]
  },
  {
   "cell_type": "code",
   "execution_count": 103,
   "metadata": {},
   "outputs": [
    {
     "name": "stdout",
     "output_type": "stream",
     "text": [
      "<bound method Synset.lemma_names of Synset('car.n.01')>\n",
      "<bound method Synset.lemma_names of Synset('car.n.02')>\n",
      "<bound method Synset.lemma_names of Synset('car.n.03')>\n",
      "<bound method Synset.lemma_names of Synset('car.n.04')>\n",
      "<bound method Synset.lemma_names of Synset('cable_car.n.01')>\n"
     ]
    }
   ],
   "source": [
    "for synset in wordnet.synsets('car'):\n",
    "    print synset.lemma_names"
   ]
  },
  {
   "cell_type": "code",
   "execution_count": null,
   "metadata": {
    "collapsed": true
   },
   "outputs": [],
   "source": []
  },
  {
   "cell_type": "code",
   "execution_count": null,
   "metadata": {
    "collapsed": true
   },
   "outputs": [],
   "source": []
  },
  {
   "cell_type": "markdown",
   "metadata": {},
   "source": [
    "## Semantic Similarity"
   ]
  },
  {
   "cell_type": "code",
   "execution_count": 55,
   "metadata": {
    "collapsed": true
   },
   "outputs": [],
   "source": [
    "w1 = wordnet.synset(\"ship.n.01\")\n",
    "w2 = wordnet.synset(\"boat.n.01\")"
   ]
  },
  {
   "cell_type": "code",
   "execution_count": 57,
   "metadata": {},
   "outputs": [
    {
     "name": "stdout",
     "output_type": "stream",
     "text": [
      "0.909090909091\n"
     ]
    }
   ],
   "source": [
    "print(w1.wup_similarity(w2))\n",
    "# Decimal Answer"
   ]
  },
  {
   "cell_type": "code",
   "execution_count": 58,
   "metadata": {},
   "outputs": [
    {
     "name": "stdout",
     "output_type": "stream",
     "text": [
      "0.695652173913\n"
     ]
    }
   ],
   "source": [
    "w1 = wordnet.synset('ship.n.01')\n",
    "w2 = wordnet.synset('car.n.01')\n",
    "print(w1.wup_similarity(w2))"
   ]
  },
  {
   "cell_type": "code",
   "execution_count": 59,
   "metadata": {},
   "outputs": [
    {
     "name": "stdout",
     "output_type": "stream",
     "text": [
      "0.32\n"
     ]
    }
   ],
   "source": [
    "w1 = wordnet.synset('ship.n.01')\n",
    "w2 = wordnet.synset('cat.n.01')\n",
    "print(w1.wup_similarity(w2))"
   ]
  },
  {
   "cell_type": "code",
   "execution_count": 111,
   "metadata": {},
   "outputs": [
    {
     "name": "stdout",
     "output_type": "stream",
     "text": [
      "0.785714285714\n"
     ]
    }
   ],
   "source": [
    "w1 = wordnet.synset('cat.n.01')\n",
    "w2 = wordnet.synset('human.n.01')\n",
    "print(w1.wup_similarity(w2))"
   ]
  },
  {
   "cell_type": "markdown",
   "metadata": {},
   "source": [
    "## Hyponyms"
   ]
  },
  {
   "cell_type": "code",
   "execution_count": 104,
   "metadata": {},
   "outputs": [
    {
     "data": {
      "text/plain": [
       "[Synset('ambulance.n.01'),\n",
       " Synset('beach_wagon.n.01'),\n",
       " Synset('bus.n.04'),\n",
       " Synset('cab.n.03'),\n",
       " Synset('compact.n.03'),\n",
       " Synset('convertible.n.01'),\n",
       " Synset('coupe.n.01'),\n",
       " Synset('cruiser.n.01'),\n",
       " Synset('electric.n.01'),\n",
       " Synset('gas_guzzler.n.01')]"
      ]
     },
     "execution_count": 104,
     "metadata": {},
     "output_type": "execute_result"
    }
   ],
   "source": [
    "motorcar = wordnet.synset('car.n.01')\n",
    "types_of_motorcar = motorcar.hyponyms()\n",
    "types_of_motorcar[:10]"
   ]
  },
  {
   "cell_type": "code",
   "execution_count": 105,
   "metadata": {},
   "outputs": [
    {
     "ename": "TypeError",
     "evalue": "'instancemethod' object is not iterable",
     "output_type": "error",
     "traceback": [
      "\u001b[1;31m---------------------------------------------------------------------------\u001b[0m",
      "\u001b[1;31mTypeError\u001b[0m                                 Traceback (most recent call last)",
      "\u001b[1;32m<ipython-input-105-1790d4a6c389>\u001b[0m in \u001b[0;36m<module>\u001b[1;34m()\u001b[0m\n\u001b[1;32m----> 1\u001b[1;33m \u001b[0msorted\u001b[0m\u001b[1;33m(\u001b[0m\u001b[1;33m[\u001b[0m\u001b[0mlemma\u001b[0m\u001b[1;33m.\u001b[0m\u001b[0mname\u001b[0m \u001b[1;32mfor\u001b[0m \u001b[0msynset\u001b[0m \u001b[1;32min\u001b[0m \u001b[0mtypes_of_motorcar\u001b[0m \u001b[1;32mfor\u001b[0m \u001b[0mlemma\u001b[0m \u001b[1;32min\u001b[0m \u001b[0msynset\u001b[0m\u001b[1;33m.\u001b[0m\u001b[0mlemmas\u001b[0m\u001b[1;33m]\u001b[0m\u001b[1;33m)\u001b[0m\u001b[1;33m\u001b[0m\u001b[0m\n\u001b[0m",
      "\u001b[1;31mTypeError\u001b[0m: 'instancemethod' object is not iterable"
     ]
    }
   ],
   "source": [
    "# sorted([lemma.name for synset in types_of_motorcar for lemma in synset.lemmas])"
   ]
  },
  {
   "cell_type": "code",
   "execution_count": 107,
   "metadata": {},
   "outputs": [
    {
     "data": {
      "text/plain": [
       "[Synset('burl.n.02'),\n",
       " Synset('crown.n.07'),\n",
       " Synset('limb.n.02'),\n",
       " Synset('stump.n.01'),\n",
       " Synset('trunk.n.01')]"
      ]
     },
     "execution_count": 107,
     "metadata": {},
     "output_type": "execute_result"
    }
   ],
   "source": [
    "wordnet.synset('tree.n.01').part_meronyms()\n",
    "# Sub-part of the term"
   ]
  },
  {
   "cell_type": "code",
   "execution_count": 108,
   "metadata": {},
   "outputs": [
    {
     "data": {
      "text/plain": [
       "[Synset('heartwood.n.01'), Synset('sapwood.n.01')]"
      ]
     },
     "execution_count": 108,
     "metadata": {},
     "output_type": "execute_result"
    }
   ],
   "source": [
    "wordnet.synset('tree.n.01').substance_meronyms()\n",
    "# What the object is made of"
   ]
  },
  {
   "cell_type": "code",
   "execution_count": 110,
   "metadata": {},
   "outputs": [
    {
     "data": {
      "text/plain": [
       "[Synset('forest.n.01')]"
      ]
     },
     "execution_count": 110,
     "metadata": {},
     "output_type": "execute_result"
    }
   ],
   "source": [
    "wordnet.synset('tree.n.01').member_holonyms()\n",
    "# Greater group the oject is part of"
   ]
  },
  {
   "cell_type": "markdown",
   "metadata": {},
   "source": [
    "## Text Classifier\n",
    "Sentiment analysis, spam/ham, positive or negative connotations."
   ]
  },
  {
   "cell_type": "code",
   "execution_count": 63,
   "metadata": {
    "collapsed": true
   },
   "outputs": [],
   "source": [
    "import nltk\n",
    "import random\n",
    "from nltk.corpus import movie_reviews"
   ]
  },
  {
   "cell_type": "code",
   "execution_count": 64,
   "metadata": {
    "collapsed": true
   },
   "outputs": [],
   "source": [
    "documents= [(list(movie_reviews.words(fileid)),category)\n",
    "           for category in movie_reviews.categories()\n",
    "           for fileid in movie_reviews.fileids(category)]"
   ]
  },
  {
   "cell_type": "code",
   "execution_count": 125,
   "metadata": {
    "collapsed": true
   },
   "outputs": [],
   "source": [
    "random.shuffle(documents)"
   ]
  },
  {
   "cell_type": "code",
   "execution_count": 66,
   "metadata": {},
   "outputs": [
    {
     "name": "stdout",
     "output_type": "stream",
     "text": [
      "[(u',', 77717), (u'the', 76529), (u'.', 65876), (u'a', 38106), (u'and', 35576), (u'of', 34123), (u'to', 31937), (u\"'\", 30585), (u'is', 25195), (u'in', 21822), (u's', 18513), (u'\"', 17612), (u'it', 16107), (u'that', 15924), (u'-', 15595)]\n",
      "253\n"
     ]
    }
   ],
   "source": [
    "all_words = []\n",
    "for w in movie_reviews.words():\n",
    "    all_words.append(w.lower())\n",
    "\n",
    "all_words = nltk.FreqDist(all_words)\n",
    "print(all_words.most_common(15))\n",
    "print(all_words[\"stupid\"])"
   ]
  },
  {
   "cell_type": "code",
   "execution_count": 70,
   "metadata": {},
   "outputs": [
    {
     "data": {
      "text/plain": [
       "u'pos/cv999_13106.txt'"
      ]
     },
     "execution_count": 70,
     "metadata": {},
     "output_type": "execute_result"
    }
   ],
   "source": [
    "fileid[:100]"
   ]
  },
  {
   "cell_type": "code",
   "execution_count": 91,
   "metadata": {
    "collapsed": true
   },
   "outputs": [],
   "source": [
    "word_features = list(all_words.keys())[:3000]"
   ]
  },
  {
   "cell_type": "code",
   "execution_count": 92,
   "metadata": {},
   "outputs": [
    {
     "data": {
      "text/plain": [
       "[u'neg/cv000_29416.txt',\n",
       " u'neg/cv001_19502.txt',\n",
       " u'neg/cv002_17424.txt',\n",
       " u'neg/cv003_12683.txt',\n",
       " u'neg/cv004_12641.txt']"
      ]
     },
     "execution_count": 92,
     "metadata": {},
     "output_type": "execute_result"
    }
   ],
   "source": [
    "movie_reviews.fileids() [:5]"
   ]
  },
  {
   "cell_type": "code",
   "execution_count": 77,
   "metadata": {
    "collapsed": true
   },
   "outputs": [],
   "source": [
    "# C\n",
    "def find_features(document):\n",
    "    words = set(document)\n",
    "    features = {}\n",
    "    for w in word_features:\n",
    "        features[w] = (w in words)\n",
    "\n",
    "    return features\n",
    "# Establishes the existence of feature in particular set"
   ]
  },
  {
   "cell_type": "code",
   "execution_count": 128,
   "metadata": {
    "collapsed": true
   },
   "outputs": [],
   "source": [
    "# print((find_features(movie_reviews.words('neg/cv000_29416.txt'))))"
   ]
  },
  {
   "cell_type": "code",
   "execution_count": 80,
   "metadata": {
    "collapsed": true
   },
   "outputs": [],
   "source": [
    "featuresets = [(find_features(rev), category) for (rev, category) in documents]"
   ]
  },
  {
   "cell_type": "code",
   "execution_count": 81,
   "metadata": {
    "collapsed": true
   },
   "outputs": [],
   "source": [
    "# set that we'll train our classifier with\n",
    "training_set = featuresets[:1900]\n",
    "\n",
    "# set that we'll test against.\n",
    "testing_set = featuresets[1900:]"
   ]
  },
  {
   "cell_type": "code",
   "execution_count": 82,
   "metadata": {
    "collapsed": true
   },
   "outputs": [],
   "source": [
    "classifier = nltk.NaiveBayesClassifier.train(training_set) # Very scalable algorithm\n",
    "# Posterior = prior_occurence * likelihood / evidence"
   ]
  },
  {
   "cell_type": "code",
   "execution_count": 83,
   "metadata": {},
   "outputs": [
    {
     "name": "stdout",
     "output_type": "stream",
     "text": [
      "('Classifier accuracy percent:', 68.0)\n"
     ]
    }
   ],
   "source": [
    "print(\"Classifier accuracy percent:\",(nltk.classify.accuracy(classifier, testing_set))*100)"
   ]
  },
  {
   "cell_type": "code",
   "execution_count": 85,
   "metadata": {},
   "outputs": [
    {
     "name": "stdout",
     "output_type": "stream",
     "text": [
      "Most Informative Features\n",
      "               insulting = True              neg : pos    =     11.0 : 1.0\n",
      "                    sans = True              neg : pos    =      9.0 : 1.0\n",
      "                  stinks = True              neg : pos    =      9.0 : 1.0\n",
      "            refreshingly = True              pos : neg    =      8.3 : 1.0\n",
      "              mediocrity = True              neg : pos    =      7.7 : 1.0\n",
      "                 wasting = True              neg : pos    =      7.7 : 1.0\n",
      "               dismissed = True              pos : neg    =      7.0 : 1.0\n",
      "             bruckheimer = True              neg : pos    =      6.3 : 1.0\n",
      "                   wires = True              neg : pos    =      6.3 : 1.0\n",
      "                  fabric = True              pos : neg    =      6.3 : 1.0\n",
      "             overwhelmed = True              pos : neg    =      6.3 : 1.0\n",
      "               uplifting = True              pos : neg    =      5.8 : 1.0\n",
      "                     ugh = True              neg : pos    =      5.8 : 1.0\n",
      "                  doubts = True              pos : neg    =      5.8 : 1.0\n",
      "                  wasted = True              neg : pos    =      5.8 : 1.0\n",
      "                    wits = True              pos : neg    =      5.7 : 1.0\n",
      "                 topping = True              pos : neg    =      5.7 : 1.0\n",
      "            effortlessly = True              pos : neg    =      5.3 : 1.0\n",
      "                    peel = True              neg : pos    =      5.0 : 1.0\n",
      "                exposure = True              neg : pos    =      5.0 : 1.0\n",
      "                     wen = True              pos : neg    =      5.0 : 1.0\n",
      "             sensational = True              pos : neg    =      5.0 : 1.0\n",
      "                    lang = True              pos : neg    =      5.0 : 1.0\n",
      "                    chad = True              pos : neg    =      5.0 : 1.0\n",
      "                     era = True              pos : neg    =      4.7 : 1.0\n"
     ]
    }
   ],
   "source": [
    "classifier.show_most_informative_features(25)"
   ]
  },
  {
   "cell_type": "code",
   "execution_count": null,
   "metadata": {
    "collapsed": true
   },
   "outputs": [],
   "source": []
  }
 ],
 "metadata": {
  "kernelspec": {
   "display_name": "Python 3",
   "language": "python",
   "name": "python3"
  },
  "language_info": {
   "codemirror_mode": {
    "name": "ipython",
    "version": 3
   },
   "file_extension": ".py",
   "mimetype": "text/x-python",
   "name": "python",
   "nbconvert_exporter": "python",
   "pygments_lexer": "ipython3",
   "version": "3.6.1"
  }
 },
 "nbformat": 4,
 "nbformat_minor": 2
}
