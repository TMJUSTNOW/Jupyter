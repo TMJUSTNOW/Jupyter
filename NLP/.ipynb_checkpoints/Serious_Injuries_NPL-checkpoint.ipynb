{
 "cells": [
  {
   "cell_type": "markdown",
   "metadata": {},
   "source": [
    "# Serious Injuries\n",
    "##### By Nicolas Brooks\n",
    "## Pandas and NLTK"
   ]
  },
  {
   "cell_type": "code",
   "execution_count": 2,
   "metadata": {},
   "outputs": [
    {
     "name": "stdout",
     "output_type": "stream",
     "text": [
      "The memory_profiler extension is already loaded. To reload it, use:\n",
      "  %reload_ext memory_profiler\n"
     ]
    }
   ],
   "source": [
    "# General\n",
    "import numpy as np\n",
    "import pandas as pd\n",
    "import nltk\n",
    "import random\n",
    "import os\n",
    "\n",
    "# Visualization\n",
    "import matplotlib as mpl\n",
    "import matplotlib.pyplot as plt\n",
    "%matplotlib inline\n",
    "from subprocess import check_output\n",
    "from wordcloud import WordCloud, STOPWORDS\n",
    "import seaborn as sns\n",
    "\n",
    "# Pre-Processing\n",
    "import string\n",
    "from nltk.tokenize import RegexpTokenizer\n",
    "from nltk.corpus import stopwords\n",
    "import re\n",
    "from nltk.stem import PorterStemmer\n",
    "from nltk.stem.lancaster import LancasterStemmer\n",
    "from nltk.stem import SnowballStemmer\n",
    "from nltk.stem.porter import *\n",
    "\n",
    "\n",
    "#Performance\n",
    "%load_ext memory_profiler\n",
    "\n",
    "# Extra\n",
    "from os import path\n",
    "from PIL import Image\n",
    "\n",
    "# Model = np.array(Image.open(\"model.png\"))\n",
    "# Failed attempted at adding a form to wordcloud"
   ]
  },
  {
   "cell_type": "code",
   "execution_count": 3,
   "metadata": {},
   "outputs": [],
   "source": [
    "#path= r\"/Users/nicapotato/Google Drive/Learning/Jupyter/Data/injured-workers\" # MAC\n",
    "path= r\"C:\\Users\\Nicol\\Google Drive\\Learning\\Jupyter\\Data\\injured-workers\" # Windows\n",
    "os.chdir(path)\n",
    "#os.listdir()\n",
    "\n",
    "# Reference Sheet\n",
    "#refsheet = pd.ExcelFile(open(os.path.join(path,\"oiics_201_code_list.xlsx\"),\"r\", encoding=\"latin-1\"))\n",
    "refsheet = pd.ExcelFile(\"oiics_201_code_list.xlsx\")\n",
    "Event = refsheet.parse(\"Event\")\n",
    "Nature = refsheet.parse(\"Nature\")\n",
    "Part = refsheet.parse(\"Part\")\n",
    "Source = refsheet.parse(\"Source\")"
   ]
  },
  {
   "cell_type": "code",
   "execution_count": 4,
   "metadata": {
    "collapsed": true
   },
   "outputs": [],
   "source": [
    "#df = pd.read_csv(open(os.path.join(path, \"severeinjury.csv\"), \"r\",encoding=\"latin-1\"))\n",
    "df = pd.read_csv(\"severeinjury.csv\", encoding=\"latin-1\")"
   ]
  },
  {
   "cell_type": "code",
   "execution_count": 5,
   "metadata": {},
   "outputs": [
    {
     "name": "stdout",
     "output_type": "stream",
     "text": [
      "<class 'pandas.core.frame.DataFrame'>\n",
      "RangeIndex: 21578 entries, 0 to 21577\n",
      "Data columns (total 26 columns):\n",
      "ID                        21578 non-null int64\n",
      "UPA                       21578 non-null int64\n",
      "EventDate                 21578 non-null object\n",
      "Employer                  21578 non-null object\n",
      "Address1                  21569 non-null object\n",
      "Address2                  1861 non-null object\n",
      "City                      21569 non-null object\n",
      "State                     21578 non-null object\n",
      "Zip                       21567 non-null float64\n",
      "Latitude                  21487 non-null float64\n",
      "Longitude                 21487 non-null float64\n",
      "Primary NAICS             21576 non-null object\n",
      "Hospitalized              21578 non-null float64\n",
      "Amputation                21576 non-null float64\n",
      "Inspection                7822 non-null float64\n",
      "Final Narrative           21578 non-null object\n",
      "Nature                    21578 non-null int64\n",
      "NatureTitle               21578 non-null object\n",
      "Part of Body              21578 non-null int64\n",
      "Part of Body Title        21578 non-null object\n",
      "Event                     21578 non-null int64\n",
      "EventTitle                21578 non-null object\n",
      "Source                    21578 non-null int64\n",
      "SourceTitle               21578 non-null object\n",
      "Secondary Source          5812 non-null float64\n",
      "Secondary Source Title    5812 non-null object\n",
      "dtypes: float64(7), int64(6), object(13)\n",
      "memory usage: 4.3+ MB\n"
     ]
    }
   ],
   "source": [
    "df.info()"
   ]
  },
  {
   "cell_type": "markdown",
   "metadata": {},
   "source": [
    "## Features"
   ]
  },
  {
   "cell_type": "code",
   "execution_count": 6,
   "metadata": {
    "collapsed": true
   },
   "outputs": [],
   "source": [
    "df.Hospitalized = df.Hospitalized.astype(int)\n",
    "df.Amputation= df.Amputation.fillna(0).astype(int)"
   ]
  },
  {
   "cell_type": "markdown",
   "metadata": {},
   "source": [
    "## Describe"
   ]
  },
  {
   "cell_type": "code",
   "execution_count": 7,
   "metadata": {},
   "outputs": [
    {
     "data": {
      "text/html": [
       "<div>\n",
       "<style>\n",
       "    .dataframe thead tr:only-child th {\n",
       "        text-align: right;\n",
       "    }\n",
       "\n",
       "    .dataframe thead th {\n",
       "        text-align: left;\n",
       "    }\n",
       "\n",
       "    .dataframe tbody tr th {\n",
       "        vertical-align: top;\n",
       "    }\n",
       "</style>\n",
       "<table border=\"1\" class=\"dataframe\">\n",
       "  <thead>\n",
       "    <tr style=\"text-align: right;\">\n",
       "      <th></th>\n",
       "      <th>EventDate</th>\n",
       "      <th>Employer</th>\n",
       "      <th>Address1</th>\n",
       "      <th>Address2</th>\n",
       "      <th>City</th>\n",
       "      <th>State</th>\n",
       "      <th>Primary NAICS</th>\n",
       "      <th>Final Narrative</th>\n",
       "      <th>NatureTitle</th>\n",
       "      <th>Part of Body Title</th>\n",
       "      <th>EventTitle</th>\n",
       "      <th>SourceTitle</th>\n",
       "      <th>Secondary Source Title</th>\n",
       "    </tr>\n",
       "  </thead>\n",
       "  <tbody>\n",
       "    <tr>\n",
       "      <th>count</th>\n",
       "      <td>21578</td>\n",
       "      <td>21578</td>\n",
       "      <td>21569</td>\n",
       "      <td>1861</td>\n",
       "      <td>21569</td>\n",
       "      <td>21578</td>\n",
       "      <td>21576</td>\n",
       "      <td>21578</td>\n",
       "      <td>21578</td>\n",
       "      <td>21578</td>\n",
       "      <td>21578</td>\n",
       "      <td>21578</td>\n",
       "      <td>5812</td>\n",
       "    </tr>\n",
       "    <tr>\n",
       "      <th>unique</th>\n",
       "      <td>790</td>\n",
       "      <td>18004</td>\n",
       "      <td>20261</td>\n",
       "      <td>1792</td>\n",
       "      <td>4642</td>\n",
       "      <td>56</td>\n",
       "      <td>1081</td>\n",
       "      <td>21562</td>\n",
       "      <td>149</td>\n",
       "      <td>118</td>\n",
       "      <td>307</td>\n",
       "      <td>903</td>\n",
       "      <td>628</td>\n",
       "    </tr>\n",
       "    <tr>\n",
       "      <th>top</th>\n",
       "      <td>9/2/2015</td>\n",
       "      <td>U.S. Postal Service</td>\n",
       "      <td>Unknown</td>\n",
       "      <td>Suite 100</td>\n",
       "      <td>HOUSTON</td>\n",
       "      <td>TEXAS</td>\n",
       "      <td>622110</td>\n",
       "      <td>An employee suffered a finger amputation.</td>\n",
       "      <td>Fractures</td>\n",
       "      <td>Finger(s), fingernail(s), n.e.c.</td>\n",
       "      <td>Caught in running equipment or machinery durin...</td>\n",
       "      <td>Floor, n.e.c.</td>\n",
       "      <td>Ice, sleet, snow</td>\n",
       "    </tr>\n",
       "    <tr>\n",
       "      <th>freq</th>\n",
       "      <td>56</td>\n",
       "      <td>129</td>\n",
       "      <td>14</td>\n",
       "      <td>11</td>\n",
       "      <td>403</td>\n",
       "      <td>3481</td>\n",
       "      <td>507</td>\n",
       "      <td>3</td>\n",
       "      <td>6018</td>\n",
       "      <td>2790</td>\n",
       "      <td>1893</td>\n",
       "      <td>1275</td>\n",
       "      <td>555</td>\n",
       "    </tr>\n",
       "  </tbody>\n",
       "</table>\n",
       "</div>"
      ],
      "text/plain": [
       "       EventDate             Employer Address1   Address2     City  State  \\\n",
       "count      21578                21578    21569       1861    21569  21578   \n",
       "unique       790                18004    20261       1792     4642     56   \n",
       "top     9/2/2015  U.S. Postal Service  Unknown  Suite 100  HOUSTON  TEXAS   \n",
       "freq          56                  129       14         11      403   3481   \n",
       "\n",
       "       Primary NAICS                            Final Narrative NatureTitle  \\\n",
       "count          21576                                      21578       21578   \n",
       "unique          1081                                      21562         149   \n",
       "top           622110  An employee suffered a finger amputation.   Fractures   \n",
       "freq             507                                          3        6018   \n",
       "\n",
       "                      Part of Body Title  \\\n",
       "count                              21578   \n",
       "unique                               118   \n",
       "top     Finger(s), fingernail(s), n.e.c.   \n",
       "freq                                2790   \n",
       "\n",
       "                                               EventTitle    SourceTitle  \\\n",
       "count                                               21578          21578   \n",
       "unique                                                307            903   \n",
       "top     Caught in running equipment or machinery durin...  Floor, n.e.c.   \n",
       "freq                                                 1893           1275   \n",
       "\n",
       "       Secondary Source Title  \n",
       "count                    5812  \n",
       "unique                    628  \n",
       "top          Ice, sleet, snow  \n",
       "freq                      555  "
      ]
     },
     "execution_count": 7,
     "metadata": {},
     "output_type": "execute_result"
    }
   ],
   "source": [
    "df.describe(include=['O'])"
   ]
  },
  {
   "cell_type": "code",
   "execution_count": 8,
   "metadata": {},
   "outputs": [
    {
     "data": {
      "text/html": [
       "<div>\n",
       "<style>\n",
       "    .dataframe thead tr:only-child th {\n",
       "        text-align: right;\n",
       "    }\n",
       "\n",
       "    .dataframe thead th {\n",
       "        text-align: left;\n",
       "    }\n",
       "\n",
       "    .dataframe tbody tr th {\n",
       "        vertical-align: top;\n",
       "    }\n",
       "</style>\n",
       "<table border=\"1\" class=\"dataframe\">\n",
       "  <thead>\n",
       "    <tr style=\"text-align: right;\">\n",
       "      <th></th>\n",
       "      <th>Hospitalized</th>\n",
       "      <th>Amputation</th>\n",
       "    </tr>\n",
       "  </thead>\n",
       "  <tbody>\n",
       "    <tr>\n",
       "      <th>count</th>\n",
       "      <td>21578.000000</td>\n",
       "      <td>21578.000000</td>\n",
       "    </tr>\n",
       "    <tr>\n",
       "      <th>mean</th>\n",
       "      <td>0.807999</td>\n",
       "      <td>0.269812</td>\n",
       "    </tr>\n",
       "    <tr>\n",
       "      <th>std</th>\n",
       "      <td>0.412055</td>\n",
       "      <td>0.451019</td>\n",
       "    </tr>\n",
       "    <tr>\n",
       "      <th>min</th>\n",
       "      <td>0.000000</td>\n",
       "      <td>0.000000</td>\n",
       "    </tr>\n",
       "    <tr>\n",
       "      <th>25%</th>\n",
       "      <td>1.000000</td>\n",
       "      <td>0.000000</td>\n",
       "    </tr>\n",
       "    <tr>\n",
       "      <th>50%</th>\n",
       "      <td>1.000000</td>\n",
       "      <td>0.000000</td>\n",
       "    </tr>\n",
       "    <tr>\n",
       "      <th>75%</th>\n",
       "      <td>1.000000</td>\n",
       "      <td>1.000000</td>\n",
       "    </tr>\n",
       "    <tr>\n",
       "      <th>max</th>\n",
       "      <td>3.000000</td>\n",
       "      <td>9.000000</td>\n",
       "    </tr>\n",
       "  </tbody>\n",
       "</table>\n",
       "</div>"
      ],
      "text/plain": [
       "       Hospitalized    Amputation\n",
       "count  21578.000000  21578.000000\n",
       "mean       0.807999      0.269812\n",
       "std        0.412055      0.451019\n",
       "min        0.000000      0.000000\n",
       "25%        1.000000      0.000000\n",
       "50%        1.000000      0.000000\n",
       "75%        1.000000      1.000000\n",
       "max        3.000000      9.000000"
      ]
     },
     "execution_count": 8,
     "metadata": {},
     "output_type": "execute_result"
    }
   ],
   "source": [
    "df[[\"Hospitalized\",\"Amputation\"]].describe()"
   ]
  },
  {
   "cell_type": "code",
   "execution_count": 9,
   "metadata": {},
   "outputs": [
    {
     "data": {
      "text/html": [
       "<div>\n",
       "<style>\n",
       "    .dataframe thead tr:only-child th {\n",
       "        text-align: right;\n",
       "    }\n",
       "\n",
       "    .dataframe thead th {\n",
       "        text-align: left;\n",
       "    }\n",
       "\n",
       "    .dataframe tbody tr th {\n",
       "        vertical-align: top;\n",
       "    }\n",
       "</style>\n",
       "<table border=\"1\" class=\"dataframe\">\n",
       "  <thead>\n",
       "    <tr style=\"text-align: right;\">\n",
       "      <th></th>\n",
       "      <th>ID</th>\n",
       "      <th>UPA</th>\n",
       "      <th>EventDate</th>\n",
       "      <th>Employer</th>\n",
       "      <th>Address1</th>\n",
       "      <th>Address2</th>\n",
       "      <th>City</th>\n",
       "      <th>State</th>\n",
       "      <th>Zip</th>\n",
       "      <th>Latitude</th>\n",
       "      <th>Longitude</th>\n",
       "      <th>Primary NAICS</th>\n",
       "      <th>Hospitalized</th>\n",
       "      <th>Amputation</th>\n",
       "      <th>Inspection</th>\n",
       "      <th>Final Narrative</th>\n",
       "      <th>Nature</th>\n",
       "      <th>NatureTitle</th>\n",
       "      <th>Part of Body</th>\n",
       "      <th>Part of Body Title</th>\n",
       "      <th>Event</th>\n",
       "      <th>EventTitle</th>\n",
       "      <th>Source</th>\n",
       "      <th>SourceTitle</th>\n",
       "      <th>Secondary Source</th>\n",
       "      <th>Secondary Source Title</th>\n",
       "    </tr>\n",
       "  </thead>\n",
       "  <tbody>\n",
       "    <tr>\n",
       "      <th>0</th>\n",
       "      <td>2015010015</td>\n",
       "      <td>931176</td>\n",
       "      <td>1/1/2015</td>\n",
       "      <td>FCI Otisville Federal Correctional Institution</td>\n",
       "      <td>Two Mile Drive</td>\n",
       "      <td>NaN</td>\n",
       "      <td>OTISVILLE</td>\n",
       "      <td>NEW YORK</td>\n",
       "      <td>10963.0</td>\n",
       "      <td>41.46</td>\n",
       "      <td>-74.53</td>\n",
       "      <td>922140</td>\n",
       "      <td>1</td>\n",
       "      <td>0</td>\n",
       "      <td>1018519.0</td>\n",
       "      <td>Three correctional facility guards were escort...</td>\n",
       "      <td>111</td>\n",
       "      <td>Fractures</td>\n",
       "      <td>513</td>\n",
       "      <td>Lower leg(s)</td>\n",
       "      <td>1214</td>\n",
       "      <td>Injured by physical contact with person while ...</td>\n",
       "      <td>5721</td>\n",
       "      <td>Co-worker</td>\n",
       "      <td>5772.0</td>\n",
       "      <td>Inmate or detainee in custody</td>\n",
       "    </tr>\n",
       "    <tr>\n",
       "      <th>1</th>\n",
       "      <td>2015010016</td>\n",
       "      <td>930267</td>\n",
       "      <td>1/1/2015</td>\n",
       "      <td>Kalahari Manufacturing LLC</td>\n",
       "      <td>171 Progress Drive</td>\n",
       "      <td>NaN</td>\n",
       "      <td>LAKE DELTON</td>\n",
       "      <td>WISCONSIN</td>\n",
       "      <td>53940.0</td>\n",
       "      <td>43.59</td>\n",
       "      <td>-89.79</td>\n",
       "      <td>339999</td>\n",
       "      <td>1</td>\n",
       "      <td>0</td>\n",
       "      <td>1016582.0</td>\n",
       "      <td>Employee in the Machine Shop received second d...</td>\n",
       "      <td>1522</td>\n",
       "      <td>Second degree heat (thermal) burns</td>\n",
       "      <td>519</td>\n",
       "      <td>Leg(s), n.e.c.</td>\n",
       "      <td>317</td>\n",
       "      <td>Ignition of vapors, gases, or liquids</td>\n",
       "      <td>7261</td>\n",
       "      <td>Welding, cutting, and blow torches</td>\n",
       "      <td>NaN</td>\n",
       "      <td>NaN</td>\n",
       "    </tr>\n",
       "    <tr>\n",
       "      <th>2</th>\n",
       "      <td>2015010018</td>\n",
       "      <td>929823</td>\n",
       "      <td>1/1/2015</td>\n",
       "      <td>Schneider National Bulk Carrier</td>\n",
       "      <td>420 CORAOPOLIS ROAD</td>\n",
       "      <td>NaN</td>\n",
       "      <td>CORAOPOLIS</td>\n",
       "      <td>PENNSYLVANIA</td>\n",
       "      <td>15108.0</td>\n",
       "      <td>40.49</td>\n",
       "      <td>-80.11</td>\n",
       "      <td>484121</td>\n",
       "      <td>1</td>\n",
       "      <td>0</td>\n",
       "      <td>NaN</td>\n",
       "      <td>A truck driver fell approximately 4 feet while...</td>\n",
       "      <td>10</td>\n",
       "      <td>Traumatic injuries and disorders, unspecified</td>\n",
       "      <td>9999</td>\n",
       "      <td>Nonclassifiable</td>\n",
       "      <td>4331</td>\n",
       "      <td>Other fall to lower level less than 6 feet</td>\n",
       "      <td>8421</td>\n",
       "      <td>Semi, tractor-trailer, tanker truck</td>\n",
       "      <td>741.0</td>\n",
       "      <td>Ladders-fixed</td>\n",
       "    </tr>\n",
       "    <tr>\n",
       "      <th>3</th>\n",
       "      <td>2015010019</td>\n",
       "      <td>929711</td>\n",
       "      <td>1/1/2015</td>\n",
       "      <td>PEPSI BOTTLING GROUP INC.</td>\n",
       "      <td>4541 HOUSTON AVE.</td>\n",
       "      <td>NaN</td>\n",
       "      <td>MACON</td>\n",
       "      <td>GEORGIA</td>\n",
       "      <td>31206.0</td>\n",
       "      <td>32.77</td>\n",
       "      <td>-83.65</td>\n",
       "      <td>424490</td>\n",
       "      <td>1</td>\n",
       "      <td>0</td>\n",
       "      <td>1017194.0</td>\n",
       "      <td>An employee's leg was pinned between a truck a...</td>\n",
       "      <td>1972</td>\n",
       "      <td>Soreness, pain, hurt-nonspecified injury</td>\n",
       "      <td>510</td>\n",
       "      <td>Leg(s), unspecified</td>\n",
       "      <td>640</td>\n",
       "      <td>Caught in or compressed by equipment or object...</td>\n",
       "      <td>8623</td>\n",
       "      <td>Pallet jack-powered</td>\n",
       "      <td>8420.0</td>\n",
       "      <td>Truck-motorized freight hauling and utility, u...</td>\n",
       "    </tr>\n",
       "    <tr>\n",
       "      <th>4</th>\n",
       "      <td>2015010020</td>\n",
       "      <td>929642</td>\n",
       "      <td>1/1/2015</td>\n",
       "      <td>North American Pipe Corporation</td>\n",
       "      <td>210 South Arch Street</td>\n",
       "      <td>NaN</td>\n",
       "      <td>JANESVILLE</td>\n",
       "      <td>WISCONSIN</td>\n",
       "      <td>53545.0</td>\n",
       "      <td>42.67</td>\n",
       "      <td>-89.04</td>\n",
       "      <td>326122</td>\n",
       "      <td>1</td>\n",
       "      <td>0</td>\n",
       "      <td>1016344.0</td>\n",
       "      <td>An employee working on the Line 6 Auto-Beller ...</td>\n",
       "      <td>111</td>\n",
       "      <td>Fractures</td>\n",
       "      <td>4429</td>\n",
       "      <td>Finger(s), fingernail(s), n.e.c.</td>\n",
       "      <td>6411</td>\n",
       "      <td>Caught in running equipment or machinery durin...</td>\n",
       "      <td>350</td>\n",
       "      <td>Metal, woodworking, and special material machi...</td>\n",
       "      <td>NaN</td>\n",
       "      <td>NaN</td>\n",
       "    </tr>\n",
       "  </tbody>\n",
       "</table>\n",
       "</div>"
      ],
      "text/plain": [
       "           ID     UPA EventDate  \\\n",
       "0  2015010015  931176  1/1/2015   \n",
       "1  2015010016  930267  1/1/2015   \n",
       "2  2015010018  929823  1/1/2015   \n",
       "3  2015010019  929711  1/1/2015   \n",
       "4  2015010020  929642  1/1/2015   \n",
       "\n",
       "                                         Employer               Address1  \\\n",
       "0  FCI Otisville Federal Correctional Institution         Two Mile Drive   \n",
       "1                      Kalahari Manufacturing LLC     171 Progress Drive   \n",
       "2                 Schneider National Bulk Carrier    420 CORAOPOLIS ROAD   \n",
       "3                       PEPSI BOTTLING GROUP INC.      4541 HOUSTON AVE.   \n",
       "4                 North American Pipe Corporation  210 South Arch Street   \n",
       "\n",
       "  Address2         City         State      Zip  Latitude  Longitude  \\\n",
       "0      NaN    OTISVILLE      NEW YORK  10963.0     41.46     -74.53   \n",
       "1      NaN  LAKE DELTON     WISCONSIN  53940.0     43.59     -89.79   \n",
       "2      NaN   CORAOPOLIS  PENNSYLVANIA  15108.0     40.49     -80.11   \n",
       "3      NaN        MACON       GEORGIA  31206.0     32.77     -83.65   \n",
       "4      NaN   JANESVILLE     WISCONSIN  53545.0     42.67     -89.04   \n",
       "\n",
       "  Primary NAICS  Hospitalized  Amputation  Inspection  \\\n",
       "0        922140             1           0   1018519.0   \n",
       "1        339999             1           0   1016582.0   \n",
       "2        484121             1           0         NaN   \n",
       "3        424490             1           0   1017194.0   \n",
       "4        326122             1           0   1016344.0   \n",
       "\n",
       "                                     Final Narrative  Nature  \\\n",
       "0  Three correctional facility guards were escort...     111   \n",
       "1  Employee in the Machine Shop received second d...    1522   \n",
       "2  A truck driver fell approximately 4 feet while...      10   \n",
       "3  An employee's leg was pinned between a truck a...    1972   \n",
       "4  An employee working on the Line 6 Auto-Beller ...     111   \n",
       "\n",
       "                                     NatureTitle  Part of Body  \\\n",
       "0                                      Fractures           513   \n",
       "1             Second degree heat (thermal) burns           519   \n",
       "2  Traumatic injuries and disorders, unspecified          9999   \n",
       "3       Soreness, pain, hurt-nonspecified injury           510   \n",
       "4                                      Fractures          4429   \n",
       "\n",
       "                 Part of Body Title  Event  \\\n",
       "0                      Lower leg(s)   1214   \n",
       "1                    Leg(s), n.e.c.    317   \n",
       "2                   Nonclassifiable   4331   \n",
       "3               Leg(s), unspecified    640   \n",
       "4  Finger(s), fingernail(s), n.e.c.   6411   \n",
       "\n",
       "                                          EventTitle  Source  \\\n",
       "0  Injured by physical contact with person while ...    5721   \n",
       "1              Ignition of vapors, gases, or liquids    7261   \n",
       "2         Other fall to lower level less than 6 feet    8421   \n",
       "3  Caught in or compressed by equipment or object...    8623   \n",
       "4  Caught in running equipment or machinery durin...     350   \n",
       "\n",
       "                                         SourceTitle  Secondary Source  \\\n",
       "0                                          Co-worker            5772.0   \n",
       "1                 Welding, cutting, and blow torches               NaN   \n",
       "2                Semi, tractor-trailer, tanker truck             741.0   \n",
       "3                                Pallet jack-powered            8420.0   \n",
       "4  Metal, woodworking, and special material machi...               NaN   \n",
       "\n",
       "                              Secondary Source Title  \n",
       "0                      Inmate or detainee in custody  \n",
       "1                                                NaN  \n",
       "2                                      Ladders-fixed  \n",
       "3  Truck-motorized freight hauling and utility, u...  \n",
       "4                                                NaN  "
      ]
     },
     "execution_count": 9,
     "metadata": {},
     "output_type": "execute_result"
    }
   ],
   "source": [
    "pd.reset_option('max_colwidth')\n",
    "pd.set_option('display.max_columns', None)\n",
    "df.head()"
   ]
  },
  {
   "cell_type": "code",
   "execution_count": 10,
   "metadata": {
    "collapsed": true
   },
   "outputs": [],
   "source": [
    "# df[\"Event\"].unique()\n",
    "# Dictionary the EVENT set to find what is available."
   ]
  },
  {
   "cell_type": "code",
   "execution_count": 11,
   "metadata": {},
   "outputs": [
    {
     "data": {
      "text/html": [
       "<div>\n",
       "<style>\n",
       "    .dataframe thead tr:only-child th {\n",
       "        text-align: right;\n",
       "    }\n",
       "\n",
       "    .dataframe thead th {\n",
       "        text-align: left;\n",
       "    }\n",
       "\n",
       "    .dataframe tbody tr th {\n",
       "        vertical-align: top;\n",
       "    }\n",
       "</style>\n",
       "<table border=\"1\" class=\"dataframe\">\n",
       "  <thead>\n",
       "    <tr style=\"text-align: right;\">\n",
       "      <th></th>\n",
       "      <th>Final Narrative</th>\n",
       "    </tr>\n",
       "  </thead>\n",
       "  <tbody>\n",
       "    <tr>\n",
       "      <th>0</th>\n",
       "      <td>Three correctional facility guards were escorting a restrained federal prison inmate when he became disruptive, requiring the use of force. \\nTwo guards and the inmate fell onto the Lieutenant's right leg, fracturing his fibula. He was transported to the hospital and released the following day.</td>\n",
       "    </tr>\n",
       "    <tr>\n",
       "      <th>1</th>\n",
       "      <td>Employee in the Machine Shop received second degree burns to the back of his legs after the torch he was using exploded.</td>\n",
       "    </tr>\n",
       "    <tr>\n",
       "      <th>2</th>\n",
       "      <td>A truck driver fell approximately 4 feet while descending a tanker trailer ladder.  The employee was kept overnight awaiting test results.</td>\n",
       "    </tr>\n",
       "    <tr>\n",
       "      <th>3</th>\n",
       "      <td>An employee's leg was pinned between a truck and the powered pallet jack being operated.  The employee was hospitalized for treatment/surgery at Navicent Health.</td>\n",
       "    </tr>\n",
       "    <tr>\n",
       "      <th>4</th>\n",
       "      <td>An employee working on the Line 6 Auto-Beller reached into the machine to unjam two pipes and got his hand crushed, fracturing three left-hand fingers.</td>\n",
       "    </tr>\n",
       "    <tr>\n",
       "      <th>5</th>\n",
       "      <td>An employee was hospitalized after slipping and falling while working as a member of the night freight crew, resulting in an injury to his right elbow.</td>\n",
       "    </tr>\n",
       "    <tr>\n",
       "      <th>6</th>\n",
       "      <td>Employee working the flipping machine at the casting line had fingertip amputated after it was crushed by a jammed block.</td>\n",
       "    </tr>\n",
       "    <tr>\n",
       "      <th>7</th>\n",
       "      <td>Employee sustained burns during line tie-in operations at an oil and gas site.</td>\n",
       "    </tr>\n",
       "    <tr>\n",
       "      <th>8</th>\n",
       "      <td>One employee was hospitalized after being struck by a tire when he was airing the tire up during his pre-drive inspection.</td>\n",
       "    </tr>\n",
       "    <tr>\n",
       "      <th>9</th>\n",
       "      <td>An associate was using a knife to open a bag of chili and cut off her fingertip.</td>\n",
       "    </tr>\n",
       "    <tr>\n",
       "      <th>10</th>\n",
       "      <td>An employee was struck by an excavator on 01/02/2015 and hospitalized for injuries to his leg, several broken bones in his foot, and a fracture in his left arm.</td>\n",
       "    </tr>\n",
       "    <tr>\n",
       "      <th>11</th>\n",
       "      <td>On or about 1/2/15 at 9:10 p.m., an employee was preparing to troubleshoot the hamburger bun bagger machine that was not working. He received an electrical shock when he came in contact with a proximity switch. Employee was working alone at the time of the incident.  He was admitted to the hospi...</td>\n",
       "    </tr>\n",
       "    <tr>\n",
       "      <th>12</th>\n",
       "      <td>An employee stumbled and fell to the ground on the left side of her body and was admitted to Irving Baylor Medical Center with a possible hip fracture.</td>\n",
       "    </tr>\n",
       "    <tr>\n",
       "      <th>13</th>\n",
       "      <td>Two employees in a scissor lift were wrecking forms, taking forms down, and removing the forms. They lost their grip on the form, which fell and hit an employee walking below on the shoulder, knocking him to the ground. He hit his head on the concrete, causing a wound to the head, a broken colla...</td>\n",
       "    </tr>\n",
       "    <tr>\n",
       "      <th>14</th>\n",
       "      <td>Employee amputated tip of finger when his finger got caught in the chain of a stationary exercise bicycle that he was servicing. There was no bone loss and the employee was not hospitalized.</td>\n",
       "    </tr>\n",
       "    <tr>\n",
       "      <th>15</th>\n",
       "      <td>An employee suffered a right index finger amputation. The employee's finger was injured by a thigh deboning machine. The finger was still attached at the time of the incident and was later amputated at the hospital.</td>\n",
       "    </tr>\n",
       "    <tr>\n",
       "      <th>16</th>\n",
       "      <td>An employee was injured by a customer's automobile when the car jumped the curb and pinned the employee against the Red Box movie kiosk on the convenience store's sidewalk.</td>\n",
       "    </tr>\n",
       "    <tr>\n",
       "      <th>17</th>\n",
       "      <td>Employee suffered the amputation of three fingers while working on the south in-bed fuel airlock in the energy building. He was using a hammer to hit the outside of the chute to loosen built up saw dust.  The chute leads to an airlock, which feeds the blow line to the boiler. He removed the pane...</td>\n",
       "    </tr>\n",
       "    <tr>\n",
       "      <th>18</th>\n",
       "      <td>An employee who was using a cordless circular saw to install wood panels around an elevator lobby received a partial amputation of his left index finger when the tip of his finger became caught in the saw.</td>\n",
       "    </tr>\n",
       "    <tr>\n",
       "      <th>19</th>\n",
       "      <td>On Friday, January 2, 2015, at 10:30 p.m., a crew of employees were changing out wooden decking boards on a platform off shore. One of the employees was walking the platform, slipped, and stepped on a protruding nail that entered the employee's right foot. First aid was applied to the employee, ...</td>\n",
       "    </tr>\n",
       "  </tbody>\n",
       "</table>\n",
       "</div>"
      ],
      "text/plain": [
       "                                                                                                                                                                                                                                                                                                Final Narrative\n",
       "0       Three correctional facility guards were escorting a restrained federal prison inmate when he became disruptive, requiring the use of force. \\nTwo guards and the inmate fell onto the Lieutenant's right leg, fracturing his fibula. He was transported to the hospital and released the following day.\n",
       "1                                                                                                                                                                                      Employee in the Machine Shop received second degree burns to the back of his legs after the torch he was using exploded.\n",
       "2                                                                                                                                                                    A truck driver fell approximately 4 feet while descending a tanker trailer ladder.  The employee was kept overnight awaiting test results.\n",
       "3                                                                                                                                             An employee's leg was pinned between a truck and the powered pallet jack being operated.  The employee was hospitalized for treatment/surgery at Navicent Health.\n",
       "4                                                                                                                                                       An employee working on the Line 6 Auto-Beller reached into the machine to unjam two pipes and got his hand crushed, fracturing three left-hand fingers.\n",
       "5                                                                                                                                                       An employee was hospitalized after slipping and falling while working as a member of the night freight crew, resulting in an injury to his right elbow.\n",
       "6                                                                                                                                                                                     Employee working the flipping machine at the casting line had fingertip amputated after it was crushed by a jammed block.\n",
       "7                                                                                                                                                                                                                                Employee sustained burns during line tie-in operations at an oil and gas site.\n",
       "8                                                                                                                                                                                   One employee was hospitalized after being struck by a tire when he was airing the tire up during his pre-drive inspection. \n",
       "9                                                                                                                                                                                                                              An associate was using a knife to open a bag of chili and cut off her fingertip.\n",
       "10                                                                                                                                             An employee was struck by an excavator on 01/02/2015 and hospitalized for injuries to his leg, several broken bones in his foot, and a fracture in his left arm.\n",
       "11  On or about 1/2/15 at 9:10 p.m., an employee was preparing to troubleshoot the hamburger bun bagger machine that was not working. He received an electrical shock when he came in contact with a proximity switch. Employee was working alone at the time of the incident.  He was admitted to the hospi...\n",
       "12                                                                                                                                                      An employee stumbled and fell to the ground on the left side of her body and was admitted to Irving Baylor Medical Center with a possible hip fracture.\n",
       "13  Two employees in a scissor lift were wrecking forms, taking forms down, and removing the forms. They lost their grip on the form, which fell and hit an employee walking below on the shoulder, knocking him to the ground. He hit his head on the concrete, causing a wound to the head, a broken colla...\n",
       "14                                                                                                               Employee amputated tip of finger when his finger got caught in the chain of a stationary exercise bicycle that he was servicing. There was no bone loss and the employee was not hospitalized.\n",
       "15                                                                                      An employee suffered a right index finger amputation. The employee's finger was injured by a thigh deboning machine. The finger was still attached at the time of the incident and was later amputated at the hospital.\n",
       "16                                                                                                                                 An employee was injured by a customer's automobile when the car jumped the curb and pinned the employee against the Red Box movie kiosk on the convenience store's sidewalk.\n",
       "17  Employee suffered the amputation of three fingers while working on the south in-bed fuel airlock in the energy building. He was using a hammer to hit the outside of the chute to loosen built up saw dust.  The chute leads to an airlock, which feeds the blow line to the boiler. He removed the pane...\n",
       "18                                                                                                An employee who was using a cordless circular saw to install wood panels around an elevator lobby received a partial amputation of his left index finger when the tip of his finger became caught in the saw.\n",
       "19  On Friday, January 2, 2015, at 10:30 p.m., a crew of employees were changing out wooden decking boards on a platform off shore. One of the employees was walking the platform, slipped, and stepped on a protruding nail that entered the employee's right foot. First aid was applied to the employee, ..."
      ]
     },
     "execution_count": 11,
     "metadata": {},
     "output_type": "execute_result"
    }
   ],
   "source": [
    "pd.set_option('max_colwidth', 300)\n",
    "df[[\"Final Narrative\"]][:20]"
   ]
  },
  {
   "cell_type": "code",
   "execution_count": 12,
   "metadata": {
    "collapsed": true
   },
   "outputs": [],
   "source": [
    "#df.loc[df['Event']==10, [\"Final Narrative\"]]"
   ]
  },
  {
   "cell_type": "code",
   "execution_count": 13,
   "metadata": {},
   "outputs": [
    {
     "data": {
      "text/plain": [
       "0    15791\n",
       "1     5764\n",
       "2       18\n",
       "3        3\n",
       "9        1\n",
       "4        1\n",
       "Name: Amputation, dtype: int64"
      ]
     },
     "execution_count": 13,
     "metadata": {},
     "output_type": "execute_result"
    }
   ],
   "source": [
    "df.Amputation.value_counts()"
   ]
  },
  {
   "cell_type": "code",
   "execution_count": 14,
   "metadata": {},
   "outputs": [
    {
     "data": {
      "text/html": [
       "<div>\n",
       "<style>\n",
       "    .dataframe thead tr:only-child th {\n",
       "        text-align: right;\n",
       "    }\n",
       "\n",
       "    .dataframe thead th {\n",
       "        text-align: left;\n",
       "    }\n",
       "\n",
       "    .dataframe tbody tr th {\n",
       "        vertical-align: top;\n",
       "    }\n",
       "</style>\n",
       "<table border=\"1\" class=\"dataframe\">\n",
       "  <thead>\n",
       "    <tr style=\"text-align: right;\">\n",
       "      <th></th>\n",
       "      <th>SourceTitle</th>\n",
       "      <th>Final Narrative</th>\n",
       "      <th>Amputation</th>\n",
       "      <th>Employer</th>\n",
       "      <th>State</th>\n",
       "    </tr>\n",
       "  </thead>\n",
       "  <tbody>\n",
       "    <tr>\n",
       "      <th>3826</th>\n",
       "      <td>Metal, woodworking, and special material machinery, n.e.c.</td>\n",
       "      <td>An employee was working in the mold department with the mixing machine. While the employee was pushing the mixing machine, his hand slipped into the mixer. His left index, middle, and ring fingers were amputated.</td>\n",
       "      <td>3</td>\n",
       "      <td>CFM Corporation</td>\n",
       "      <td>OKLAHOMA</td>\n",
       "    </tr>\n",
       "    <tr>\n",
       "      <th>6170</th>\n",
       "      <td>Mowing machinery, unspecified</td>\n",
       "      <td>An employee was cleaning the blades of a lawn mower. The mower jumped and severed four fingers on his left hand.</td>\n",
       "      <td>4</td>\n",
       "      <td>RIVERBAY CORP.</td>\n",
       "      <td>NEW YORK</td>\n",
       "    </tr>\n",
       "    <tr>\n",
       "      <th>8264</th>\n",
       "      <td>Metalworking lathes</td>\n",
       "      <td>An employee had his right hand index, middle, and ring fingers amputated when his glove got caught in the horizontal lathe he was using to polish a 7/8 inch pin with an emery cloth.</td>\n",
       "      <td>3</td>\n",
       "      <td>NRG Energy Services</td>\n",
       "      <td>TEXAS</td>\n",
       "    </tr>\n",
       "    <tr>\n",
       "      <th>9471</th>\n",
       "      <td>Paper production machinery, n.e.c.</td>\n",
       "      <td>An employee was clearing a wrap-up when her hand got caught between two rollers as she was re-threading the web. She partially amputated three left-hand fingers.</td>\n",
       "      <td>3</td>\n",
       "      <td>Orchids Paper Products Company-Pryor, Oklahoma Converting</td>\n",
       "      <td>OKLAHOMA</td>\n",
       "    </tr>\n",
       "    <tr>\n",
       "      <th>20364</th>\n",
       "      <td>Industrial vehicle, material hauling and transport-powered, n.e.c</td>\n",
       "      <td>An employee parking his clamp/docker material handling equipment was exiting his machine when he realized it was still on. The employee's left foot was pinned between it and another parked docker resulting in three fractured toes.</td>\n",
       "      <td>9</td>\n",
       "      <td>Lineage Logistics, LLC</td>\n",
       "      <td>TEXAS</td>\n",
       "    </tr>\n",
       "  </tbody>\n",
       "</table>\n",
       "</div>"
      ],
      "text/plain": [
       "                                                             SourceTitle  \\\n",
       "3826          Metal, woodworking, and special material machinery, n.e.c.   \n",
       "6170                                       Mowing machinery, unspecified   \n",
       "8264                                                 Metalworking lathes   \n",
       "9471                                  Paper production machinery, n.e.c.   \n",
       "20364  Industrial vehicle, material hauling and transport-powered, n.e.c   \n",
       "\n",
       "                                                                                                                                                                                                                              Final Narrative  \\\n",
       "3826                     An employee was working in the mold department with the mixing machine. While the employee was pushing the mixing machine, his hand slipped into the mixer. His left index, middle, and ring fingers were amputated.   \n",
       "6170                                                                                                                         An employee was cleaning the blades of a lawn mower. The mower jumped and severed four fingers on his left hand.   \n",
       "8264                                                    An employee had his right hand index, middle, and ring fingers amputated when his glove got caught in the horizontal lathe he was using to polish a 7/8 inch pin with an emery cloth.   \n",
       "9471                                                                        An employee was clearing a wrap-up when her hand got caught between two rollers as she was re-threading the web. She partially amputated three left-hand fingers.   \n",
       "20364  An employee parking his clamp/docker material handling equipment was exiting his machine when he realized it was still on. The employee's left foot was pinned between it and another parked docker resulting in three fractured toes.   \n",
       "\n",
       "       Amputation                                                   Employer  \\\n",
       "3826            3                                            CFM Corporation   \n",
       "6170            4                                             RIVERBAY CORP.   \n",
       "8264            3                                        NRG Energy Services   \n",
       "9471            3  Orchids Paper Products Company-Pryor, Oklahoma Converting   \n",
       "20364           9                                     Lineage Logistics, LLC   \n",
       "\n",
       "          State  \n",
       "3826   OKLAHOMA  \n",
       "6170   NEW YORK  \n",
       "8264      TEXAS  \n",
       "9471   OKLAHOMA  \n",
       "20364     TEXAS  "
      ]
     },
     "execution_count": 14,
     "metadata": {},
     "output_type": "execute_result"
    }
   ],
   "source": [
    "pd.set_option('max_colwidth', 1000)\n",
    "df.loc[df['Amputation']>2, [\"SourceTitle\",\"Final Narrative\", \"Amputation\", \"Employer\",\"State\"]]"
   ]
  },
  {
   "cell_type": "markdown",
   "metadata": {},
   "source": [
    "## Subset by Top Employer"
   ]
  },
  {
   "cell_type": "code",
   "execution_count": 15,
   "metadata": {
    "scrolled": true
   },
   "outputs": [
    {
     "name": "stdout",
     "output_type": "stream",
     "text": [
      "U.S. Postal Service             129\n",
      "U.S. POSTAL SERVICE              58\n",
      "United States Postal Service     53\n",
      "UPS                              51\n",
      "USPS                             40\n",
      "Name: Employer, dtype: int64\n",
      "Index(['U.S. Postal Service', 'U.S. POSTAL SERVICE',\n",
      "       'United States Postal Service', 'UPS', 'USPS'],\n",
      "      dtype='object')\n",
      "['U.S. Postal Service', 'U.S. POSTAL SERVICE', 'United States Postal Service', 'UPS', 'USPS']\n"
     ]
    }
   ],
   "source": [
    "print(df.Employer.value_counts()[:5])\n",
    "print(df.Employer.value_counts().keys()[:5])\n",
    "print(df.Employer.value_counts().index.tolist()[:5])\n",
    "# Subset Example\n",
    "# dex = df['Employer'].isin([\"UPS\"])"
   ]
  },
  {
   "cell_type": "code",
   "execution_count": 16,
   "metadata": {
    "collapsed": true
   },
   "outputs": [],
   "source": [
    "pd.reset_option('max_colwidth')\n",
    "emp = df[df['Employer'].isin(df.Employer.value_counts().index.tolist()[:10])]"
   ]
  },
  {
   "cell_type": "code",
   "execution_count": 17,
   "metadata": {},
   "outputs": [
    {
     "data": {
      "text/html": [
       "<div>\n",
       "<style>\n",
       "    .dataframe thead tr:only-child th {\n",
       "        text-align: right;\n",
       "    }\n",
       "\n",
       "    .dataframe thead th {\n",
       "        text-align: left;\n",
       "    }\n",
       "\n",
       "    .dataframe tbody tr th {\n",
       "        vertical-align: top;\n",
       "    }\n",
       "</style>\n",
       "<table border=\"1\" class=\"dataframe\">\n",
       "  <thead>\n",
       "    <tr style=\"text-align: right;\">\n",
       "      <th></th>\n",
       "      <th>ID</th>\n",
       "      <th>UPA</th>\n",
       "      <th>EventDate</th>\n",
       "      <th>Employer</th>\n",
       "      <th>Address1</th>\n",
       "      <th>Address2</th>\n",
       "      <th>City</th>\n",
       "      <th>State</th>\n",
       "      <th>Zip</th>\n",
       "      <th>Latitude</th>\n",
       "      <th>Longitude</th>\n",
       "      <th>Primary NAICS</th>\n",
       "      <th>Hospitalized</th>\n",
       "      <th>Amputation</th>\n",
       "      <th>Inspection</th>\n",
       "      <th>Final Narrative</th>\n",
       "      <th>Nature</th>\n",
       "      <th>NatureTitle</th>\n",
       "      <th>Part of Body</th>\n",
       "      <th>Part of Body Title</th>\n",
       "      <th>Event</th>\n",
       "      <th>EventTitle</th>\n",
       "      <th>Source</th>\n",
       "      <th>SourceTitle</th>\n",
       "      <th>Secondary Source</th>\n",
       "      <th>Secondary Source Title</th>\n",
       "    </tr>\n",
       "  </thead>\n",
       "  <tbody>\n",
       "    <tr>\n",
       "      <th>39</th>\n",
       "      <td>2015010061</td>\n",
       "      <td>931759</td>\n",
       "      <td>1/4/2015</td>\n",
       "      <td>U.S. POSTAL SERVICE</td>\n",
       "      <td>1401 W. FORT ST.</td>\n",
       "      <td>NaN</td>\n",
       "      <td>DETROIT</td>\n",
       "      <td>MICHIGAN</td>\n",
       "      <td>48233.0</td>\n",
       "      <td>42.32</td>\n",
       "      <td>-83.06</td>\n",
       "      <td>491110</td>\n",
       "      <td>1</td>\n",
       "      <td>0</td>\n",
       "      <td>1018200.0</td>\n",
       "      <td>Employee was loading a trailer with a forklift...</td>\n",
       "      <td>1120</td>\n",
       "      <td>Traumatic injuries to spinal cord, unspecified</td>\n",
       "      <td>320</td>\n",
       "      <td>Back, including spine, spinal cord, unspecified</td>\n",
       "      <td>2737</td>\n",
       "      <td>Sudden start or stop, nonroadway</td>\n",
       "      <td>8621</td>\n",
       "      <td>Forklift, order picker, platform truck-powered</td>\n",
       "      <td>483.0</td>\n",
       "      <td>Trailers</td>\n",
       "    </tr>\n",
       "    <tr>\n",
       "      <th>104</th>\n",
       "      <td>2015010138</td>\n",
       "      <td>935399</td>\n",
       "      <td>1/6/2015</td>\n",
       "      <td>U.S. POSTAL SERVICE</td>\n",
       "      <td>6 Shirley Lane</td>\n",
       "      <td>NaN</td>\n",
       "      <td>JAMAICA PLAIN</td>\n",
       "      <td>MASSACHUSETTS</td>\n",
       "      <td>2130.0</td>\n",
       "      <td>42.31</td>\n",
       "      <td>-71.11</td>\n",
       "      <td>491110</td>\n",
       "      <td>1</td>\n",
       "      <td>0</td>\n",
       "      <td>NaN</td>\n",
       "      <td>An employee fell on ice, causing an abrasion o...</td>\n",
       "      <td>141</td>\n",
       "      <td>Abrasions, scratches</td>\n",
       "      <td>422</td>\n",
       "      <td>Elbow(s)</td>\n",
       "      <td>422</td>\n",
       "      <td>Fall on same level due to slipping</td>\n",
       "      <td>660</td>\n",
       "      <td>Floors, walkways, ground surfaces, unspecified</td>\n",
       "      <td>9273.0</td>\n",
       "      <td>Ice, sleet, snow</td>\n",
       "    </tr>\n",
       "  </tbody>\n",
       "</table>\n",
       "</div>"
      ],
      "text/plain": [
       "             ID     UPA EventDate             Employer          Address1  \\\n",
       "39   2015010061  931759  1/4/2015  U.S. POSTAL SERVICE  1401 W. FORT ST.   \n",
       "104  2015010138  935399  1/6/2015  U.S. POSTAL SERVICE    6 Shirley Lane   \n",
       "\n",
       "    Address2           City          State      Zip  Latitude  Longitude  \\\n",
       "39       NaN        DETROIT       MICHIGAN  48233.0     42.32     -83.06   \n",
       "104      NaN  JAMAICA PLAIN  MASSACHUSETTS   2130.0     42.31     -71.11   \n",
       "\n",
       "    Primary NAICS  Hospitalized  Amputation  Inspection  \\\n",
       "39         491110             1           0   1018200.0   \n",
       "104        491110             1           0         NaN   \n",
       "\n",
       "                                       Final Narrative  Nature  \\\n",
       "39   Employee was loading a trailer with a forklift...    1120   \n",
       "104  An employee fell on ice, causing an abrasion o...     141   \n",
       "\n",
       "                                        NatureTitle  Part of Body  \\\n",
       "39   Traumatic injuries to spinal cord, unspecified           320   \n",
       "104                            Abrasions, scratches           422   \n",
       "\n",
       "                                  Part of Body Title  Event  \\\n",
       "39   Back, including spine, spinal cord, unspecified   2737   \n",
       "104                                         Elbow(s)    422   \n",
       "\n",
       "                              EventTitle  Source  \\\n",
       "39      Sudden start or stop, nonroadway    8621   \n",
       "104  Fall on same level due to slipping      660   \n",
       "\n",
       "                                        SourceTitle  Secondary Source  \\\n",
       "39   Forklift, order picker, platform truck-powered             483.0   \n",
       "104  Floors, walkways, ground surfaces, unspecified            9273.0   \n",
       "\n",
       "    Secondary Source Title  \n",
       "39                Trailers  \n",
       "104       Ice, sleet, snow  "
      ]
     },
     "execution_count": 17,
     "metadata": {},
     "output_type": "execute_result"
    }
   ],
   "source": [
    "emp.head()[:2]"
   ]
  },
  {
   "cell_type": "code",
   "execution_count": 18,
   "metadata": {
    "collapsed": true
   },
   "outputs": [],
   "source": [
    "# Plot Count by State"
   ]
  },
  {
   "cell_type": "code",
   "execution_count": 19,
   "metadata": {
    "collapsed": true
   },
   "outputs": [],
   "source": [
    "# Work with Time"
   ]
  },
  {
   "cell_type": "code",
   "execution_count": 20,
   "metadata": {},
   "outputs": [
    {
     "name": "stderr",
     "output_type": "stream",
     "text": [
      "D:\\WindowsApps\\Anaconda\\lib\\site-packages\\ipykernel\\__main__.py:1: SettingWithCopyWarning: \n",
      "A value is trying to be set on a copy of a slice from a DataFrame.\n",
      "Try using .loc[row_indexer,col_indexer] = value instead\n",
      "\n",
      "See the caveats in the documentation: http://pandas.pydata.org/pandas-docs/stable/indexing.html#indexing-view-versus-copy\n",
      "  if __name__ == '__main__':\n"
     ]
    }
   ],
   "source": [
    "emp['Date'] = pd.to_datetime(emp.EventDate) # date parse"
   ]
  },
  {
   "cell_type": "code",
   "execution_count": 21,
   "metadata": {},
   "outputs": [
    {
     "name": "stderr",
     "output_type": "stream",
     "text": [
      "D:\\WindowsApps\\Anaconda\\lib\\site-packages\\ipykernel\\__main__.py:1: SettingWithCopyWarning: \n",
      "A value is trying to be set on a copy of a slice from a DataFrame.\n",
      "Try using .loc[row_indexer,col_indexer] = value instead\n",
      "\n",
      "See the caveats in the documentation: http://pandas.pydata.org/pandas-docs/stable/indexing.html#indexing-view-versus-copy\n",
      "  if __name__ == '__main__':\n"
     ]
    }
   ],
   "source": [
    "emp['Year'] = emp.Date.dt.year # year"
   ]
  },
  {
   "cell_type": "code",
   "execution_count": 22,
   "metadata": {},
   "outputs": [
    {
     "name": "stderr",
     "output_type": "stream",
     "text": [
      "D:\\WindowsApps\\Anaconda\\lib\\site-packages\\ipykernel\\__main__.py:1: SettingWithCopyWarning: \n",
      "A value is trying to be set on a copy of a slice from a DataFrame.\n",
      "Try using .loc[row_indexer,col_indexer] = value instead\n",
      "\n",
      "See the caveats in the documentation: http://pandas.pydata.org/pandas-docs/stable/indexing.html#indexing-view-versus-copy\n",
      "  if __name__ == '__main__':\n"
     ]
    }
   ],
   "source": [
    "emp['YearMonth'] = emp['Date'].apply(lambda x:x.strftime('%Y%m')) # monthyear"
   ]
  },
  {
   "cell_type": "code",
   "execution_count": 23,
   "metadata": {},
   "outputs": [
    {
     "data": {
      "text/plain": [
       "<matplotlib.axes._subplots.AxesSubplot at 0x2939d0ab7b8>"
      ]
     },
     "execution_count": 23,
     "metadata": {},
     "output_type": "execute_result"
    },
    {
     "data": {
      "image/png": "[encoded data removed]",
      "text/plain": [
       "<matplotlib.figure.Figure at 0x2939d0855f8>"
      ]
     },
     "metadata": {},
     "output_type": "display_data"
    }
   ],
   "source": [
    "emp.YearMonth.value_counts().sort_index().plot()"
   ]
  },
  {
   "cell_type": "code",
   "execution_count": 61,
   "metadata": {},
   "outputs": [
    {
     "name": "stdout",
     "output_type": "stream",
     "text": [
      "            Employer YearMonth  Amputation\n",
      "0  Tyson Foods, Inc.    201501           1\n",
      "1  Tyson Foods, Inc.    201502           1\n",
      "2  Tyson Foods, Inc.    201503           4\n"
     ]
    }
   ],
   "source": [
    "amp_count = emp.groupby(['Employer','YearMonth'])\\\n",
    "[['Amputation']].count().reset_index()\n",
    "amp_count.Employer= amp_count.Employer.astype(\"category\")\n",
    "print(amp_count[:3])"
   ]
  },
  {
   "cell_type": "code",
   "execution_count": 64,
   "metadata": {},
   "outputs": [
    {
     "name": "stdout",
     "output_type": "stream",
     "text": [
      "Tyson Foods, Inc.              Employer YearMonth  Amputation\n",
      "0   Tyson Foods, Inc.    201501           1\n",
      "1   Tyson Foods, Inc.    201502           1\n",
      "2   Tyson Foods, Inc.    201503           4\n",
      "3   Tyson Foods, Inc.    201507           1\n",
      "4   Tyson Foods, Inc.    201508           3\n",
      "5   Tyson Foods, Inc.    201512           1\n",
      "6   Tyson Foods, Inc.    201601           1\n",
      "7   Tyson Foods, Inc.    201602           2\n",
      "8   Tyson Foods, Inc.    201603           2\n",
      "9   Tyson Foods, Inc.    201604           1\n",
      "10  Tyson Foods, Inc.    201605           1\n",
      "11  Tyson Foods, Inc.    201609           1\n",
      "U.S. POSTAL SERVICE                Employer YearMonth  Amputation\n",
      "12  U.S. POSTAL SERVICE    201501           4\n",
      "13  U.S. POSTAL SERVICE    201502           5\n",
      "14  U.S. POSTAL SERVICE    201503           1\n",
      "15  U.S. POSTAL SERVICE    201504           1\n",
      "16  U.S. POSTAL SERVICE    201505           1\n",
      "17  U.S. POSTAL SERVICE    201506           2\n",
      "18  U.S. POSTAL SERVICE    201507           3\n",
      "19  U.S. POSTAL SERVICE    201508           2\n",
      "20  U.S. POSTAL SERVICE    201509           2\n",
      "21  U.S. POSTAL SERVICE    201510           3\n",
      "22  U.S. POSTAL SERVICE    201512           3\n",
      "23  U.S. POSTAL SERVICE    201601           2\n",
      "24  U.S. POSTAL SERVICE    201602           1\n",
      "25  U.S. POSTAL SERVICE    201603           2\n",
      "26  U.S. POSTAL SERVICE    201605           1\n",
      "27  U.S. POSTAL SERVICE    201606           1\n",
      "28  U.S. POSTAL SERVICE    201607           5\n",
      "29  U.S. POSTAL SERVICE    201608           6\n",
      "30  U.S. POSTAL SERVICE    201609           2\n",
      "31  U.S. POSTAL SERVICE    201610           1\n",
      "32  U.S. POSTAL SERVICE    201611           2\n",
      "33  U.S. POSTAL SERVICE    201612           3\n",
      "34  U.S. POSTAL SERVICE    201701           4\n",
      "35  U.S. POSTAL SERVICE    201702           1\n",
      "U.S. Postal Service                Employer YearMonth  Amputation\n",
      "36  U.S. Postal Service    201501           9\n",
      "37  U.S. Postal Service    201502          11\n",
      "38  U.S. Postal Service    201503           5\n",
      "39  U.S. Postal Service    201504           5\n",
      "40  U.S. Postal Service    201505          11\n",
      "41  U.S. Postal Service    201506           3\n",
      "42  U.S. Postal Service    201507           7\n",
      "43  U.S. Postal Service    201508           7\n",
      "44  U.S. Postal Service    201509           3\n",
      "45  U.S. Postal Service    201510           4\n",
      "46  U.S. Postal Service    201511           1\n",
      "47  U.S. Postal Service    201512           5\n",
      "48  U.S. Postal Service    201601           9\n",
      "49  U.S. Postal Service    201602           5\n",
      "50  U.S. Postal Service    201604           2\n",
      "51  U.S. Postal Service    201605           3\n",
      "52  U.S. Postal Service    201606           2\n",
      "53  U.S. Postal Service    201607           5\n",
      "54  U.S. Postal Service    201608           9\n",
      "55  U.S. Postal Service    201609           3\n",
      "56  U.S. Postal Service    201610           5\n",
      "57  U.S. Postal Service    201611           3\n",
      "58  U.S. Postal Service    201612           4\n",
      "59  U.S. Postal Service    201701           2\n",
      "60  U.S. Postal Service    201702           6\n",
      "UPS    Employer YearMonth  Amputation\n",
      "61      UPS    201501           3\n",
      "62      UPS    201503           1\n",
      "63      UPS    201504           1\n",
      "64      UPS    201505           2\n",
      "65      UPS    201507           8\n",
      "66      UPS    201508           3\n",
      "67      UPS    201509           2\n",
      "68      UPS    201511           4\n",
      "69      UPS    201512           2\n",
      "70      UPS    201601           4\n",
      "71      UPS    201602           2\n",
      "72      UPS    201604           1\n",
      "73      UPS    201606           4\n",
      "74      UPS    201607           8\n",
      "75      UPS    201608           2\n",
      "76      UPS    201610           1\n",
      "77      UPS    201612           1\n",
      "78      UPS    201701           2\n",
      "US Postal Service              Employer YearMonth  Amputation\n",
      "79  US Postal Service    201501           4\n",
      "80  US Postal Service    201502           3\n",
      "81  US Postal Service    201503           1\n",
      "82  US Postal Service    201504           1\n",
      "83  US Postal Service    201505           1\n",
      "84  US Postal Service    201506           2\n",
      "85  US Postal Service    201507           1\n",
      "86  US Postal Service    201511           1\n",
      "87  US Postal Service    201512           1\n",
      "88  US Postal Service    201601           2\n",
      "89  US Postal Service    201602           3\n",
      "90  US Postal Service    201603           1\n",
      "91  US Postal Service    201604           3\n",
      "92  US Postal Service    201605           2\n",
      "93  US Postal Service    201606           2\n",
      "94  US Postal Service    201607           2\n",
      "95  US Postal Service    201609           1\n",
      "96  US Postal Service    201610           1\n",
      "97  US Postal Service    201611           1\n",
      "98  US Postal Service    201612           1\n",
      "USPS     Employer YearMonth  Amputation\n",
      "99      USPS    201504           2\n",
      "100     USPS    201506           2\n",
      "101     USPS    201507           4\n",
      "102     USPS    201508           4\n",
      "103     USPS    201510           1\n",
      "104     USPS    201511           2\n",
      "105     USPS    201512           1\n",
      "106     USPS    201601           2\n",
      "107     USPS    201602           1\n",
      "108     USPS    201604           1\n",
      "109     USPS    201605           4\n",
      "110     USPS    201606           3\n",
      "111     USPS    201607           2\n",
      "112     USPS    201608           2\n",
      "113     USPS    201610           1\n",
      "114     USPS    201612           3\n",
      "115     USPS    201701           1\n",
      "116     USPS    201702           4\n",
      "United Parcel Service                   Employer YearMonth  Amputation\n",
      "117  United Parcel Service    201501           1\n",
      "118  United Parcel Service    201503           2\n",
      "119  United Parcel Service    201504           1\n",
      "120  United Parcel Service    201505           1\n",
      "121  United Parcel Service    201506           1\n",
      "122  United Parcel Service    201507           3\n",
      "123  United Parcel Service    201509           2\n",
      "124  United Parcel Service    201512           3\n",
      "125  United Parcel Service    201601           2\n",
      "126  United Parcel Service    201602           1\n",
      "127  United Parcel Service    201603           1\n",
      "128  United Parcel Service    201604           1\n",
      "129  United Parcel Service    201606           2\n",
      "130  United Parcel Service    201607           3\n",
      "131  United Parcel Service    201608           2\n",
      "132  United Parcel Service    201609           1\n",
      "133  United Parcel Service    201610           2\n",
      "134  United Parcel Service    201701           1\n",
      "135  United Parcel Service    201702           1\n",
      "United States Postal Service                          Employer YearMonth  Amputation\n",
      "136  United States Postal Service    201501           3\n",
      "137  United States Postal Service    201502           2\n",
      "138  United States Postal Service    201503           1\n",
      "139  United States Postal Service    201507           3\n",
      "140  United States Postal Service    201508           2\n",
      "141  United States Postal Service    201509           1\n",
      "142  United States Postal Service    201510           1\n",
      "143  United States Postal Service    201511           5\n",
      "144  United States Postal Service    201512           1\n",
      "145  United States Postal Service    201601           1\n",
      "146  United States Postal Service    201602           2\n",
      "147  United States Postal Service    201604           1\n",
      "148  United States Postal Service    201605           1\n",
      "149  United States Postal Service    201606           5\n",
      "150  United States Postal Service    201607           5\n",
      "151  United States Postal Service    201608           5\n",
      "152  United States Postal Service    201609           3\n",
      "153  United States Postal Service    201610           1\n",
      "154  United States Postal Service    201611           2\n",
      "155  United States Postal Service    201612           3\n",
      "156  United States Postal Service    201701           2\n",
      "157  United States Postal Service    201702           3\n",
      "Walmart     Employer YearMonth  Amputation\n",
      "158  Walmart    201504           2\n",
      "159  Walmart    201505           1\n",
      "160  Walmart    201506           1\n",
      "161  Walmart    201507           1\n",
      "162  Walmart    201508           2\n",
      "163  Walmart    201509           3\n",
      "164  Walmart    201512           1\n",
      "165  Walmart    201601           2\n",
      "166  Walmart    201604           1\n",
      "167  Walmart    201607           1\n",
      "168  Walmart    201608           1\n",
      "169  Walmart    201609           1\n",
      "170  Walmart    201610           1\n",
      "171  Walmart    201701           1\n",
      "172  Walmart    201702           1\n",
      "Waste Management              Employer YearMonth  Amputation\n",
      "173  Waste Management    201503           3\n",
      "174  Waste Management    201505           1\n",
      "175  Waste Management    201507           3\n",
      "176  Waste Management    201510           1\n",
      "177  Waste Management    201604           1\n",
      "178  Waste Management    201606           2\n",
      "179  Waste Management    201607           1\n",
      "180  Waste Management    201608           1\n",
      "181  Waste Management    201612           1\n",
      "182  Waste Management    201702           2\n"
     ]
    }
   ],
   "source": [
    "for key, group in grouped:\n",
    "    print(key, group)"
   ]
  },
  {
   "cell_type": "code",
   "execution_count": 63,
   "metadata": {},
   "outputs": [
    {
     "data": {
      "image/png": "[encoded data removed]",
      "text/plain": [
       "<matplotlib.figure.Figure at 0x2939ff6c780>"
      ]
     },
     "metadata": {},
     "output_type": "display_data"
    }
   ],
   "source": [
    "fig, ax = plt.subplots()\n",
    "grouped = amp_count.groupby(['Employer'])\n",
    "for key, group in grouped:\n",
    "    group.plot('YearMonth', 'Amputation', label=key, ax=ax)\n",
    "\n",
    "plt.legend(loc='best')\n",
    "\n",
    "plt.show()"
   ]
  },
  {
   "cell_type": "code",
   "execution_count": 43,
   "metadata": {},
   "outputs": [
    {
     "data": {
      "text/plain": [
       "<matplotlib.axes._subplots.AxesSubplot at 0x2939f5b0c88>"
      ]
     },
     "execution_count": 43,
     "metadata": {},
     "output_type": "execute_result"
    },
    {
     "data": {
      "image/png": "[encoded data removed]",
      "text/plain": [
       "<matplotlib.figure.Figure at 0x2939faec908>"
      ]
     },
     "metadata": {},
     "output_type": "display_data"
    }
   ],
   "source": [
    "# data[['Sex','Survived']].groupby(['Sex']).mean().plot.bar(ax=ax[0])\n",
    "emp[['Employer','Amputation']]\\\n",
    ".groupby(['Employer'])[['Amputation']].sum().plot.bar()"
   ]
  },
  {
   "cell_type": "code",
   "execution_count": 46,
   "metadata": {},
   "outputs": [
    {
     "name": "stdout",
     "output_type": "stream",
     "text": [
      "animal          category\n",
      "count              int64\n",
      "date      datetime64[ns]\n",
      "dtype: object\n"
     ]
    },
    {
     "data": {
      "image/png": "[encoded data removed]",
      "text/plain": [
       "<matplotlib.figure.Figure at 0x2939fc2b390>"
      ]
     },
     "metadata": {},
     "output_type": "display_data"
    }
   ],
   "source": [
    "import matplotlib.pyplot as plt\n",
    "import pandas as pd\n",
    "from pandas import Timestamp\n",
    "\n",
    "\n",
    "df = pd.DataFrame({'animal': {12: 'dog', 44: 'dog', 47: 'dog', 69: 'rabbit', 76: 'rabbit', 84: 'dog', 122: 'rabbit', 162: 'rabbit', 177: 'rabbit', 190: 'rabbit', 217: 'dog', 219: 'dog', 220: 'dog', 226: 'rabbit'},\n",
    " 'count': {12: 34573, 44: 30676, 47: 41821, 69: 56880, 76: 73172, 84: 30581, 122: 52895, 162: 58430, 177: 57132, 190: 53903, 217: 32001, 219: 35776, 220: 31095, 226: 53809},\n",
    " 'date': {12: Timestamp('2014-12-29 00:00:00'), 44: Timestamp('2014-12-28 00:00:00'), 47: Timestamp('2014-12-31 00:00:00'), 69: Timestamp('2014-12-29 00:00:00'), 76: Timestamp('2014-12-31 00:00:00'), 84: Timestamp('2014-12-26 00:00:00'), 122: Timestamp('2014-12-25 00:00:00'), 162: Timestamp('2014-12-30 00:00:00'), 177: Timestamp('2014-12-27 00:00:00'), 190: Timestamp('2014-12-28 00:00:00'), 217: Timestamp('2014-12-27 00:00:00'), 219: Timestamp('2014-12-30 00:00:00'), 220: Timestamp('2014-12-25 00:00:00'), 226: Timestamp('2014-12-26 00:00:00')}})\n",
    "\n",
    "df['animal'] = df['animal'].astype('category')\n",
    "print(df.dtypes)\n",
    "df = df.set_index('date')\n",
    "\n",
    "\n",
    "df['day'] = df.index.day\n",
    "df = df.sort_values(by='day')\n",
    "fig, ax = plt.subplots()\n",
    "grouped = df.groupby(['animal'])\n",
    "for key, group in grouped:\n",
    "    group.plot('day', 'count', label=key, ax=ax)\n",
    "\n",
    "plt.legend(loc='best')\n",
    "\n",
    "plt.show()"
   ]
  },
  {
   "cell_type": "code",
   "execution_count": 56,
   "metadata": {},
   "outputs": [
    {
     "data": {
      "text/plain": [
       "<matplotlib.axes._subplots.AxesSubplot at 0x2939fccfcf8>"
      ]
     },
     "execution_count": 56,
     "metadata": {},
     "output_type": "execute_result"
    },
    {
     "data": {
      "image/png": "[encoded data removed]",
      "text/plain": [
       "<matplotlib.figure.Figure at 0x2939fcf09e8>"
      ]
     },
     "metadata": {},
     "output_type": "display_data"
    }
   ],
   "source": [
    "emp[['Employer','Year','Amputation']]\\\n",
    ".groupby(['Employer','Year'])[['Amputation']].sum().plot()"
   ]
  },
  {
   "cell_type": "code",
   "execution_count": 28,
   "metadata": {},
   "outputs": [
    {
     "ename": "ValueError",
     "evalue": "too many values to unpack (expected 2)",
     "output_type": "error",
     "traceback": [
      "\u001b[1;31m---------------------------------------------------------------------------\u001b[0m",
      "\u001b[1;31mValueError\u001b[0m                                Traceback (most recent call last)",
      "\u001b[1;32m<ipython-input-28-345cd3896416>\u001b[0m in \u001b[0;36m<module>\u001b[1;34m()\u001b[0m\n\u001b[0;32m      1\u001b[0m \u001b[0mdf_grouped\u001b[0m \u001b[1;33m=\u001b[0m \u001b[0memp\u001b[0m\u001b[1;33m[\u001b[0m\u001b[1;33m[\u001b[0m\u001b[1;34m'Employer'\u001b[0m\u001b[1;33m,\u001b[0m\u001b[1;34m'Year'\u001b[0m\u001b[1;33m,\u001b[0m \u001b[1;34m'Amputation'\u001b[0m\u001b[1;33m]\u001b[0m\u001b[1;33m]\u001b[0m\u001b[1;33m.\u001b[0m\u001b[0mgroupby\u001b[0m\u001b[1;33m(\u001b[0m\u001b[1;33m[\u001b[0m\u001b[1;34m'Employer'\u001b[0m\u001b[1;33m,\u001b[0m\u001b[1;34m'Year'\u001b[0m\u001b[1;33m]\u001b[0m\u001b[1;33m)\u001b[0m\u001b[1;33m\u001b[0m\u001b[0m\n\u001b[0;32m      2\u001b[0m \u001b[0mfig\u001b[0m\u001b[1;33m,\u001b[0m \u001b[0max\u001b[0m \u001b[1;33m=\u001b[0m \u001b[0mplt\u001b[0m\u001b[1;33m.\u001b[0m\u001b[0msubplots\u001b[0m\u001b[1;33m(\u001b[0m\u001b[1;33m)\u001b[0m\u001b[1;33m\u001b[0m\u001b[0m\n\u001b[1;32m----> 3\u001b[1;33m \u001b[1;32mfor\u001b[0m \u001b[0mkey\u001b[0m\u001b[1;33m,\u001b[0m \u001b[0mgroup\u001b[0m \u001b[1;32min\u001b[0m \u001b[0mamp_count\u001b[0m\u001b[1;33m:\u001b[0m\u001b[1;33m\u001b[0m\u001b[0m\n\u001b[0m\u001b[0;32m      4\u001b[0m     \u001b[0mgroup\u001b[0m\u001b[1;33m.\u001b[0m\u001b[0mplot\u001b[0m\u001b[1;33m(\u001b[0m\u001b[0mx\u001b[0m\u001b[1;33m=\u001b[0m \u001b[1;34m'Year'\u001b[0m\u001b[1;33m,\u001b[0m \u001b[0my\u001b[0m\u001b[1;33m=\u001b[0m\u001b[1;34m'Amputation'\u001b[0m\u001b[1;33m,\u001b[0m \u001b[0mlabel\u001b[0m\u001b[1;33m=\u001b[0m\u001b[0mkey\u001b[0m\u001b[1;33m,\u001b[0m \u001b[0max\u001b[0m\u001b[1;33m=\u001b[0m\u001b[0max\u001b[0m\u001b[1;33m)\u001b[0m\u001b[1;33m\u001b[0m\u001b[0m\n\u001b[0;32m      5\u001b[0m \u001b[1;33m\u001b[0m\u001b[0m\n",
      "\u001b[1;31mValueError\u001b[0m: too many values to unpack (expected 2)"
     ]
    },
    {
     "data": {
      "image/png": "[encoded data removed]",
      "text/plain": [
       "<matplotlib.figure.Figure at 0x2939dcf3b00>"
      ]
     },
     "metadata": {},
     "output_type": "display_data"
    }
   ],
   "source": [
    "df_grouped = emp[['Employer','Year', 'Amputation']].groupby(['Employer','Year'])\n",
    "fig, ax = plt.subplots()\n",
    "for key, group in amp_count:\n",
    "    group.plot(x= 'Year', y='Amputation', label=key, ax=ax)\n",
    "    \n",
    "plt.show()"
   ]
  },
  {
   "cell_type": "code",
   "execution_count": 27,
   "metadata": {},
   "outputs": [
    {
     "data": {
      "text/plain": [
       "<matplotlib.axes._subplots.AxesSubplot at 0x2939dbcf710>"
      ]
     },
     "execution_count": 27,
     "metadata": {},
     "output_type": "execute_result"
    },
    {
     "data": {
      "image/png": "[encoded data removed]",
      "text/plain": [
       "<matplotlib.figure.Figure at 0x2939da3a668>"
      ]
     },
     "metadata": {},
     "output_type": "display_data"
    }
   ],
   "source": [
    "sns.countplot('Amputation',hue='Employer',data=emp)"
   ]
  },
  {
   "cell_type": "code",
   "execution_count": 30,
   "metadata": {},
   "outputs": [
    {
     "data": {
      "text/plain": [
       "<matplotlib.axes._subplots.AxesSubplot at 0x2939de5f9e8>"
      ]
     },
     "execution_count": 30,
     "metadata": {},
     "output_type": "execute_result"
    },
    {
     "data": {
      "image/png": "[encoded data removed]",
      "text/plain": [
       "<matplotlib.figure.Figure at 0x2939de5af60>"
      ]
     },
     "metadata": {},
     "output_type": "display_data"
    }
   ],
   "source": [
    "sns.set(style=\"darkgrid\")\n",
    "sns.tsplot(data=amp_count, time=\"YearMonth\", value=\"Amputation\",\n",
    "           condition=\"Employer\")"
   ]
  },
  {
   "cell_type": "code",
   "execution_count": 31,
   "metadata": {
    "scrolled": false
   },
   "outputs": [
    {
     "data": {
      "text/plain": [
       "<matplotlib.axes._subplots.AxesSubplot at 0x2939dba7da0>"
      ]
     },
     "execution_count": 31,
     "metadata": {},
     "output_type": "execute_result"
    },
    {
     "data": {
      "image/png": "[encoded data removed]",
      "text/plain": [
       "<matplotlib.figure.Figure at 0x2939de8e4e0>"
      ]
     },
     "metadata": {},
     "output_type": "display_data"
    }
   ],
   "source": [
    "amp_count.plot()"
   ]
  },
  {
   "cell_type": "code",
   "execution_count": 32,
   "metadata": {
    "collapsed": true
   },
   "outputs": [],
   "source": [
    "?pd.groupby"
   ]
  },
  {
   "cell_type": "code",
   "execution_count": 33,
   "metadata": {},
   "outputs": [
    {
     "ename": "NameError",
     "evalue": "name 'iris' is not defined",
     "output_type": "error",
     "traceback": [
      "\u001b[1;31m---------------------------------------------------------------------------\u001b[0m",
      "\u001b[1;31mNameError\u001b[0m                                 Traceback (most recent call last)",
      "\u001b[1;32m<ipython-input-33-dea3170ce52b>\u001b[0m in \u001b[0;36m<module>\u001b[1;34m()\u001b[0m\n\u001b[0;32m      3\u001b[0m \u001b[1;31m# Plot tip as a function of toal bill across days\u001b[0m\u001b[1;33m\u001b[0m\u001b[1;33m\u001b[0m\u001b[0m\n\u001b[0;32m      4\u001b[0m g = sns.lmplot(x=\"sepal_length\", y=\"sepal_width\", hue=\"species\",\n\u001b[1;32m----> 5\u001b[1;33m                truncate=True, size=5, data=iris)\n\u001b[0m\u001b[0;32m      6\u001b[0m \u001b[1;33m\u001b[0m\u001b[0m\n\u001b[0;32m      7\u001b[0m \u001b[1;31m# Use more informative axis labels than are provided by default\u001b[0m\u001b[1;33m\u001b[0m\u001b[1;33m\u001b[0m\u001b[0m\n",
      "\u001b[1;31mNameError\u001b[0m: name 'iris' is not defined"
     ]
    }
   ],
   "source": [
    "sns.set()\n",
    "\n",
    "# Plot tip as a function of toal bill across days\n",
    "g = sns.lmplot(x=\"sepal_length\", y=\"sepal_width\", hue=\"species\",\n",
    "               truncate=True, size=5, data=iris)\n",
    "\n",
    "# Use more informative axis labels than are provided by default\n",
    "g.set_axis_labels(\"Sepal length (mm)\", \"Sepal width (mm)\")"
   ]
  },
  {
   "cell_type": "code",
   "execution_count": 34,
   "metadata": {},
   "outputs": [
    {
     "data": {
      "text/plain": [
       "<matplotlib.axes._subplots.AxesSubplot at 0x2939f5b77f0>"
      ]
     },
     "execution_count": 34,
     "metadata": {},
     "output_type": "execute_result"
    },
    {
     "data": {
      "image/png": "[encoded data removed]",
      "text/plain": [
       "<matplotlib.figure.Figure at 0x2939f5b0cf8>"
      ]
     },
     "metadata": {},
     "output_type": "display_data"
    }
   ],
   "source": [
    "emp.YearMonth.value_counts().sort_index().plot()"
   ]
  },
  {
   "cell_type": "code",
   "execution_count": 35,
   "metadata": {},
   "outputs": [
    {
     "data": {
      "text/plain": [
       "<matplotlib.axes._subplots.AxesSubplot at 0x2939f5cd908>"
      ]
     },
     "execution_count": 35,
     "metadata": {},
     "output_type": "execute_result"
    },
    {
     "data": {
      "image/png": "[encoded data removed]",
      "text/plain": [
       "<matplotlib.figure.Figure at 0x2939e2c3860>"
      ]
     },
     "metadata": {},
     "output_type": "display_data"
    }
   ],
   "source": [
    "df.plot() "
   ]
  },
  {
   "cell_type": "code",
   "execution_count": 36,
   "metadata": {
    "collapsed": true
   },
   "outputs": [],
   "source": [
    "# Nature Title Anlysis, split various ailments."
   ]
  },
  {
   "cell_type": "code",
   "execution_count": 37,
   "metadata": {},
   "outputs": [
    {
     "data": {
      "image/png": "[encoded data removed]",
      "text/plain": [
       "<matplotlib.figure.Figure at 0x2939e33c358>"
      ]
     },
     "metadata": {},
     "output_type": "display_data"
    }
   ],
   "source": [
    "# Plot Amputation vs. Hospitalization\n",
    "sns.jointplot(data=emp, x='Amputation', y='Hospitalized', kind='reg', color='g')\n",
    "sns.plt.show()"
   ]
  },
  {
   "cell_type": "code",
   "execution_count": 38,
   "metadata": {},
   "outputs": [
    {
     "data": {
      "text/html": [
       "<div>\n",
       "<style>\n",
       "    .dataframe thead tr:only-child th {\n",
       "        text-align: right;\n",
       "    }\n",
       "\n",
       "    .dataframe thead th {\n",
       "        text-align: left;\n",
       "    }\n",
       "\n",
       "    .dataframe tbody tr th {\n",
       "        vertical-align: top;\n",
       "    }\n",
       "</style>\n",
       "<table border=\"1\" class=\"dataframe\">\n",
       "  <thead>\n",
       "    <tr style=\"text-align: right;\">\n",
       "      <th>Hospitalized</th>\n",
       "      <th>0</th>\n",
       "      <th>1</th>\n",
       "      <th>2</th>\n",
       "    </tr>\n",
       "    <tr>\n",
       "      <th>Employer</th>\n",
       "      <th></th>\n",
       "      <th></th>\n",
       "      <th></th>\n",
       "    </tr>\n",
       "  </thead>\n",
       "  <tbody>\n",
       "    <tr>\n",
       "      <th>Tyson Foods, Inc.</th>\n",
       "      <td>7.0</td>\n",
       "      <td>12.0</td>\n",
       "      <td>NaN</td>\n",
       "    </tr>\n",
       "    <tr>\n",
       "      <th>U.S. POSTAL SERVICE</th>\n",
       "      <td>5.0</td>\n",
       "      <td>52.0</td>\n",
       "      <td>1.0</td>\n",
       "    </tr>\n",
       "    <tr>\n",
       "      <th>U.S. Postal Service</th>\n",
       "      <td>12.0</td>\n",
       "      <td>117.0</td>\n",
       "      <td>NaN</td>\n",
       "    </tr>\n",
       "    <tr>\n",
       "      <th>UPS</th>\n",
       "      <td>5.0</td>\n",
       "      <td>46.0</td>\n",
       "      <td>NaN</td>\n",
       "    </tr>\n",
       "    <tr>\n",
       "      <th>US Postal Service</th>\n",
       "      <td>3.0</td>\n",
       "      <td>31.0</td>\n",
       "      <td>NaN</td>\n",
       "    </tr>\n",
       "    <tr>\n",
       "      <th>USPS</th>\n",
       "      <td>NaN</td>\n",
       "      <td>40.0</td>\n",
       "      <td>NaN</td>\n",
       "    </tr>\n",
       "    <tr>\n",
       "      <th>United Parcel Service</th>\n",
       "      <td>1.0</td>\n",
       "      <td>30.0</td>\n",
       "      <td>NaN</td>\n",
       "    </tr>\n",
       "    <tr>\n",
       "      <th>United States Postal Service</th>\n",
       "      <td>3.0</td>\n",
       "      <td>50.0</td>\n",
       "      <td>NaN</td>\n",
       "    </tr>\n",
       "    <tr>\n",
       "      <th>Walmart</th>\n",
       "      <td>NaN</td>\n",
       "      <td>20.0</td>\n",
       "      <td>NaN</td>\n",
       "    </tr>\n",
       "    <tr>\n",
       "      <th>Waste Management</th>\n",
       "      <td>NaN</td>\n",
       "      <td>16.0</td>\n",
       "      <td>NaN</td>\n",
       "    </tr>\n",
       "  </tbody>\n",
       "</table>\n",
       "</div>"
      ],
      "text/plain": [
       "Hospitalized                     0      1    2\n",
       "Employer                                      \n",
       "Tyson Foods, Inc.              7.0   12.0  NaN\n",
       "U.S. POSTAL SERVICE            5.0   52.0  1.0\n",
       "U.S. Postal Service           12.0  117.0  NaN\n",
       "UPS                            5.0   46.0  NaN\n",
       "US Postal Service              3.0   31.0  NaN\n",
       "USPS                           NaN   40.0  NaN\n",
       "United Parcel Service          1.0   30.0  NaN\n",
       "United States Postal Service   3.0   50.0  NaN\n",
       "Walmart                        NaN   20.0  NaN\n",
       "Waste Management               NaN   16.0  NaN"
      ]
     },
     "execution_count": 38,
     "metadata": {},
     "output_type": "execute_result"
    }
   ],
   "source": [
    "## Pivot Table\n",
    "pd.pivot_table(emp, values='Amputation', \n",
    "               index=['Employer'], columns=['Hospitalized'], aggfunc='count')"
   ]
  },
  {
   "cell_type": "code",
   "execution_count": null,
   "metadata": {
    "collapsed": true
   },
   "outputs": [],
   "source": []
  },
  {
   "cell_type": "code",
   "execution_count": 40,
   "metadata": {
    "collapsed": true
   },
   "outputs": [],
   "source": [
    "# Map the Incident Count by State... zip"
   ]
  },
  {
   "cell_type": "code",
   "execution_count": null,
   "metadata": {
    "collapsed": true
   },
   "outputs": [],
   "source": []
  },
  {
   "cell_type": "code",
   "execution_count": null,
   "metadata": {
    "collapsed": true
   },
   "outputs": [],
   "source": []
  },
  {
   "cell_type": "markdown",
   "metadata": {
    "collapsed": true
   },
   "source": [
    "## Pre Processing"
   ]
  },
  {
   "cell_type": "code",
   "execution_count": null,
   "metadata": {
    "collapsed": true
   },
   "outputs": [],
   "source": [
    "from nltk.stem.lancaster import LancasterStemmer\n",
    "from nltk.stem.snowball import SnowballStemmer\n",
    "from nltk.stem.porter import *\n",
    "# ps = LancasterStemmer()\n",
    "# ps = PorterStemmer()\n",
    "ps = SnowballStemmer(\"english\")\n",
    "\n",
    "tokenizer = RegexpTokenizer(r'\\w+')\n",
    "stop_words = set(stopwords.words('english'))\n",
    "\n",
    "def preprocessing(data):\n",
    "    txt = data.str.lower().str.cat(sep=' ') #1\n",
    "    words = tokenizer.tokenize(txt) #2\n",
    "    words = [w for w in words if not w in stop_words] #3\n",
    "    words = [ps.stem(w) for w in words] #4\n",
    "    return words"
   ]
  },
  {
   "cell_type": "code",
   "execution_count": null,
   "metadata": {
    "collapsed": true
   },
   "outputs": [],
   "source": [
    "def cloud(text):\n",
    "    # Setting figure parameters\n",
    "    mpl.rcParams['figure.figsize']=(10.0,10.0)    #(6.0,4.0)\n",
    "    mpl.rcParams['font.size']=12                #10 \n",
    "    mpl.rcParams['savefig.dpi']=100             #72 \n",
    "    mpl.rcParams['figure.subplot.bottom']=.1 \n",
    "    \n",
    "    # Processing Text\n",
    "    stopwords = set(STOPWORDS) # Redundant\n",
    "    wordcloud = WordCloud(width=1600, height=800,\n",
    "                          background_color='black',\n",
    "                          stopwords=stopwords,\n",
    "                         ).generate(str(text))\n",
    "\n",
    "    print(wordcloud)\n",
    "    \n",
    "    # Output Visualization\n",
    "    fig = plt.figure(figsize=(20,10), facecolor='k')\n",
    "    plt.imshow(wordcloud)\n",
    "    plt.axis('off')\n",
    "    plt.tight_layout(pad=0)\n",
    "    plt.show()\n",
    "    #fig.savefig(\"wordcloud.png\", dpi=900)"
   ]
  },
  {
   "cell_type": "markdown",
   "metadata": {},
   "source": [
    "## Word Cloud and NGrams"
   ]
  },
  {
   "cell_type": "code",
   "execution_count": null,
   "metadata": {},
   "outputs": [],
   "source": [
    "cloud(preprocessing(df['Final Narrative']))"
   ]
  },
  {
   "cell_type": "code",
   "execution_count": null,
   "metadata": {
    "collapsed": true
   },
   "outputs": [],
   "source": [
    "from nltk.util import ngrams\n",
    "from collections import Counter\n",
    "\n",
    "def get_ngrams(text, n):\n",
    "    n_grams = ngrams((text), n)\n",
    "    return [ ' '.join(grams) for grams in n_grams]\n",
    "\n",
    "def gramfreq(text,n,num):\n",
    "    # Extracting bigrams\n",
    "    result = get_ngrams(text,n)\n",
    "    # Counting bigrams\n",
    "    result_count = Counter(result)\n",
    "    # Converting to the result to a data frame\n",
    "    df = pd.DataFrame.from_dict(result_count, orient='index')\n",
    "    df = df.rename(columns={'index':'words', 0:'frequency'}) # Renaming index column name\n",
    "    #----output----\n",
    "    print(df.sort_values([\"frequency\"],ascending=[0])[:num])"
   ]
  },
  {
   "cell_type": "code",
   "execution_count": null,
   "metadata": {},
   "outputs": [],
   "source": [
    "print(gramfreq(preprocessing(df['Final Narrative']),1,15))\n",
    "print(gramfreq(preprocessing(df['Final Narrative']),2,15))"
   ]
  },
  {
   "cell_type": "code",
   "execution_count": null,
   "metadata": {},
   "outputs": [],
   "source": [
    "print(gramfreq(preprocessing(df['Final Narrative']),3,15))\n",
    "print(gramfreq(preprocessing(df['Final Narrative']),4,15))"
   ]
  },
  {
   "cell_type": "markdown",
   "metadata": {},
   "source": [
    "## Supervised Learning"
   ]
  },
  {
   "cell_type": "markdown",
   "metadata": {},
   "source": [
    "### Functions"
   ]
  },
  {
   "cell_type": "code",
   "execution_count": null,
   "metadata": {
    "collapsed": true
   },
   "outputs": [],
   "source": [
    "# Function to create model features\n",
    "# for each review, records which uniqeue words out of the whole text body are present\n",
    "def find_features(document):\n",
    "    words = set(document)\n",
    "    features = {}\n",
    "    for w in word_features:\n",
    "        features[w] = (w in words)\n",
    "\n",
    "    return features"
   ]
  },
  {
   "cell_type": "markdown",
   "metadata": {},
   "source": [
    "### Row-Wise Pre-Processing"
   ]
  },
  {
   "cell_type": "code",
   "execution_count": null,
   "metadata": {},
   "outputs": [],
   "source": [
    "df['tokenized'] = df['Final Narrative'].astype(str).str.lower() # turn into lower case text\n",
    "df['tokenized'] = df.apply(lambda row: tokenizer.tokenize(row['tokenized']), axis=1) # apply tokenize to each row\n",
    "df['tokenized'] = df['tokenized'].apply(lambda x: [w for w in x if not w in stop_words]) # remove stopwords from each row\n",
    "#data['tokenized'] = data['tokenized'].apply(lambda x: [ps.stem(w) for w in x]) # apply stemming to each row\n",
    "\n",
    "# Word Bank\n",
    "all_words = nltk.FreqDist(preprocessing(df['Final Narrative'])) # calculate word occurence from whole block of text\n",
    "word_features= list(all_words.keys())[:5000] # 5000 most recurring unique words\n",
    "print(len(all_words))\n",
    "labtext= list(zip(df.tokenized, (df.Amputation)))\n",
    "# Tuple each review with its label"
   ]
  },
  {
   "cell_type": "code",
   "execution_count": null,
   "metadata": {
    "collapsed": true
   },
   "outputs": [],
   "source": [
    "# Apply function to data\n",
    "featuresets = [(find_features(text), Amputation) for (text, Amputation) in labtext]\n",
    "len(featuresets)"
   ]
  },
  {
   "cell_type": "code",
   "execution_count": null,
   "metadata": {
    "collapsed": true
   },
   "outputs": [],
   "source": [
    "training_set = featuresets[:15000]\n",
    "testing_set = featuresets[15000:]"
   ]
  },
  {
   "cell_type": "code",
   "execution_count": null,
   "metadata": {
    "collapsed": true
   },
   "outputs": [],
   "source": [
    "#?nltk.classify\n",
    "#?nltk.NaiveBayesClassifier.train"
   ]
  },
  {
   "cell_type": "markdown",
   "metadata": {
    "scrolled": true
   },
   "source": [
    "%%time\n",
    "%%memit\n",
    "classifier = nltk.NaiveBayesClassifier.train(training_set) # Very scalable algorithm\n",
    "note # Posterior = prior_occurence * likelihood / evidence\n",
    "\n",
    "print(\"Classifier accuracy percent:\",(nltk.classify.accuracy(classifier, testing_set))*100)\n",
    "print(classifier.show_most_informative_features(40))"
   ]
  },
  {
   "cell_type": "code",
   "execution_count": null,
   "metadata": {
    "collapsed": true
   },
   "outputs": [],
   "source": []
  },
  {
   "cell_type": "code",
   "execution_count": null,
   "metadata": {
    "collapsed": true
   },
   "outputs": [],
   "source": [
    "# Further Detailed Metric\n",
    "#print(\"Train Metrics: \", metrics.classification_report(y_train, y_train_pred))\n",
    "#print(\"Test Metrics: \", metrics.classification_report(newsgroups_test.target, y_test_pred))"
   ]
  },
  {
   "cell_type": "markdown",
   "metadata": {},
   "source": [
    "## Deep Natural Language Processing\n",
    "\n",
    "Focuses on semantic significance of words, extracting the Subject:predicate:object of each sentence.\n",
    "\n",
    "\"the flat tire was replaced by the driver.\" Here driver is the subject (actor), replaced is the predicate (action), and flat tire is the object (action)."
   ]
  },
  {
   "cell_type": "code",
   "execution_count": null,
   "metadata": {
    "collapsed": true
   },
   "outputs": [],
   "source": [
    "import jpype\n",
    "#from extractor import SOPExtractor\n",
    "#from chunker import PennTreebackChunker"
   ]
  },
  {
   "cell_type": "code",
   "execution_count": null,
   "metadata": {
    "collapsed": true
   },
   "outputs": [],
   "source": [
    "from chunker import PennTreebackChunker\n",
    "from extractor import SOPExtractor\n",
    "# Initialize chunker\n",
    "chunker = PennTreebackChunker()\n",
    "extractor = SOPExtractor(chunker)\n",
    "# function to extract triples\n",
    "def extract(sentence):\n",
    "    sentence = sentence if sentence[-1] == '.' else sentence+'.'\n",
    "    global extractor\n",
    "    sop_triplet = extractor.extract(sentence)\n",
    "    return sop_triplet\n",
    "sentences = [\n",
    "  'The quick brown fox jumps over the lazy dog.',\n",
    "  'A rare black squirrel has become a regular visitor to a suburban garden',\n",
    "  'The driver did not change the flat tire',\n",
    "  \"The driver crashed the bike white bumper\"\n",
    "]\n",
    "#Loop over sentence and extract triples\n",
    "for sentence in sentences:\n",
    "    sop_triplet = extract(sentence)\n",
    "    print sop_triplet.subject + ':' + sop_triplet.predicate + ':' + sop_\n",
    "triplet.object"
   ]
  },
  {
   "cell_type": "code",
   "execution_count": null,
   "metadata": {
    "collapsed": true
   },
   "outputs": [],
   "source": []
  }
 ],
 "metadata": {
  "kernelspec": {
   "display_name": "Python [default]",
   "language": "python",
   "name": "python3"
  },
  "language_info": {
   "codemirror_mode": {
    "name": "ipython",
    "version": 3
   },
   "file_extension": ".py",
   "mimetype": "text/x-python",
   "name": "python",
   "nbconvert_exporter": "python",
   "pygments_lexer": "ipython3",
   "version": "3.6.1"
  }
 },
 "nbformat": 4,
 "nbformat_minor": 2
}
