{
 "cells": [
  {
   "cell_type": "markdown",
   "metadata": {},
   "source": [
    "# Investing with SentDex\n",
    "https://pythonprogramming.net/data-acquisition-machine-learning/\n",
    "\n",
    "\n",
    "   "
   ]
  },
  {
   "cell_type": "code",
   "execution_count": 1,
   "metadata": {
    "collapsed": true
   },
   "outputs": [],
   "source": [
    "import pandas as pd\n",
    "import os\n",
    "import time\n",
    "from datetime import datetime\n",
    "from tqdm import tqdm\n",
    "\n",
    "from time import mktime\n",
    "import matplotlib\n",
    "import matplotlib.pyplot as plt\n",
    "from matplotlib import style\n",
    "\n",
    "style.use(\"dark_background\")\n",
    "\n",
    "import re\n",
    "\n",
    "path=r\"D:/My Computer/DATA/intraQuarter\""
   ]
  },
  {
   "cell_type": "code",
   "execution_count": 4,
   "metadata": {},
   "outputs": [
    {
     "name": "stderr",
     "output_type": "stream",
     "text": [
      "\n",
      "  0%|                                                                                           | 0/19 [00:00<?, ?it/s]\n",
      " 11%|████████▋                                                                          | 2/19 [00:00<00:01, 13.90it/s]\n",
      " 32%|██████████████████████████▏                                                        | 6/19 [00:00<00:00, 16.09it/s]\n",
      " 47%|███████████████████████████████████████▎                                           | 9/19 [00:00<00:00, 16.96it/s]\n",
      " 63%|███████████████████████████████████████████████████▊                              | 12/19 [00:00<00:00, 19.42it/s]\n",
      " 74%|████████████████████████████████████████████████████████████▍                     | 14/19 [00:00<00:00, 17.40it/s]\n",
      "100%|██████████████████████████████████████████████████████████████████████████████████| 19/19 [00:00<00:00, 23.76it/s]"
     ]
    },
    {
     "data": {
      "image/png": "[encoded data removed]",
      "text/plain": [
       "<matplotlib.figure.Figure at 0x2806c3c9860>"
      ]
     },
     "metadata": {},
     "output_type": "display_data"
    },
    {
     "name": "stdout",
     "output_type": "stream",
     "text": [
      "TotalDebtEquitymrq.csv\n"
     ]
    }
   ],
   "source": [
    "# Selecting the appropriate files\n",
    "def Key_Stats(gather=\"Total Debt/Equity (mrq)\"):\n",
    "    statspath = path+'/_KeyStats' # deeper folder\n",
    "    stock_list = [x[0] for x in os.walk(statspath)] \n",
    "    # 0th elements are the file path with name\n",
    "    # print(stock_list)\n",
    "    df = pd.DataFrame(columns = ['Date',\n",
    "                                 'Unix',\n",
    "                                 'Ticker',\n",
    "                                 'DE Ratio',\n",
    "                                 'Price',\n",
    "                                 'stock_p_change',\n",
    "                                 'SP500',\n",
    "                                 'sp500_p_change',\n",
    "                                 'Difference'])\n",
    "    \n",
    "    sp500_df = pd.DataFrame.from_csv(\"^GSPC.csv\")\n",
    "    #sp500_date['date'] = sp500_date.index\n",
    "    #sp500_date.reset_index()\n",
    "    \n",
    "    ticker_list= []\n",
    "\n",
    "    for each_dir in tqdm(stock_list[1:20]): \n",
    "        #this ignores the 0th element, which is folder path\n",
    "        each_file = os.listdir(each_dir)\n",
    "        #each folder's individualized path to proceed with parsing\n",
    "        ticker = each_dir.split(\"\\\\\")[1]\n",
    "        ticker_list.append(ticker)\n",
    "        \n",
    "        starting_stock_value = False\n",
    "        starting_sp500_value = False\n",
    "        \n",
    "        \n",
    "        if len(each_file) > 0:\n",
    "            # doesn't attempt empty files\n",
    "            for file in each_file:\n",
    "                date_stamp = datetime.strptime(file, '%Y%m%d%H%M%S.html')\n",
    "                #parses the name into date\n",
    "                unix_time = time.mktime(date_stamp.timetuple())\n",
    "                # transforms into unix time\n",
    "                #print(date_stamp, unix_time)\n",
    "                full_file_path = each_dir+'/'+file\n",
    "                #print(full_file_path)\n",
    "                #print(each_dir)\n",
    "                source = open(full_file_path,'r').read()\n",
    "                #print(source)\n",
    "                try:\n",
    "                    try:\n",
    "                        value = float(source.split(gather+':</td><td class=\"yfnc_tabledata1\">')[1].split('</td>')[0])\n",
    "                    #except:\n",
    "                    except:\n",
    "                        value = float(source.split(gather+':</td>\\n<td class=\"yfnc_tabledata1\">')[1].split('</td>')[0])\n",
    "                        #print(str(e),ticker,file)\n",
    "                        # Check where bug is at!\n",
    "                    \n",
    "                    # Try because not all companies will have the DE ratio, so this ignores those\n",
    "                    #value = float(source.split(gather+':</td><td class=\"yfnc_tabledata1\">')[1].split('</td>')[0])\n",
    "                    # Errors emerged when table format changed, so created try/except statement to handle it\n",
    "                    # Float\n",
    "                    # Dives into the source of crawled htlm, and selects data between both splits\n",
    "                    try:\n",
    "                        sp500_date = datetime.fromtimestamp(unix_time).strftime('%Y-%m-%d')\n",
    "                        # Transform ticket date into S&P equivalent\n",
    "                        row = sp500_df[(sp500_df.index == sp500_date)]\n",
    "                        #Apply the S&P row that equates the ticket time\n",
    "                        sp500_value = float(row[\"Adj Close\"])\n",
    "                        #Extract price value\n",
    "                    except:\n",
    "                        sp500_date = datetime.fromtimestamp(unix_time-259200).strftime('%Y-%m-%d')\n",
    "                        row = sp500_df[(sp500_df.index == sp500_date)]\n",
    "                        sp500_value = float(row[\"Adj Close\"])\n",
    "                    \n",
    "                    try:\n",
    "                        stock_price = float(source.split('</small><big><b>')[1].split('</b></big>')[0])\n",
    "                        #print(\"stock_price:\",stock_price,\"ticker:\", ticker)\n",
    "                    except:\n",
    "                        # <span id=\"yfs_l10_aa\">12.04</span>\n",
    "                        try:\n",
    "                            stock_price = (source.split('</small><big><b>')[1].split('</b></big>')[0])\n",
    "                            stock_price = re.search(r'(\\d{1,8}\\.\\d{1,8})', stock_price) \n",
    "                            #1-8 digits . (\\to have symbol not expression) 1-8 digit\n",
    "                            stock_price= float(stock_price.group(1))\n",
    "                            #print(stock_price)\n",
    "                        except:\n",
    "                            try:\n",
    "                                stock_price = (source.split('<span class=\"time_rtq_ticker\">')[1].split('</span>')[0])\n",
    "                                #print(stock_price)\n",
    "                                stock_price = re.search(r'(\\d{1,8}\\.\\d{1,8})', stock_price)\n",
    "                                stock_price = float(stock_price.group(1))\n",
    "                                #print(stock_price)\n",
    "                            except:\n",
    "                                \n",
    "                                print('wtf stock price lol',ticker,file, value)\n",
    "                                time.sleep(5)\n",
    "\n",
    "                    if not starting_stock_value: #If false\n",
    "                        starting_stock_value = stock_price\n",
    "                    if not starting_sp500_value: #If false\n",
    "                        starting_sp500_value = sp500_value\n",
    "                    \n",
    "                    \n",
    "                    stock_p_change= ((stock_price - starting_stock_value) / starting_stock_value)\n",
    "                    sp500_p_change= ((sp500_value - starting_sp500_value) / starting_sp500_value)\n",
    "                    \n",
    "                    difference = stock_p_change-sp500_p_change\n",
    "                    \n",
    "                    df = df.append({'Date':date_stamp,\n",
    "                                    'Unix':unix_time,\n",
    "                                    'Ticker':ticker,\n",
    "                                    'DE Ratio':value,\n",
    "                                    'Price':stock_price,\n",
    "                                    'stock_p_change':stock_p_change,\n",
    "                                    'SP500':sp500_value,\n",
    "                                    'sp500_p_change':sp500_p_change,\n",
    "                                    'Difference':difference}, ignore_index = True)\n",
    "                    # Append a Dictionary of VALUE: Must ignore index\n",
    "                except Exception as e:\n",
    "                    pass\n",
    "                    #print(str(e))\n",
    "                \n",
    "                #print(ticker+\":\",value) # dont need this once results are saved to DF\n",
    "                \n",
    "    for each_ticker in ticker_list:\n",
    "        try:\n",
    "            plot_df= df[(df['Ticker']== each_ticker)]\n",
    "            plot_df = plot_df.set_index(['Date'])\n",
    "            \n",
    "            plot_df['Difference'].plot(label=each_ticker)\n",
    "        except:\n",
    "            pass\n",
    "    \n",
    "    plt.show()\n",
    "    \n",
    "    save = gather.replace(' ','').replace(')','').replace('(','').replace('/','')+('.csv')\n",
    "    # removes punctuation and spaced from \"Total Debt/Equity (mrq)\n",
    "    print(save)\n",
    "    df.to_csv(save)\n",
    "    \n",
    "Key_Stats()"
   ]
  },
  {
   "cell_type": "code",
   "execution_count": null,
   "metadata": {},
   "outputs": [],
   "source": [
    "print(\"hi\")"
   ]
  },
  {
   "cell_type": "code",
   "execution_count": null,
   "metadata": {
    "collapsed": true
   },
   "outputs": [],
   "source": []
  }
 ],
 "metadata": {
  "kernelspec": {
   "display_name": "Python [conda env:tensorflow]",
   "language": "python",
   "name": "conda-env-tensorflow-py"
  },
  "language_info": {
   "codemirror_mode": {
    "name": "ipython",
    "version": 3
   },
   "file_extension": ".py",
   "mimetype": "text/x-python",
   "name": "python",
   "nbconvert_exporter": "python",
   "pygments_lexer": "ipython3",
   "version": "3.5.3"
  }
 },
 "nbformat": 4,
 "nbformat_minor": 2
}
