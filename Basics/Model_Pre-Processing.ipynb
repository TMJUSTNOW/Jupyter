{
 "cells": [
  {
   "cell_type": "code",
   "execution_count": 1,
   "metadata": {},
   "outputs": [],
   "source": [
    "import os\n",
    "import pandas as pd\n",
    "os.chdir(r\"C:\\Users\\Nicol\\Google Drive\\Learning\\Jupyter\")"
   ]
  },
  {
   "cell_type": "markdown",
   "metadata": {},
   "source": [
    "## Scaling, Filling NA"
   ]
  },
  {
   "cell_type": "code",
   "execution_count": 3,
   "metadata": {},
   "outputs": [],
   "source": [
    "# Pre-processing \n",
    "from sklearn.preprocessing import StandardScaler\n",
    "from sklearn.model_selection import train_test_split\n",
    "\n",
    "# read the data in\n",
    "df = pd.read_csv(\"Data/Diabetes.csv\")\n",
    "# Let's use some weak features as predictors\n",
    "predictors = ['age','serum_insulin']\n",
    "target = 'class'\n",
    "# Most common preprocessing step include label encoding and missing value treatment\n",
    "from sklearn import preprocessing\n",
    "for f in df.columns:\n",
    "    if df[f].dtype=='object':\n",
    "        lbl = preprocessing.LabelEncoder()\n",
    "        lbl.fit(list(df[f].values))\n",
    "        df[f] = lbl.transform(list(df[f].values))\n",
    "        \n",
    "df.fillna((-999), inplace=True) # missing value treatment\n",
    "# Let's use some week features to build the tree\n",
    "X = df[['age','serum_insulin']] # independent variables\n",
    "y = df['class'].values # dependent variables\n",
    "\n",
    "#Normalize\n",
    "X = StandardScaler().fit_transform(X)\n",
    "# evaluate the model by splitting into train and test sets\n",
    "X_train, X_test, y_train, y_test = train_test_split(X, y, test_size=0.2,\n",
    "random_state=2017)\n",
    "num_rounds = 100"
   ]
  },
  {
   "cell_type": "markdown",
   "metadata": {},
   "source": [
    "## XGBOOST"
   ]
  },
  {
   "cell_type": "code",
   "execution_count": 4,
   "metadata": {
    "collapsed": true
   },
   "outputs": [],
   "source": [
    "from sklearn.model_selection import cross_val_score\n",
    "from sklearn import metrics\n",
    "\n",
    "import os\n",
    "mingw_path = 'C:\\\\Program Files\\\\mingw-w64\\\\x86_64-5.3.0-posix-seh-rt_v4-rev0\\\\mingw64\\\\bin'\n",
    "os.environ['PATH'] = mingw_path + ';' + os.environ['PATH']\n",
    "import xgboost as xgb\n",
    "from xgboost.sklearn import XGBClassifier"
   ]
  },
  {
   "cell_type": "code",
   "execution_count": 5,
   "metadata": {},
   "outputs": [
    {
     "name": "stdout",
     "output_type": "stream",
     "text": [
      "\n",
      "xgBoost - CV Train : 0.69\n",
      "xgBoost - Train : 0.75\n",
      "xgBoost - Test : 0.69\n"
     ]
    }
   ],
   "source": [
    "clf_XGB = XGBClassifier(n_estimators = num_rounds,\n",
    "objective= 'binary:logistic',\n",
    "seed=2017)\n",
    "# use early_stopping_rounds to stop the cv when there is no score imporovement\n",
    "clf_XGB.fit(X_train,y_train, early_stopping_rounds=20, eval_set=[(X_test,\n",
    "y_test)], verbose=False)\n",
    "results = cross_val_score(clf_XGB, X_train,y_train, cv=5)\n",
    "print(\"\\nxgBoost - CV Train : %.2f\" % results.mean())\n",
    "print(\"xgBoost - Train : %.2f\" % metrics.accuracy_score(clf_XGB.predict(X_train), y_train))\n",
    "print(\"xgBoost - Test : %.2f\" % metrics.accuracy_score(clf_XGB.predict(X_test), y_test))"
   ]
  },
  {
   "cell_type": "code",
   "execution_count": 6,
   "metadata": {},
   "outputs": [
    {
     "name": "stdout",
     "output_type": "stream",
     "text": [
      "Optimal number of trees/estimators is 7\n",
      "[0]\ttest-error:0.344156\ttrain-error:0.299674\n",
      "[1]\ttest-error:0.324675\ttrain-error:0.273616\n",
      "[2]\ttest-error:0.272727\ttrain-error:0.281759\n",
      "[3]\ttest-error:0.266234\ttrain-error:0.278502\n",
      "[4]\ttest-error:0.266234\ttrain-error:0.273616\n",
      "[5]\ttest-error:0.311688\ttrain-error:0.254072\n",
      "[6]\ttest-error:0.318182\ttrain-error:0.254072\n",
      "XGB - Train : 0.75\n",
      "XGB - Test : 0.69\n"
     ]
    }
   ],
   "source": [
    "xgtrain = xgb.DMatrix(X_train, label=y_train, missing=-999)\n",
    "xgtest = xgb.DMatrix(X_test, label=y_test, missing=-999)\n",
    "# set xgboost params\n",
    "param = {'max_depth': 3, # the maximum depth of each tree\n",
    "'objective': 'binary:logistic'}\n",
    "clf_xgb_cv = xgb.cv(param, xgtrain, num_rounds,\n",
    "stratified=True,\n",
    "nfold=5,\n",
    "early_stopping_rounds=20,\n",
    "seed=2017)\n",
    "print (\"Optimal number of trees/estimators is %i\" % clf_xgb_cv.shape[0])\n",
    "watchlist = [(xgtest,'test'), (xgtrain,'train')]\n",
    "clf_xgb = xgb.train(param, xgtrain,clf_xgb_cv.shape[0], watchlist)\n",
    "# predict function will produce the probability\n",
    "# so we'll use 0.5 cutoff to convert probability to class label\n",
    "y_train_pred = (clf_xgb.predict(xgtrain, ntree_limit=clf_xgb.best_iteration)\n",
    "> 0.5).astype(int)\n",
    "y_test_pred = (clf_xgb.predict(xgtest, ntree_limit=clf_xgb.best_iteration) >\n",
    "0.5).astype(int)\n",
    "print(\"XGB - Train : %.2f\" % metrics.accuracy_score(y_train_pred, y_train))\n",
    "print(\"XGB - Test : %.2f\" % metrics.accuracy_score(y_test_pred, y_test))"
   ]
  },
  {
   "cell_type": "code",
   "execution_count": null,
   "metadata": {
    "collapsed": true
   },
   "outputs": [],
   "source": []
  }
 ],
 "metadata": {
  "kernelspec": {
   "display_name": "Python [conda env:tensorflow]",
   "language": "python",
   "name": "conda-env-tensorflow-py"
  },
  "language_info": {
   "codemirror_mode": {
    "name": "ipython",
    "version": 3
   },
   "file_extension": ".py",
   "mimetype": "text/x-python",
   "name": "python",
   "nbconvert_exporter": "python",
   "pygments_lexer": "ipython3",
   "version": "3.5.3"
  }
 },
 "nbformat": 4,
 "nbformat_minor": 2
}
