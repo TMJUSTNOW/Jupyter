{
 "cells": [
  {
   "cell_type": "markdown",
   "metadata": {},
   "source": [
    "# Pandas \n",
    "\n",
    "Pandas is the relational database package of python. It is a recent creation which is built off of numpy, which ensures computational efficiency. It is fairly self suffcient, enabling I/O, indexing, merging, grouping and aggregation, pivot tables, aswell as a path into plotting.\n",
    "\n",
    "To emphasize Panda's connection with Numpy, a pandas series is merely a numpy array with an index. Furthermore, the Pandas DataFrame is merely a flexibile collection of arrays that can harbor multiple data types."
   ]
  },
  {
   "cell_type": "code",
   "execution_count": 2,
   "metadata": {
    "collapsed": true
   },
   "outputs": [],
   "source": [
    "import pandas as pd\n",
    "import numpy as np\n",
    "import os"
   ]
  },
  {
   "cell_type": "markdown",
   "metadata": {},
   "source": [
    "### Read DataFrames\n",
    "\n",
    "Able to read a wide range of formats, from csv to excel and word to pdfs!"
   ]
  },
  {
   "cell_type": "code",
   "execution_count": 3,
   "metadata": {
    "collapsed": true
   },
   "outputs": [],
   "source": [
    "#result = dict(docs = [open(os.path.join(dir_path,f)).read() for f in os.listdir(dir_path)]"
   ]
  },
  {
   "cell_type": "code",
   "execution_count": 8,
   "metadata": {},
   "outputs": [
    {
     "data": {
      "text/plain": [
       "'/Users/nicapotato/Google Drive/Learning/Jupyter/Data'"
      ]
     },
     "execution_count": 8,
     "metadata": {},
     "output_type": "execute_result"
    }
   ],
   "source": [
    "os.chdir(r\"/Users/nicapotato/Google Drive/Learning/Jupyter/Data\") #Mac\n",
    "# os.chdir(r\"C:\\Users\\Nicol\\Google Drive\\Learning\\Jupyter\\Data\") #Windows \n",
    "os.getcwd()"
   ]
  },
  {
   "cell_type": "code",
   "execution_count": 9,
   "metadata": {},
   "outputs": [
    {
     "data": {
      "text/html": [
       "<div>\n",
       "<style>\n",
       "    .dataframe thead tr:only-child th {\n",
       "        text-align: right;\n",
       "    }\n",
       "\n",
       "    .dataframe thead th {\n",
       "        text-align: left;\n",
       "    }\n",
       "\n",
       "    .dataframe tbody tr th {\n",
       "        vertical-align: top;\n",
       "    }\n",
       "</style>\n",
       "<table border=\"1\" class=\"dataframe\">\n",
       "  <thead>\n",
       "    <tr style=\"text-align: right;\">\n",
       "      <th></th>\n",
       "      <th>Emp_ID</th>\n",
       "      <th>Gender</th>\n",
       "      <th>Age</th>\n",
       "    </tr>\n",
       "  </thead>\n",
       "  <tbody>\n",
       "    <tr>\n",
       "      <th>0</th>\n",
       "      <td>E01</td>\n",
       "      <td>F</td>\n",
       "      <td>25</td>\n",
       "    </tr>\n",
       "    <tr>\n",
       "      <th>1</th>\n",
       "      <td>E02</td>\n",
       "      <td>M</td>\n",
       "      <td>27</td>\n",
       "    </tr>\n",
       "    <tr>\n",
       "      <th>2</th>\n",
       "      <td>E03</td>\n",
       "      <td>M</td>\n",
       "      <td>25</td>\n",
       "    </tr>\n",
       "  </tbody>\n",
       "</table>\n",
       "</div>"
      ],
      "text/plain": [
       "  Emp_ID Gender  Age\n",
       "0    E01      F   25\n",
       "1    E02      M   27\n",
       "2    E03      M   25"
      ]
     },
     "execution_count": 9,
     "metadata": {},
     "output_type": "execute_result"
    }
   ],
   "source": [
    "data = {'Gender': ['F', 'M', 'M'],\n",
    "        'Emp_ID': ['E01', 'E02','E03'],\n",
    "        'Age': [25, 27, 25]}\n",
    "# We want the order the columns, so lets specify in columns parameter\n",
    "df = pd.DataFrame(data, \n",
    "    columns=['Emp_ID','Gender', 'Age'])\n",
    "df"
   ]
  },
  {
   "cell_type": "code",
   "execution_count": 10,
   "metadata": {
    "collapsed": true
   },
   "outputs": [],
   "source": [
    "df= pd.read_csv(\"shanghaiData.csv\")"
   ]
  },
  {
   "cell_type": "code",
   "execution_count": 11,
   "metadata": {},
   "outputs": [
    {
     "data": {
      "text/html": [
       "<div>\n",
       "<style>\n",
       "    .dataframe thead tr:only-child th {\n",
       "        text-align: right;\n",
       "    }\n",
       "\n",
       "    .dataframe thead th {\n",
       "        text-align: left;\n",
       "    }\n",
       "\n",
       "    .dataframe tbody tr th {\n",
       "        vertical-align: top;\n",
       "    }\n",
       "</style>\n",
       "<table border=\"1\" class=\"dataframe\">\n",
       "  <thead>\n",
       "    <tr style=\"text-align: right;\">\n",
       "      <th></th>\n",
       "      <th>world_rank</th>\n",
       "      <th>university_name</th>\n",
       "      <th>national_rank</th>\n",
       "      <th>total_score</th>\n",
       "      <th>alumni</th>\n",
       "      <th>award</th>\n",
       "      <th>hici</th>\n",
       "      <th>ns</th>\n",
       "      <th>pub</th>\n",
       "      <th>pcp</th>\n",
       "      <th>year</th>\n",
       "    </tr>\n",
       "  </thead>\n",
       "  <tbody>\n",
       "    <tr>\n",
       "      <th>0</th>\n",
       "      <td>1</td>\n",
       "      <td>Harvard University</td>\n",
       "      <td>1</td>\n",
       "      <td>100.0</td>\n",
       "      <td>100.0</td>\n",
       "      <td>100.0</td>\n",
       "      <td>100.0</td>\n",
       "      <td>100.0</td>\n",
       "      <td>100.0</td>\n",
       "      <td>72.4</td>\n",
       "      <td>2005</td>\n",
       "    </tr>\n",
       "    <tr>\n",
       "      <th>1</th>\n",
       "      <td>2</td>\n",
       "      <td>University of Cambridge</td>\n",
       "      <td>1</td>\n",
       "      <td>73.6</td>\n",
       "      <td>99.8</td>\n",
       "      <td>93.4</td>\n",
       "      <td>53.3</td>\n",
       "      <td>56.6</td>\n",
       "      <td>70.9</td>\n",
       "      <td>66.9</td>\n",
       "      <td>2005</td>\n",
       "    </tr>\n",
       "    <tr>\n",
       "      <th>2</th>\n",
       "      <td>3</td>\n",
       "      <td>Stanford University</td>\n",
       "      <td>2</td>\n",
       "      <td>73.4</td>\n",
       "      <td>41.1</td>\n",
       "      <td>72.2</td>\n",
       "      <td>88.5</td>\n",
       "      <td>70.9</td>\n",
       "      <td>72.3</td>\n",
       "      <td>65.0</td>\n",
       "      <td>2005</td>\n",
       "    </tr>\n",
       "    <tr>\n",
       "      <th>3</th>\n",
       "      <td>4</td>\n",
       "      <td>University of California, Berkeley</td>\n",
       "      <td>3</td>\n",
       "      <td>72.8</td>\n",
       "      <td>71.8</td>\n",
       "      <td>76.0</td>\n",
       "      <td>69.4</td>\n",
       "      <td>73.9</td>\n",
       "      <td>72.2</td>\n",
       "      <td>52.7</td>\n",
       "      <td>2005</td>\n",
       "    </tr>\n",
       "    <tr>\n",
       "      <th>4</th>\n",
       "      <td>5</td>\n",
       "      <td>Massachusetts Institute of Technology (MIT)</td>\n",
       "      <td>4</td>\n",
       "      <td>70.1</td>\n",
       "      <td>74.0</td>\n",
       "      <td>80.6</td>\n",
       "      <td>66.7</td>\n",
       "      <td>65.8</td>\n",
       "      <td>64.3</td>\n",
       "      <td>53.0</td>\n",
       "      <td>2005</td>\n",
       "    </tr>\n",
       "  </tbody>\n",
       "</table>\n",
       "</div>"
      ],
      "text/plain": [
       "  world_rank                              university_name national_rank  \\\n",
       "0          1                           Harvard University             1   \n",
       "1          2                      University of Cambridge             1   \n",
       "2          3                          Stanford University             2   \n",
       "3          4           University of California, Berkeley             3   \n",
       "4          5  Massachusetts Institute of Technology (MIT)             4   \n",
       "\n",
       "   total_score  alumni  award   hici     ns    pub   pcp  year  \n",
       "0        100.0   100.0  100.0  100.0  100.0  100.0  72.4  2005  \n",
       "1         73.6    99.8   93.4   53.3   56.6   70.9  66.9  2005  \n",
       "2         73.4    41.1   72.2   88.5   70.9   72.3  65.0  2005  \n",
       "3         72.8    71.8   76.0   69.4   73.9   72.2  52.7  2005  \n",
       "4         70.1    74.0   80.6   66.7   65.8   64.3  53.0  2005  "
      ]
     },
     "execution_count": 11,
     "metadata": {},
     "output_type": "execute_result"
    }
   ],
   "source": [
    "pd.set_option('display.max_columns', None)\n",
    "pd.set_option('max_colwidth', 1000)\n",
    "df.head()"
   ]
  },
  {
   "cell_type": "code",
   "execution_count": 12,
   "metadata": {
    "collapsed": true
   },
   "outputs": [],
   "source": [
    "## Important functions"
   ]
  },
  {
   "cell_type": "code",
   "execution_count": 13,
   "metadata": {},
   "outputs": [
    {
     "data": {
      "text/plain": [
       "world_rank          object\n",
       "university_name     object\n",
       "national_rank       object\n",
       "total_score        float64\n",
       "alumni             float64\n",
       "award              float64\n",
       "hici               float64\n",
       "ns                 float64\n",
       "pub                float64\n",
       "pcp                float64\n",
       "year                 int64\n",
       "dtype: object"
      ]
     },
     "execution_count": 13,
     "metadata": {},
     "output_type": "execute_result"
    }
   ],
   "source": [
    "df.dtypes # type!"
   ]
  },
  {
   "cell_type": "code",
   "execution_count": 14,
   "metadata": {},
   "outputs": [
    {
     "data": {
      "text/plain": [
       "array([['1', 'Harvard University', '1', ..., 100.0, 72.4, 2005],\n",
       "       ['2', 'University of Cambridge', '1', ..., 70.9, 66.9, 2005],\n",
       "       ['3', 'Stanford University', '2', ..., 72.3, 65.0, 2005],\n",
       "       ..., \n",
       "       ['401-500', 'Utah State University', '126-146', ..., 25.1, 15.5,\n",
       "        2015],\n",
       "       ['401-500', 'Vienna University of Technology', '4-6', ..., 28.8,\n",
       "        22.9, 2015],\n",
       "       ['401-500', 'Wake Forest University', '126-146', ..., 25.0, 11.9,\n",
       "        2015]], dtype=object)"
      ]
     },
     "execution_count": 14,
     "metadata": {},
     "output_type": "execute_result"
    }
   ],
   "source": [
    "df.values # outputs array of values"
   ]
  },
  {
   "cell_type": "markdown",
   "metadata": {
    "collapsed": true
   },
   "source": [
    "## Dictionaries"
   ]
  },
  {
   "cell_type": "code",
   "execution_count": 42,
   "metadata": {},
   "outputs": [
    {
     "name": "stdout",
     "output_type": "stream",
     "text": [
      "<bound method NDFrame.keys of    col1\n",
      "0     6\n",
      "1     7\n",
      "2     8\n",
      "3     9\n",
      "4    10>\n"
     ]
    }
   ],
   "source": [
    "dic1 = pd.DataFrame({'col1': [1,2,3,4,5],'col1': [6,7,8,9,10,]})\n",
    "print(dic1.keys)\n",
    "#print(dic1.values)"
   ]
  },
  {
   "cell_type": "markdown",
   "metadata": {},
   "source": [
    "## Index\n",
    "\n",
    "A bit more convuluded than its R Studio counterpart, but once the explicit/implicit indexing is understood, the major difference is breached."
   ]
  },
  {
   "cell_type": "code",
   "execution_count": 15,
   "metadata": {
    "collapsed": true
   },
   "outputs": [],
   "source": [
    "# df.loc[1] # Selects by Index name - Explicit\n",
    "# df.iloc[1:2] # Selects by Index Position- Implicit"
   ]
  },
  {
   "cell_type": "code",
   "execution_count": 16,
   "metadata": {},
   "outputs": [
    {
     "data": {
      "text/html": [
       "<div>\n",
       "<style>\n",
       "    .dataframe thead tr:only-child th {\n",
       "        text-align: right;\n",
       "    }\n",
       "\n",
       "    .dataframe thead th {\n",
       "        text-align: left;\n",
       "    }\n",
       "\n",
       "    .dataframe tbody tr th {\n",
       "        vertical-align: top;\n",
       "    }\n",
       "</style>\n",
       "<table border=\"1\" class=\"dataframe\">\n",
       "  <thead>\n",
       "    <tr style=\"text-align: right;\">\n",
       "      <th></th>\n",
       "      <th>national_rank</th>\n",
       "      <th>award</th>\n",
       "    </tr>\n",
       "  </thead>\n",
       "  <tbody>\n",
       "    <tr>\n",
       "      <th>0</th>\n",
       "      <td>1</td>\n",
       "      <td>100.0</td>\n",
       "    </tr>\n",
       "    <tr>\n",
       "      <th>1</th>\n",
       "      <td>1</td>\n",
       "      <td>93.4</td>\n",
       "    </tr>\n",
       "    <tr>\n",
       "      <th>2</th>\n",
       "      <td>2</td>\n",
       "      <td>72.2</td>\n",
       "    </tr>\n",
       "    <tr>\n",
       "      <th>3</th>\n",
       "      <td>3</td>\n",
       "      <td>76.0</td>\n",
       "    </tr>\n",
       "    <tr>\n",
       "      <th>4</th>\n",
       "      <td>4</td>\n",
       "      <td>80.6</td>\n",
       "    </tr>\n",
       "  </tbody>\n",
       "</table>\n",
       "</div>"
      ],
      "text/plain": [
       "  national_rank  award\n",
       "0             1  100.0\n",
       "1             1   93.4\n",
       "2             2   72.2\n",
       "3             3   76.0\n",
       "4             4   80.6"
      ]
     },
     "execution_count": 16,
     "metadata": {},
     "output_type": "execute_result"
    }
   ],
   "source": [
    "# df[[\"national_rank\",\"award\"]] [:5]\n",
    "df.loc[0:4,['national_rank','award']]"
   ]
  },
  {
   "cell_type": "code",
   "execution_count": 17,
   "metadata": {
    "scrolled": true
   },
   "outputs": [
    {
     "data": {
      "text/html": [
       "<div>\n",
       "<style>\n",
       "    .dataframe thead tr:only-child th {\n",
       "        text-align: right;\n",
       "    }\n",
       "\n",
       "    .dataframe thead th {\n",
       "        text-align: left;\n",
       "    }\n",
       "\n",
       "    .dataframe tbody tr th {\n",
       "        vertical-align: top;\n",
       "    }\n",
       "</style>\n",
       "<table border=\"1\" class=\"dataframe\">\n",
       "  <thead>\n",
       "    <tr style=\"text-align: right;\">\n",
       "      <th></th>\n",
       "      <th>university_name</th>\n",
       "      <th>national_rank</th>\n",
       "      <th>award</th>\n",
       "      <th>hici</th>\n",
       "    </tr>\n",
       "  </thead>\n",
       "  <tbody>\n",
       "    <tr>\n",
       "      <th>0</th>\n",
       "      <td>Harvard University</td>\n",
       "      <td>1</td>\n",
       "      <td>100.0</td>\n",
       "      <td>100.0</td>\n",
       "    </tr>\n",
       "    <tr>\n",
       "      <th>1</th>\n",
       "      <td>University of Cambridge</td>\n",
       "      <td>1</td>\n",
       "      <td>93.4</td>\n",
       "      <td>53.3</td>\n",
       "    </tr>\n",
       "  </tbody>\n",
       "</table>\n",
       "</div>"
      ],
      "text/plain": [
       "           university_name national_rank  award   hici\n",
       "0       Harvard University             1  100.0  100.0\n",
       "1  University of Cambridge             1   93.4   53.3"
      ]
     },
     "execution_count": 17,
     "metadata": {},
     "output_type": "execute_result"
    }
   ],
   "source": [
    "# selection by position\n",
    "df.iloc[0:2,[1,2,5,6]]"
   ]
  },
  {
   "cell_type": "code",
   "execution_count": 18,
   "metadata": {},
   "outputs": [
    {
     "data": {
      "text/html": [
       "<div>\n",
       "<style>\n",
       "    .dataframe thead tr:only-child th {\n",
       "        text-align: right;\n",
       "    }\n",
       "\n",
       "    .dataframe thead th {\n",
       "        text-align: left;\n",
       "    }\n",
       "\n",
       "    .dataframe tbody tr th {\n",
       "        vertical-align: top;\n",
       "    }\n",
       "</style>\n",
       "<table border=\"1\" class=\"dataframe\">\n",
       "  <thead>\n",
       "    <tr style=\"text-align: right;\">\n",
       "      <th></th>\n",
       "      <th>world_rank</th>\n",
       "      <th>university_name</th>\n",
       "      <th>national_rank</th>\n",
       "      <th>total_score</th>\n",
       "      <th>alumni</th>\n",
       "      <th>award</th>\n",
       "      <th>hici</th>\n",
       "      <th>ns</th>\n",
       "      <th>pub</th>\n",
       "      <th>pcp</th>\n",
       "      <th>year</th>\n",
       "    </tr>\n",
       "  </thead>\n",
       "  <tbody>\n",
       "    <tr>\n",
       "      <th>8</th>\n",
       "      <td>9</td>\n",
       "      <td>University of Chicago</td>\n",
       "      <td>8</td>\n",
       "      <td>60.1</td>\n",
       "      <td>75.6</td>\n",
       "      <td>81.9</td>\n",
       "      <td>50.3</td>\n",
       "      <td>44.7</td>\n",
       "      <td>56.4</td>\n",
       "      <td>42.2</td>\n",
       "      <td>2005</td>\n",
       "    </tr>\n",
       "    <tr>\n",
       "      <th>25</th>\n",
       "      <td>26</td>\n",
       "      <td>University College London</td>\n",
       "      <td>4</td>\n",
       "      <td>42.6</td>\n",
       "      <td>30.7</td>\n",
       "      <td>32.9</td>\n",
       "      <td>37.7</td>\n",
       "      <td>41.5</td>\n",
       "      <td>60.5</td>\n",
       "      <td>38.8</td>\n",
       "      <td>2005</td>\n",
       "    </tr>\n",
       "    <tr>\n",
       "      <th>26</th>\n",
       "      <td>27</td>\n",
       "      <td>Swiss Federal Institute of Technology Zurich</td>\n",
       "      <td>1</td>\n",
       "      <td>41.7</td>\n",
       "      <td>40.2</td>\n",
       "      <td>37.0</td>\n",
       "      <td>35.1</td>\n",
       "      <td>41.1</td>\n",
       "      <td>43.4</td>\n",
       "      <td>52.4</td>\n",
       "      <td>2005</td>\n",
       "    </tr>\n",
       "    <tr>\n",
       "      <th>164</th>\n",
       "      <td>153-202</td>\n",
       "      <td>Queen's University</td>\n",
       "      <td>6-8</td>\n",
       "      <td>NaN</td>\n",
       "      <td>0.0</td>\n",
       "      <td>0.0</td>\n",
       "      <td>19.2</td>\n",
       "      <td>17.0</td>\n",
       "      <td>35.2</td>\n",
       "      <td>18.5</td>\n",
       "      <td>2005</td>\n",
       "    </tr>\n",
       "    <tr>\n",
       "      <th>187</th>\n",
       "      <td>153-202</td>\n",
       "      <td>University of Maryland, Baltimore</td>\n",
       "      <td>72-90</td>\n",
       "      <td>NaN</td>\n",
       "      <td>0.0</td>\n",
       "      <td>0.0</td>\n",
       "      <td>19.2</td>\n",
       "      <td>18.6</td>\n",
       "      <td>38.4</td>\n",
       "      <td>19.9</td>\n",
       "      <td>2005</td>\n",
       "    </tr>\n",
       "  </tbody>\n",
       "</table>\n",
       "</div>"
      ],
      "text/plain": [
       "    world_rank                               university_name national_rank  \\\n",
       "8            9                         University of Chicago             8   \n",
       "25          26                     University College London             4   \n",
       "26          27  Swiss Federal Institute of Technology Zurich             1   \n",
       "164    153-202                            Queen's University           6-8   \n",
       "187    153-202             University of Maryland, Baltimore         72-90   \n",
       "\n",
       "     total_score  alumni  award  hici    ns   pub   pcp  year  \n",
       "8           60.1    75.6   81.9  50.3  44.7  56.4  42.2  2005  \n",
       "25          42.6    30.7   32.9  37.7  41.5  60.5  38.8  2005  \n",
       "26          41.7    40.2   37.0  35.1  41.1  43.4  52.4  2005  \n",
       "164          NaN     0.0    0.0  19.2  17.0  35.2  18.5  2005  \n",
       "187          NaN     0.0    0.0  19.2  18.6  38.4  19.9  2005  "
      ]
     },
     "execution_count": 18,
     "metadata": {},
     "output_type": "execute_result"
    }
   ],
   "source": [
    "# Subset by top five universities\n",
    "#df[df['university_name'].isin(df.university_name.value_counts().index.tolist()[:5])]\n",
    "df.loc[(df['university_name'].isin(df.university_name.value_counts().\\\n",
    "                                   index.tolist()[:5])),:][:5]"
   ]
  },
  {
   "cell_type": "code",
   "execution_count": 19,
   "metadata": {},
   "outputs": [
    {
     "name": "stdout",
     "output_type": "stream",
     "text": [
      "   Para  Score\n",
      "0   2.0    1.0\n"
     ]
    }
   ],
   "source": [
    "results = pd.DataFrame()\n",
    "results = results.append({'Score':1, 'Para':2}, ignore_index=True)\n",
    "print(results)"
   ]
  },
  {
   "cell_type": "markdown",
   "metadata": {},
   "source": [
    "## Describe\n",
    "\n",
    "Pandas meta discription of objects. Its value to byte formatting is much more deveolopped that R Studio. Thanks Numpy. "
   ]
  },
  {
   "cell_type": "code",
   "execution_count": 20,
   "metadata": {
    "scrolled": false
   },
   "outputs": [
    {
     "name": "stdout",
     "output_type": "stream",
     "text": [
      "<class 'pandas.core.frame.DataFrame'>\n",
      "RangeIndex: 150 entries, 0 to 149\n",
      "Data columns (total 5 columns):\n",
      "sepal length (cm)    150 non-null float64\n",
      "sepal width (cm)     150 non-null float64\n",
      "petal length (cm)    150 non-null float64\n",
      "petal width (cm)     150 non-null float64\n",
      "species              150 non-null float64\n",
      "dtypes: float64(5)\n",
      "memory usage: 5.9 KB\n",
      "None\n",
      "<class 'pandas.core.frame.DataFrame'>\n",
      "RangeIndex: 150 entries, 0 to 149\n",
      "Data columns (total 5 columns):\n",
      "sepallength(cm)    150 non-null float64\n",
      "sepalwidth(cm)     150 non-null float64\n",
      "petallength(cm)    150 non-null float64\n",
      "petalwidth(cm)     150 non-null float64\n",
      "species            150 non-null int64\n",
      "dtypes: float64(4), int64(1)\n",
      "memory usage: 5.9 KB\n"
     ]
    }
   ],
   "source": [
    "# Let's convert to dataframe\n",
    "from sklearn import datasets\n",
    "iris = datasets.load_iris()\n",
    "\n",
    "iris = pd.DataFrame(data= np.c_[iris['data'], iris['target']],\n",
    "                     columns= iris['feature_names'] + ['species'])\n",
    "print(iris.info())\n",
    "# let's remove spaces from column name\n",
    "iris.columns = iris.columns.str.replace(' ','')\n",
    "\n",
    "iris.species = iris.species.astype(int)\n",
    "iris.info()"
   ]
  },
  {
   "cell_type": "code",
   "execution_count": 21,
   "metadata": {},
   "outputs": [
    {
     "data": {
      "text/plain": [
       "world_rank          object\n",
       "university_name     object\n",
       "national_rank       object\n",
       "total_score        float64\n",
       "alumni             float64\n",
       "award              float64\n",
       "hici               float64\n",
       "ns                 float64\n",
       "pub                float64\n",
       "pcp                float64\n",
       "year                 int64\n",
       "dtype: object"
      ]
     },
     "execution_count": 21,
     "metadata": {},
     "output_type": "execute_result"
    }
   ],
   "source": [
    "df.dtypes"
   ]
  },
  {
   "cell_type": "markdown",
   "metadata": {},
   "source": [
    "### Quick Summaries"
   ]
  },
  {
   "cell_type": "code",
   "execution_count": 22,
   "metadata": {},
   "outputs": [
    {
     "data": {
      "text/html": [
       "<div>\n",
       "<style>\n",
       "    .dataframe thead tr:only-child th {\n",
       "        text-align: right;\n",
       "    }\n",
       "\n",
       "    .dataframe thead th {\n",
       "        text-align: left;\n",
       "    }\n",
       "\n",
       "    .dataframe tbody tr th {\n",
       "        vertical-align: top;\n",
       "    }\n",
       "</style>\n",
       "<table border=\"1\" class=\"dataframe\">\n",
       "  <thead>\n",
       "    <tr style=\"text-align: right;\">\n",
       "      <th></th>\n",
       "      <th>total_score</th>\n",
       "      <th>alumni</th>\n",
       "      <th>award</th>\n",
       "      <th>hici</th>\n",
       "      <th>ns</th>\n",
       "      <th>pub</th>\n",
       "      <th>pcp</th>\n",
       "      <th>year</th>\n",
       "    </tr>\n",
       "  </thead>\n",
       "  <tbody>\n",
       "    <tr>\n",
       "      <th>count</th>\n",
       "      <td>1101.000000</td>\n",
       "      <td>4896.000000</td>\n",
       "      <td>4895.00000</td>\n",
       "      <td>4895.000000</td>\n",
       "      <td>4875.000000</td>\n",
       "      <td>4895.000000</td>\n",
       "      <td>4895.000000</td>\n",
       "      <td>4897.000000</td>\n",
       "    </tr>\n",
       "    <tr>\n",
       "      <th>mean</th>\n",
       "      <td>36.383470</td>\n",
       "      <td>9.161724</td>\n",
       "      <td>7.69191</td>\n",
       "      <td>16.221491</td>\n",
       "      <td>16.078503</td>\n",
       "      <td>38.254648</td>\n",
       "      <td>21.242329</td>\n",
       "      <td>2009.658566</td>\n",
       "    </tr>\n",
       "    <tr>\n",
       "      <th>std</th>\n",
       "      <td>13.557186</td>\n",
       "      <td>14.140636</td>\n",
       "      <td>15.49411</td>\n",
       "      <td>14.382710</td>\n",
       "      <td>12.511529</td>\n",
       "      <td>13.050809</td>\n",
       "      <td>9.254351</td>\n",
       "      <td>3.197576</td>\n",
       "    </tr>\n",
       "    <tr>\n",
       "      <th>min</th>\n",
       "      <td>23.500000</td>\n",
       "      <td>0.000000</td>\n",
       "      <td>0.00000</td>\n",
       "      <td>0.000000</td>\n",
       "      <td>0.000000</td>\n",
       "      <td>7.300000</td>\n",
       "      <td>8.300000</td>\n",
       "      <td>2005.000000</td>\n",
       "    </tr>\n",
       "    <tr>\n",
       "      <th>25%</th>\n",
       "      <td>27.400000</td>\n",
       "      <td>0.000000</td>\n",
       "      <td>0.00000</td>\n",
       "      <td>7.300000</td>\n",
       "      <td>8.000000</td>\n",
       "      <td>28.900000</td>\n",
       "      <td>15.600000</td>\n",
       "      <td>2007.000000</td>\n",
       "    </tr>\n",
       "    <tr>\n",
       "      <th>50%</th>\n",
       "      <td>31.300000</td>\n",
       "      <td>0.000000</td>\n",
       "      <td>0.00000</td>\n",
       "      <td>12.600000</td>\n",
       "      <td>12.800000</td>\n",
       "      <td>36.000000</td>\n",
       "      <td>19.000000</td>\n",
       "      <td>2009.000000</td>\n",
       "    </tr>\n",
       "    <tr>\n",
       "      <th>75%</th>\n",
       "      <td>41.800000</td>\n",
       "      <td>15.600000</td>\n",
       "      <td>13.40000</td>\n",
       "      <td>21.700000</td>\n",
       "      <td>19.800000</td>\n",
       "      <td>45.300000</td>\n",
       "      <td>24.500000</td>\n",
       "      <td>2012.000000</td>\n",
       "    </tr>\n",
       "    <tr>\n",
       "      <th>max</th>\n",
       "      <td>100.000000</td>\n",
       "      <td>100.000000</td>\n",
       "      <td>100.00000</td>\n",
       "      <td>100.000000</td>\n",
       "      <td>100.000000</td>\n",
       "      <td>100.000000</td>\n",
       "      <td>100.000000</td>\n",
       "      <td>2015.000000</td>\n",
       "    </tr>\n",
       "  </tbody>\n",
       "</table>\n",
       "</div>"
      ],
      "text/plain": [
       "       total_score       alumni       award         hici           ns  \\\n",
       "count  1101.000000  4896.000000  4895.00000  4895.000000  4875.000000   \n",
       "mean     36.383470     9.161724     7.69191    16.221491    16.078503   \n",
       "std      13.557186    14.140636    15.49411    14.382710    12.511529   \n",
       "min      23.500000     0.000000     0.00000     0.000000     0.000000   \n",
       "25%      27.400000     0.000000     0.00000     7.300000     8.000000   \n",
       "50%      31.300000     0.000000     0.00000    12.600000    12.800000   \n",
       "75%      41.800000    15.600000    13.40000    21.700000    19.800000   \n",
       "max     100.000000   100.000000   100.00000   100.000000   100.000000   \n",
       "\n",
       "               pub          pcp         year  \n",
       "count  4895.000000  4895.000000  4897.000000  \n",
       "mean     38.254648    21.242329  2009.658566  \n",
       "std      13.050809     9.254351     3.197576  \n",
       "min       7.300000     8.300000  2005.000000  \n",
       "25%      28.900000    15.600000  2007.000000  \n",
       "50%      36.000000    19.000000  2009.000000  \n",
       "75%      45.300000    24.500000  2012.000000  \n",
       "max     100.000000   100.000000  2015.000000  "
      ]
     },
     "execution_count": 22,
     "metadata": {},
     "output_type": "execute_result"
    }
   ],
   "source": [
    "df.describe()"
   ]
  },
  {
   "cell_type": "code",
   "execution_count": 23,
   "metadata": {},
   "outputs": [
    {
     "data": {
      "text/html": [
       "<div>\n",
       "<style>\n",
       "    .dataframe thead tr:only-child th {\n",
       "        text-align: right;\n",
       "    }\n",
       "\n",
       "    .dataframe thead th {\n",
       "        text-align: left;\n",
       "    }\n",
       "\n",
       "    .dataframe tbody tr th {\n",
       "        vertical-align: top;\n",
       "    }\n",
       "</style>\n",
       "<table border=\"1\" class=\"dataframe\">\n",
       "  <thead>\n",
       "    <tr style=\"text-align: right;\">\n",
       "      <th></th>\n",
       "      <th>world_rank</th>\n",
       "      <th>university_name</th>\n",
       "      <th>national_rank</th>\n",
       "    </tr>\n",
       "  </thead>\n",
       "  <tbody>\n",
       "    <tr>\n",
       "      <th>count</th>\n",
       "      <td>4897</td>\n",
       "      <td>4896</td>\n",
       "      <td>4896</td>\n",
       "    </tr>\n",
       "    <tr>\n",
       "      <th>unique</th>\n",
       "      <td>119</td>\n",
       "      <td>658</td>\n",
       "      <td>292</td>\n",
       "    </tr>\n",
       "    <tr>\n",
       "      <th>top</th>\n",
       "      <td>401-500</td>\n",
       "      <td>Queen's University</td>\n",
       "      <td>1</td>\n",
       "    </tr>\n",
       "    <tr>\n",
       "      <th>freq</th>\n",
       "      <td>600</td>\n",
       "      <td>13</td>\n",
       "      <td>343</td>\n",
       "    </tr>\n",
       "  </tbody>\n",
       "</table>\n",
       "</div>"
      ],
      "text/plain": [
       "       world_rank     university_name national_rank\n",
       "count        4897                4896          4896\n",
       "unique        119                 658           292\n",
       "top       401-500  Queen's University             1\n",
       "freq          600                  13           343"
      ]
     },
     "execution_count": 23,
     "metadata": {},
     "output_type": "execute_result"
    }
   ],
   "source": [
    "df.describe(include=['O'])"
   ]
  },
  {
   "cell_type": "code",
   "execution_count": 24,
   "metadata": {},
   "outputs": [
    {
     "data": {
      "text/html": [
       "<div>\n",
       "<style>\n",
       "    .dataframe thead tr:only-child th {\n",
       "        text-align: right;\n",
       "    }\n",
       "\n",
       "    .dataframe thead th {\n",
       "        text-align: left;\n",
       "    }\n",
       "\n",
       "    .dataframe tbody tr th {\n",
       "        vertical-align: top;\n",
       "    }\n",
       "</style>\n",
       "<table border=\"1\" class=\"dataframe\">\n",
       "  <thead>\n",
       "    <tr style=\"text-align: right;\">\n",
       "      <th></th>\n",
       "      <th>total_score</th>\n",
       "      <th>alumni</th>\n",
       "      <th>award</th>\n",
       "      <th>hici</th>\n",
       "      <th>ns</th>\n",
       "      <th>pub</th>\n",
       "      <th>pcp</th>\n",
       "      <th>year</th>\n",
       "    </tr>\n",
       "  </thead>\n",
       "  <tbody>\n",
       "    <tr>\n",
       "      <th>total_score</th>\n",
       "      <td>183.797290</td>\n",
       "      <td>194.484996</td>\n",
       "      <td>248.380819</td>\n",
       "      <td>190.176143</td>\n",
       "      <td>189.190996</td>\n",
       "      <td>104.480438</td>\n",
       "      <td>129.239933</td>\n",
       "      <td>-0.415362</td>\n",
       "    </tr>\n",
       "    <tr>\n",
       "      <th>alumni</th>\n",
       "      <td>194.484996</td>\n",
       "      <td>199.957595</td>\n",
       "      <td>167.310808</td>\n",
       "      <td>126.216002</td>\n",
       "      <td>123.014276</td>\n",
       "      <td>95.269436</td>\n",
       "      <td>87.961932</td>\n",
       "      <td>0.372786</td>\n",
       "    </tr>\n",
       "    <tr>\n",
       "      <th>award</th>\n",
       "      <td>248.380819</td>\n",
       "      <td>167.310808</td>\n",
       "      <td>240.067450</td>\n",
       "      <td>149.220623</td>\n",
       "      <td>142.844787</td>\n",
       "      <td>94.799549</td>\n",
       "      <td>104.582085</td>\n",
       "      <td>2.956688</td>\n",
       "    </tr>\n",
       "    <tr>\n",
       "      <th>hici</th>\n",
       "      <td>190.176143</td>\n",
       "      <td>126.216002</td>\n",
       "      <td>149.220623</td>\n",
       "      <td>206.862333</td>\n",
       "      <td>156.422223</td>\n",
       "      <td>126.528055</td>\n",
       "      <td>91.871681</td>\n",
       "      <td>2.425182</td>\n",
       "    </tr>\n",
       "    <tr>\n",
       "      <th>ns</th>\n",
       "      <td>189.190996</td>\n",
       "      <td>123.014276</td>\n",
       "      <td>142.844787</td>\n",
       "      <td>156.422223</td>\n",
       "      <td>156.538364</td>\n",
       "      <td>113.934421</td>\n",
       "      <td>87.851029</td>\n",
       "      <td>2.123319</td>\n",
       "    </tr>\n",
       "    <tr>\n",
       "      <th>pub</th>\n",
       "      <td>104.480438</td>\n",
       "      <td>95.269436</td>\n",
       "      <td>94.799549</td>\n",
       "      <td>126.528055</td>\n",
       "      <td>113.934421</td>\n",
       "      <td>170.323603</td>\n",
       "      <td>64.496924</td>\n",
       "      <td>4.218746</td>\n",
       "    </tr>\n",
       "    <tr>\n",
       "      <th>pcp</th>\n",
       "      <td>129.239933</td>\n",
       "      <td>87.961932</td>\n",
       "      <td>104.582085</td>\n",
       "      <td>91.871681</td>\n",
       "      <td>87.851029</td>\n",
       "      <td>64.496924</td>\n",
       "      <td>85.643018</td>\n",
       "      <td>1.770287</td>\n",
       "    </tr>\n",
       "    <tr>\n",
       "      <th>year</th>\n",
       "      <td>-0.415362</td>\n",
       "      <td>0.372786</td>\n",
       "      <td>2.956688</td>\n",
       "      <td>2.425182</td>\n",
       "      <td>2.123319</td>\n",
       "      <td>4.218746</td>\n",
       "      <td>1.770287</td>\n",
       "      <td>10.224494</td>\n",
       "    </tr>\n",
       "  </tbody>\n",
       "</table>\n",
       "</div>"
      ],
      "text/plain": [
       "             total_score      alumni       award        hici          ns  \\\n",
       "total_score   183.797290  194.484996  248.380819  190.176143  189.190996   \n",
       "alumni        194.484996  199.957595  167.310808  126.216002  123.014276   \n",
       "award         248.380819  167.310808  240.067450  149.220623  142.844787   \n",
       "hici          190.176143  126.216002  149.220623  206.862333  156.422223   \n",
       "ns            189.190996  123.014276  142.844787  156.422223  156.538364   \n",
       "pub           104.480438   95.269436   94.799549  126.528055  113.934421   \n",
       "pcp           129.239933   87.961932  104.582085   91.871681   87.851029   \n",
       "year           -0.415362    0.372786    2.956688    2.425182    2.123319   \n",
       "\n",
       "                    pub         pcp       year  \n",
       "total_score  104.480438  129.239933  -0.415362  \n",
       "alumni        95.269436   87.961932   0.372786  \n",
       "award         94.799549  104.582085   2.956688  \n",
       "hici         126.528055   91.871681   2.425182  \n",
       "ns           113.934421   87.851029   2.123319  \n",
       "pub          170.323603   64.496924   4.218746  \n",
       "pcp           64.496924   85.643018   1.770287  \n",
       "year           4.218746    1.770287  10.224494  "
      ]
     },
     "execution_count": 24,
     "metadata": {},
     "output_type": "execute_result"
    }
   ],
   "source": [
    "df.cov()"
   ]
  },
  {
   "cell_type": "code",
   "execution_count": 25,
   "metadata": {},
   "outputs": [
    {
     "data": {
      "text/html": [
       "<div>\n",
       "<style>\n",
       "    .dataframe thead tr:only-child th {\n",
       "        text-align: right;\n",
       "    }\n",
       "\n",
       "    .dataframe thead th {\n",
       "        text-align: left;\n",
       "    }\n",
       "\n",
       "    .dataframe tbody tr th {\n",
       "        vertical-align: top;\n",
       "    }\n",
       "</style>\n",
       "<table border=\"1\" class=\"dataframe\">\n",
       "  <thead>\n",
       "    <tr style=\"text-align: right;\">\n",
       "      <th></th>\n",
       "      <th>total_score</th>\n",
       "      <th>alumni</th>\n",
       "      <th>award</th>\n",
       "      <th>hici</th>\n",
       "      <th>ns</th>\n",
       "      <th>pub</th>\n",
       "      <th>pcp</th>\n",
       "      <th>year</th>\n",
       "    </tr>\n",
       "  </thead>\n",
       "  <tbody>\n",
       "    <tr>\n",
       "      <th>total_score</th>\n",
       "      <td>1.000000</td>\n",
       "      <td>0.769191</td>\n",
       "      <td>0.831950</td>\n",
       "      <td>0.870980</td>\n",
       "      <td>0.929130</td>\n",
       "      <td>0.627578</td>\n",
       "      <td>0.755265</td>\n",
       "      <td>-0.009685</td>\n",
       "    </tr>\n",
       "    <tr>\n",
       "      <th>alumni</th>\n",
       "      <td>0.769191</td>\n",
       "      <td>1.000000</td>\n",
       "      <td>0.763562</td>\n",
       "      <td>0.620527</td>\n",
       "      <td>0.694470</td>\n",
       "      <td>0.516182</td>\n",
       "      <td>0.672102</td>\n",
       "      <td>0.008245</td>\n",
       "    </tr>\n",
       "    <tr>\n",
       "      <th>award</th>\n",
       "      <td>0.831950</td>\n",
       "      <td>0.763562</td>\n",
       "      <td>1.000000</td>\n",
       "      <td>0.669609</td>\n",
       "      <td>0.735800</td>\n",
       "      <td>0.468816</td>\n",
       "      <td>0.729365</td>\n",
       "      <td>0.059676</td>\n",
       "    </tr>\n",
       "    <tr>\n",
       "      <th>hici</th>\n",
       "      <td>0.870980</td>\n",
       "      <td>0.620527</td>\n",
       "      <td>0.669609</td>\n",
       "      <td>1.000000</td>\n",
       "      <td>0.868726</td>\n",
       "      <td>0.674076</td>\n",
       "      <td>0.690232</td>\n",
       "      <td>0.052731</td>\n",
       "    </tr>\n",
       "    <tr>\n",
       "      <th>ns</th>\n",
       "      <td>0.929130</td>\n",
       "      <td>0.694470</td>\n",
       "      <td>0.735800</td>\n",
       "      <td>0.868726</td>\n",
       "      <td>1.000000</td>\n",
       "      <td>0.699849</td>\n",
       "      <td>0.758854</td>\n",
       "      <td>0.053075</td>\n",
       "    </tr>\n",
       "    <tr>\n",
       "      <th>pub</th>\n",
       "      <td>0.627578</td>\n",
       "      <td>0.516182</td>\n",
       "      <td>0.468816</td>\n",
       "      <td>0.674076</td>\n",
       "      <td>0.699849</td>\n",
       "      <td>1.000000</td>\n",
       "      <td>0.534018</td>\n",
       "      <td>0.101090</td>\n",
       "    </tr>\n",
       "    <tr>\n",
       "      <th>pcp</th>\n",
       "      <td>0.755265</td>\n",
       "      <td>0.672102</td>\n",
       "      <td>0.729365</td>\n",
       "      <td>0.690232</td>\n",
       "      <td>0.758854</td>\n",
       "      <td>0.534018</td>\n",
       "      <td>1.000000</td>\n",
       "      <td>0.059822</td>\n",
       "    </tr>\n",
       "    <tr>\n",
       "      <th>year</th>\n",
       "      <td>-0.009685</td>\n",
       "      <td>0.008245</td>\n",
       "      <td>0.059676</td>\n",
       "      <td>0.052731</td>\n",
       "      <td>0.053075</td>\n",
       "      <td>0.101090</td>\n",
       "      <td>0.059822</td>\n",
       "      <td>1.000000</td>\n",
       "    </tr>\n",
       "  </tbody>\n",
       "</table>\n",
       "</div>"
      ],
      "text/plain": [
       "             total_score    alumni     award      hici        ns       pub  \\\n",
       "total_score     1.000000  0.769191  0.831950  0.870980  0.929130  0.627578   \n",
       "alumni          0.769191  1.000000  0.763562  0.620527  0.694470  0.516182   \n",
       "award           0.831950  0.763562  1.000000  0.669609  0.735800  0.468816   \n",
       "hici            0.870980  0.620527  0.669609  1.000000  0.868726  0.674076   \n",
       "ns              0.929130  0.694470  0.735800  0.868726  1.000000  0.699849   \n",
       "pub             0.627578  0.516182  0.468816  0.674076  0.699849  1.000000   \n",
       "pcp             0.755265  0.672102  0.729365  0.690232  0.758854  0.534018   \n",
       "year           -0.009685  0.008245  0.059676  0.052731  0.053075  0.101090   \n",
       "\n",
       "                  pcp      year  \n",
       "total_score  0.755265 -0.009685  \n",
       "alumni       0.672102  0.008245  \n",
       "award        0.729365  0.059676  \n",
       "hici         0.690232  0.052731  \n",
       "ns           0.758854  0.053075  \n",
       "pub          0.534018  0.101090  \n",
       "pcp          1.000000  0.059822  \n",
       "year         0.059822  1.000000  "
      ]
     },
     "execution_count": 25,
     "metadata": {},
     "output_type": "execute_result"
    }
   ],
   "source": [
    "df.corr()"
   ]
  },
  {
   "cell_type": "code",
   "execution_count": 26,
   "metadata": {},
   "outputs": [
    {
     "data": {
      "text/plain": [
       "Index(['world_rank', 'university_name', 'national_rank', 'total_score',\n",
       "       'alumni', 'award', 'hici', 'ns', 'pub', 'pcp', 'year'],\n",
       "      dtype='object')"
      ]
     },
     "execution_count": 26,
     "metadata": {},
     "output_type": "execute_result"
    }
   ],
   "source": [
    "df.columns"
   ]
  },
  {
   "cell_type": "code",
   "execution_count": 27,
   "metadata": {},
   "outputs": [
    {
     "data": {
      "text/plain": [
       "array([2005, 2006, 2007, 2008, 2009, 2010, 2011, 2012, 2013, 2014, 2015])"
      ]
     },
     "execution_count": 27,
     "metadata": {},
     "output_type": "execute_result"
    }
   ],
   "source": [
    "df[\"year\"].unique()"
   ]
  },
  {
   "cell_type": "code",
   "execution_count": 28,
   "metadata": {},
   "outputs": [
    {
     "data": {
      "text/html": [
       "<div>\n",
       "<style>\n",
       "    .dataframe thead tr:only-child th {\n",
       "        text-align: right;\n",
       "    }\n",
       "\n",
       "    .dataframe thead th {\n",
       "        text-align: left;\n",
       "    }\n",
       "\n",
       "    .dataframe tbody tr th {\n",
       "        vertical-align: top;\n",
       "    }\n",
       "</style>\n",
       "<table border=\"1\" class=\"dataframe\">\n",
       "  <thead>\n",
       "    <tr style=\"text-align: right;\">\n",
       "      <th></th>\n",
       "      <th>world_rank</th>\n",
       "      <th>university_name</th>\n",
       "      <th>national_rank</th>\n",
       "      <th>total_score</th>\n",
       "      <th>alumni</th>\n",
       "      <th>award</th>\n",
       "      <th>hici</th>\n",
       "      <th>ns</th>\n",
       "      <th>pub</th>\n",
       "      <th>pcp</th>\n",
       "      <th>year</th>\n",
       "    </tr>\n",
       "  </thead>\n",
       "  <tbody>\n",
       "    <tr>\n",
       "      <th>0</th>\n",
       "      <td>1</td>\n",
       "      <td>Harvard University</td>\n",
       "      <td>1</td>\n",
       "      <td>100.0</td>\n",
       "      <td>100.0</td>\n",
       "      <td>100.0</td>\n",
       "      <td>100.0</td>\n",
       "      <td>100.0</td>\n",
       "      <td>100.0</td>\n",
       "      <td>72.4</td>\n",
       "      <td>2005</td>\n",
       "    </tr>\n",
       "    <tr>\n",
       "      <th>3014</th>\n",
       "      <td>1</td>\n",
       "      <td>Harvard University</td>\n",
       "      <td>1</td>\n",
       "      <td>100.0</td>\n",
       "      <td>100.0</td>\n",
       "      <td>100.0</td>\n",
       "      <td>100.0</td>\n",
       "      <td>100.0</td>\n",
       "      <td>100.0</td>\n",
       "      <td>70.5</td>\n",
       "      <td>2011</td>\n",
       "    </tr>\n",
       "    <tr>\n",
       "      <th>4397</th>\n",
       "      <td>1</td>\n",
       "      <td>Harvard University</td>\n",
       "      <td>1</td>\n",
       "      <td>100.0</td>\n",
       "      <td>100.0</td>\n",
       "      <td>100.0</td>\n",
       "      <td>100.0</td>\n",
       "      <td>100.0</td>\n",
       "      <td>100.0</td>\n",
       "      <td>76.6</td>\n",
       "      <td>2015</td>\n",
       "    </tr>\n",
       "    <tr>\n",
       "      <th>1000</th>\n",
       "      <td>1</td>\n",
       "      <td>Harvard University</td>\n",
       "      <td>1</td>\n",
       "      <td>100.0</td>\n",
       "      <td>100.0</td>\n",
       "      <td>100.0</td>\n",
       "      <td>100.0</td>\n",
       "      <td>100.0</td>\n",
       "      <td>100.0</td>\n",
       "      <td>73.0</td>\n",
       "      <td>2007</td>\n",
       "    </tr>\n",
       "    <tr>\n",
       "      <th>1510</th>\n",
       "      <td>1</td>\n",
       "      <td>Harvard University</td>\n",
       "      <td>1</td>\n",
       "      <td>100.0</td>\n",
       "      <td>100.0</td>\n",
       "      <td>100.0</td>\n",
       "      <td>100.0</td>\n",
       "      <td>100.0</td>\n",
       "      <td>100.0</td>\n",
       "      <td>74.1</td>\n",
       "      <td>2008</td>\n",
       "    </tr>\n",
       "    <tr>\n",
       "      <th>3897</th>\n",
       "      <td>1</td>\n",
       "      <td>Harvard University</td>\n",
       "      <td>1</td>\n",
       "      <td>100.0</td>\n",
       "      <td>100.0</td>\n",
       "      <td>100.0</td>\n",
       "      <td>100.0</td>\n",
       "      <td>100.0</td>\n",
       "      <td>100.0</td>\n",
       "      <td>75.3</td>\n",
       "      <td>2014</td>\n",
       "    </tr>\n",
       "    <tr>\n",
       "      <th>3798</th>\n",
       "      <td>1</td>\n",
       "      <td>Harvard University</td>\n",
       "      <td>1.0</td>\n",
       "      <td>100.0</td>\n",
       "      <td>100.0</td>\n",
       "      <td>100.0</td>\n",
       "      <td>100.0</td>\n",
       "      <td>100.0</td>\n",
       "      <td>100.0</td>\n",
       "      <td>72.5</td>\n",
       "      <td>2013</td>\n",
       "    </tr>\n",
       "    <tr>\n",
       "      <th>2013</th>\n",
       "      <td>1</td>\n",
       "      <td>Harvard University</td>\n",
       "      <td>1</td>\n",
       "      <td>100.0</td>\n",
       "      <td>100.0</td>\n",
       "      <td>100.0</td>\n",
       "      <td>100.0</td>\n",
       "      <td>100.0</td>\n",
       "      <td>100.0</td>\n",
       "      <td>74.8</td>\n",
       "      <td>2009</td>\n",
       "    </tr>\n",
       "    <tr>\n",
       "      <th>3514</th>\n",
       "      <td>1</td>\n",
       "      <td>Harvard University</td>\n",
       "      <td>1</td>\n",
       "      <td>100.0</td>\n",
       "      <td>100.0</td>\n",
       "      <td>100.0</td>\n",
       "      <td>100.0</td>\n",
       "      <td>100.0</td>\n",
       "      <td>100.0</td>\n",
       "      <td>71.1</td>\n",
       "      <td>2012</td>\n",
       "    </tr>\n",
       "    <tr>\n",
       "      <th>2514</th>\n",
       "      <td>1</td>\n",
       "      <td>Harvard University</td>\n",
       "      <td>1</td>\n",
       "      <td>100.0</td>\n",
       "      <td>100.0</td>\n",
       "      <td>100.0</td>\n",
       "      <td>100.0</td>\n",
       "      <td>100.0</td>\n",
       "      <td>100.0</td>\n",
       "      <td>69.2</td>\n",
       "      <td>2010</td>\n",
       "    </tr>\n",
       "  </tbody>\n",
       "</table>\n",
       "</div>"
      ],
      "text/plain": [
       "     world_rank     university_name national_rank  total_score  alumni  award  \\\n",
       "0             1  Harvard University             1        100.0   100.0  100.0   \n",
       "3014          1  Harvard University             1        100.0   100.0  100.0   \n",
       "4397          1  Harvard University             1        100.0   100.0  100.0   \n",
       "1000          1  Harvard University             1        100.0   100.0  100.0   \n",
       "1510          1  Harvard University             1        100.0   100.0  100.0   \n",
       "3897          1  Harvard University             1        100.0   100.0  100.0   \n",
       "3798          1  Harvard University           1.0        100.0   100.0  100.0   \n",
       "2013          1  Harvard University             1        100.0   100.0  100.0   \n",
       "3514          1  Harvard University             1        100.0   100.0  100.0   \n",
       "2514          1  Harvard University             1        100.0   100.0  100.0   \n",
       "\n",
       "       hici     ns    pub   pcp  year  \n",
       "0     100.0  100.0  100.0  72.4  2005  \n",
       "3014  100.0  100.0  100.0  70.5  2011  \n",
       "4397  100.0  100.0  100.0  76.6  2015  \n",
       "1000  100.0  100.0  100.0  73.0  2007  \n",
       "1510  100.0  100.0  100.0  74.1  2008  \n",
       "3897  100.0  100.0  100.0  75.3  2014  \n",
       "3798  100.0  100.0  100.0  72.5  2013  \n",
       "2013  100.0  100.0  100.0  74.8  2009  \n",
       "3514  100.0  100.0  100.0  71.1  2012  \n",
       "2514  100.0  100.0  100.0  69.2  2010  "
      ]
     },
     "execution_count": 28,
     "metadata": {},
     "output_type": "execute_result"
    }
   ],
   "source": [
    "df.sort_values(by=[\"alumni\"], ascending=False)[:10]"
   ]
  },
  {
   "cell_type": "code",
   "execution_count": 29,
   "metadata": {},
   "outputs": [
    {
     "data": {
      "text/plain": [
       "0    False\n",
       "1    False\n",
       "dtype: bool"
      ]
     },
     "execution_count": 29,
     "metadata": {},
     "output_type": "execute_result"
    }
   ],
   "source": [
    "df.duplicated()[:2]"
   ]
  },
  {
   "cell_type": "markdown",
   "metadata": {},
   "source": [
    "## Merge- Combining Datasets\n",
    "Inner, Outter, Left, Right"
   ]
  },
  {
   "cell_type": "raw",
   "metadata": {},
   "source": [
    "# Missing Data Project:\n",
    "missing = pd.merge(missing_train, missing_test,\n",
    "                       on='column_name', how='outer',indicator=True,\n",
    "                      # suffixes=[\"_L\", \"_R\"]\n",
    "                       # left_on='name on left', right_on='name on right')\n",
    "                      )"
   ]
  },
  {
   "cell_type": "markdown",
   "metadata": {},
   "source": [
    "### Concatenate"
   ]
  },
  {
   "cell_type": "markdown",
   "metadata": {},
   "source": [
    "Concatenate is the pasting of additional rows or columns. It does not attempt to \"mesh\" data together like the merge functions. In terms of set theory, it would be like combining multiple, non-overlapping sets. "
   ]
  },
  {
   "cell_type": "markdown",
   "metadata": {},
   "source": [
    "## Grouping and Aggregate: Summerization\n",
    "\n",
    "Centerpiece to most analysis. Plots are dependent on this. Note that in pyhon, missing values are recorded as NaN, Not A Number. This causes severe complication during arithmetic operations. For these reasons, summerization conducted on patchy data requires special numpy operators which are able to ignore NaNs.\n",
    "\n",
    "\n",
    "Creating Panel Data"
   ]
  },
  {
   "cell_type": "code",
   "execution_count": 30,
   "metadata": {},
   "outputs": [],
   "source": [
    "#Cut Continous into Categorical\n",
    "import numpy as np\n",
    "df[\"pcpbin\"] = pd.cut(np.array(df.pcp), 5, retbins=False)"
   ]
  },
  {
   "cell_type": "code",
   "execution_count": 46,
   "metadata": {
    "scrolled": true
   },
   "outputs": [
    {
     "data": {
      "text/html": [
       "<div>\n",
       "<style>\n",
       "    .dataframe thead tr:only-child th {\n",
       "        text-align: right;\n",
       "    }\n",
       "\n",
       "    .dataframe thead th {\n",
       "        text-align: left;\n",
       "    }\n",
       "\n",
       "    .dataframe tbody tr th {\n",
       "        vertical-align: top;\n",
       "    }\n",
       "</style>\n",
       "<table border=\"1\" class=\"dataframe\">\n",
       "  <thead>\n",
       "    <tr style=\"text-align: right;\">\n",
       "      <th></th>\n",
       "      <th></th>\n",
       "      <th>world_rank</th>\n",
       "      <th>national_rank</th>\n",
       "      <th>total_score</th>\n",
       "      <th>alumni</th>\n",
       "      <th>award</th>\n",
       "      <th>hici</th>\n",
       "      <th>ns</th>\n",
       "      <th>pub</th>\n",
       "      <th>pcp</th>\n",
       "      <th>pcpbin</th>\n",
       "    </tr>\n",
       "    <tr>\n",
       "      <th>year</th>\n",
       "      <th>university_name</th>\n",
       "      <th></th>\n",
       "      <th></th>\n",
       "      <th></th>\n",
       "      <th></th>\n",
       "      <th></th>\n",
       "      <th></th>\n",
       "      <th></th>\n",
       "      <th></th>\n",
       "      <th></th>\n",
       "      <th></th>\n",
       "    </tr>\n",
       "  </thead>\n",
       "  <tbody>\n",
       "    <tr>\n",
       "      <th rowspan=\"6\" valign=\"top\">2005</th>\n",
       "      <th>Aalto University</th>\n",
       "      <td>401-500</td>\n",
       "      <td>3-5</td>\n",
       "      <td>NaN</td>\n",
       "      <td>0.0</td>\n",
       "      <td>0.0</td>\n",
       "      <td>0.0</td>\n",
       "      <td>11.4</td>\n",
       "      <td>28.6</td>\n",
       "      <td>13.1</td>\n",
       "      <td>(8.208, 26.64]</td>\n",
       "    </tr>\n",
       "    <tr>\n",
       "      <th>Aarhus University</th>\n",
       "      <td>101-152</td>\n",
       "      <td>2</td>\n",
       "      <td>NaN</td>\n",
       "      <td>15.4</td>\n",
       "      <td>19.3</td>\n",
       "      <td>7.9</td>\n",
       "      <td>22.3</td>\n",
       "      <td>41.6</td>\n",
       "      <td>22.4</td>\n",
       "      <td>(8.208, 26.64]</td>\n",
       "    </tr>\n",
       "    <tr>\n",
       "      <th>Aristotle University of Thessaloniki</th>\n",
       "      <td>301-400</td>\n",
       "      <td>2</td>\n",
       "      <td>NaN</td>\n",
       "      <td>0.0</td>\n",
       "      <td>0.0</td>\n",
       "      <td>7.9</td>\n",
       "      <td>2.0</td>\n",
       "      <td>34.9</td>\n",
       "      <td>15.2</td>\n",
       "      <td>(8.208, 26.64]</td>\n",
       "    </tr>\n",
       "    <tr>\n",
       "      <th>Arizona State University - Tempe</th>\n",
       "      <td>101-152</td>\n",
       "      <td>54-71</td>\n",
       "      <td>NaN</td>\n",
       "      <td>0.0</td>\n",
       "      <td>14.4</td>\n",
       "      <td>20.8</td>\n",
       "      <td>26.3</td>\n",
       "      <td>41.9</td>\n",
       "      <td>17.5</td>\n",
       "      <td>(8.208, 26.64]</td>\n",
       "    </tr>\n",
       "    <tr>\n",
       "      <th>Auburn University</th>\n",
       "      <td>301-400</td>\n",
       "      <td>120-140</td>\n",
       "      <td>NaN</td>\n",
       "      <td>0.0</td>\n",
       "      <td>0.0</td>\n",
       "      <td>7.9</td>\n",
       "      <td>5.2</td>\n",
       "      <td>29.7</td>\n",
       "      <td>12.0</td>\n",
       "      <td>(8.208, 26.64]</td>\n",
       "    </tr>\n",
       "    <tr>\n",
       "      <th>Autonomous University of Barcelona</th>\n",
       "      <td>401-500</td>\n",
       "      <td>5-9</td>\n",
       "      <td>NaN</td>\n",
       "      <td>0.0</td>\n",
       "      <td>0.0</td>\n",
       "      <td>0.0</td>\n",
       "      <td>3.3</td>\n",
       "      <td>35.4</td>\n",
       "      <td>15.1</td>\n",
       "      <td>(8.208, 26.64]</td>\n",
       "    </tr>\n",
       "  </tbody>\n",
       "</table>\n",
       "</div>"
      ],
      "text/plain": [
       "                                          world_rank national_rank  \\\n",
       "year university_name                                                 \n",
       "2005 Aalto University                        401-500           3-5   \n",
       "     Aarhus University                       101-152             2   \n",
       "     Aristotle University of Thessaloniki    301-400             2   \n",
       "     Arizona State University - Tempe        101-152         54-71   \n",
       "     Auburn University                       301-400       120-140   \n",
       "     Autonomous University of Barcelona      401-500           5-9   \n",
       "\n",
       "                                           total_score  alumni  award  hici  \\\n",
       "year university_name                                                          \n",
       "2005 Aalto University                              NaN     0.0    0.0   0.0   \n",
       "     Aarhus University                             NaN    15.4   19.3   7.9   \n",
       "     Aristotle University of Thessaloniki          NaN     0.0    0.0   7.9   \n",
       "     Arizona State University - Tempe              NaN     0.0   14.4  20.8   \n",
       "     Auburn University                             NaN     0.0    0.0   7.9   \n",
       "     Autonomous University of Barcelona            NaN     0.0    0.0   0.0   \n",
       "\n",
       "                                             ns   pub   pcp          pcpbin  \n",
       "year university_name                                                         \n",
       "2005 Aalto University                      11.4  28.6  13.1  (8.208, 26.64]  \n",
       "     Aarhus University                     22.3  41.6  22.4  (8.208, 26.64]  \n",
       "     Aristotle University of Thessaloniki   2.0  34.9  15.2  (8.208, 26.64]  \n",
       "     Arizona State University - Tempe      26.3  41.9  17.5  (8.208, 26.64]  \n",
       "     Auburn University                      5.2  29.7  12.0  (8.208, 26.64]  \n",
       "     Autonomous University of Barcelona     3.3  35.4  15.1  (8.208, 26.64]  "
      ]
     },
     "execution_count": 46,
     "metadata": {},
     "output_type": "execute_result"
    }
   ],
   "source": [
    "panel = df.groupby(['year','university_name']).max() ; panel[:6]"
   ]
  },
  {
   "cell_type": "markdown",
   "metadata": {},
   "source": [
    "### Multi-Index"
   ]
  },
  {
   "cell_type": "code",
   "execution_count": 52,
   "metadata": {},
   "outputs": [
    {
     "data": {
      "text/plain": [
       "(California, 2000)    33871648\n",
       "(California, 2010)    37253956\n",
       "(New York, 2000)      18976457\n",
       "(New York, 2010)      19378102\n",
       "(Texas, 2000)         20851820\n",
       "(Texas, 2010)         25145561\n",
       "dtype: int64"
      ]
     },
     "execution_count": 52,
     "metadata": {},
     "output_type": "execute_result"
    }
   ],
   "source": [
    "index = [('California', 2000), ('California', 2010),\n",
    "                    ('New York', 2000), ('New York', 2010),\n",
    "                    ('Texas', 2000), ('Texas', 2010)]\n",
    "populations = [33871648, 37253956,\n",
    "                          18976457, 19378102,\n",
    "                          20851820, 25145561]\n",
    "pd.Series(populations, index=index)"
   ]
  },
  {
   "cell_type": "code",
   "execution_count": 57,
   "metadata": {},
   "outputs": [
    {
     "data": {
      "text/plain": [
       "California  2000    33871648\n",
       "            2010    37253956\n",
       "New York    2000    18976457\n",
       "            2010    19378102\n",
       "Texas       2000    20851820\n",
       "            2010    25145561\n",
       "dtype: int64"
      ]
     },
     "execution_count": 57,
     "metadata": {},
     "output_type": "execute_result"
    }
   ],
   "source": [
    "# Tupled to two columns\n",
    "pop= pop.reindex(pd.MultiIndex.from_tuples(index)); pop"
   ]
  },
  {
   "cell_type": "markdown",
   "metadata": {
    "collapsed": true
   },
   "source": [
    "## Stacking\n",
    "\n",
    "Have not figured out how to utilize this tool like R's reshape2 package."
   ]
  },
  {
   "cell_type": "code",
   "execution_count": 61,
   "metadata": {},
   "outputs": [
    {
     "data": {
      "text/html": [
       "<div>\n",
       "<style>\n",
       "    .dataframe thead tr:only-child th {\n",
       "        text-align: right;\n",
       "    }\n",
       "\n",
       "    .dataframe thead th {\n",
       "        text-align: left;\n",
       "    }\n",
       "\n",
       "    .dataframe tbody tr th {\n",
       "        vertical-align: top;\n",
       "    }\n",
       "</style>\n",
       "<table border=\"1\" class=\"dataframe\">\n",
       "  <thead>\n",
       "    <tr style=\"text-align: right;\">\n",
       "      <th></th>\n",
       "      <th>index</th>\n",
       "      <th>2000</th>\n",
       "      <th>2010</th>\n",
       "    </tr>\n",
       "  </thead>\n",
       "  <tbody>\n",
       "    <tr>\n",
       "      <th>0</th>\n",
       "      <td>California</td>\n",
       "      <td>33871648</td>\n",
       "      <td>37253956</td>\n",
       "    </tr>\n",
       "    <tr>\n",
       "      <th>1</th>\n",
       "      <td>New York</td>\n",
       "      <td>18976457</td>\n",
       "      <td>19378102</td>\n",
       "    </tr>\n",
       "    <tr>\n",
       "      <th>2</th>\n",
       "      <td>Texas</td>\n",
       "      <td>20851820</td>\n",
       "      <td>25145561</td>\n",
       "    </tr>\n",
       "  </tbody>\n",
       "</table>\n",
       "</div>"
      ],
      "text/plain": [
       "        index      2000      2010\n",
       "0  California  33871648  37253956\n",
       "1    New York  18976457  19378102\n",
       "2       Texas  20851820  25145561"
      ]
     },
     "execution_count": 61,
     "metadata": {},
     "output_type": "execute_result"
    }
   ],
   "source": [
    "pop.unstack().reset_index()"
   ]
  },
  {
   "cell_type": "markdown",
   "metadata": {},
   "source": [
    "## Aggregate\n",
    "\n",
    "More flexible version of grouby's singular aggregation, enabling multiple functions on different columns."
   ]
  },
  {
   "cell_type": "code",
   "execution_count": 68,
   "metadata": {
    "collapsed": true
   },
   "outputs": [],
   "source": [
    "#path = r\"C:/Users/Nicol/Google Drive/Learning/Jupyter/Titanic\"\n",
    "path = r\"/Users/nicapotato/Google Drive/Learning/Jupyter/Titanic\"\n",
    "titanic = pd.read_csv(open(os.path.join(path, \"clean_train2.csv\"), \"r\")) "
   ]
  },
  {
   "cell_type": "code",
   "execution_count": 69,
   "metadata": {},
   "outputs": [
    {
     "data": {
      "text/plain": [
       "Index(['Survived', 'Pclass', 'Sex', 'Age', 'Parch', 'Fare', 'Embarked',\n",
       "       'Name_length', 'Has_Cabin', 'FamilySize', 'IsAlone', 'Title'],\n",
       "      dtype='object')"
      ]
     },
     "execution_count": 69,
     "metadata": {},
     "output_type": "execute_result"
    }
   ],
   "source": [
    "titanic.columns"
   ]
  },
  {
   "cell_type": "code",
   "execution_count": 72,
   "metadata": {},
   "outputs": [
    {
     "data": {
      "text/html": [
       "<div>\n",
       "<style>\n",
       "    .dataframe thead tr:only-child th {\n",
       "        text-align: right;\n",
       "    }\n",
       "\n",
       "    .dataframe thead th {\n",
       "        text-align: left;\n",
       "    }\n",
       "\n",
       "    .dataframe tbody tr th {\n",
       "        vertical-align: top;\n",
       "    }\n",
       "</style>\n",
       "<table border=\"1\" class=\"dataframe\">\n",
       "  <thead>\n",
       "    <tr>\n",
       "      <th></th>\n",
       "      <th colspan=\"3\" halign=\"left\">Age</th>\n",
       "    </tr>\n",
       "    <tr>\n",
       "      <th></th>\n",
       "      <th>min</th>\n",
       "      <th>median</th>\n",
       "      <th>max</th>\n",
       "    </tr>\n",
       "    <tr>\n",
       "      <th>Sex</th>\n",
       "      <th></th>\n",
       "      <th></th>\n",
       "      <th></th>\n",
       "    </tr>\n",
       "  </thead>\n",
       "  <tbody>\n",
       "    <tr>\n",
       "      <th>0</th>\n",
       "      <td>0</td>\n",
       "      <td>1</td>\n",
       "      <td>3</td>\n",
       "    </tr>\n",
       "    <tr>\n",
       "      <th>1</th>\n",
       "      <td>0</td>\n",
       "      <td>1</td>\n",
       "      <td>80</td>\n",
       "    </tr>\n",
       "  </tbody>\n",
       "</table>\n",
       "</div>"
      ],
      "text/plain": [
       "    Age           \n",
       "    min median max\n",
       "Sex               \n",
       "0     0      1   3\n",
       "1     0      1  80"
      ]
     },
     "execution_count": 72,
     "metadata": {},
     "output_type": "execute_result"
    }
   ],
   "source": [
    "titanic.groupby('Sex')[['Age']].aggregate(['min',np.median,max])"
   ]
  },
  {
   "cell_type": "code",
   "execution_count": 77,
   "metadata": {
    "scrolled": true
   },
   "outputs": [
    {
     "data": {
      "text/plain": [
       "Sex  FamilySize\n",
       "0    1             0.785714\n",
       "     2             0.816092\n",
       "     3             0.775510\n",
       "     4             0.842105\n",
       "     5             0.250000\n",
       "Name: Survived, dtype: float64"
      ]
     },
     "execution_count": 77,
     "metadata": {},
     "output_type": "execute_result"
    }
   ],
   "source": [
    "titanic.groupby(['Sex', 'FamilySize'])['Survived'].aggregate('mean')[:5] #.unstack()"
   ]
  },
  {
   "cell_type": "code",
   "execution_count": 108,
   "metadata": {},
   "outputs": [
    {
     "data": {
      "text/html": [
       "<div>\n",
       "<style>\n",
       "    .dataframe thead tr:only-child th {\n",
       "        text-align: right;\n",
       "    }\n",
       "\n",
       "    .dataframe thead th {\n",
       "        text-align: left;\n",
       "    }\n",
       "\n",
       "    .dataframe tbody tr th {\n",
       "        vertical-align: top;\n",
       "    }\n",
       "</style>\n",
       "<table border=\"1\" class=\"dataframe\">\n",
       "  <thead>\n",
       "    <tr style=\"text-align: right;\">\n",
       "      <th>FamilySize</th>\n",
       "      <th>1</th>\n",
       "      <th>2</th>\n",
       "      <th>3</th>\n",
       "      <th>4</th>\n",
       "      <th>5</th>\n",
       "      <th>6</th>\n",
       "      <th>7</th>\n",
       "      <th>8</th>\n",
       "      <th>11</th>\n",
       "    </tr>\n",
       "    <tr>\n",
       "      <th>Sex</th>\n",
       "      <th></th>\n",
       "      <th></th>\n",
       "      <th></th>\n",
       "      <th></th>\n",
       "      <th></th>\n",
       "      <th></th>\n",
       "      <th></th>\n",
       "      <th></th>\n",
       "      <th></th>\n",
       "    </tr>\n",
       "  </thead>\n",
       "  <tbody>\n",
       "    <tr>\n",
       "      <th>0</th>\n",
       "      <td>0.785714</td>\n",
       "      <td>0.816092</td>\n",
       "      <td>0.775510</td>\n",
       "      <td>0.842105</td>\n",
       "      <td>0.25</td>\n",
       "      <td>0.375</td>\n",
       "      <td>0.375</td>\n",
       "      <td>0.0</td>\n",
       "      <td>0.0</td>\n",
       "    </tr>\n",
       "    <tr>\n",
       "      <th>1</th>\n",
       "      <td>0.155718</td>\n",
       "      <td>0.243243</td>\n",
       "      <td>0.396226</td>\n",
       "      <td>0.500000</td>\n",
       "      <td>0.00</td>\n",
       "      <td>0.000</td>\n",
       "      <td>0.250</td>\n",
       "      <td>0.0</td>\n",
       "      <td>0.0</td>\n",
       "    </tr>\n",
       "  </tbody>\n",
       "</table>\n",
       "</div>"
      ],
      "text/plain": [
       "FamilySize        1         2         3         4     5      6      7    8   \\\n",
       "Sex                                                                           \n",
       "0           0.785714  0.816092  0.775510  0.842105  0.25  0.375  0.375  0.0   \n",
       "1           0.155718  0.243243  0.396226  0.500000  0.00  0.000  0.250  0.0   \n",
       "\n",
       "FamilySize   11  \n",
       "Sex              \n",
       "0           0.0  \n",
       "1           0.0  "
      ]
     },
     "execution_count": 108,
     "metadata": {},
     "output_type": "execute_result"
    }
   ],
   "source": [
    "titanic.groupby(['Sex', 'FamilySize'])['Survived'].aggregate('mean').unstack()"
   ]
  },
  {
   "cell_type": "code",
   "execution_count": 115,
   "metadata": {
    "scrolled": true
   },
   "outputs": [
    {
     "data": {
      "text/html": [
       "<div>\n",
       "<style>\n",
       "    .dataframe thead tr:only-child th {\n",
       "        text-align: right;\n",
       "    }\n",
       "\n",
       "    .dataframe thead th {\n",
       "        text-align: left;\n",
       "    }\n",
       "\n",
       "    .dataframe tbody tr th {\n",
       "        vertical-align: top;\n",
       "    }\n",
       "</style>\n",
       "<table border=\"1\" class=\"dataframe\">\n",
       "  <thead>\n",
       "    <tr style=\"text-align: right;\">\n",
       "      <th>FamilySize</th>\n",
       "      <th>1</th>\n",
       "      <th>2</th>\n",
       "      <th>3</th>\n",
       "      <th>4</th>\n",
       "      <th>5</th>\n",
       "      <th>6</th>\n",
       "      <th>7</th>\n",
       "      <th>8</th>\n",
       "      <th>11</th>\n",
       "    </tr>\n",
       "    <tr>\n",
       "      <th>Sex</th>\n",
       "      <th></th>\n",
       "      <th></th>\n",
       "      <th></th>\n",
       "      <th></th>\n",
       "      <th></th>\n",
       "      <th></th>\n",
       "      <th></th>\n",
       "      <th></th>\n",
       "      <th></th>\n",
       "    </tr>\n",
       "  </thead>\n",
       "  <tbody>\n",
       "    <tr>\n",
       "      <th>0</th>\n",
       "      <td>0.785714</td>\n",
       "      <td>0.816092</td>\n",
       "      <td>0.775510</td>\n",
       "      <td>0.842105</td>\n",
       "      <td>0.25</td>\n",
       "      <td>0.375</td>\n",
       "      <td>0.375</td>\n",
       "      <td>0.0</td>\n",
       "      <td>0.0</td>\n",
       "    </tr>\n",
       "    <tr>\n",
       "      <th>1</th>\n",
       "      <td>0.155718</td>\n",
       "      <td>0.243243</td>\n",
       "      <td>0.396226</td>\n",
       "      <td>0.500000</td>\n",
       "      <td>0.00</td>\n",
       "      <td>0.000</td>\n",
       "      <td>0.250</td>\n",
       "      <td>0.0</td>\n",
       "      <td>0.0</td>\n",
       "    </tr>\n",
       "  </tbody>\n",
       "</table>\n",
       "</div>"
      ],
      "text/plain": [
       "FamilySize        1         2         3         4     5      6      7    8   \\\n",
       "Sex                                                                           \n",
       "0           0.785714  0.816092  0.775510  0.842105  0.25  0.375  0.375  0.0   \n",
       "1           0.155718  0.243243  0.396226  0.500000  0.00  0.000  0.250  0.0   \n",
       "\n",
       "FamilySize   11  \n",
       "Sex              \n",
       "0           0.0  \n",
       "1           0.0  "
      ]
     },
     "execution_count": 115,
     "metadata": {},
     "output_type": "execute_result"
    }
   ],
   "source": [
    "titanic.groupby(['Sex', 'FamilySize'])['Survived'].aggregate('mean').unstack()"
   ]
  },
  {
   "cell_type": "code",
   "execution_count": 111,
   "metadata": {
    "collapsed": true
   },
   "outputs": [],
   "source": [
    "%matplotlib inline\n",
    "import matplotlib.pyplot as plt\n",
    "import seaborn as sns\n",
    "sns.set() # use Seaborn styles"
   ]
  },
  {
   "cell_type": "code",
   "execution_count": 122,
   "metadata": {},
   "outputs": [
    {
     "data": {
      "text/plain": [
       "<matplotlib.axes._subplots.AxesSubplot at 0x11e5cca90>"
      ]
     },
     "execution_count": 122,
     "metadata": {},
     "output_type": "execute_result"
    },
    {
     "data": {
      "image/png": "[encoded data removed]",
      "text/plain": [
       "<matplotlib.figure.Figure at 0x11b8ac9e8>"
      ]
     },
     "metadata": {},
     "output_type": "display_data"
    }
   ],
   "source": [
    "titanic.pivot_table('Survived', index=['FamilySize'], columns=['Sex']).plot()"
   ]
  },
  {
   "cell_type": "code",
   "execution_count": 106,
   "metadata": {
    "scrolled": true
   },
   "outputs": [
    {
     "data": {
      "text/html": [
       "<div>\n",
       "<style>\n",
       "    .dataframe thead tr:only-child th {\n",
       "        text-align: right;\n",
       "    }\n",
       "\n",
       "    .dataframe thead th {\n",
       "        text-align: left;\n",
       "    }\n",
       "\n",
       "    .dataframe tbody tr th {\n",
       "        vertical-align: top;\n",
       "    }\n",
       "</style>\n",
       "<table border=\"1\" class=\"dataframe\">\n",
       "  <thead>\n",
       "    <tr style=\"text-align: right;\">\n",
       "      <th>FamilySize</th>\n",
       "      <th>1</th>\n",
       "      <th>2</th>\n",
       "      <th>3</th>\n",
       "      <th>4</th>\n",
       "      <th>5</th>\n",
       "      <th>6</th>\n",
       "      <th>7</th>\n",
       "      <th>8</th>\n",
       "      <th>11</th>\n",
       "      <th>All</th>\n",
       "    </tr>\n",
       "    <tr>\n",
       "      <th>Sex</th>\n",
       "      <th></th>\n",
       "      <th></th>\n",
       "      <th></th>\n",
       "      <th></th>\n",
       "      <th></th>\n",
       "      <th></th>\n",
       "      <th></th>\n",
       "      <th></th>\n",
       "      <th></th>\n",
       "      <th></th>\n",
       "    </tr>\n",
       "  </thead>\n",
       "  <tbody>\n",
       "    <tr>\n",
       "      <th>0</th>\n",
       "      <td>0.785714</td>\n",
       "      <td>0.816092</td>\n",
       "      <td>0.775510</td>\n",
       "      <td>0.842105</td>\n",
       "      <td>0.25</td>\n",
       "      <td>0.375000</td>\n",
       "      <td>0.375000</td>\n",
       "      <td>0.0</td>\n",
       "      <td>0.0</td>\n",
       "      <td>0.742038</td>\n",
       "    </tr>\n",
       "    <tr>\n",
       "      <th>1</th>\n",
       "      <td>0.155718</td>\n",
       "      <td>0.243243</td>\n",
       "      <td>0.396226</td>\n",
       "      <td>0.500000</td>\n",
       "      <td>0.00</td>\n",
       "      <td>0.000000</td>\n",
       "      <td>0.250000</td>\n",
       "      <td>0.0</td>\n",
       "      <td>0.0</td>\n",
       "      <td>0.188908</td>\n",
       "    </tr>\n",
       "    <tr>\n",
       "      <th>All</th>\n",
       "      <td>0.303538</td>\n",
       "      <td>0.552795</td>\n",
       "      <td>0.578431</td>\n",
       "      <td>0.724138</td>\n",
       "      <td>0.20</td>\n",
       "      <td>0.136364</td>\n",
       "      <td>0.333333</td>\n",
       "      <td>0.0</td>\n",
       "      <td>0.0</td>\n",
       "      <td>0.383838</td>\n",
       "    </tr>\n",
       "  </tbody>\n",
       "</table>\n",
       "</div>"
      ],
      "text/plain": [
       "FamilySize         1         2         3         4     5         6         7  \\\n",
       "Sex                                                                            \n",
       "0           0.785714  0.816092  0.775510  0.842105  0.25  0.375000  0.375000   \n",
       "1           0.155718  0.243243  0.396226  0.500000  0.00  0.000000  0.250000   \n",
       "All         0.303538  0.552795  0.578431  0.724138  0.20  0.136364  0.333333   \n",
       "\n",
       "FamilySize    8   11       All  \n",
       "Sex                             \n",
       "0           0.0  0.0  0.742038  \n",
       "1           0.0  0.0  0.188908  \n",
       "All         0.0  0.0  0.383838  "
      ]
     },
     "execution_count": 106,
     "metadata": {},
     "output_type": "execute_result"
    }
   ],
   "source": [
    "titanic.pivot_table('Survived', index='Sex', columns=['FamilySize'], margins=True)"
   ]
  },
  {
   "cell_type": "code",
   "execution_count": 91,
   "metadata": {},
   "outputs": [
    {
     "data": {
      "text/html": [
       "<div>\n",
       "<style>\n",
       "    .dataframe thead tr:only-child th {\n",
       "        text-align: right;\n",
       "    }\n",
       "\n",
       "    .dataframe thead th {\n",
       "        text-align: left;\n",
       "    }\n",
       "\n",
       "    .dataframe tbody tr th {\n",
       "        vertical-align: top;\n",
       "    }\n",
       "</style>\n",
       "<table border=\"1\" class=\"dataframe\">\n",
       "  <thead>\n",
       "    <tr style=\"text-align: right;\">\n",
       "      <th></th>\n",
       "      <th>Pclass</th>\n",
       "      <th>1</th>\n",
       "      <th>2</th>\n",
       "      <th>3</th>\n",
       "    </tr>\n",
       "    <tr>\n",
       "      <th>Sex</th>\n",
       "      <th>Age</th>\n",
       "      <th></th>\n",
       "      <th></th>\n",
       "      <th></th>\n",
       "    </tr>\n",
       "  </thead>\n",
       "  <tbody>\n",
       "    <tr>\n",
       "      <th rowspan=\"2\" valign=\"top\">0</th>\n",
       "      <th>(0, 18]</th>\n",
       "      <td>0.977273</td>\n",
       "      <td>0.909091</td>\n",
       "      <td>0.476636</td>\n",
       "    </tr>\n",
       "    <tr>\n",
       "      <th>(18, 80]</th>\n",
       "      <td>NaN</td>\n",
       "      <td>NaN</td>\n",
       "      <td>NaN</td>\n",
       "    </tr>\n",
       "    <tr>\n",
       "      <th rowspan=\"2\" valign=\"top\">1</th>\n",
       "      <th>(0, 18]</th>\n",
       "      <td>0.360360</td>\n",
       "      <td>0.084211</td>\n",
       "      <td>0.120401</td>\n",
       "    </tr>\n",
       "    <tr>\n",
       "      <th>(18, 80]</th>\n",
       "      <td>0.166667</td>\n",
       "      <td>0.000000</td>\n",
       "      <td>0.000000</td>\n",
       "    </tr>\n",
       "  </tbody>\n",
       "</table>\n",
       "</div>"
      ],
      "text/plain": [
       "Pclass               1         2         3\n",
       "Sex Age                                   \n",
       "0   (0, 18]   0.977273  0.909091  0.476636\n",
       "    (18, 80]       NaN       NaN       NaN\n",
       "1   (0, 18]   0.360360  0.084211  0.120401\n",
       "    (18, 80]  0.166667  0.000000  0.000000"
      ]
     },
     "execution_count": 91,
     "metadata": {},
     "output_type": "execute_result"
    }
   ],
   "source": [
    "agecat = pd.cut(titanic['Age'], [0, 18, 80])\n",
    "titanic.pivot_table('Survived', ['Sex', agecat], 'Pclass')"
   ]
  },
  {
   "cell_type": "code",
   "execution_count": null,
   "metadata": {
    "collapsed": true
   },
   "outputs": [],
   "source": [
    "## Hierarchical Indexing: When Index's are Stacked!"
   ]
  },
  {
   "cell_type": "code",
   "execution_count": 107,
   "metadata": {
    "scrolled": true
   },
   "outputs": [
    {
     "data": {
      "text/plain": [
       "Fare         (-0.001, 2.0]                     (2.0, 3.0]               \n",
       "Pclass                   1         2         3          1    2         3\n",
       "Sex Age                                                                 \n",
       "0   (0, 18]       0.875000  0.900000  0.510204   0.987500  1.0  0.111111\n",
       "    (18, 80]           NaN       NaN       NaN        NaN  NaN       NaN\n",
       "1   (0, 18]       0.391304  0.094118  0.108014   0.338462  0.0  0.416667\n",
       "    (18, 80]      0.500000  0.000000  0.000000   0.000000  NaN       NaN"
      ]
     },
     "execution_count": 107,
     "metadata": {},
     "output_type": "execute_result"
    }
   ],
   "source": [
    "fare = pd.qcut(titanic['Fare'], 2)\n",
    "titanic.pivot_table('Survived', ['Sex', agecat], [fare, 'Pclass'])%matplotlib inline\n",
    "import matplotlib.pyplot as plt\n",
    "sns.set() # use Seaborn styles"
   ]
  },
  {
   "cell_type": "code",
   "execution_count": 96,
   "metadata": {},
   "outputs": [
    {
     "data": {
      "text/plain": [
       "Fare         (-0.001, 2.0]                     (2.0, 3.0]               \n",
       "Pclass                   1         2         3          1    2         3\n",
       "Sex Age                                                                 \n",
       "0   (0, 18]       0.875000  0.900000  0.510204   0.987500  1.0  0.111111\n",
       "    (18, 80]           NaN       NaN       NaN        NaN  NaN       NaN\n",
       "1   (0, 18]       0.391304  0.094118  0.108014   0.338462  0.0  0.416667\n",
       "    (18, 80]      0.500000  0.000000  0.000000   0.000000  NaN       NaN"
      ]
     },
     "execution_count": 96,
     "metadata": {},
     "output_type": "execute_result"
    }
   ],
   "source": [
    "fare = pd.qcut(titanic['Fare'], 2)\n",
    "titanic.pivot_table('Survived', ['Sex', agecat], [fare, 'Pclass'], aggfunc='mean')"
   ]
  },
  {
   "cell_type": "code",
   "execution_count": 124,
   "metadata": {},
   "outputs": [
    {
     "data": {
      "text/html": [
       "<div>\n",
       "<style>\n",
       "    .dataframe thead tr:only-child th {\n",
       "        text-align: right;\n",
       "    }\n",
       "\n",
       "    .dataframe thead th {\n",
       "        text-align: left;\n",
       "    }\n",
       "\n",
       "    .dataframe tbody tr th {\n",
       "        vertical-align: top;\n",
       "    }\n",
       "</style>\n",
       "<table border=\"1\" class=\"dataframe\">\n",
       "  <thead>\n",
       "    <tr>\n",
       "      <th></th>\n",
       "      <th colspan=\"6\" halign=\"left\">Survived</th>\n",
       "    </tr>\n",
       "    <tr>\n",
       "      <th></th>\n",
       "      <th colspan=\"3\" halign=\"left\">mean</th>\n",
       "      <th colspan=\"3\" halign=\"left\">sum</th>\n",
       "    </tr>\n",
       "    <tr>\n",
       "      <th>Pclass</th>\n",
       "      <th>1</th>\n",
       "      <th>2</th>\n",
       "      <th>3</th>\n",
       "      <th>1</th>\n",
       "      <th>2</th>\n",
       "      <th>3</th>\n",
       "    </tr>\n",
       "    <tr>\n",
       "      <th>Sex</th>\n",
       "      <th></th>\n",
       "      <th></th>\n",
       "      <th></th>\n",
       "      <th></th>\n",
       "      <th></th>\n",
       "      <th></th>\n",
       "    </tr>\n",
       "  </thead>\n",
       "  <tbody>\n",
       "    <tr>\n",
       "      <th>0</th>\n",
       "      <td>0.968085</td>\n",
       "      <td>0.921053</td>\n",
       "      <td>0.500000</td>\n",
       "      <td>91</td>\n",
       "      <td>70</td>\n",
       "      <td>72</td>\n",
       "    </tr>\n",
       "    <tr>\n",
       "      <th>1</th>\n",
       "      <td>0.368852</td>\n",
       "      <td>0.157407</td>\n",
       "      <td>0.135447</td>\n",
       "      <td>45</td>\n",
       "      <td>17</td>\n",
       "      <td>47</td>\n",
       "    </tr>\n",
       "  </tbody>\n",
       "</table>\n",
       "</div>"
      ],
      "text/plain": [
       "        Survived                                \n",
       "            mean                     sum        \n",
       "Pclass         1         2         3   1   2   3\n",
       "Sex                                             \n",
       "0       0.968085  0.921053  0.500000  91  70  72\n",
       "1       0.368852  0.157407  0.135447  45  17  47"
      ]
     },
     "execution_count": 124,
     "metadata": {},
     "output_type": "execute_result"
    }
   ],
   "source": [
    "titanic.pivot_table(index='Sex', columns='Pclass',\n",
    "                               aggfunc={'Survived':[sum,np.mean]\n",
    "                                        #, 'Survived':np.mean # Need to combine functions applied to same dimension\n",
    "                                       })"
   ]
  },
  {
   "cell_type": "code",
   "execution_count": 128,
   "metadata": {},
   "outputs": [
    {
     "data": {
      "text/html": [
       "<div>\n",
       "<style>\n",
       "    .dataframe thead tr:only-child th {\n",
       "        text-align: right;\n",
       "    }\n",
       "\n",
       "    .dataframe thead th {\n",
       "        text-align: left;\n",
       "    }\n",
       "\n",
       "    .dataframe tbody tr th {\n",
       "        vertical-align: top;\n",
       "    }\n",
       "</style>\n",
       "<table border=\"1\" class=\"dataframe\">\n",
       "  <thead>\n",
       "    <tr style=\"text-align: right;\">\n",
       "      <th></th>\n",
       "      <th>Survived</th>\n",
       "      <th>Pclass</th>\n",
       "      <th>Sex</th>\n",
       "      <th>Age</th>\n",
       "      <th>Parch</th>\n",
       "      <th>Fare</th>\n",
       "      <th>Embarked</th>\n",
       "      <th>Name_length</th>\n",
       "      <th>Has_Cabin</th>\n",
       "      <th>FamilySize</th>\n",
       "      <th>IsAlone</th>\n",
       "      <th>Title</th>\n",
       "    </tr>\n",
       "  </thead>\n",
       "  <tbody>\n",
       "    <tr>\n",
       "      <th>0</th>\n",
       "      <td>0</td>\n",
       "      <td>3</td>\n",
       "      <td>1</td>\n",
       "      <td>1</td>\n",
       "      <td>0</td>\n",
       "      <td>0</td>\n",
       "      <td>0</td>\n",
       "      <td>23</td>\n",
       "      <td>0</td>\n",
       "      <td>2</td>\n",
       "      <td>0</td>\n",
       "      <td>1</td>\n",
       "    </tr>\n",
       "    <tr>\n",
       "      <th>1</th>\n",
       "      <td>1</td>\n",
       "      <td>1</td>\n",
       "      <td>0</td>\n",
       "      <td>2</td>\n",
       "      <td>0</td>\n",
       "      <td>3</td>\n",
       "      <td>1</td>\n",
       "      <td>51</td>\n",
       "      <td>1</td>\n",
       "      <td>2</td>\n",
       "      <td>0</td>\n",
       "      <td>3</td>\n",
       "    </tr>\n",
       "    <tr>\n",
       "      <th>2</th>\n",
       "      <td>1</td>\n",
       "      <td>3</td>\n",
       "      <td>0</td>\n",
       "      <td>1</td>\n",
       "      <td>0</td>\n",
       "      <td>1</td>\n",
       "      <td>0</td>\n",
       "      <td>22</td>\n",
       "      <td>0</td>\n",
       "      <td>1</td>\n",
       "      <td>1</td>\n",
       "      <td>2</td>\n",
       "    </tr>\n",
       "    <tr>\n",
       "      <th>3</th>\n",
       "      <td>1</td>\n",
       "      <td>1</td>\n",
       "      <td>0</td>\n",
       "      <td>2</td>\n",
       "      <td>0</td>\n",
       "      <td>3</td>\n",
       "      <td>0</td>\n",
       "      <td>44</td>\n",
       "      <td>1</td>\n",
       "      <td>2</td>\n",
       "      <td>0</td>\n",
       "      <td>3</td>\n",
       "    </tr>\n",
       "    <tr>\n",
       "      <th>4</th>\n",
       "      <td>0</td>\n",
       "      <td>3</td>\n",
       "      <td>1</td>\n",
       "      <td>2</td>\n",
       "      <td>0</td>\n",
       "      <td>1</td>\n",
       "      <td>0</td>\n",
       "      <td>24</td>\n",
       "      <td>0</td>\n",
       "      <td>1</td>\n",
       "      <td>1</td>\n",
       "      <td>1</td>\n",
       "    </tr>\n",
       "  </tbody>\n",
       "</table>\n",
       "</div>"
      ],
      "text/plain": [
       "   Survived  Pclass  Sex  Age  Parch  Fare  Embarked  Name_length  Has_Cabin  \\\n",
       "0         0       3    1    1      0     0         0           23          0   \n",
       "1         1       1    0    2      0     3         1           51          1   \n",
       "2         1       3    0    1      0     1         0           22          0   \n",
       "3         1       1    0    2      0     3         0           44          1   \n",
       "4         0       3    1    2      0     1         0           24          0   \n",
       "\n",
       "   FamilySize  IsAlone  Title  \n",
       "0           2        0      1  \n",
       "1           2        0      3  \n",
       "2           1        1      2  \n",
       "3           2        0      3  \n",
       "4           1        1      1  "
      ]
     },
     "execution_count": 128,
     "metadata": {},
     "output_type": "execute_result"
    }
   ],
   "source": [
    "titanic.head()"
   ]
  },
  {
   "cell_type": "code",
   "execution_count": 152,
   "metadata": {},
   "outputs": [
    {
     "data": {
      "text/plain": [
       "<seaborn.axisgrid.FacetGrid at 0x1210914e0>"
      ]
     },
     "execution_count": 152,
     "metadata": {},
     "output_type": "execute_result"
    },
    {
     "data": {
      "image/png": "[encoded data removed]",
      "text/plain": [
       "<matplotlib.figure.Figure at 0x120aca748>"
      ]
     },
     "metadata": {},
     "output_type": "display_data"
    }
   ],
   "source": [
    "grid = sns.FacetGrid(titanic, col=\"Pclass\", row=\"Survived\", hue=\"Sex\", margin_titles=True)\n",
    "grid.map(sns.kdeplot, \"Name_length\", shade=True).add_legend().set_titles(\"Titanic\") #bins=np.linspace(0, 80, 15));\n"
   ]
  },
  {
   "cell_type": "code",
   "execution_count": 141,
   "metadata": {
    "scrolled": true
   },
   "outputs": [
    {
     "data": {
      "text/plain": [
       "<seaborn.axisgrid.FacetGrid at 0x11eb83940>"
      ]
     },
     "execution_count": 141,
     "metadata": {},
     "output_type": "execute_result"
    },
    {
     "data": {
      "image/png": "[encoded data removed]",
      "text/plain": [
       "<matplotlib.figure.Figure at 0x11eb832b0>"
      ]
     },
     "metadata": {},
     "output_type": "display_data"
    }
   ],
   "source": [
    "grid = sns.FacetGrid(titanic, row=\"Sex\", col=\"Pclass\", margin_titles=True)\n",
    "grid.map(sns.kdeplot, \"Name_length\", shade=True) #bins=np.linspace(0, 80, 15));"
   ]
  },
  {
   "cell_type": "code",
   "execution_count": 131,
   "metadata": {},
   "outputs": [
    {
     "data": {
      "image/png": "[encoded data removed]",
      "text/plain": [
       "<matplotlib.figure.Figure at 0x11f9d4668>"
      ]
     },
     "metadata": {},
     "output_type": "display_data"
    }
   ],
   "source": [
    "with sns.axes_style(style='ticks'):\n",
    "    g = sns.factorplot(\"Pclass\", \"Name_length\", \"Sex\", data=titanic, kind=\"box\")\n",
    "    g.set_axis_labels(\"Class\", \"Name Length\");"
   ]
  },
  {
   "cell_type": "code",
   "execution_count": 134,
   "metadata": {
    "scrolled": true
   },
   "outputs": [
    {
     "data": {
      "image/png": "[encoded data removed]",
      "text/plain": [
       "<matplotlib.figure.Figure at 0x11f4b3ac8>"
      ]
     },
     "metadata": {},
     "output_type": "display_data"
    }
   ],
   "source": [
    "sns.kdeplot(titanic.Name_length[titanic.Sex==1], label='men', shade=True)\n",
    "sns.kdeplot(titanic.Name_length[titanic.Sex==0], label='women', shade=True)\n",
    "plt.xlabel('Name_length');"
   ]
  },
  {
   "cell_type": "code",
   "execution_count": 135,
   "metadata": {},
   "outputs": [
    {
     "data": {
      "image/png": "[encoded data removed]",
      "text/plain": [
       "<matplotlib.figure.Figure at 0x11f4d60f0>"
      ]
     },
     "metadata": {},
     "output_type": "display_data"
    }
   ],
   "source": [
    "sns.violinplot(\"Sex\", \"Name_length\", data=titanic,\n",
    "               palette=[\"lightblue\", \"lightpink\"]);"
   ]
  },
  {
   "cell_type": "code",
   "execution_count": null,
   "metadata": {
    "collapsed": true
   },
   "outputs": [],
   "source": [
    "for col in 'xy': \n",
    "    sns.kdeplot(data[col], shade=True)"
   ]
  },
  {
   "cell_type": "markdown",
   "metadata": {
    "collapsed": true
   },
   "source": [
    "## Group Statistics\n",
    "\n",
    "### Group Normalization\n",
    "This is the practice of comparing the movements of groups within data by standardizing the data."
   ]
  },
  {
   "cell_type": "code",
   "execution_count": null,
   "metadata": {
    "collapsed": true
   },
   "outputs": [],
   "source": []
  },
  {
   "cell_type": "markdown",
   "metadata": {},
   "source": [
    "## Filter\n",
    "\n",
    "Applying functions on data which satisfies numerical conditions"
   ]
  },
  {
   "cell_type": "code",
   "execution_count": null,
   "metadata": {
    "collapsed": true
   },
   "outputs": [],
   "source": []
  },
  {
   "cell_type": "markdown",
   "metadata": {},
   "source": [
    "## Transform and Apply\n",
    "\n",
    "Enables functions to be applied to each value of the data, such as normalize, find difference.. etc."
   ]
  },
  {
   "cell_type": "code",
   "execution_count": null,
   "metadata": {
    "collapsed": true
   },
   "outputs": [],
   "source": []
  },
  {
   "cell_type": "markdown",
   "metadata": {},
   "source": [
    "## NAs, and Filling\n",
    "\n",
    "See Notebook!\n",
    "\n",
    "Replace with summary: This is probably the most commonly used imputation technique. Summarization here is the mean, mode, or median for a respective column. For continuous or quantitative variables, either mean/average or mode or median value of the respective column can be used to replace the missing values. Whereas for categorical or qualitative variables, the mode (most frequent) summation technique works better. You can achieve this using Panda's fillna() function (please refer to Chapter 2 Pandas section).\n",
    "\n",
    "Using predictive model: This is an advanced technique. Here you can train a regression model for continuous variables and classification model for categorical variables with the available data and use the model to predict the missing values."
   ]
  },
  {
   "cell_type": "code",
   "execution_count": 21,
   "metadata": {},
   "outputs": [
    {
     "data": {
      "text/html": [
       "<div>\n",
       "<style>\n",
       "    .dataframe thead tr:only-child th {\n",
       "        text-align: right;\n",
       "    }\n",
       "\n",
       "    .dataframe thead th {\n",
       "        text-align: left;\n",
       "    }\n",
       "\n",
       "    .dataframe tbody tr th {\n",
       "        vertical-align: top;\n",
       "    }\n",
       "</style>\n",
       "<table border=\"1\" class=\"dataframe\">\n",
       "  <thead>\n",
       "    <tr style=\"text-align: right;\">\n",
       "      <th></th>\n",
       "      <th>world_rank</th>\n",
       "      <th>university_name</th>\n",
       "      <th>national_rank</th>\n",
       "      <th>total_score</th>\n",
       "      <th>alumni</th>\n",
       "      <th>award</th>\n",
       "      <th>hici</th>\n",
       "      <th>ns</th>\n",
       "      <th>pub</th>\n",
       "      <th>pcp</th>\n",
       "      <th>year</th>\n",
       "      <th>pcpbin</th>\n",
       "    </tr>\n",
       "  </thead>\n",
       "  <tbody>\n",
       "    <tr>\n",
       "      <th>0</th>\n",
       "      <td>False</td>\n",
       "      <td>False</td>\n",
       "      <td>False</td>\n",
       "      <td>False</td>\n",
       "      <td>False</td>\n",
       "      <td>False</td>\n",
       "      <td>False</td>\n",
       "      <td>False</td>\n",
       "      <td>False</td>\n",
       "      <td>False</td>\n",
       "      <td>False</td>\n",
       "      <td>False</td>\n",
       "    </tr>\n",
       "    <tr>\n",
       "      <th>1</th>\n",
       "      <td>False</td>\n",
       "      <td>False</td>\n",
       "      <td>False</td>\n",
       "      <td>False</td>\n",
       "      <td>False</td>\n",
       "      <td>False</td>\n",
       "      <td>False</td>\n",
       "      <td>False</td>\n",
       "      <td>False</td>\n",
       "      <td>False</td>\n",
       "      <td>False</td>\n",
       "      <td>False</td>\n",
       "    </tr>\n",
       "    <tr>\n",
       "      <th>2</th>\n",
       "      <td>False</td>\n",
       "      <td>False</td>\n",
       "      <td>False</td>\n",
       "      <td>False</td>\n",
       "      <td>False</td>\n",
       "      <td>False</td>\n",
       "      <td>False</td>\n",
       "      <td>False</td>\n",
       "      <td>False</td>\n",
       "      <td>False</td>\n",
       "      <td>False</td>\n",
       "      <td>False</td>\n",
       "    </tr>\n",
       "  </tbody>\n",
       "</table>\n",
       "</div>"
      ],
      "text/plain": [
       "   world_rank  university_name  national_rank  total_score  alumni  award  \\\n",
       "0       False            False          False        False   False  False   \n",
       "1       False            False          False        False   False  False   \n",
       "2       False            False          False        False   False  False   \n",
       "\n",
       "    hici     ns    pub    pcp   year  pcpbin  \n",
       "0  False  False  False  False  False   False  \n",
       "1  False  False  False  False  False   False  \n",
       "2  False  False  False  False  False   False  "
      ]
     },
     "execution_count": 21,
     "metadata": {},
     "output_type": "execute_result"
    }
   ],
   "source": [
    "pd.isnull(df) [:3]"
   ]
  },
  {
   "cell_type": "code",
   "execution_count": 22,
   "metadata": {
    "collapsed": true
   },
   "outputs": [],
   "source": [
    "mean=df['total_score'].mean()\n",
    "df.total_score= df['total_score'].fillna(mean)"
   ]
  },
  {
   "cell_type": "markdown",
   "metadata": {},
   "source": [
    "### Dealing with NA"
   ]
  },
  {
   "cell_type": "code",
   "execution_count": 24,
   "metadata": {
    "collapsed": true
   },
   "outputs": [],
   "source": [
    "# df.fillna(method='ffill', inplace=True, limit = 1)"
   ]
  },
  {
   "cell_type": "markdown",
   "metadata": {},
   "source": [
    "## Pivot Table\n",
    "Great for mostly Categorical and a Key Continuous value"
   ]
  },
  {
   "cell_type": "code",
   "execution_count": 25,
   "metadata": {
    "scrolled": true
   },
   "outputs": [
    {
     "data": {
      "text/html": [
       "<div>\n",
       "<style>\n",
       "    .dataframe thead tr:only-child th {\n",
       "        text-align: right;\n",
       "    }\n",
       "\n",
       "    .dataframe thead th {\n",
       "        text-align: left;\n",
       "    }\n",
       "\n",
       "    .dataframe tbody tr th {\n",
       "        vertical-align: top;\n",
       "    }\n",
       "</style>\n",
       "<table border=\"1\" class=\"dataframe\">\n",
       "  <thead>\n",
       "    <tr style=\"text-align: right;\">\n",
       "      <th>pcpbin</th>\n",
       "      <th>(8.208, 26.64]</th>\n",
       "      <th>(26.64, 44.98]</th>\n",
       "      <th>(44.98, 63.32]</th>\n",
       "      <th>(63.32, 81.66]</th>\n",
       "      <th>(81.66, 100.0]</th>\n",
       "    </tr>\n",
       "    <tr>\n",
       "      <th>university_name</th>\n",
       "      <th></th>\n",
       "      <th></th>\n",
       "      <th></th>\n",
       "      <th></th>\n",
       "      <th></th>\n",
       "    </tr>\n",
       "  </thead>\n",
       "  <tbody>\n",
       "    <tr>\n",
       "      <th>Aalborg University</th>\n",
       "      <td>36.383470</td>\n",
       "      <td>NaN</td>\n",
       "      <td>NaN</td>\n",
       "      <td>NaN</td>\n",
       "      <td>NaN</td>\n",
       "    </tr>\n",
       "    <tr>\n",
       "      <th>Aalto University</th>\n",
       "      <td>36.383470</td>\n",
       "      <td>NaN</td>\n",
       "      <td>NaN</td>\n",
       "      <td>NaN</td>\n",
       "      <td>NaN</td>\n",
       "    </tr>\n",
       "    <tr>\n",
       "      <th>Aarhus University</th>\n",
       "      <td>30.508401</td>\n",
       "      <td>26.12000</td>\n",
       "      <td>NaN</td>\n",
       "      <td>NaN</td>\n",
       "      <td>NaN</td>\n",
       "    </tr>\n",
       "    <tr>\n",
       "      <th>Aix Marseille University</th>\n",
       "      <td>36.383470</td>\n",
       "      <td>36.38347</td>\n",
       "      <td>NaN</td>\n",
       "      <td>NaN</td>\n",
       "      <td>NaN</td>\n",
       "    </tr>\n",
       "    <tr>\n",
       "      <th>Aix-Marseille University</th>\n",
       "      <td>36.383470</td>\n",
       "      <td>NaN</td>\n",
       "      <td>NaN</td>\n",
       "      <td>NaN</td>\n",
       "      <td>NaN</td>\n",
       "    </tr>\n",
       "  </tbody>\n",
       "</table>\n",
       "</div>"
      ],
      "text/plain": [
       "pcpbin                    (8.208, 26.64]  (26.64, 44.98]  (44.98, 63.32]  \\\n",
       "university_name                                                            \n",
       "Aalborg University             36.383470             NaN             NaN   \n",
       "Aalto University               36.383470             NaN             NaN   \n",
       "Aarhus University              30.508401        26.12000             NaN   \n",
       "Aix Marseille University       36.383470        36.38347             NaN   \n",
       "Aix-Marseille University       36.383470             NaN             NaN   \n",
       "\n",
       "pcpbin                    (63.32, 81.66]  (81.66, 100.0]  \n",
       "university_name                                           \n",
       "Aalborg University                   NaN             NaN  \n",
       "Aalto University                     NaN             NaN  \n",
       "Aarhus University                    NaN             NaN  \n",
       "Aix Marseille University             NaN             NaN  \n",
       "Aix-Marseille University             NaN             NaN  "
      ]
     },
     "execution_count": 25,
     "metadata": {},
     "output_type": "execute_result"
    }
   ],
   "source": [
    "pd.pivot_table(df, values='total_score', \n",
    "               index=['university_name'], columns=['pcpbin', aggfunc='count'])[:5]"
   ]
  },
  {
   "cell_type": "code",
   "execution_count": null,
   "metadata": {
    "collapsed": true
   },
   "outputs": [],
   "source": [
    "# Creating columns wih loop, assigning a name from the looping value"
   ]
  },
  {
   "cell_type": "code",
   "execution_count": 29,
   "metadata": {},
   "outputs": [
    {
     "ename": "TypeError",
     "evalue": "list indices must be integers or slices, not str",
     "output_type": "error",
     "traceback": [
      "\u001b[1;31m---------------------------------------------------------------------------\u001b[0m",
      "\u001b[1;31mTypeError\u001b[0m                                 Traceback (most recent call last)",
      "\u001b[1;32m<ipython-input-29-5952ba79977f>\u001b[0m in \u001b[0;36m<module>\u001b[1;34m()\u001b[0m\n\u001b[0;32m      2\u001b[0m \u001b[1;32mfor\u001b[0m \u001b[0mi\u001b[0m \u001b[1;32min\u001b[0m \u001b[0mrange\u001b[0m\u001b[1;33m(\u001b[0m\u001b[1;36m2\u001b[0m\u001b[1;33m,\u001b[0m\u001b[1;36m50\u001b[0m\u001b[1;33m)\u001b[0m\u001b[1;33m:\u001b[0m              \u001b[1;31m# power of 1 is already there\u001b[0m\u001b[1;33m\u001b[0m\u001b[0m\n\u001b[0;32m      3\u001b[0m     \u001b[0mcolname\u001b[0m \u001b[1;33m=\u001b[0m \u001b[1;34m'x_%d'\u001b[0m\u001b[1;33m%\u001b[0m\u001b[0mi\u001b[0m            \u001b[1;31m# new var will be x_power\u001b[0m\u001b[1;33m\u001b[0m\u001b[0m\n\u001b[1;32m----> 4\u001b[1;33m     \u001b[0mtest\u001b[0m\u001b[1;33m[\u001b[0m\u001b[0mcolname\u001b[0m\u001b[1;33m]\u001b[0m \u001b[1;33m=\u001b[0m \u001b[0mtest\u001b[0m\u001b[1;33m[\u001b[0m\u001b[1;34m'x'\u001b[0m\u001b[1;33m]\u001b[0m\u001b[1;33m**\u001b[0m\u001b[0mi\u001b[0m\u001b[1;33m\u001b[0m\u001b[0m\n\u001b[0m\u001b[0;32m      5\u001b[0m \u001b[1;33m\u001b[0m\u001b[0m\n\u001b[0;32m      6\u001b[0m \u001b[0mprint\u001b[0m\u001b[1;33m(\u001b[0m\u001b[0mtest\u001b[0m\u001b[1;33m)\u001b[0m\u001b[1;33m\u001b[0m\u001b[0m\n",
      "\u001b[1;31mTypeError\u001b[0m: list indices must be integers or slices, not str"
     ]
    }
   ],
   "source": [
    "test= []\n",
    "for i in range(2,50):              # power of 1 is already there\n",
    "    colname = 'x_%d'%i            # new var will be x_power\n",
    "    test[colname] = test['x']**i\n",
    "    \n",
    "print(test)"
   ]
  },
  {
   "cell_type": "markdown",
   "metadata": {
    "collapsed": true
   },
   "source": [
    "## Efficient Masking and Computation\n",
    "\n",
    "query()\n",
    "\n",
    "eval()"
   ]
  },
  {
   "cell_type": "markdown",
   "metadata": {
    "collapsed": true
   },
   "source": [
    "## Parsing Time Data\n",
    "\n",
    "Includes looking at data by date (most obvious), year, by month, day of the month, day of the year, day of the week, weekday/weekend, hour of the day, by decade, or by any meaningful periodic occurance, such as presidential cycle..\n",
    "\n",
    "Python for Data Analysis has an in depth examination of these techniques in terms of finance time-series. Including finding a common time index between datasets, NaN filling, examination of variance, adjusting magnitude between groups, and more advanced methods of risk modeling."
   ]
  },
  {
   "cell_type": "markdown",
   "metadata": {},
   "source": [
    "## Parsing Strings\n",
    "\n",
    "Python Data Science Handbook really hints at the intricacies of string data by offering multiple angles of parsing and exploration, and products such as recommendation systems. Once again, the possibilites of parsing data are truly endless, where imagination is the only boundary. Infact, this topics requires it's own little notebook, since it is truly the skill that requires the most imagination, and has the furthest reaching potential."
   ]
  },
  {
   "cell_type": "markdown",
   "metadata": {},
   "source": [
    "## Philosophy of Analysis\n",
    "\"Art of the Angle\"\n",
    "\n",
    "#### Cleaning: \n",
    "Outliers, missing values, data merging [alignment], data type formating [discrete, continous, string, image, ordinal..]\n",
    "\n",
    "#### Grouping:\n",
    "- Categories\n",
    "- Cutting continuous data\n",
    "- Statistical summaries\n",
    "- Adjusting for magnitude between groups [Normalization]: Measuring change, finding anomalies. These are often the most fundamental aspects of meaning because they represent the movement and positioning of the object. In finance, one is not so much interested in the size of the entity, rather on how it is changing, since that is the magnitude by which money gains in value.\n",
    "\n",
    "\n",
    "#### Data Parsing:\n",
    "Time, String, **Scope of Relevance**, \n",
    "\n"
   ]
  },
  {
   "cell_type": "code",
   "execution_count": null,
   "metadata": {
    "collapsed": true
   },
   "outputs": [],
   "source": []
  }
 ],
 "metadata": {
  "kernelspec": {
   "display_name": "Python 3",
   "language": "python",
   "name": "python3"
  },
  "language_info": {
   "codemirror_mode": {
    "name": "ipython",
    "version": 3
   },
   "file_extension": ".py",
   "mimetype": "text/x-python",
   "name": "python",
   "nbconvert_exporter": "python",
   "pygments_lexer": "ipython3",
   "version": "3.6.1"
  }
 },
 "nbformat": 4,
 "nbformat_minor": 2
}
