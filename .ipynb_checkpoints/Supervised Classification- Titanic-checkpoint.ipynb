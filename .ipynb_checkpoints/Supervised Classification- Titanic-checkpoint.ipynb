{
 "cells": [
  {
   "cell_type": "markdown",
   "metadata": {},
   "source": [
    "# Supervised Classification with Titanic\n",
    "Author: Nick Brooks\n",
    "\n",
    "Date: Summer 2017"
   ]
  },
  {
   "cell_type": "code",
   "execution_count": 1,
   "metadata": {
    "collapsed": true
   },
   "outputs": [],
   "source": [
    "# data analysis and wrangling\n",
    "import pandas as pd\n",
    "import numpy as np\n",
    "import random as rnd\n",
    "import os\n",
    "\n",
    "import pickle\n",
    "import multiprocessing\n",
    "\n",
    "# visualization\n",
    "import seaborn as sns\n",
    "import matplotlib.pyplot as plt\n",
    "get_ipython().magic('matplotlib inline')\n",
    "\n",
    "# machine learning models\n",
    "from sklearn.linear_model import LogisticRegression\n",
    "from sklearn.naive_bayes import GaussianNB\n",
    "from sklearn.svm import SVC, LinearSVC\n",
    "#from sklearn import svm\n",
    "from sklearn.ensemble import RandomForestClassifier, AdaBoostClassifier, BaggingClassifier, GradientBoostingClassifier\n",
    "from sklearn.neighbors import KNeighborsClassifier\n",
    "from sklearn.naive_bayes import GaussianNB\n",
    "from sklearn.linear_model import Perceptron\n",
    "from sklearn.linear_model import SGDClassifier\n",
    "from sklearn.tree import DecisionTreeClassifier\n",
    "from sklearn.linear_model import SGDClassifier\n",
    "\n",
    "#Evalaluation\n",
    "from sklearn.model_selection import train_test_split\n",
    "from sklearn import metrics\n",
    "from sklearn.model_selection import cross_val_score\n",
    "\n",
    "# Grid\n",
    "from sklearn.preprocessing import StandardScaler\n",
    "from sklearn.model_selection import StratifiedShuffleSplit\n",
    "from sklearn.feature_selection import RFE\n",
    "from sklearn.model_selection import GridSearchCV\n",
    "from sklearn.model_selection import RandomizedSearchCV\n",
    "\n",
    "#Performance\n",
    "%load_ext memory_profiler\n",
    "\n",
    "#Warnings\n",
    "import warnings\n",
    "warnings.filterwarnings('ignore')"
   ]
  },
  {
   "cell_type": "markdown",
   "metadata": {},
   "source": [
    "## Load"
   ]
  },
  {
   "cell_type": "code",
   "execution_count": 2,
   "metadata": {
    "collapsed": true
   },
   "outputs": [],
   "source": [
    "#os.chdir(r\"D:/My Computer/\")\n",
    "#os.getcwd()"
   ]
  },
  {
   "cell_type": "code",
   "execution_count": 3,
   "metadata": {},
   "outputs": [
    {
     "name": "stdout",
     "output_type": "stream",
     "text": [
      "(891, 29) (891,) (418, 29)\n"
     ]
    }
   ],
   "source": [
    "#Titanic\n",
    "path = r\"C:/Users/Nicol/Google Drive/Learning/Jupyter/Titanic\"\n",
    "#path = r\"/Users/nicapotato/Google Drive/Learning/Jupyter/Titanic\"\n",
    "\n",
    "#train_df = pd.read_csv(open(os.path.join(path, \"clean_train.csv\"), \"r\")) \n",
    "#test_df = pd.read_csv(open(os.path.join(path, \"clean_test.csv\"), \"r\"))\n",
    "\n",
    "#train_df = pd.read_csv(open(os.path.join(path, \"clean_train2.csv\"), \"r\")) \n",
    "#test_df = pd.read_csv(open(os.path.join(path, \"clean_test2.csv\"), \"r\")) \n",
    "\n",
    "train_df = pd.read_csv(open(os.path.join(path, \"clean_train_nick.csv\"), \"r\"), index_col=\"PassengerId\") \n",
    "test_df = pd.read_csv(open(os.path.join(path, \"clean_test_nick.csv\"), \"r\"), index_col=\"PassengerId\") \n",
    "\n",
    "X = train_df.drop([\"Survived\"] , axis=1)\n",
    "y = train_df[\"Survived\"]\n",
    "\n",
    "#test_df  = test_df.drop([\"PassengerId\"] , axis=1).copy()\n",
    "print(X.shape, y.shape, test_df.shape)\n",
    "\n",
    "results = pd.DataFrame()\n",
    "\n",
    "def save(model, modelname):\n",
    "    global results\n",
    "    model.fit(X, y)\n",
    "    submission = model.predict(test_df)\n",
    "    df = pd.DataFrame({'PassengerId':test_df.index, \n",
    "                           'Survived':submission})\n",
    "    df.to_csv((os.path.join(path,(\"submissions/{}.csv\".format(modelname)))),header=True,index=False)\n",
    "    \n",
    "    # CV and Save Scores\n",
    "    results = results.append({'Model': modelname,'Para': grid.best_params_, 'Score': (grid.best_score_*100)}, ignore_index=True)\n",
    "    \n",
    "    print(\"Optimal Model CV Accuracy: {}\".format(grid.best_score_*100))\n",
    "    print(\"Optimal Model Parameters: {}\".format(grid.best_params_))\n",
    "\n",
    "    with open((os.path.join(path,(r\"Pickle/{}.pickle\".format(modelname)))), 'wb') as f: pickle.dump(model, f)\n",
    "        \n",
    "def norm_save(model, modelname):\n",
    "    global results\n",
    "    model.fit(X, y)\n",
    "    submission = model.predict(test_df)\n",
    "    df = pd.DataFrame({'PassengerId':test_df.index, \n",
    "                           'Survived':submission})\n",
    "    results = results.append({'Model': modelname,'Para': model, 'Score':score.mean()*100}, ignore_index=True)\n",
    "    df.to_csv((os.path.join(path,(\"submissions/{}.csv\".format(modelname)))),header=True,index=False)\n",
    "    with open((os.path.join(path,(r\"Pickle/{}.pickle\".format(modelname)))), 'wb') as f: pickle.dump(model, f)\n",
    "\n",
    "def ensembling(model, modelname):\n",
    "    model.fit(X, y)\n",
    "    submission = model.predict(test_df)\n",
    "    df = pd.DataFrame({'PassengerId':test_df.index, \n",
    "                           'Survived':submission})\n",
    "    print(len(df))\n",
    "    df.to_csv((os.path.join(path,(r\"submissions/{}.csv\".format(modelname)))),header=True,index=False)\n",
    "    with open((os.path.join(path,(r\"Pickle/{}.pickle\".format(modelname)))), 'wb') as f: pickle.dump(model, f)"
   ]
  },
  {
   "cell_type": "code",
   "execution_count": 4,
   "metadata": {},
   "outputs": [
    {
     "name": "stdout",
     "output_type": "stream",
     "text": [
      "0    0.616162\n",
      "1    0.383838\n",
      "Name: Survived, dtype: float64\n"
     ]
    }
   ],
   "source": [
    "print(y.value_counts(normalize=True))"
   ]
  },
  {
   "cell_type": "code",
   "execution_count": 5,
   "metadata": {},
   "outputs": [],
   "source": [
    "# Should Balance This DataSet\n",
    "\n",
    "# Should Perhaps Normalize Data\n",
    "# Re-configurate input data by myself"
   ]
  },
  {
   "cell_type": "code",
   "execution_count": 6,
   "metadata": {
    "collapsed": true
   },
   "outputs": [],
   "source": [
    "# use train/test split with different random_state values\n",
    "X_train, X_test, y_train, y_test = train_test_split(X, y, test_size=0.2)\n",
    "X_train.shape, y_train.shape, X_test.shape, y_test.shape\n",
    "\n",
    "# Stratified Cross Validation\n",
    "cv = StratifiedShuffleSplit(n_splits=5, test_size=0.3, random_state=42)"
   ]
  },
  {
   "cell_type": "code",
   "execution_count": 7,
   "metadata": {},
   "outputs": [
    {
     "name": "stdout",
     "output_type": "stream",
     "text": [
      "<class 'pandas.core.frame.DataFrame'>\n",
      "Int64Index: 891 entries, 1 to 891\n",
      "Data columns (total 29 columns):\n",
      "Sex             891 non-null int64\n",
      "Age             891 non-null float64\n",
      "Fare            891 non-null float64\n",
      "Embarked_C      891 non-null int64\n",
      "Embarked_Q      891 non-null int64\n",
      "Embarked_S      891 non-null int64\n",
      "Title_Master    891 non-null int64\n",
      "Title_Miss      891 non-null int64\n",
      "Title_Mr        891 non-null int64\n",
      "Title_Mrs       891 non-null int64\n",
      "Title_Rare      891 non-null int64\n",
      "Parch_0         891 non-null int64\n",
      "Parch_1         891 non-null int64\n",
      "Parch_2         891 non-null int64\n",
      "Parch_3         891 non-null int64\n",
      "Parch_4         891 non-null int64\n",
      "Parch_5         891 non-null int64\n",
      "Parch_6         891 non-null int64\n",
      "Parch_9         891 non-null int64\n",
      "SibSp_0         891 non-null int64\n",
      "SibSp_1         891 non-null int64\n",
      "SibSp_2         891 non-null int64\n",
      "SibSp_3         891 non-null int64\n",
      "SibSp_4         891 non-null int64\n",
      "SibSp_5         891 non-null int64\n",
      "SibSp_8         891 non-null int64\n",
      "Pclass_1        891 non-null int64\n",
      "Pclass_2        891 non-null int64\n",
      "Pclass_3        891 non-null int64\n",
      "dtypes: float64(2), int64(27)\n",
      "memory usage: 248.8 KB\n",
      "None\n",
      "<class 'pandas.core.frame.DataFrame'>\n",
      "Int64Index: 418 entries, 892 to 1309\n",
      "Data columns (total 29 columns):\n",
      "Sex             418 non-null int64\n",
      "Age             418 non-null float64\n",
      "Fare            418 non-null float64\n",
      "Embarked_C      418 non-null int64\n",
      "Embarked_Q      418 non-null int64\n",
      "Embarked_S      418 non-null int64\n",
      "Title_Master    418 non-null int64\n",
      "Title_Miss      418 non-null int64\n",
      "Title_Mr        418 non-null int64\n",
      "Title_Mrs       418 non-null int64\n",
      "Title_Rare      418 non-null int64\n",
      "Parch_0         418 non-null int64\n",
      "Parch_1         418 non-null int64\n",
      "Parch_2         418 non-null int64\n",
      "Parch_3         418 non-null int64\n",
      "Parch_4         418 non-null int64\n",
      "Parch_5         418 non-null int64\n",
      "Parch_6         418 non-null int64\n",
      "Parch_9         418 non-null int64\n",
      "SibSp_0         418 non-null int64\n",
      "SibSp_1         418 non-null int64\n",
      "SibSp_2         418 non-null int64\n",
      "SibSp_3         418 non-null int64\n",
      "SibSp_4         418 non-null int64\n",
      "SibSp_5         418 non-null int64\n",
      "SibSp_8         418 non-null int64\n",
      "Pclass_1        418 non-null int64\n",
      "Pclass_2        418 non-null int64\n",
      "Pclass_3        418 non-null int64\n",
      "dtypes: float64(2), int64(27)\n",
      "memory usage: 98.0 KB\n",
      "None\n"
     ]
    }
   ],
   "source": [
    "print(X.info())\n",
    "print(test_df.info())"
   ]
  },
  {
   "cell_type": "markdown",
   "metadata": {},
   "source": [
    "# Generative Classification\n",
    "Probabilistically determine the label from the features"
   ]
  },
  {
   "cell_type": "markdown",
   "metadata": {},
   "source": [
    "## Gaussian"
   ]
  },
  {
   "cell_type": "code",
   "execution_count": 8,
   "metadata": {},
   "outputs": [
    {
     "name": "stdout",
     "output_type": "stream",
     "text": [
      "0.407413744183\n"
     ]
    }
   ],
   "source": [
    "model = GaussianNB()\n",
    "\n",
    "score = cross_val_score(model, X, y, cv=10, scoring='accuracy')\n",
    "print(score.mean())\n",
    "norm_save(GaussianNB(), \"Gaussian\")"
   ]
  },
  {
   "cell_type": "markdown",
   "metadata": {},
   "source": [
    "## Logistic Regression\n"
   ]
  },
  {
   "cell_type": "code",
   "execution_count": 9,
   "metadata": {
    "scrolled": true
   },
   "outputs": [
    {
     "name": "stdout",
     "output_type": "stream",
     "text": [
      "0.820458234026\n"
     ]
    }
   ],
   "source": [
    "model= LogisticRegression()\n",
    "score = cross_val_score(model, X, y, cv=10, scoring='accuracy')\n",
    "print(score.mean())\n",
    "norm_save(LogisticRegression(), \"Logistic_Regression\")"
   ]
  },
  {
   "cell_type": "markdown",
   "metadata": {},
   "source": [
    "## Neural Net"
   ]
  },
  {
   "cell_type": "markdown",
   "metadata": {},
   "source": [
    "### With ScikitLearn"
   ]
  },
  {
   "cell_type": "code",
   "execution_count": 10,
   "metadata": {
    "collapsed": true
   },
   "outputs": [],
   "source": [
    "from sklearn.neural_network import MLPClassifier"
   ]
  },
  {
   "cell_type": "code",
   "execution_count": 11,
   "metadata": {},
   "outputs": [
    {
     "data": {
      "text/plain": [
       "dict_keys(['tol', 'alpha', 'validation_fraction', 'learning_rate', 'power_t', 'learning_rate_init', 'shuffle', 'nesterovs_momentum', 'activation', 'momentum', 'solver', 'random_state', 'batch_size', 'verbose', 'early_stopping', 'epsilon', 'beta_1', 'max_iter', 'beta_2', 'warm_start', 'hidden_layer_sizes'])"
      ]
     },
     "execution_count": 11,
     "metadata": {},
     "output_type": "execute_result"
    }
   ],
   "source": [
    "#?neural_network\n",
    "MLPClassifier().get_params().keys()"
   ]
  },
  {
   "cell_type": "code",
   "execution_count": 12,
   "metadata": {
    "scrolled": false
   },
   "outputs": [
    {
     "name": "stdout",
     "output_type": "stream",
     "text": [
      "Fitting 5 folds for each of 10 candidates, totalling 50 fits\n"
     ]
    },
    {
     "name": "stderr",
     "output_type": "stream",
     "text": [
      "[Parallel(n_jobs=1)]: Done  50 out of  50 | elapsed:   15.4s finished\n"
     ]
    },
    {
     "name": "stdout",
     "output_type": "stream",
     "text": [
      "Optimal Model CV Accuracy: 80.67164179104478\n",
      "Optimal Model Parameters: {'max_iter': 100000, 'hidden_layer_sizes': 100}\n"
     ]
    }
   ],
   "source": [
    "# Start with a RandomSearchCV to efficiently Narrow the Ballpark\n",
    "param_grid ={'max_iter': np.logspace(1, 5, 5).astype(\"int32\"),\n",
    "             'hidden_layer_sizes': np.logspace(2, 3, 4).astype(\"int32\"),}\n",
    "\n",
    "model = MLPClassifier()\n",
    "\n",
    "grid = RandomizedSearchCV(model,\n",
    "                    param_grid, cv=cv, scoring='accuracy',\n",
    "                    verbose=1)\n",
    "\n",
    "grid.fit(X, y)\n",
    "save(grid.best_estimator_, \"RSNeural_Net\")"
   ]
  },
  {
   "cell_type": "markdown",
   "metadata": {},
   "source": [
    "# TensorFlow NN"
   ]
  },
  {
   "cell_type": "code",
   "execution_count": null,
   "metadata": {
    "collapsed": true
   },
   "outputs": [],
   "source": []
  },
  {
   "cell_type": "markdown",
   "metadata": {},
   "source": [
    "# Non-Parametric"
   ]
  },
  {
   "cell_type": "markdown",
   "metadata": {},
   "source": [
    "# Esemble Method\n",
    "\n",
    "Means that a bunch of the model get created and are aggregated at the end for best performance.\n",
    "\n",
    "## Bagging, Bootstrap\n",
    "\n",
    "Aka Bootstrap- creates a bunch of trees using a random 3/4 the the data for each, while using sampling without replacement, which means that values may be sampled multiple times.\n",
    "\n",
    "https://www.analyticsvidhya.com/blog/2015/06/tuning-random-forest-model/\n",
    "\n",
    "HyperParameters:\n",
    "- max_features: This is the random subset of features to be used for splitting node, the lower the better to reduce variance. For Classification model, ideal max_features = sqr(n_var)\n",
    "- n_estimators: # of trees built before average prediciton is made\n",
    "- min_sample_leaf: End node of trees. Too small = more noise. For Regression tree.\n",
    "- n_jobs: computer processors utilized. -1 = no restrictions\n",
    "- random_state: seed()"
   ]
  },
  {
   "cell_type": "code",
   "execution_count": 13,
   "metadata": {},
   "outputs": [
    {
     "name": "stdout",
     "output_type": "stream",
     "text": [
      "82.8398876404\n"
     ]
    }
   ],
   "source": [
    "tree = DecisionTreeClassifier()\n",
    "bag = BaggingClassifier(tree, n_estimators=300, max_samples=0.8,\n",
    "                        random_state=1)\n",
    "\n",
    "print(cross_val_score(bag, X, y, cv=10, scoring='accuracy').mean()*100)"
   ]
  },
  {
   "cell_type": "code",
   "execution_count": 14,
   "metadata": {},
   "outputs": [
    {
     "data": {
      "text/plain": [
       "array([ 20,  45,  70,  95, 120, 145, 170, 195, 220, 245, 270, 295, 320,\n",
       "       345, 370, 395, 420, 445, 470, 495])"
      ]
     },
     "execution_count": 14,
     "metadata": {},
     "output_type": "execute_result"
    }
   ],
   "source": [
    "np.arange(20, 500, 25)"
   ]
  },
  {
   "cell_type": "code",
   "execution_count": 15,
   "metadata": {},
   "outputs": [
    {
     "name": "stdout",
     "output_type": "stream",
     "text": [
      "Fitting 5 folds for each of 10 candidates, totalling 50 fits\n"
     ]
    },
    {
     "name": "stderr",
     "output_type": "stream",
     "text": [
      "[Parallel(n_jobs=1)]: Done  50 out of  50 | elapsed:   13.9s finished\n"
     ]
    },
    {
     "name": "stdout",
     "output_type": "stream",
     "text": [
      "Optimal Model CV Accuracy: 80.97014925373134\n",
      "Optimal Model Parameters: {'n_estimators': 270}\n"
     ]
    }
   ],
   "source": [
    "param_grid ={'n_estimators': np.arange(20, 500, 25)}\n",
    "\n",
    "tree = DecisionTreeClassifier()\n",
    "#bag = BaggingClassifier(tree)\n",
    "\n",
    "grid = RandomizedSearchCV(BaggingClassifier(tree),\n",
    "                    param_grid, cv=cv, scoring='accuracy',\n",
    "                    verbose=1)\n",
    "\n",
    "grid.fit(X, y)\n",
    "save(grid.best_estimator_, \"Bagger_ensemble\")"
   ]
  },
  {
   "cell_type": "markdown",
   "metadata": {},
   "source": [
    "## Random Forest\n",
    "\n",
    "Trees are created wih a randomly picked subset of observations and variables. More uncorrelated splits, less overemphasis on certain features."
   ]
  },
  {
   "cell_type": "code",
   "execution_count": 16,
   "metadata": {
    "scrolled": true
   },
   "outputs": [
    {
     "name": "stdout",
     "output_type": "stream",
     "text": [
      "0.798882681564\n"
     ]
    }
   ],
   "source": [
    "model = RandomForestClassifier()\n",
    "model.fit(X_train, y_train)\n",
    "print(model.score(X_test, y_test))"
   ]
  },
  {
   "cell_type": "code",
   "execution_count": 17,
   "metadata": {},
   "outputs": [
    {
     "data": {
      "text/plain": [
       "array([ 6,  7,  8,  9, 10])"
      ]
     },
     "execution_count": 17,
     "metadata": {},
     "output_type": "execute_result"
    }
   ],
   "source": [
    "np.arange(6, 11, 1)"
   ]
  },
  {
   "cell_type": "code",
   "execution_count": 18,
   "metadata": {},
   "outputs": [
    {
     "data": {
      "text/plain": [
       "dict_keys(['max_leaf_nodes', 'max_depth', 'criterion', 'class_weight', 'verbose', 'n_jobs', 'min_samples_split', 'oob_score', 'min_impurity_split', 'min_weight_fraction_leaf', 'random_state', 'bootstrap', 'warm_start', 'n_estimators', 'max_features', 'min_samples_leaf'])"
      ]
     },
     "execution_count": 18,
     "metadata": {},
     "output_type": "execute_result"
    }
   ],
   "source": [
    "RandomForestClassifier().get_params().keys()"
   ]
  },
  {
   "cell_type": "code",
   "execution_count": 19,
   "metadata": {
    "scrolled": true
   },
   "outputs": [
    {
     "name": "stdout",
     "output_type": "stream",
     "text": [
      "Fitting 5 folds for each of 10 candidates, totalling 50 fits\n"
     ]
    },
    {
     "name": "stderr",
     "output_type": "stream",
     "text": [
      "[Parallel(n_jobs=1)]: Done  50 out of  50 | elapsed:   18.7s finished\n"
     ]
    },
    {
     "name": "stdout",
     "output_type": "stream",
     "text": [
      "Optimal Model CV Accuracy: 81.11940298507463\n",
      "Optimal Model Parameters: {'max_leaf_nodes': 8, 'max_depth': 6, 'n_estimators': 350, 'max_features': 0.60000000000000009}\n"
     ]
    }
   ],
   "source": [
    "param_grid ={'max_depth': np.arange(6, 11, 1),\n",
    "             'n_estimators':np.arange(350, 450, 25),\n",
    "             'max_features':np.arange(0.5,.81, 0.05),\n",
    "            'max_leaf_nodes':np.arange(6, 10, 1)}\n",
    "#param_grid ={'n_estimators':[200]}\n",
    "\n",
    "from sklearn import feature_selection\n",
    "\n",
    "#model = feature_selection.RFE(RandomForestClassifier())\n",
    "model= RandomForestClassifier()\n",
    "\n",
    "grid = RandomizedSearchCV(model,\n",
    "                    param_grid, cv=cv,\n",
    "                    scoring='accuracy',\n",
    "                    verbose=1)\n",
    "\n",
    "grid.fit(X, y)\n",
    "save(grid.best_estimator_, \"Random_Forest\")"
   ]
  },
  {
   "cell_type": "markdown",
   "metadata": {},
   "source": [
    "## Extremely Randomized Trees (ExtraTree)"
   ]
  },
  {
   "cell_type": "code",
   "execution_count": null,
   "metadata": {
    "collapsed": true
   },
   "outputs": [],
   "source": []
  },
  {
   "cell_type": "markdown",
   "metadata": {},
   "source": [
    "## AdaBoostClassifier: Boosting Method\n",
    "\n",
    "Method, similarly to deep learning, applies weights to all data points and optimizes them using the loss function. Fixes mistakes by assigning high weights to them during iterative process.\n",
    "\n",
    "Iterates through multiple models in order to determine the best boundaries. It relies on using weak models to determine the pattern, and evantually creates a strong combination of them."
   ]
  },
  {
   "cell_type": "code",
   "execution_count": 20,
   "metadata": {
    "scrolled": true
   },
   "outputs": [
    {
     "name": "stdout",
     "output_type": "stream",
     "text": [
      "Fitting 5 folds for each of 10 candidates, totalling 50 fits\n"
     ]
    },
    {
     "name": "stderr",
     "output_type": "stream",
     "text": [
      "[Parallel(n_jobs=1)]: Done  50 out of  50 | elapsed:    8.2s finished\n"
     ]
    },
    {
     "name": "stdout",
     "output_type": "stream",
     "text": [
      "Optimal Model CV Accuracy: 79.77611940298507\n",
      "Optimal Model Parameters: {'n_estimators': 125, 'learning_rate': 1.6000000000000001}\n"
     ]
    }
   ],
   "source": [
    "param_grid ={'n_estimators':np.arange(50, 301, 25),\n",
    "            'learning_rate':np.arange(.1, 4, .5)}\n",
    "\n",
    "grid = RandomizedSearchCV(AdaBoostClassifier(),\n",
    "                    param_grid,cv=cv, scoring='accuracy',\n",
    "                    verbose=1)\n",
    "\n",
    "grid.fit(X, y);\n",
    "save(grid.best_estimator_, \"AdaBoost_Ensemble\")"
   ]
  },
  {
   "cell_type": "markdown",
   "metadata": {},
   "source": [
    "## Gradient Boosting Classifier\n",
    "\n",
    "Part of the Generalized Boosting Algorithm family.\n",
    "\n",
    "GB builds an additive model in a forward stage-wise fashion; it allows for the optimization of arbitrary differentiable loss functions.\n",
    "\n",
    "Part of the generalized boosting algorithms. Can use more loss functions than AdaBoost, and uses gradients instead of high-weight data points."
   ]
  },
  {
   "cell_type": "code",
   "execution_count": 21,
   "metadata": {
    "collapsed": true
   },
   "outputs": [],
   "source": [
    "#?GradientBoostingClassifier"
   ]
  },
  {
   "cell_type": "code",
   "execution_count": 22,
   "metadata": {
    "scrolled": true
   },
   "outputs": [
    {
     "name": "stdout",
     "output_type": "stream",
     "text": [
      "Fitting 5 folds for each of 10 candidates, totalling 50 fits\n"
     ]
    },
    {
     "name": "stderr",
     "output_type": "stream",
     "text": [
      "[Parallel(n_jobs=1)]: Done  50 out of  50 | elapsed:    5.6s finished\n"
     ]
    },
    {
     "name": "stdout",
     "output_type": "stream",
     "text": [
      "Optimal Model CV Accuracy: 81.11940298507463\n",
      "Optimal Model Parameters: {'loss': 'exponential', 'max_depth': 2.5, 'n_estimators': 200, 'learning_rate': 0.26000000000000001}\n"
     ]
    }
   ],
   "source": [
    "param_grid ={'n_estimators':np.arange(100, 301, 25),\n",
    "            'loss': ['deviance', 'exponential'],\n",
    "            'learning_rate':np.arange(0.01, 0.32,.05),\n",
    "            'max_depth': np.arange(2, 4.1, .5)}\n",
    "\n",
    "grid = RandomizedSearchCV(GradientBoostingClassifier(),\n",
    "                    param_grid,cv=cv,\n",
    "                    scoring='accuracy',\n",
    "                    verbose=1)\n",
    "\n",
    "grid.fit(X, y)\n",
    "save(grid.best_estimator_, \"Gradient_Boosting\")"
   ]
  },
  {
   "cell_type": "markdown",
   "metadata": {},
   "source": [
    "## XGB eXtreme Gradient Boosting\n",
    "\n",
    "Optimized Generalized Gradient Booster, developped in 2014, competetes will in Kaggle Competitions!\n",
    "\n",
    "Install: https://www.ibm.com/developerworks/community/blogs/jfp/entry/Installing_XGBoost_For_Anaconda_on_Windows?lang=en"
   ]
  },
  {
   "cell_type": "raw",
   "metadata": {
    "collapsed": true
   },
   "source": [
    "import os\n",
    "mingw_path = 'C:\\\\Program Files\\\\mingw-w64\\\\x86_64-5.3.0-posix-seh-rt_v4-rev0\\\\mingw64\\\\bin'\n",
    "os.environ['PATH'] = mingw_path + ';' + os.environ['PATH']\n",
    "import xgboost as xgb\n",
    "from xgboost.sklearn import XGBClassifier"
   ]
  },
  {
   "cell_type": "code",
   "execution_count": 24,
   "metadata": {},
   "outputs": [
    {
     "name": "stdout",
     "output_type": "stream",
     "text": [
      "\n",
      "xgBoost - CV Train : 0.81\n",
      "xgBoost - Train : 0.84\n",
      "xgBoost - Test : 0.84\n"
     ]
    }
   ],
   "source": [
    "import xgboost as xgb\n",
    "from xgboost.sklearn import XGBClassifier\n",
    "num_rounds = 100\n",
    "model = XGBClassifier(n_estimators = num_rounds,\n",
    "                        objective= 'binary:logistic',\n",
    "                        seed=2017)\n",
    "# use early_stopping_rounds to stop the cv when there is no score imporovement\n",
    "model.fit(X_train,y_train, early_stopping_rounds=20, eval_set=[(X_test,\n",
    "y_test)], verbose=False)\n",
    "score = cross_val_score(model, X_train,y_train, cv=cv)\n",
    "print(\"\\nxgBoost - CV Train : %.2f\" % score.mean())\n",
    "print(\"xgBoost - Train : %.2f\" % metrics.accuracy_score(model.predict(X_train), y_train))\n",
    "print(\"xgBoost - Test : %.2f\" % metrics.accuracy_score(model.predict(X_test), y_test))\n",
    "\n",
    "norm_save(model, \"XGBsklearn\")"
   ]
  },
  {
   "cell_type": "code",
   "execution_count": 25,
   "metadata": {
    "scrolled": true
   },
   "outputs": [
    {
     "name": "stdout",
     "output_type": "stream",
     "text": [
      "Optimal number of trees/estimators is 19\n",
      "[0]\ttest-error:0.167598\ttrain-error:0.191011\n",
      "[1]\ttest-error:0.128492\ttrain-error:0.167135\n",
      "[2]\ttest-error:0.134078\ttrain-error:0.171348\n",
      "[3]\ttest-error:0.128492\ttrain-error:0.167135\n",
      "[4]\ttest-error:0.128492\ttrain-error:0.164326\n",
      "[5]\ttest-error:0.145251\ttrain-error:0.164326\n",
      "[6]\ttest-error:0.145251\ttrain-error:0.167135\n",
      "[7]\ttest-error:0.167598\ttrain-error:0.146067\n",
      "[8]\ttest-error:0.167598\ttrain-error:0.143258\n",
      "[9]\ttest-error:0.162011\ttrain-error:0.155899\n",
      "[10]\ttest-error:0.167598\ttrain-error:0.155899\n",
      "[11]\ttest-error:0.167598\ttrain-error:0.155899\n",
      "[12]\ttest-error:0.162011\ttrain-error:0.143258\n",
      "[13]\ttest-error:0.162011\ttrain-error:0.148876\n",
      "[14]\ttest-error:0.162011\ttrain-error:0.134831\n",
      "[15]\ttest-error:0.150838\ttrain-error:0.139045\n",
      "[16]\ttest-error:0.162011\ttrain-error:0.140449\n",
      "[17]\ttest-error:0.156425\ttrain-error:0.139045\n",
      "[18]\ttest-error:0.156425\ttrain-error:0.139045\n",
      "XGB - Train : 0.86\n",
      "XGB - Test : 0.84\n"
     ]
    }
   ],
   "source": [
    "xgtrain = xgb.DMatrix(X_train, label=y_train)\n",
    "xgtest = xgb.DMatrix(X_test, label=y_test)\n",
    "\n",
    "# set xgboost params\n",
    "param = {'max_depth': 3,  # the maximum depth of each tree\n",
    "         'objective': 'binary:logistic'}\n",
    "\n",
    "clf_xgb_cv = xgb.cv(param, xgtrain, num_rounds, \n",
    "                    stratified=True, \n",
    "                    nfold=5, \n",
    "                    early_stopping_rounds=20)\n",
    "print(\"Optimal number of trees/estimators is %i\" % clf_xgb_cv.shape[0])\n",
    "\n",
    "watchlist  = [(xgtest,'test'), (xgtrain,'train')]                \n",
    "clf_xgb = xgb.train(param, xgtrain,clf_xgb_cv.shape[0], watchlist)\n",
    "\n",
    "# predict function will produce the probability \n",
    "# so we'll use 0.5 cutoff to convert probability to class label\n",
    "y_train_pred = (clf_xgb.predict(xgtrain, ntree_limit=clf_xgb.best_iteration) > 0.5).astype(int)\n",
    "y_test_pred = (clf_xgb.predict(xgtest, ntree_limit=clf_xgb.best_iteration) > 0.5).astype(int)\n",
    "score= metrics.accuracy_score(y_test_pred, y_test)\n",
    "print(\"XGB - Train : %.2f\" % metrics.accuracy_score(y_train_pred, y_train))\n",
    "print(\"XGB - Test : %.2f\" % score)\n",
    "norm_save(model, \"XGBstandard\")"
   ]
  },
  {
   "cell_type": "markdown",
   "metadata": {},
   "source": [
    "## KNN"
   ]
  },
  {
   "cell_type": "code",
   "execution_count": 26,
   "metadata": {},
   "outputs": [
    {
     "name": "stdout",
     "output_type": "stream",
     "text": [
      "Fitting 5 folds for each of 40 candidates, totalling 200 fits\n",
      "Optimal Model CV Accuracy: 80.67164179104478\n",
      "Optimal Model Parameters: {'n_neighbors': 4, 'weights': 'uniform'}\n"
     ]
    },
    {
     "name": "stderr",
     "output_type": "stream",
     "text": [
      "[Parallel(n_jobs=1)]: Done 200 out of 200 | elapsed:    2.6s finished\n"
     ]
    }
   ],
   "source": [
    "param_grid ={'n_neighbors': np.arange(1,21,1),\n",
    "            'weights':['uniform','distance']\n",
    "            }\n",
    "\n",
    "grid = GridSearchCV(KNeighborsClassifier(),\n",
    "                    param_grid,cv=cv, scoring='accuracy',\n",
    "                    verbose=1)\n",
    "\n",
    "grid.fit(X, y)\n",
    "\n",
    "save(grid.best_estimator_, \"KNN\")"
   ]
  },
  {
   "cell_type": "markdown",
   "metadata": {},
   "source": [
    "# Discriminative Classification\n",
    "Model new points by seeing where it falls upon a divide.\n",
    "Fast prediction phase, work well in high dimensional data, versatile\n",
    "\n",
    "Costly at high quantities of data"
   ]
  },
  {
   "cell_type": "markdown",
   "metadata": {},
   "source": [
    "### Stochastic Gradient Descent"
   ]
  },
  {
   "cell_type": "code",
   "execution_count": 27,
   "metadata": {},
   "outputs": [
    {
     "name": "stdout",
     "output_type": "stream",
     "text": [
      "Fitting 5 folds for each of 6 candidates, totalling 30 fits\n",
      "Optimal Model CV Accuracy: 73.73134328358208\n",
      "Optimal Model Parameters: {'loss': 'log'}\n"
     ]
    },
    {
     "name": "stderr",
     "output_type": "stream",
     "text": [
      "[Parallel(n_jobs=1)]: Done  30 out of  30 | elapsed:    0.0s finished\n"
     ]
    }
   ],
   "source": [
    "param_grid ={'loss':[\"hinge\",\"log\",\"modified_huber\",\"squared_hinge\",\"epsilon_insensitive\",\"squared_epsilon_insensitive\"]\n",
    "            }\n",
    "\n",
    "grid = GridSearchCV(SGDClassifier(),\n",
    "                    param_grid,cv=cv, scoring='accuracy',\n",
    "                    verbose=1)\n",
    "\n",
    "grid.fit(X, y)\n",
    "save(grid.best_estimator_, \"StochasticGradientDescent\")"
   ]
  },
  {
   "cell_type": "markdown",
   "metadata": {},
   "source": [
    "## Support Vector Classifier\n",
    "Creates a linear divide between point to classify. Maximizes the distance of the discriminatory margin.\n",
    "\n",
    "Hyperparameters:\n",
    "- C: Hardness of the margin. Higher C, less softening.\n",
    "\n",
    "\n",
    "Radial Basis Function (RBF)\n",
    "- Gamma: how far the influence of a single training example raches. low=far, high=close, Inverse of the radius of influence of samples selected by the model as support vectors."
   ]
  },
  {
   "cell_type": "code",
   "execution_count": 28,
   "metadata": {},
   "outputs": [
    {
     "name": "stdout",
     "output_type": "stream",
     "text": [
      "82.6051242765\n"
     ]
    }
   ],
   "source": [
    "# Define Model\n",
    "model = LinearSVC()\n",
    "#Fit Model\n",
    "scores= cross_val_score(model, X, y, cv=10, scoring='accuracy')\n",
    "print(scores.mean()*100)\n",
    "\n",
    "norm_save(model, \"LinearSV\")\n",
    "#submit(svm.LinearSVC(), name=\"80linear_svc.csv\")"
   ]
  },
  {
   "cell_type": "markdown",
   "metadata": {},
   "source": [
    "### Radial Basis Function Kernel - SVC"
   ]
  },
  {
   "cell_type": "code",
   "execution_count": 29,
   "metadata": {
    "scrolled": true
   },
   "outputs": [
    {
     "name": "stdout",
     "output_type": "stream",
     "text": [
      "Fitting 5 folds for each of 310 candidates, totalling 1550 fits\n"
     ]
    },
    {
     "name": "stderr",
     "output_type": "stream",
     "text": [
      "[Parallel(n_jobs=1)]: Done 1550 out of 1550 | elapsed:  2.1min finished\n"
     ]
    },
    {
     "name": "stdout",
     "output_type": "stream",
     "text": [
      "Optimal Model CV Accuracy: 81.64179104477613\n",
      "Optimal Model Parameters: {'gamma': 0.016681005372000592, 'C': 25, 'probability': True, 'kernel': 'rbf'}\n"
     ]
    }
   ],
   "source": [
    "param_grid = [\n",
    "  {'C': np.arange(25,176,5),\n",
    "   'gamma': np.logspace(1, -4, 10),\n",
    "   'kernel': ['rbf'],\n",
    "   \"probability\" : [True]}\n",
    " ]\n",
    "model= SVC()\n",
    "grid = GridSearchCV(model,\n",
    "                    param_grid, cv=cv,\n",
    "                    scoring='accuracy', verbose=1)\n",
    "\n",
    "grid.fit(X, y)\n",
    "save(grid.best_estimator_, \"SVCrbf\")"
   ]
  },
  {
   "cell_type": "markdown",
   "metadata": {},
   "source": [
    "### Linear SVC"
   ]
  },
  {
   "cell_type": "code",
   "execution_count": null,
   "metadata": {
    "scrolled": true
   },
   "outputs": [
    {
     "name": "stdout",
     "output_type": "stream",
     "text": [
      "Fitting 5 folds for each of 2 candidates, totalling 10 fits\n",
      "Optimal Model CV Accuracy: 81.19402985074626\n",
      "Optimal Model Parameters: {'kernel': 'linear', 'C': 10, 'probability': True}\n"
     ]
    },
    {
     "name": "stderr",
     "output_type": "stream",
     "text": [
      "[Parallel(n_jobs=1)]: Done  10 out of  10 | elapsed:    0.4s finished\n"
     ]
    }
   ],
   "source": [
    "param_grid = {'C': [1,10],'kernel':['linear'], \"probability\" : [True]}\n",
    "\n",
    "model = SVC()\n",
    "grid = GridSearchCV(model,\n",
    "                    param_grid, cv=cv,\n",
    "                    scoring='accuracy', verbose=1)\n",
    "\n",
    "grid.fit(X, y)\n",
    "save(grid.best_estimator_, \"SVCLinear\")"
   ]
  },
  {
   "cell_type": "markdown",
   "metadata": {},
   "source": [
    "## PCA + SVC Pipeline"
   ]
  },
  {
   "cell_type": "code",
   "execution_count": null,
   "metadata": {},
   "outputs": [
    {
     "name": "stdout",
     "output_type": "stream",
     "text": [
      "Fitting 5 folds for each of 70 candidates, totalling 350 fits\n"
     ]
    }
   ],
   "source": [
    "from sklearn.svm import SVC\n",
    "from sklearn.decomposition import PCA\n",
    "from sklearn.pipeline import make_pipeline\n",
    "\n",
    "pca = PCA(n_components=5, whiten=True, random_state=42, svd_solver='randomized')\n",
    "svc = SVC(kernel='rbf', class_weight='balanced')\n",
    "model = make_pipeline(pca, svc)\n",
    "# pipeline!\n",
    "\n",
    "param_grid = [{'svc__C': np.logspace(-2, 3, 6),\n",
    "              'svc__gamma': np.logspace(1, -7, 10)},\n",
    "              {'svc__C': [0.001, 0.01, 0.1, 1, 10, 50, 100, 150, 1000, 1500], 'svc__kernel': ['linear']}]\n",
    "# cv = StratifiedShuffleSplit(n_splits=5, test_size=0.2, random_state=42)\n",
    "grid = RandomizedSearchCV(model, param_grid, cv=cv, verbose=1)\n",
    "\n",
    "grid.fit(X, y)\n",
    "save(grid.best_estimator_, \"PCA_SVC\")"
   ]
  },
  {
   "cell_type": "markdown",
   "metadata": {},
   "source": [
    "## Results"
   ]
  },
  {
   "cell_type": "code",
   "execution_count": null,
   "metadata": {
    "collapsed": true
   },
   "outputs": [],
   "source": [
    "results"
   ]
  },
  {
   "cell_type": "code",
   "execution_count": null,
   "metadata": {
    "collapsed": true
   },
   "outputs": [],
   "source": [
    "results.to_csv(\"Titanic/results.csv\",index_label=False)"
   ]
  },
  {
   "cell_type": "code",
   "execution_count": null,
   "metadata": {
    "collapsed": true
   },
   "outputs": [],
   "source": [
    "results = pd.read_csv(open(os.path.join(path, \"results.csv\"), \"r\"))"
   ]
  },
  {
   "cell_type": "code",
   "execution_count": null,
   "metadata": {},
   "outputs": [],
   "source": [
    "results.sort_values(by=[\"Score\"], ascending=False)"
   ]
  },
  {
   "cell_type": "markdown",
   "metadata": {
    "collapsed": true
   },
   "source": [
    "## Model Ensemble"
   ]
  },
  {
   "cell_type": "code",
   "execution_count": null,
   "metadata": {
    "collapsed": true
   },
   "outputs": [],
   "source": [
    "import matplotlib.pyplot as plt\n",
    "%matplotlib inline\n",
    "\n",
    "import pandas as pd\n",
    "import numpy as np\n",
    "import pickle\n",
    "\n",
    "# set seed for reproducability\n",
    "np.random.seed(2017)\n",
    "\n",
    "import statsmodels.api as sm\n",
    "from sklearn import metrics\n",
    "from sklearn.linear_model import LogisticRegression\n",
    "from sklearn.naive_bayes import GaussianNB\n",
    "from sklearn.ensemble import RandomForestClassifier\n",
    "from sklearn.svm import SVC\n",
    "from sklearn.neighbors import KNeighborsClassifier\n",
    "from sklearn.tree import DecisionTreeClassifier\n",
    "from sklearn.ensemble import AdaBoostClassifier\n",
    "from sklearn.ensemble import BaggingClassifier\n",
    "from sklearn.ensemble import GradientBoostingClassifier\n",
    "\n",
    "# currently its available as part of mlxtend and not sklearn\n",
    "from mlxtend.classifier import EnsembleVoteClassifier\n",
    "from sklearn import cross_validation\n",
    "from sklearn import metrics\n",
    "from sklearn.cross_validation import train_test_split"
   ]
  },
  {
   "cell_type": "markdown",
   "metadata": {},
   "source": [
    "## Voting\n",
    "\n",
    "Hard- Mode\n",
    "Soft- Probabilistic"
   ]
  },
  {
   "cell_type": "code",
   "execution_count": null,
   "metadata": {
    "collapsed": true
   },
   "outputs": [],
   "source": [
    "dic = {}\n",
    "for name in results[\"Model\"]:\n",
    "    open_file = open(os.path.join(path,\"Pickle/{}.pickle\".format(name)), \"rb\")\n",
    "    dic[name] = pickle.load(open_file)\n",
    "    open_file.close()"
   ]
  },
  {
   "cell_type": "code",
   "execution_count": null,
   "metadata": {},
   "outputs": [],
   "source": [
    "models= list(zip(dic.values(), dic.keys()))\n",
    "clfs = []\n",
    "print('5-fold cross validation:\\n')\n",
    "for clf, label in models:\n",
    "    scores = cross_validation.cross_val_score(clf, X_train, y_train,cv=5, scoring='accuracy')\n",
    "    print(\"Train CV Accuracy: %0.2f (+/- %0.2f) [%s]\" % (scores.mean(), scores.std(), label))\n",
    "    md = clf.fit(X, y)    \n",
    "    clfs.append(md)\n",
    "    print(\"Test Accuracy: %0.2f \" % (metrics.accuracy_score(clf.predict(X_test), y_test)))"
   ]
  },
  {
   "cell_type": "code",
   "execution_count": null,
   "metadata": {},
   "outputs": [],
   "source": [
    "dic.keys()"
   ]
  },
  {
   "cell_type": "code",
   "execution_count": null,
   "metadata": {
    "collapsed": true
   },
   "outputs": [],
   "source": [
    "keys =['RSNeural_Net', 'Gradient_Boosting', 'SVCLinear', 'StochasticGradientDescent', 'SVCrbf',\n",
    "                      #'LinearSV',\n",
    "                      'AdaBoost_Ensemble', 'Random_Forest', 'XGBstandard',\n",
    "                      #'PCA_SVC',\n",
    "       'XGBsklearn', 'Bagger_ensemble', 'Gaussian',\n",
    "                      'Logistic_Regression', 'KNN']\n",
    "\n",
    "bestkeys =['Gradient_Boosting', 'SVCLinear','XGBstandard',\n",
    "       'XGBsklearn', 'Bagger_ensemble']\n",
    "soft= [dic.get(key) for key in bestkeys]"
   ]
  },
  {
   "cell_type": "code",
   "execution_count": null,
   "metadata": {},
   "outputs": [],
   "source": [
    "# ### Ensemble Voting\n",
    "allmodel = [x for x in dic.values()]\n",
    "\n",
    "# [LR, RF, SVMR, SVCLinear, KNC, GBC, ABC, BC,GAU]\n",
    "# w = [0,1,2,1,1,1,1,3,0]\n",
    "\n",
    "ECH = EnsembleVoteClassifier(allmodel, voting='hard')\n",
    "ECS = EnsembleVoteClassifier(soft, voting='soft')\n",
    "\n",
    "print('5-fold cross validation:\\n')\n",
    "for clf, label in zip([ECS, ECH], \n",
    "                      ['Ensemble Soft Voting',\n",
    "                       'Ensemble Hard Voting']):\n",
    "    scores = cross_validation.cross_val_score(clf, X_train, y_train, cv=5, scoring='accuracy')\n",
    "    print(\"Train CV Accuracy: %0.2f (+/- %0.2f) [%s]\" % (scores.mean(), scores.std(), label))\n",
    "    md = clf.fit(X, y)    \n",
    "    clfs.append(md)\n",
    "    print(\"Test Accuracy: %0.2f \" % (metrics.accuracy_score(clf.predict(X_test), y_test)))"
   ]
  },
  {
   "cell_type": "code",
   "execution_count": null,
   "metadata": {},
   "outputs": [],
   "source": [
    "ensembling(ECH,\"Hard_ensemble1\")\n",
    "ensembling(ECS,\"Soft_ensemble1\")"
   ]
  },
  {
   "cell_type": "markdown",
   "metadata": {},
   "source": [
    "## Stacked Generalization\n",
    "Stacked generalized models"
   ]
  },
  {
   "cell_type": "code",
   "execution_count": null,
   "metadata": {},
   "outputs": [],
   "source": [
    "import pandas as pd\n",
    "import numpy as np\n",
    "\n",
    "from sklearn.preprocessing import StandardScaler\n",
    "from sklearn.cross_validation import train_test_split\n",
    "from sklearn import cross_validation\n",
    "from sklearn import metrics\n",
    "\n",
    "from matplotlib.colors import ListedColormap\n",
    "import matplotlib.pyplot as plt\n",
    "%matplotlib inline\n",
    "\n",
    "# Classifiers\n",
    "from sklearn.ensemble import RandomForestClassifier\n",
    "from sklearn.ensemble import GradientBoostingClassifier\n",
    "from sklearn.linear_model import LogisticRegression\n",
    "from sklearn.neighbors import KNeighborsClassifier\n",
    "\n",
    "#np.random.seed(2017)  # seed to shuffle the train set\n",
    "\n",
    "X = train_df.drop([\"Survived\"] , axis=1)\n",
    "y = train_df[\"Survived\"]\n",
    "\n",
    "#test_df  = test_df.drop([\"PassengerId\"] , axis=1).copy()\n",
    "print(X.shape, y.shape, test_df.shape)\n",
    "\n",
    "#Normalize\n",
    "X = StandardScaler().fit_transform(X)\n",
    "\n",
    "# evaluate the model by splitting into train and test sets\n",
    "X_train, X_test, y_train, y_test = train_test_split(X, y, test_size=0.2, random_state=2017)\n",
    "\n",
    "kfold = cross_validation.StratifiedKFold(y=y_train, n_folds=5, random_state=2017)\n",
    "num_trees = 10\n",
    "verbose = True # to print the progress\n",
    "\n",
    "clfs = [KNeighborsClassifier(),\n",
    "        RandomForestClassifier(n_estimators=num_trees, random_state=2017),\n",
    "        GradientBoostingClassifier(n_estimators=num_trees, random_state=2017)]"
   ]
  },
  {
   "cell_type": "code",
   "execution_count": null,
   "metadata": {},
   "outputs": [],
   "source": [
    "# Creating train and test sets for blending\n",
    "dataset_blend_train = np.zeros((X_train.shape[0], len(clfs)))\n",
    "dataset_blend_test = np.zeros((X_test.shape[0], len(clfs)))\n",
    "dataset_blend_test_df = np.zeros((test_df.shape[0], len(clfs)))\n",
    "\n",
    "print('5-fold cross validation:\\n')\n",
    "for i, clf in enumerate(clfs):   \n",
    "    scores = cross_validation.cross_val_score(clf, X_train, y_train, cv=kfold, scoring='accuracy')\n",
    "    print(\"##### Base Model %0.0f #####\" % i)\n",
    "    print(\"Train CV Accuracy: %0.2f (+/- %0.2f)\" % (scores.mean(), scores.std()))\n",
    "    clf.fit(X_train, y_train)   \n",
    "    print(\"Train Accuracy: %0.2f \" % (metrics.accuracy_score(clf.predict(X_train), y_train)))\n",
    "    dataset_blend_train[:,i] = clf.predict_proba(X_train)[:, 1]\n",
    "    dataset_blend_test[:,i] = clf.predict_proba(X_test)[:, 1]\n",
    "    dataset_blend_test_df[:,i] = clf.predict_proba(test_df)[:, 1]\n",
    "    print(\"Test Accuracy: %0.2f \" % (metrics.accuracy_score(clf.predict(X_test), y_test)))    \n",
    "\n",
    "print(\"##### Meta Model #####\")\n",
    "clf = LogisticRegression()\n",
    "scores = cross_validation.cross_val_score(clf, dataset_blend_train, y_train, cv=kfold, scoring='accuracy')\n",
    "clf.fit(dataset_blend_train, y_train)\n",
    "print(\"Train CV Accuracy: %0.2f (+/- %0.2f)\" % (scores.mean(), scores.std()))\n",
    "print(\"Train Accuracy: %0.2f \" % (metrics.accuracy_score(clf.predict(dataset_blend_train), y_train)))\n",
    "print(\"Test Accuracy: %0.2f \" % (metrics.accuracy_score(clf.predict(dataset_blend_test), y_test)))"
   ]
  },
  {
   "cell_type": "code",
   "execution_count": null,
   "metadata": {},
   "outputs": [],
   "source": [
    "modelname= \"stacked\"\n",
    "submission = clf.predict(dataset_blend_test_df)\n",
    "df = pd.DataFrame({'PassengerId':test_df.PassengerId, 'Survived':submission})\n",
    "results = results.append({'Model': modelname,'Para': model, 'Score':score.mean()*100}, ignore_index=True)\n",
    "df.to_csv((os.path.join(path,(\"submissions/{}.csv\".format(modelname)))),header=True,index=False)\n",
    "with open((os.path.join(path,(r\"Pickle/{}.pickle\".format(modelname)))), 'wb') as f: pickle.dump(model, f)\n",
    "len(clf.predict(dataset_blend_test_df))"
   ]
  },
  {
   "cell_type": "markdown",
   "metadata": {
    "collapsed": true
   },
   "source": [
    "## Reflection on model\n",
    "\n",
    "Ensemble models suggest that testing accuracy is in the high 80s, however when applied to Kaggle out of sample data, perfromance is consistently in the high 70s. This suggests that either the submission data is very different, or that my model is overfitting on the given data.\n",
    "\n",
    " - May want to explore models with a greater emphasis on randomness in order to tone down the overfitting.\n",
    " - Perhaps compare variable distribution between submission data and training data"
   ]
  },
  {
   "cell_type": "raw",
   "metadata": {},
   "source": [
    "#Number Recognition Data Load\n",
    "\n",
    "path = r\"C:/Users/Nicol/Google Drive/Learning/Jupyter/Number_Recognition\"\n",
    "train_df = pd.read_csv(open(os.path.join(path, \"train.csv\"), \"r\")) \n",
    "test_df = pd.read_csv(open(os.path.join(path, \"test.csv\"), \"r\")) \n",
    "\n",
    "train_df = train_df.take(np.random.permutation(len(train_df)))\n",
    "\n",
    "X = train_df.iloc[:,1:]\n",
    "y = train_df.iloc[:,0]\n",
    "print(X.shape, y.shape, test_df.shape)\n",
    "\n",
    "results=[]\n",
    "def save(model, modelname):\n",
    "    model.fit(X, y)\n",
    "    submission = model.predict(test_df)\n",
    "\n",
    "    df = pd.DataFrame({'ImageId':list(range(1, len(submission)+1)), \n",
    "                       'Label':submission})\n",
    "\n",
    "    print(len(df))\n",
    "    \n",
    "    df.to_csv((os.path.join(path,(\"submissions/{}.csv\".format(modelname)))),header=True,index=False)\n",
    "    \n",
    "    #CV and Save Scores\n",
    "    trainingscore = (grid.best_score_*100)\n",
    "    results.append([(trainingscore),(\"{}\".format(modelname)), grid.best_estimator_])\n",
    "    print(trainingscore)\n",
    "    print(grid.best_params_)\n",
    "    \n",
    "    with open((os.path.join(path,(r\"Pickle/{}.pickle\".format(modelname)))), 'wb') as f: pickle.dump(model, f)\n",
    "\n",
    "#Ensemble\n",
    "\n",
    "def ensembling(model, modelname):\n",
    "    model.fit(X, y)\n",
    "    submission = model.predict(test_df)\n",
    "    df = pd.DataFrame({'ImageId':list(range(1, len(submission)+1)), \n",
    "                       'Label':submission})\n",
    "    print(len(df))\n",
    "    df.to_csv((os.path.join(path(\"submissions/{}.csv\".format(modelname)))),header=True,index=False)\n",
    "    with open((os.path.join(path,(r\"Pickle/{}.pickle\".format(modelname)))), 'wb') as f: pickle.dump(model, f)"
   ]
  }
 ],
 "metadata": {
  "kernelspec": {
   "display_name": "Python [conda env:tensorflow]",
   "language": "python",
   "name": "conda-env-tensorflow-py"
  },
  "language_info": {
   "codemirror_mode": {
    "name": "ipython",
    "version": 3
   },
   "file_extension": ".py",
   "mimetype": "text/x-python",
   "name": "python",
   "nbconvert_exporter": "python",
   "pygments_lexer": "ipython3",
   "version": "3.5.3"
  }
 },
 "nbformat": 4,
 "nbformat_minor": 2
}
