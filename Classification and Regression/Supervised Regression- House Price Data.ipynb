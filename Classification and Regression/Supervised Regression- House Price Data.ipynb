{
 "cells": [
  {
   "cell_type": "markdown",
   "metadata": {},
   "source": [
    "## Supervised Regression- House Price Data"
   ]
  },
  {
   "cell_type": "code",
   "execution_count": 134,
   "metadata": {},
   "outputs": [
    {
     "name": "stdout",
     "output_type": "stream",
     "text": [
      "The memory_profiler extension is already loaded. To reload it, use:\n",
      "  %reload_ext memory_profiler\n"
     ]
    }
   ],
   "source": [
    "import numpy as np\n",
    "import pandas as pd\n",
    "import os\n",
    "\n",
    "#Evalaluation\n",
    "from sklearn import metrics\n",
    "from sklearn.model_selection import cross_val_score\n",
    "import pickle\n",
    "\n",
    "import matplotlib.pyplot as plt\n",
    "%matplotlib inline\n",
    "\n",
    "# Grid\n",
    "from sklearn.preprocessing import StandardScaler\n",
    "from sklearn.model_selection import StratifiedShuffleSplit\n",
    "from sklearn.feature_selection import RFE\n",
    "from sklearn.model_selection import GridSearchCV\n",
    "from sklearn.model_selection import RandomizedSearchCV\n",
    "from sklearn.model_selection import train_test_split\n",
    "\n",
    "#Performance\n",
    "%load_ext memory_profiler\n",
    "\n",
    "#Warnings\n",
    "#import warnings\n",
    "#warnings.filterwarnings('ignore')"
   ]
  },
  {
   "cell_type": "code",
   "execution_count": 36,
   "metadata": {
    "collapsed": true
   },
   "outputs": [],
   "source": [
    "# Data\n",
    "path= r\"D:\\My Computer\\DATA\\House Prices\" #Windows\n",
    "#path= r\"/Users/nicapotato/Desktop/Data/House\" #Mac\n",
    "\n",
    "train_df = pd.read_csv(open(os.path.join(path, \"house_train.csv\"), \"r\"), index_col='Id')\n",
    "test_df = pd.read_csv(open(os.path.join(path, \"house_test.csv\"), \"r\"), index_col='Id')"
   ]
  },
  {
   "cell_type": "code",
   "execution_count": 37,
   "metadata": {
    "collapsed": true
   },
   "outputs": [],
   "source": [
    "train_df['SalePrice']= np.log(train_df['SalePrice'])"
   ]
  },
  {
   "cell_type": "code",
   "execution_count": null,
   "metadata": {
    "collapsed": true
   },
   "outputs": [],
   "source": [
    "y_pred = np.exp(pred_xgb)\n",
    "\n",
    "pred_df = pd.DataFrame(y_pred, index=test_df.index, columns=[\"SalePrice\"])\n",
    "#pred_df.to_csv('output.csv', header=True, index_label='Id')\n",
    "pred_df.to_csv((os.path.join(path, r\"submission/output.csv\")),header=True, index_label='Id')"
   ]
  },
  {
   "cell_type": "code",
   "execution_count": 137,
   "metadata": {
    "collapsed": true
   },
   "outputs": [],
   "source": [
    "results = pd.DataFrame()\n",
    "from sklearn.metrics import mean_squared_error\n",
    "def rmse(y_true, y_pred):\n",
    "    return np.sqrt(mean_squared_error(y_true, y_pred))\n",
    "\n",
    "def save(model, modelname):\n",
    "    global results\n",
    "    model.fit(X, y)\n",
    "    submission =  np.exp(model.predict(test_df))\n",
    "    \n",
    "    df = pd.DataFrame({'Id':test_df.index, \n",
    "                           'SalePrice':submission})\n",
    "    df.to_csv((os.path.join(path,(\"submissions/{}.csv\".format(modelname)))),header=True,index=False)\n",
    "    \n",
    "    # CV and Save Scores\n",
    "    results = results.append({'Model': modelname,'Para': grid.best_params_,\n",
    "                              'Score': (grid.best_score_*100)}, ignore_index=True)\n",
    "    \n",
    "    y_pred = model.predict(X_train)\n",
    "    print(\"XGBoost score on training set: \", rmse(y_train, y_pred))\n",
    "    print(\"Optimal Model Parameters: {}\".format(grid.best_params_))\n",
    "\n",
    "    with open((os.path.join(path,(r\"Pickle/{}.pickle\".format(modelname)))), 'wb') as f: pickle.dump(model, f)"
   ]
  },
  {
   "cell_type": "code",
   "execution_count": 122,
   "metadata": {},
   "outputs": [
    {
     "data": {
      "text/plain": [
       "False"
      ]
     },
     "execution_count": 122,
     "metadata": {},
     "output_type": "execute_result"
    }
   ],
   "source": [
    "train_df.columns.equals(test_df.columns)"
   ]
  },
  {
   "cell_type": "code",
   "execution_count": 39,
   "metadata": {
    "collapsed": true
   },
   "outputs": [],
   "source": [
    "X = train_df.drop([\"SalePrice\"] , axis=1)\n",
    "y = train_df[\"SalePrice\"]"
   ]
  },
  {
   "cell_type": "code",
   "execution_count": 40,
   "metadata": {},
   "outputs": [
    {
     "data": {
      "text/plain": [
       "((1168, 254), (1168,), (292, 254), (292,))"
      ]
     },
     "execution_count": 40,
     "metadata": {},
     "output_type": "execute_result"
    }
   ],
   "source": [
    "# use train/test split with different random_state values\n",
    "X_train, X_test, y_train, y_test = train_test_split(X, y, test_size=0.2)\n",
    "X_train.shape, y_train.shape, X_test.shape, y_test.shape"
   ]
  },
  {
   "cell_type": "code",
   "execution_count": 41,
   "metadata": {},
   "outputs": [
    {
     "data": {
      "text/plain": [
       "(1459, 254)"
      ]
     },
     "execution_count": 41,
     "metadata": {},
     "output_type": "execute_result"
    }
   ],
   "source": [
    "test_df.shape"
   ]
  },
  {
   "cell_type": "code",
   "execution_count": 163,
   "metadata": {
    "collapsed": true
   },
   "outputs": [],
   "source": [
    "cv = 5"
   ]
  },
  {
   "cell_type": "markdown",
   "metadata": {},
   "source": [
    "## Models"
   ]
  },
  {
   "cell_type": "markdown",
   "metadata": {},
   "source": [
    "### Linear Regression"
   ]
  },
  {
   "cell_type": "code",
   "execution_count": 43,
   "metadata": {
    "collapsed": true
   },
   "outputs": [],
   "source": [
    "from sklearn import linear_model"
   ]
  },
  {
   "cell_type": "code",
   "execution_count": 44,
   "metadata": {},
   "outputs": [
    {
     "name": "stdout",
     "output_type": "stream",
     "text": [
      "0.837408858137\n"
     ]
    }
   ],
   "source": [
    "model = linear_model.LinearRegression()\n",
    "\n",
    "score = cross_val_score(model, X, y, cv=10)\n",
    "print(score.mean())"
   ]
  },
  {
   "cell_type": "markdown",
   "metadata": {},
   "source": [
    "## XGBoost"
   ]
  },
  {
   "cell_type": "code",
   "execution_count": 49,
   "metadata": {
    "collapsed": true
   },
   "outputs": [],
   "source": [
    "import xgboost as xgb"
   ]
  },
  {
   "cell_type": "code",
   "execution_count": 63,
   "metadata": {
    "scrolled": true
   },
   "outputs": [
    {
     "data": {
      "text/plain": [
       "XGBRegressor(base_score=0.5, booster='gbtree', colsample_bylevel=1,\n",
       "       colsample_bytree=0.2, gamma=0.0, learning_rate=0.01,\n",
       "       max_delta_step=0, max_depth=4, min_child_weight=1.5, missing=None,\n",
       "       n_estimators=7200, n_jobs=1, nthread=None, objective='reg:linear',\n",
       "       random_state=0, reg_alpha=0.9, reg_lambda=0.6, scale_pos_weight=1,\n",
       "       seed=42, silent=1, subsample=0.2)"
      ]
     },
     "execution_count": 63,
     "metadata": {},
     "output_type": "execute_result"
    }
   ],
   "source": [
    "# Human Analog Model\n",
    "# https://www.kaggle.com/humananalog/xgboost-lasso/code\n",
    "regr = xgb.XGBRegressor(\n",
    "                 colsample_bytree=0.2,\n",
    "                 gamma=0.0,\n",
    "                 learning_rate=0.01,\n",
    "                 max_depth=4,\n",
    "                 min_child_weight=1.5,\n",
    "                 n_estimators=7200,                                                                  \n",
    "                 reg_alpha=0.9,\n",
    "                 reg_lambda=0.6,\n",
    "                 subsample=0.2,\n",
    "                 seed=42,\n",
    "                 silent=1)\n",
    "\n",
    "regr.fit(X_train, y_train)"
   ]
  },
  {
   "cell_type": "code",
   "execution_count": 74,
   "metadata": {},
   "outputs": [
    {
     "data": {
      "text/plain": [
       "<matplotlib.axes._subplots.AxesSubplot at 0x23347a94c18>"
      ]
     },
     "execution_count": 74,
     "metadata": {},
     "output_type": "execute_result"
    },
    {
     "data": {
      "image/png": "[encoded data removed]",
      "text/plain": [
       "<matplotlib.figure.Figure at 0x23347d39588>"
      ]
     },
     "metadata": {},
     "output_type": "display_data"
    }
   ],
   "source": [
    "xgb.plot_importance(regr)"
   ]
  },
  {
   "cell_type": "code",
   "execution_count": 64,
   "metadata": {},
   "outputs": [
    {
     "name": "stdout",
     "output_type": "stream",
     "text": [
      "XGBoost score on training set:  0.0734687657636\n"
     ]
    }
   ],
   "source": [
    "# Run prediction on training set to get a rough idea of how well it does.\n",
    "y_pred = regr.predict(X_train)\n",
    "print(\"XGBoost score on training set: \", rmse(y_train, y_pred))"
   ]
  },
  {
   "cell_type": "code",
   "execution_count": 124,
   "metadata": {},
   "outputs": [
    {
     "data": {
      "text/plain": [
       "<bound method XGBModel.evals_result of XGBRegressor(base_score=0.5, booster='gbtree', colsample_bylevel=1,\n",
       "       colsample_bytree=0.2, gamma=0.0, learning_rate=0.01,\n",
       "       max_delta_step=0, max_depth=4, min_child_weight=1.5, missing=None,\n",
       "       n_estimators=7200, n_jobs=1, nthread=None, objective='reg:linear',\n",
       "       random_state=0, reg_alpha=0.9, reg_lambda=0.6, scale_pos_weight=1,\n",
       "       seed=42, silent=1, subsample=0.2)>"
      ]
     },
     "execution_count": 124,
     "metadata": {},
     "output_type": "execute_result"
    }
   ],
   "source": [
    "regr.evals_result"
   ]
  },
  {
   "cell_type": "code",
   "execution_count": null,
   "metadata": {
    "collapsed": true
   },
   "outputs": [],
   "source": [
    "#save()"
   ]
  },
  {
   "cell_type": "code",
   "execution_count": 62,
   "metadata": {
    "collapsed": true
   },
   "outputs": [],
   "source": [
    "y_pred = np.exp(pred_xgb)\n",
    "\n",
    "pred_df = pd.DataFrame(y_pred, index=test_df.index, columns=[\"SalePrice\"])\n",
    "#pred_df.to_csv('output.csv', header=True, index_label='Id')\n",
    "pred_df.to_csv((os.path.join(path, r\"submission/output.csv\")),header=True, index_label='Id')"
   ]
  },
  {
   "cell_type": "markdown",
   "metadata": {},
   "source": [
    "### Nick's Optimized XGBoost\n",
    "\n",
    "- General Parameters: Guide the overall functioning\n",
    "- Booster Parameters: Guide the individual booster (tree/regression) at each step\n",
    "- Learning Task Parameters: Guide the optimization performed\n",
    "\n"
   ]
  },
  {
   "cell_type": "markdown",
   "metadata": {},
   "source": [
    "## Sklearn XGBOOST"
   ]
  },
  {
   "cell_type": "code",
   "execution_count": 185,
   "metadata": {
    "scrolled": true
   },
   "outputs": [
    {
     "name": "stdout",
     "output_type": "stream",
     "text": [
      "Fitting 5 folds for each of 500 candidates, totalling 2500 fits\n"
     ]
    },
    {
     "name": "stderr",
     "output_type": "stream",
     "text": [
      "[Parallel(n_jobs=1)]: Done 2500 out of 2500 | elapsed:  8.4min finished\n"
     ]
    },
    {
     "name": "stdout",
     "output_type": "stream",
     "text": [
      "XGBoost score on training set:  0.113471527247\n",
      "Optimal Model Parameters: {'learning_rate': 0.27430078999087953, 'colsample_bytree': 0.88993758911199972, 'max_depth': 19, 'gamma': 0.05253243424018339, 'reg_alpha': 3.1197814322888586, 'n_estimators': 50, 'min_child_weight': 16.18898166937846, 'subsample': 0.98292415021419177}\n"
     ]
    }
   ],
   "source": [
    "from xgboost.sklearn import XGBRegressor  \n",
    "import scipy.stats as st\n",
    "\n",
    "one_to_left = st.beta(10, 1)  \n",
    "from_zero_positive = st.expon(0, 50)\n",
    "\n",
    "params = {  \n",
    "    \"learning_rate\": st.uniform(0.001, 0.3),\n",
    "    \"colsample_bytree\": one_to_left,\n",
    "    \"max_depth\": st.randint(1, 40),\n",
    "    \"gamma\": st.uniform(0, 10),\n",
    "    'reg_alpha': from_zero_positive,\n",
    "    \"n_estimators\": st.randint(3, 100),\n",
    "    \"min_child_weight\": from_zero_positive,\n",
    "    \"subsample\": one_to_left\n",
    "}\n",
    "\n",
    "model = XGBRegressor(nthread=-1)\n",
    "\n",
    "grid = RandomizedSearchCV(model, params, cv=cv,\n",
    "                          scoring='neg_mean_squared_error',\n",
    "                          n_jobs=1, verbose=1,\n",
    "                         n_iter=500)  \n",
    "\n",
    "\n",
    "grid.fit(X_train, y_train)\n",
    "save(grid.best_estimator_, \"XGboostRand\")"
   ]
  },
  {
   "cell_type": "code",
   "execution_count": 187,
   "metadata": {},
   "outputs": [
    {
     "data": {
      "text/plain": [
       "(array([ 0.1       ,  0.02154435,  0.00464159,  0.001     ]),\n",
       " array([ 50,  75, 100, 125, 150, 175, 200, 225, 250, 275, 300]))"
      ]
     },
     "execution_count": 187,
     "metadata": {},
     "output_type": "execute_result"
    }
   ],
   "source": [
    "np.logspace(-1,-3,4), np.arange(50, 301, 25)"
   ]
  },
  {
   "cell_type": "markdown",
   "metadata": {},
   "source": [
    "### GridSearchCV"
   ]
  },
  {
   "cell_type": "code",
   "execution_count": null,
   "metadata": {
    "collapsed": true
   },
   "outputs": [],
   "source": [
    "from xgboost.sklearn import XGBRegressor  \n",
    "import scipy.stats as st\n",
    "\n",
    "one_to_left = st.beta(10, 1)  \n",
    "from_zero_positive = st.expon(0, 50)\n",
    "\n",
    "params = {  \n",
    "    \"learning_rate\": st.uniform(0.001, 0.3),\n",
    "    \"colsample_bytree\": one_to_left,\n",
    "    \"max_depth\": st.randint(1, 40),\n",
    "    \"gamma\": st.uniform(0, 10),\n",
    "    'reg_alpha': from_zero_positive,\n",
    "    \"n_estimators\": st.randint(3, 100),\n",
    "    \"min_child_weight\": from_zero_positive,\n",
    "    \"subsample\": one_to_left\n",
    "}\n",
    "\n",
    "model = XGBRegressor(nthread=-1)\n",
    "\n",
    "grid = RandomizedSearchCV(model, params, cv=cv,\n",
    "                          scoring='neg_mean_squared_error',\n",
    "                          n_jobs=1, verbose=1)  \n",
    "\n",
    "\n",
    "grid.fit(X_train, y_train)\n",
    "save(grid.best_estimator_, \"XGboostGrid\")"
   ]
  },
  {
   "cell_type": "markdown",
   "metadata": {},
   "source": [
    "## Regularized Linear Models"
   ]
  },
  {
   "cell_type": "code",
   "execution_count": 107,
   "metadata": {},
   "outputs": [
    {
     "name": "stdout",
     "output_type": "stream",
     "text": [
      "Lasso(alpha=0.1, copy_X=True, fit_intercept=True, max_iter=1000,\n",
      "   normalize=False, positive=False, precompute=False, random_state=None,\n",
      "   selection='cyclic', tol=0.0001, warm_start=False)\n",
      "r^2 on test data : 0.455669\n",
      "ElasticNet(alpha=0.1, copy_X=True, fit_intercept=True, l1_ratio=0.7,\n",
      "      max_iter=1000, normalize=False, positive=False, precompute=False,\n",
      "      random_state=None, selection='cyclic', tol=0.0001, warm_start=False)\n",
      "r^2 on test data : 0.457238\n"
     ]
    },
    {
     "data": {
      "image/png": "[encoded data removed]",
      "text/plain": [
       "<matplotlib.figure.Figure at 0x23350052710>"
      ]
     },
     "metadata": {},
     "output_type": "display_data"
    }
   ],
   "source": [
    "import numpy as np\n",
    "import matplotlib.pyplot as plt\n",
    "\n",
    "from sklearn.metrics import r2_score\n",
    "from sklearn.linear_model import Lasso\n",
    "%matplotlib inline\n",
    "from matplotlib.pylab import rcParams\n",
    "rcParams['figure.figsize'] = 12, 6\n",
    "\n",
    "\n",
    "alpha = 0.1\n",
    "lasso = Lasso(alpha=alpha)\n",
    "\n",
    "y_pred_lasso = lasso.fit(X_train, y_train).predict(X_test)\n",
    "r2_score_lasso = r2_score(y_test, y_pred_lasso)\n",
    "print(lasso)\n",
    "print(\"r^2 on test data : %f\" % r2_score_lasso)\n",
    "\n",
    "# #############################################################################\n",
    "# ElasticNet\n",
    "from sklearn.linear_model import ElasticNet\n",
    "\n",
    "enet = ElasticNet(alpha=alpha, l1_ratio=0.7)\n",
    "\n",
    "y_pred_enet = enet.fit(X_train, y_train).predict(X_test)\n",
    "r2_score_enet = r2_score(y_test, y_pred_enet)\n",
    "print(enet)\n",
    "print(\"r^2 on test data : %f\" % r2_score_enet)\n",
    "\n",
    "plt.plot(enet.coef_, color='lightgreen', linewidth=2,\n",
    "         label='Elastic net coefficients')\n",
    "plt.plot(lasso.coef_, color='gold', linewidth=2,\n",
    "         label='Lasso coefficients')\n",
    "#plt.plot(coef, '--', color='navy', label='original coefficients')\n",
    "plt.legend(loc='best')\n",
    "plt.title(\"Lasso R^2: %f, Elastic Net R^2: %f\"\n",
    "          % (r2_score_lasso, r2_score_enet))\n",
    "plt.show()"
   ]
  },
  {
   "cell_type": "code",
   "execution_count": null,
   "metadata": {
    "collapsed": true
   },
   "outputs": [],
   "source": []
  }
 ],
 "metadata": {
  "kernelspec": {
   "display_name": "Python [conda env:tensorflow]",
   "language": "python",
   "name": "conda-env-tensorflow-py"
  },
  "language_info": {
   "codemirror_mode": {
    "name": "ipython",
    "version": 3
   },
   "file_extension": ".py",
   "mimetype": "text/x-python",
   "name": "python",
   "nbconvert_exporter": "python",
   "pygments_lexer": "ipython3",
   "version": "3.5.4"
  }
 },
 "nbformat": 4,
 "nbformat_minor": 2
}
