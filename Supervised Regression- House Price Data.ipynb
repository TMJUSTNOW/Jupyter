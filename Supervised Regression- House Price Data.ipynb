{
 "cells": [
  {
   "cell_type": "markdown",
   "metadata": {},
   "source": [
    "## Supervised Regression- House Price Data"
   ]
  },
  {
   "cell_type": "code",
   "execution_count": 75,
   "metadata": {},
   "outputs": [
    {
     "name": "stdout",
     "output_type": "stream",
     "text": [
      "The memory_profiler extension is already loaded. To reload it, use:\n",
      "  %reload_ext memory_profiler\n"
     ]
    }
   ],
   "source": [
    "import numpy as np\n",
    "import pandas as pd\n",
    "import os\n",
    "\n",
    "#Evalaluation\n",
    "from sklearn import metrics\n",
    "from sklearn.model_selection import cross_val_score\n",
    "\n",
    "import matplotlib.pyplot as plt\n",
    "%matplotlib inline\n",
    "\n",
    "# Grid\n",
    "from sklearn.preprocessing import StandardScaler\n",
    "from sklearn.model_selection import StratifiedShuffleSplit\n",
    "from sklearn.feature_selection import RFE\n",
    "from sklearn.model_selection import GridSearchCV\n",
    "from sklearn.model_selection import RandomizedSearchCV\n",
    "from sklearn.model_selection import train_test_split\n",
    "\n",
    "#Performance\n",
    "%load_ext memory_profiler\n",
    "\n",
    "#Warnings\n",
    "#import warnings\n",
    "#warnings.filterwarnings('ignore')"
   ]
  },
  {
   "cell_type": "code",
   "execution_count": 36,
   "metadata": {
    "collapsed": true
   },
   "outputs": [],
   "source": [
    "# Data\n",
    "path= r\"D:\\My Computer\\DATA\\House Prices\" #Windows\n",
    "#path= r\"/Users/nicapotato/Desktop/Data/House\" #Mac\n",
    "\n",
    "train_df = pd.read_csv(open(os.path.join(path, \"house_train.csv\"), \"r\"), index_col='Id')\n",
    "test_df = pd.read_csv(open(os.path.join(path, \"house_test.csv\"), \"r\"), index_col='Id')"
   ]
  },
  {
   "cell_type": "code",
   "execution_count": 37,
   "metadata": {},
   "outputs": [],
   "source": [
    "train_df['SalePrice']= np.log(train_df['SalePrice'])"
   ]
  },
  {
   "cell_type": "code",
   "execution_count": 38,
   "metadata": {},
   "outputs": [],
   "source": [
    "#train_df.columns = test_df.columns"
   ]
  },
  {
   "cell_type": "code",
   "execution_count": 39,
   "metadata": {
    "collapsed": true
   },
   "outputs": [],
   "source": [
    "X = train_df.drop([\"SalePrice\"] , axis=1)\n",
    "y = train_df[\"SalePrice\"]"
   ]
  },
  {
   "cell_type": "code",
   "execution_count": 40,
   "metadata": {},
   "outputs": [
    {
     "data": {
      "text/plain": [
       "((1168, 254), (1168,), (292, 254), (292,))"
      ]
     },
     "execution_count": 40,
     "metadata": {},
     "output_type": "execute_result"
    }
   ],
   "source": [
    "# use train/test split with different random_state values\n",
    "X_train, X_test, y_train, y_test = train_test_split(X, y, test_size=0.2)\n",
    "X_train.shape, y_train.shape, X_test.shape, y_test.shape"
   ]
  },
  {
   "cell_type": "code",
   "execution_count": 41,
   "metadata": {},
   "outputs": [
    {
     "data": {
      "text/plain": [
       "(1459, 254)"
      ]
     },
     "execution_count": 41,
     "metadata": {},
     "output_type": "execute_result"
    }
   ],
   "source": [
    "test_df.shape"
   ]
  },
  {
   "cell_type": "code",
   "execution_count": 42,
   "metadata": {
    "collapsed": true
   },
   "outputs": [],
   "source": [
    "cv = 5"
   ]
  },
  {
   "cell_type": "markdown",
   "metadata": {},
   "source": [
    "## Models"
   ]
  },
  {
   "cell_type": "markdown",
   "metadata": {},
   "source": [
    "### Linear Regression"
   ]
  },
  {
   "cell_type": "code",
   "execution_count": 43,
   "metadata": {
    "collapsed": true
   },
   "outputs": [],
   "source": [
    "from sklearn import linear_model"
   ]
  },
  {
   "cell_type": "code",
   "execution_count": 44,
   "metadata": {},
   "outputs": [
    {
     "name": "stdout",
     "output_type": "stream",
     "text": [
      "0.837408858137\n"
     ]
    }
   ],
   "source": [
    "model = linear_model.LinearRegression()\n",
    "\n",
    "score = cross_val_score(model, X, y, cv=10)\n",
    "print(score.mean())"
   ]
  },
  {
   "cell_type": "markdown",
   "metadata": {},
   "source": [
    "## XGBoost"
   ]
  },
  {
   "cell_type": "code",
   "execution_count": 69,
   "metadata": {
    "collapsed": true
   },
   "outputs": [],
   "source": [
    "?xgb."
   ]
  },
  {
   "cell_type": "code",
   "execution_count": 49,
   "metadata": {
    "collapsed": true
   },
   "outputs": [],
   "source": [
    "import xgboost as xgb\n",
    "from sklearn.metrics import mean_squared_error\n",
    "def rmse(y_true, y_pred):\n",
    "    return np.sqrt(mean_squared_error(y_true, y_pred))"
   ]
  },
  {
   "cell_type": "code",
   "execution_count": 63,
   "metadata": {},
   "outputs": [
    {
     "data": {
      "text/plain": [
       "XGBRegressor(base_score=0.5, booster='gbtree', colsample_bylevel=1,\n",
       "       colsample_bytree=0.2, gamma=0.0, learning_rate=0.01,\n",
       "       max_delta_step=0, max_depth=4, min_child_weight=1.5, missing=None,\n",
       "       n_estimators=7200, n_jobs=1, nthread=None, objective='reg:linear',\n",
       "       random_state=0, reg_alpha=0.9, reg_lambda=0.6, scale_pos_weight=1,\n",
       "       seed=42, silent=1, subsample=0.2)"
      ]
     },
     "execution_count": 63,
     "metadata": {},
     "output_type": "execute_result"
    }
   ],
   "source": [
    "# Human Analog Model\n",
    "# https://www.kaggle.com/humananalog/xgboost-lasso/code\n",
    "regr = xgb.XGBRegressor(\n",
    "                 colsample_bytree=0.2,\n",
    "                 gamma=0.0,\n",
    "                 learning_rate=0.01,\n",
    "                 max_depth=4,\n",
    "                 min_child_weight=1.5,\n",
    "                 n_estimators=7200,                                                                  \n",
    "                 reg_alpha=0.9,\n",
    "                 reg_lambda=0.6,\n",
    "                 subsample=0.2,\n",
    "                 seed=42,\n",
    "                 silent=1)\n",
    "\n",
    "regr.fit(X_train, y_train)"
   ]
  },
  {
   "cell_type": "code",
   "execution_count": 74,
   "metadata": {},
   "outputs": [
    {
     "data": {
      "text/plain": [
       "<matplotlib.axes._subplots.AxesSubplot at 0x23347a94c18>"
      ]
     },
     "execution_count": 74,
     "metadata": {},
     "output_type": "execute_result"
    },
    {
     "data": {
      "image/png": "[encoded data removed]",
      "text/plain": [
       "<matplotlib.figure.Figure at 0x23347d39588>"
      ]
     },
     "metadata": {},
     "output_type": "display_data"
    }
   ],
   "source": [
    "xgb.plot_importance(regr)"
   ]
  },
  {
   "cell_type": "code",
   "execution_count": 64,
   "metadata": {},
   "outputs": [
    {
     "name": "stdout",
     "output_type": "stream",
     "text": [
      "XGBoost score on training set:  0.0734687657636\n"
     ]
    }
   ],
   "source": [
    "# Run prediction on training set to get a rough idea of how well it does.\n",
    "y_pred = regr.predict(X_train)\n",
    "print(\"XGBoost score on training set: \", rmse(y_train, y_pred))"
   ]
  },
  {
   "cell_type": "code",
   "execution_count": 62,
   "metadata": {},
   "outputs": [],
   "source": [
    "y_pred = np.exp(pred_xgb)\n",
    "\n",
    "pred_df = pd.DataFrame(y_pred, index=test_df.index, columns=[\"SalePrice\"])\n",
    "#pred_df.to_csv('output.csv', header=True, index_label='Id')\n",
    "pred_df.to_csv((os.path.join(path, r\"submission/output.csv\")),header=True, index_label='Id')"
   ]
  },
  {
   "cell_type": "markdown",
   "metadata": {},
   "source": [
    "### Nick's Optimized XGBoost\n",
    "\n",
    "- General Parameters: Guide the overall functioning\n",
    "- Booster Parameters: Guide the individual booster (tree/regression) at each step\n",
    "- Learning Task Parameters: Guide the optimization performed\n",
    "\n"
   ]
  },
  {
   "cell_type": "code",
   "execution_count": 68,
   "metadata": {
    "collapsed": true
   },
   "outputs": [],
   "source": [
    "xgtrain = xgb.DMatrix(X_train, label=y_train)\n",
    "xgtest = xgb.DMatrix(X_test, label=y_test)"
   ]
  },
  {
   "cell_type": "code",
   "execution_count": 77,
   "metadata": {},
   "outputs": [
    {
     "data": {
      "text/plain": [
       "array([ 25,  30,  35,  40,  45,  50,  55,  60,  65,  70,  75,  80,  85,\n",
       "        90,  95, 100, 105, 110, 115, 120, 125, 130, 135, 140, 145, 150,\n",
       "       155, 160, 165, 170, 175])"
      ]
     },
     "execution_count": 77,
     "metadata": {},
     "output_type": "execute_result"
    }
   ],
   "source": [
    "np.arange(25,176,5)"
   ]
  },
  {
   "cell_type": "code",
   "execution_count": 88,
   "metadata": {},
   "outputs": [
    {
     "name": "stdout",
     "output_type": "stream",
     "text": [
      "Optimal number of trees/estimators is 100\n",
      "[0]\ttest-rmse:11.4546\ttrain-rmse:11.4066\n",
      "[1]\ttest-rmse:11.3412\ttrain-rmse:11.2933\n",
      "[2]\ttest-rmse:11.2288\ttrain-rmse:11.1809\n",
      "[3]\ttest-rmse:11.1175\ttrain-rmse:11.0696\n",
      "[4]\ttest-rmse:11.0075\ttrain-rmse:10.9596\n",
      "[5]\ttest-rmse:10.8983\ttrain-rmse:10.8503\n",
      "[6]\ttest-rmse:10.7906\ttrain-rmse:10.7427\n",
      "[7]\ttest-rmse:10.6835\ttrain-rmse:10.6356\n",
      "[8]\ttest-rmse:10.5781\ttrain-rmse:10.5302\n",
      "[9]\ttest-rmse:10.4738\ttrain-rmse:10.4259\n",
      "[10]\ttest-rmse:10.3695\ttrain-rmse:10.3216\n",
      "[11]\ttest-rmse:10.2666\ttrain-rmse:10.2187\n",
      "[12]\ttest-rmse:10.1649\ttrain-rmse:10.1171\n",
      "[13]\ttest-rmse:10.0645\ttrain-rmse:10.0167\n",
      "[14]\ttest-rmse:9.96481\ttrain-rmse:9.91701\n",
      "[15]\ttest-rmse:9.86608\ttrain-rmse:9.81828\n",
      "[16]\ttest-rmse:9.76824\ttrain-rmse:9.72046\n",
      "[17]\ttest-rmse:9.67141\ttrain-rmse:9.62364\n",
      "[18]\ttest-rmse:9.57548\ttrain-rmse:9.52772\n",
      "[19]\ttest-rmse:9.48039\ttrain-rmse:9.43264\n",
      "[20]\ttest-rmse:9.3867\ttrain-rmse:9.33897\n",
      "[21]\ttest-rmse:9.29382\ttrain-rmse:9.2461\n",
      "[22]\ttest-rmse:9.20152\ttrain-rmse:9.15381\n",
      "[23]\ttest-rmse:9.10988\ttrain-rmse:9.06218\n",
      "[24]\ttest-rmse:9.01972\ttrain-rmse:8.97204\n",
      "[25]\ttest-rmse:8.93073\ttrain-rmse:8.88306\n",
      "[26]\ttest-rmse:8.84204\ttrain-rmse:8.79439\n",
      "[27]\ttest-rmse:8.75454\ttrain-rmse:8.7069\n",
      "[28]\ttest-rmse:8.66775\ttrain-rmse:8.62012\n",
      "[29]\ttest-rmse:8.58172\ttrain-rmse:8.5341\n",
      "[30]\ttest-rmse:8.4964\ttrain-rmse:8.4488\n",
      "[31]\ttest-rmse:8.41225\ttrain-rmse:8.36466\n",
      "[32]\ttest-rmse:8.32941\ttrain-rmse:8.28184\n",
      "[33]\ttest-rmse:8.24698\ttrain-rmse:8.19942\n",
      "[34]\ttest-rmse:8.16542\ttrain-rmse:8.11788\n",
      "[35]\ttest-rmse:8.08493\ttrain-rmse:8.0374\n",
      "[36]\ttest-rmse:8.00483\ttrain-rmse:7.95732\n",
      "[37]\ttest-rmse:7.92566\ttrain-rmse:7.87816\n",
      "[38]\ttest-rmse:7.84738\ttrain-rmse:7.7999\n",
      "[39]\ttest-rmse:7.76971\ttrain-rmse:7.72224\n",
      "[40]\ttest-rmse:7.69298\ttrain-rmse:7.64553\n",
      "[41]\ttest-rmse:7.61689\ttrain-rmse:7.56945\n",
      "[42]\ttest-rmse:7.54169\ttrain-rmse:7.49427\n",
      "[43]\ttest-rmse:7.46682\ttrain-rmse:7.41941\n",
      "[44]\ttest-rmse:7.39311\ttrain-rmse:7.34572\n",
      "[45]\ttest-rmse:7.32005\ttrain-rmse:7.27267\n",
      "[46]\ttest-rmse:7.24794\ttrain-rmse:7.20058\n",
      "[47]\ttest-rmse:7.17639\ttrain-rmse:7.12905\n",
      "[48]\ttest-rmse:7.10576\ttrain-rmse:7.05844\n",
      "[49]\ttest-rmse:7.03547\ttrain-rmse:6.98816\n",
      "[50]\ttest-rmse:6.96591\ttrain-rmse:6.91861\n",
      "[51]\ttest-rmse:6.89735\ttrain-rmse:6.85007\n",
      "[52]\ttest-rmse:6.82981\ttrain-rmse:6.78255\n",
      "[53]\ttest-rmse:6.76244\ttrain-rmse:6.7152\n",
      "[54]\ttest-rmse:6.69524\ttrain-rmse:6.64802\n",
      "[55]\ttest-rmse:6.62986\ttrain-rmse:6.58265\n",
      "[56]\ttest-rmse:6.56438\ttrain-rmse:6.5172\n",
      "[57]\ttest-rmse:6.49988\ttrain-rmse:6.45271\n",
      "[58]\ttest-rmse:6.43622\ttrain-rmse:6.38907\n",
      "[59]\ttest-rmse:6.37303\ttrain-rmse:6.32591\n",
      "[60]\ttest-rmse:6.30974\ttrain-rmse:6.26263\n",
      "[61]\ttest-rmse:6.24732\ttrain-rmse:6.20023\n",
      "[62]\ttest-rmse:6.18583\ttrain-rmse:6.13875\n",
      "[63]\ttest-rmse:6.12495\ttrain-rmse:6.0779\n",
      "[64]\ttest-rmse:6.06459\ttrain-rmse:6.01756\n",
      "[65]\ttest-rmse:6.00521\ttrain-rmse:5.95819\n",
      "[66]\ttest-rmse:5.94586\ttrain-rmse:5.89887\n",
      "[67]\ttest-rmse:5.88719\ttrain-rmse:5.84022\n",
      "[68]\ttest-rmse:5.82911\ttrain-rmse:5.78216\n",
      "[69]\ttest-rmse:5.77125\ttrain-rmse:5.72433\n",
      "[70]\ttest-rmse:5.71423\ttrain-rmse:5.66732\n",
      "[71]\ttest-rmse:5.65834\ttrain-rmse:5.61146\n",
      "[72]\ttest-rmse:5.603\ttrain-rmse:5.55613\n",
      "[73]\ttest-rmse:5.54793\ttrain-rmse:5.50109\n",
      "[74]\ttest-rmse:5.49339\ttrain-rmse:5.44657\n",
      "[75]\ttest-rmse:5.43943\ttrain-rmse:5.39263\n",
      "[76]\ttest-rmse:5.38621\ttrain-rmse:5.33943\n",
      "[77]\ttest-rmse:5.33303\ttrain-rmse:5.28627\n",
      "[78]\ttest-rmse:5.28067\ttrain-rmse:5.23394\n",
      "[79]\ttest-rmse:5.2288\ttrain-rmse:5.18209\n",
      "[80]\ttest-rmse:5.17764\ttrain-rmse:5.13096\n",
      "[81]\ttest-rmse:5.12683\ttrain-rmse:5.08017\n",
      "[82]\ttest-rmse:5.07644\ttrain-rmse:5.02981\n",
      "[83]\ttest-rmse:5.02682\ttrain-rmse:4.98021\n",
      "[84]\ttest-rmse:4.97729\ttrain-rmse:4.93071\n",
      "[85]\ttest-rmse:4.92833\ttrain-rmse:4.88177\n",
      "[86]\ttest-rmse:4.87983\ttrain-rmse:4.8333\n",
      "[87]\ttest-rmse:4.8318\ttrain-rmse:4.78529\n",
      "[88]\ttest-rmse:4.78439\ttrain-rmse:4.73791\n",
      "[89]\ttest-rmse:4.73752\ttrain-rmse:4.69107\n",
      "[90]\ttest-rmse:4.6908\ttrain-rmse:4.64437\n",
      "[91]\ttest-rmse:4.64447\ttrain-rmse:4.59807\n",
      "[92]\ttest-rmse:4.59921\ttrain-rmse:4.55283\n",
      "[93]\ttest-rmse:4.55451\ttrain-rmse:4.50816\n",
      "[94]\ttest-rmse:4.51002\ttrain-rmse:4.4637\n",
      "[95]\ttest-rmse:4.466\ttrain-rmse:4.41971\n",
      "[96]\ttest-rmse:4.42166\ttrain-rmse:4.37577\n",
      "[97]\ttest-rmse:4.37808\ttrain-rmse:4.33222\n",
      "[98]\ttest-rmse:4.33524\ttrain-rmse:4.28941\n",
      "[99]\ttest-rmse:4.29332\ttrain-rmse:4.24752\n"
     ]
    }
   ],
   "source": [
    "# set xgboost params\n",
    "num_rounds = 100\n",
    "param = {'colsample_bytree': 0.2,\n",
    "                 'gamma':0.0,\n",
    "                 'learning_rate':0.01,\n",
    "                 'max_depth':4,\n",
    "                 'min_child_weight':1.5,\n",
    "                 'n_estimators':7200,                                                                  \n",
    "                 'reg_alpha':0.9,\n",
    "                 'reg_lambda':0.6,\n",
    "                 'subsample':0.2,\n",
    "                 'seed':42,\n",
    "                 'silent':1}\n",
    "\n",
    "regr_xgb_cv = xgb.cv(param, xgtrain, num_rounds, \n",
    "                    stratified=False, \n",
    "                    nfold=5, \n",
    "                    early_stopping_rounds=20)\n",
    "print(\"Optimal number of trees/estimators is %i\" % regr_xgb_cv.shape[0])\n",
    "\n",
    "watchlist  = [(xgtest,'test'), (xgtrain,'train')]                \n",
    "regr_xgb = xgb.train(param, xgtrain, regr_xgb_cv.shape[0], watchlist)"
   ]
  },
  {
   "cell_type": "code",
   "execution_count": null,
   "metadata": {
    "collapsed": true
   },
   "outputs": [],
   "source": [
    "y_pred = regr_xgb_cv.predict(X_train)\n",
    "print(\"XGBoost score on training set: \", rmse(y_train, y_pred))"
   ]
  },
  {
   "cell_type": "code",
   "execution_count": 86,
   "metadata": {},
   "outputs": [
    {
     "ename": "ValueError",
     "evalue": "Can't handle mix of binary and continuous",
     "output_type": "error",
     "traceback": [
      "\u001b[1;31m---------------------------------------------------------------------------\u001b[0m",
      "\u001b[1;31mValueError\u001b[0m                                Traceback (most recent call last)",
      "\u001b[1;32m<ipython-input-86-6355924429a4>\u001b[0m in \u001b[0;36m<module>\u001b[1;34m()\u001b[0m\n\u001b[0;32m      3\u001b[0m \u001b[1;31m# predict function will produce the probability\u001b[0m\u001b[1;33m\u001b[0m\u001b[1;33m\u001b[0m\u001b[0m\n\u001b[0;32m      4\u001b[0m \u001b[1;31m# so we'll use 0.5 cutoff to convert probability to class label\u001b[0m\u001b[1;33m\u001b[0m\u001b[1;33m\u001b[0m\u001b[0m\n\u001b[1;32m----> 5\u001b[1;33m \u001b[0mscore\u001b[0m\u001b[1;33m=\u001b[0m \u001b[0mmetrics\u001b[0m\u001b[1;33m.\u001b[0m\u001b[0maccuracy_score\u001b[0m\u001b[1;33m(\u001b[0m\u001b[0my_test_pred\u001b[0m\u001b[1;33m,\u001b[0m \u001b[0my_test\u001b[0m\u001b[1;33m)\u001b[0m\u001b[1;33m\u001b[0m\u001b[0m\n\u001b[0m\u001b[0;32m      6\u001b[0m \u001b[0mprint\u001b[0m\u001b[1;33m(\u001b[0m\u001b[1;34m\"XGB - Train : %.2f\"\u001b[0m \u001b[1;33m%\u001b[0m \u001b[0mmetrics\u001b[0m\u001b[1;33m.\u001b[0m\u001b[0maccuracy_score\u001b[0m\u001b[1;33m(\u001b[0m\u001b[0my_train_pred\u001b[0m\u001b[1;33m,\u001b[0m \u001b[0my_train\u001b[0m\u001b[1;33m)\u001b[0m\u001b[1;33m)\u001b[0m\u001b[1;33m\u001b[0m\u001b[0m\n\u001b[0;32m      7\u001b[0m \u001b[0mprint\u001b[0m\u001b[1;33m(\u001b[0m\u001b[1;34m\"XGB - Test : %.2f\"\u001b[0m \u001b[1;33m%\u001b[0m \u001b[0mscore\u001b[0m\u001b[1;33m)\u001b[0m\u001b[1;33m\u001b[0m\u001b[0m\n",
      "\u001b[1;32mD:\\WindowsApps\\Anaconda\\envs\\tensorflow\\lib\\site-packages\\sklearn\\metrics\\classification.py\u001b[0m in \u001b[0;36maccuracy_score\u001b[1;34m(y_true, y_pred, normalize, sample_weight)\u001b[0m\n\u001b[0;32m    170\u001b[0m \u001b[1;33m\u001b[0m\u001b[0m\n\u001b[0;32m    171\u001b[0m     \u001b[1;31m# Compute accuracy for each possible representation\u001b[0m\u001b[1;33m\u001b[0m\u001b[1;33m\u001b[0m\u001b[0m\n\u001b[1;32m--> 172\u001b[1;33m     \u001b[0my_type\u001b[0m\u001b[1;33m,\u001b[0m \u001b[0my_true\u001b[0m\u001b[1;33m,\u001b[0m \u001b[0my_pred\u001b[0m \u001b[1;33m=\u001b[0m \u001b[0m_check_targets\u001b[0m\u001b[1;33m(\u001b[0m\u001b[0my_true\u001b[0m\u001b[1;33m,\u001b[0m \u001b[0my_pred\u001b[0m\u001b[1;33m)\u001b[0m\u001b[1;33m\u001b[0m\u001b[0m\n\u001b[0m\u001b[0;32m    173\u001b[0m     \u001b[1;32mif\u001b[0m \u001b[0my_type\u001b[0m\u001b[1;33m.\u001b[0m\u001b[0mstartswith\u001b[0m\u001b[1;33m(\u001b[0m\u001b[1;34m'multilabel'\u001b[0m\u001b[1;33m)\u001b[0m\u001b[1;33m:\u001b[0m\u001b[1;33m\u001b[0m\u001b[0m\n\u001b[0;32m    174\u001b[0m         \u001b[0mdiffering_labels\u001b[0m \u001b[1;33m=\u001b[0m \u001b[0mcount_nonzero\u001b[0m\u001b[1;33m(\u001b[0m\u001b[0my_true\u001b[0m \u001b[1;33m-\u001b[0m \u001b[0my_pred\u001b[0m\u001b[1;33m,\u001b[0m \u001b[0maxis\u001b[0m\u001b[1;33m=\u001b[0m\u001b[1;36m1\u001b[0m\u001b[1;33m)\u001b[0m\u001b[1;33m\u001b[0m\u001b[0m\n",
      "\u001b[1;32mD:\\WindowsApps\\Anaconda\\envs\\tensorflow\\lib\\site-packages\\sklearn\\metrics\\classification.py\u001b[0m in \u001b[0;36m_check_targets\u001b[1;34m(y_true, y_pred)\u001b[0m\n\u001b[0;32m     80\u001b[0m     \u001b[1;32mif\u001b[0m \u001b[0mlen\u001b[0m\u001b[1;33m(\u001b[0m\u001b[0my_type\u001b[0m\u001b[1;33m)\u001b[0m \u001b[1;33m>\u001b[0m \u001b[1;36m1\u001b[0m\u001b[1;33m:\u001b[0m\u001b[1;33m\u001b[0m\u001b[0m\n\u001b[0;32m     81\u001b[0m         raise ValueError(\"Can't handle mix of {0} and {1}\"\n\u001b[1;32m---> 82\u001b[1;33m                          \"\".format(type_true, type_pred))\n\u001b[0m\u001b[0;32m     83\u001b[0m \u001b[1;33m\u001b[0m\u001b[0m\n\u001b[0;32m     84\u001b[0m     \u001b[1;31m# We can't have more than one value on y_type => The set is no more needed\u001b[0m\u001b[1;33m\u001b[0m\u001b[1;33m\u001b[0m\u001b[0m\n",
      "\u001b[1;31mValueError\u001b[0m: Can't handle mix of binary and continuous"
     ]
    }
   ],
   "source": [
    "# predict function will produce the probability \n",
    "# so we'll use 0.5 cutoff to convert probability to class label\n",
    "score= metrics.accuracy_score(y_test_pred, y_test)\n",
    "print(\"XGB - Train : %.2f\" % metrics.accuracy_score(y_train_pred, y_train))\n",
    "print(\"XGB - Test : %.2f\" % score)\n",
    "#norm_save(model, \"XGBstandard\")"
   ]
  },
  {
   "cell_type": "code",
   "execution_count": null,
   "metadata": {
    "collapsed": true
   },
   "outputs": [],
   "source": []
  },
  {
   "cell_type": "code",
   "execution_count": null,
   "metadata": {
    "collapsed": true
   },
   "outputs": [],
   "source": []
  },
  {
   "cell_type": "code",
   "execution_count": null,
   "metadata": {
    "collapsed": true
   },
   "outputs": [],
   "source": [
    "#Import libraries:\n",
    "import pandas as pd\n",
    "import numpy as np\n",
    "import xgboost as xgb\n",
    "from xgboost.sklearn import XGBClassifier\n",
    "from sklearn import cross_validation, metrics   #Additional scklearn functions\n",
    "from sklearn.grid_search import GridSearchCV   #Perforing grid search\n",
    "\n",
    "import matplotlib.pylab as plt\n",
    "%matplotlib inline\n",
    "from matplotlib.pylab import rcParams\n",
    "rcParams['figure.figsize'] = 12, 4\n",
    "\n",
    "train = pd.read_csv('train_modified.csv')\n",
    "target = 'Disbursed'\n",
    "IDcol = 'ID'"
   ]
  },
  {
   "cell_type": "code",
   "execution_count": null,
   "metadata": {
    "collapsed": true
   },
   "outputs": [],
   "source": [
    "def modelfit(alg, dtrain, predictors,useTrainCV=True, cv_folds=5, early_stopping_rounds=50):\n",
    "    \n",
    "    if useTrainCV:\n",
    "        xgb_param = alg.get_xgb_params()\n",
    "        xgtrain = xgb.DMatrix(dtrain[predictors].values, label=dtrain[target].values)\n",
    "        cvresult = xgb.cv(xgb_param, xgtrain, num_boost_round=alg.get_params()['n_estimators'], nfold=cv_folds,\n",
    "            metrics='auc', early_stopping_rounds=early_stopping_rounds, show_progress=False)\n",
    "        alg.set_params(n_estimators=cvresult.shape[0])\n",
    "    \n",
    "    #Fit the algorithm on the data\n",
    "    alg.fit(dtrain[predictors], dtrain['Disbursed'],eval_metric='auc')\n",
    "        \n",
    "    #Predict training set:\n",
    "    dtrain_predictions = alg.predict(dtrain[predictors])\n",
    "    dtrain_predprob = alg.predict_proba(dtrain[predictors])[:,1]\n",
    "        \n",
    "    #Print model report:\n",
    "    print \"\\nModel Report\"\n",
    "    print \"Accuracy : %.4g\" % metrics.accuracy_score(dtrain['Disbursed'].values, dtrain_predictions)\n",
    "    print \"AUC Score (Train): %f\" % metrics.roc_auc_score(dtrain['Disbursed'], dtrain_predprob)\n",
    "                    \n",
    "    feat_imp = pd.Series(alg.booster().get_fscore()).sort_values(ascending=False)\n",
    "    feat_imp.plot(kind='bar', title='Feature Importances')\n",
    "    plt.ylabel('Feature Importance Score')"
   ]
  }
 ],
 "metadata": {
  "kernelspec": {
   "display_name": "Python [conda env:tensorflow]",
   "language": "python",
   "name": "conda-env-tensorflow-py"
  },
  "language_info": {
   "codemirror_mode": {
    "name": "ipython",
    "version": 3
   },
   "file_extension": ".py",
   "mimetype": "text/x-python",
   "name": "python",
   "nbconvert_exporter": "python",
   "pygments_lexer": "ipython3",
   "version": "3.5.3"
  }
 },
 "nbformat": 4,
 "nbformat_minor": 2
}
